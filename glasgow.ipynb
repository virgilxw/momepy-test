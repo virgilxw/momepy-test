{
 "cells": [
  {
   "attachments": {},
   "cell_type": "markdown",
   "metadata": {},
   "source": [
    "# Skip to the bottom for the netowrkx code"
   ]
  },
  {
   "cell_type": "code",
   "execution_count": null,
   "metadata": {},
   "outputs": [],
   "source": [
    "import warnings\n",
    "\n",
    "import geopandas\n",
    "import libpysal\n",
    "import momepy\n",
    "import pandas\n",
    "import geopy\n",
    "import numpy\n",
    "\n",
    "\n",
    "from clustergram import Clustergram\n",
    "\n",
    "import matplotlib.pyplot as plt\n",
    "from bokeh.io import output_notebook\n",
    "from bokeh.plotting import show\n",
    "from shapely.geometry import Point\n",
    "import matplotlib.colors as mcolors\n",
    "\n",
    "import osmnx"
   ]
  },
  {
   "cell_type": "code",
   "execution_count": null,
   "metadata": {},
   "outputs": [],
   "source": [
    "local_crs = 27700\n",
    "latlng = (55.86, -4.25)\n",
    "dist = 5000\n",
    "\n",
    "print(\"test\")"
   ]
  },
  {
   "cell_type": "code",
   "execution_count": null,
   "metadata": {},
   "outputs": [],
   "source": [
    "# buildings = osmnx.geometries.geometries_from_place(place, tags={'building':True})\n",
    "# buildings = osmnx.geometries.geometries_from_place(place, tags={'building':True})\n",
    "buildings = osmnx.geometries.geometries_from_point(latlng, tags={'building':True}, dist=dist)\n",
    "buildings.head()"
   ]
  },
  {
   "cell_type": "code",
   "execution_count": null,
   "metadata": {},
   "outputs": [],
   "source": [
    "buildings.head()\n",
    "\n",
    "print(buildings.geom_type.value_counts())\n",
    "buildings = buildings[buildings.geom_type == \"Polygon\"].reset_index(drop=True)\n",
    "buildings = buildings[[\"geometry\"]].to_crs(local_crs)"
   ]
  },
  {
   "attachments": {},
   "cell_type": "markdown",
   "metadata": {},
   "source": [
    "Above loads building into a geojson file"
   ]
  },
  {
   "cell_type": "code",
   "execution_count": null,
   "metadata": {},
   "outputs": [],
   "source": [
    "buildings[\"uID\"] = range(len(buildings))\n",
    "buildings.head()"
   ]
  },
  {
   "cell_type": "code",
   "execution_count": null,
   "metadata": {},
   "outputs": [],
   "source": [
    "f, ax = plt.subplots(figsize=(10, 10))\n",
    "buildings.plot(ax=ax)\n",
    "ax.set_axis_off()\n",
    "plt.show()"
   ]
  },
  {
   "cell_type": "code",
   "execution_count": null,
   "metadata": {},
   "outputs": [],
   "source": [
    "osm_graph = osmnx.graph_from_point(latlng, dist=dist, network_type='drive')\n",
    "osm_graph = osmnx.projection.project_graph(osm_graph, to_crs=local_crs)\n",
    "streets = osmnx.graph_to_gdfs(\n",
    "    osm_graph,\n",
    "    nodes=False,\n",
    "    edges=True,\n",
    "    node_geometry=False,\n",
    "    fill_edge_geometry=True\n",
    ")\n",
    "streets.head()"
   ]
  },
  {
   "cell_type": "code",
   "execution_count": null,
   "metadata": {},
   "outputs": [],
   "source": [
    "streets = momepy.remove_false_nodes(streets)\n",
    "streets = streets[[\"geometry\"]]\n",
    "streets[\"nID\"] = range(len(streets))\n"
   ]
  },
  {
   "cell_type": "code",
   "execution_count": null,
   "metadata": {},
   "outputs": [],
   "source": [
    "limit = momepy.buffered_limit(buildings, 100)\n",
    "\n",
    "tessellation = momepy.Tessellation(buildings, \"uID\", limit, verbose=True, segment=1)\n",
    "tessellation = tessellation.tessellation"
   ]
  },
  {
   "cell_type": "code",
   "execution_count": null,
   "metadata": {},
   "outputs": [],
   "source": [
    "buildings = buildings.sjoin_nearest(streets, max_distance=1000, how=\"left\")\n",
    "buildings.head()"
   ]
  },
  {
   "cell_type": "code",
   "execution_count": null,
   "metadata": {},
   "outputs": [],
   "source": [
    "buildings = buildings.drop_duplicates(\"uID\").drop(columns=\"index_right\")\n",
    "tessellation = tessellation.merge(buildings[['uID', 'nID']], on='uID', how='left')"
   ]
  },
  {
   "cell_type": "code",
   "execution_count": null,
   "metadata": {},
   "outputs": [],
   "source": [
    "f, ax = plt.subplots(figsize=(100, 100))\n",
    "tessellation.plot(ax=ax, edgecolor='black')\n",
    "buildings.plot(ax=ax, color='white', alpha=.5)\n",
    "plt.show()"
   ]
  },
  {
   "cell_type": "code",
   "execution_count": null,
   "metadata": {},
   "outputs": [],
   "source": [
    "buildings[\"area\"] = buildings.area\n",
    "tessellation[\"area\"] = tessellation.area\n",
    "streets[\"length\"] = streets.length\n",
    "\n",
    "buildings['eri'] = momepy.EquivalentRectangularIndex(buildings).series\n",
    "buildings['elongation'] = momepy.Elongation(buildings).series\n",
    "tessellation['convexity'] = momepy.Convexity(tessellation).series\n",
    "streets[\"linearity\"] = momepy.Linearity(streets).series\n",
    "\n",
    "fig, ax = plt.subplots(1, 2, figsize=(24, 12))\n",
    "\n",
    "buildings.plot(\"eri\", ax=ax[0], scheme=\"natural_breaks\", legend=True)\n",
    "buildings.plot(\"elongation\", ax=ax[1], scheme=\"natural_breaks\", legend=True)\n",
    "\n",
    "ax[0].set_axis_off()\n",
    "ax[1].set_axis_off()"
   ]
  },
  {
   "cell_type": "code",
   "execution_count": null,
   "metadata": {},
   "outputs": [],
   "source": [
    "fig, ax = plt.subplots(1, 2, figsize=(24, 12))\n",
    "\n",
    "tessellation.plot(\"convexity\", ax=ax[0], scheme=\"natural_breaks\", legend=True)\n",
    "streets.plot(\"linearity\", ax=ax[1], scheme=\"natural_breaks\", legend=True)\n",
    "\n",
    "ax[0].set_axis_off()\n",
    "ax[1].set_axis_off()"
   ]
  },
  {
   "cell_type": "code",
   "execution_count": null,
   "metadata": {},
   "outputs": [],
   "source": [
    "buildings[\"shared_walls\"] = momepy.SharedWallsRatio(buildings).series\n",
    "buildings.plot(\"shared_walls\", figsize=(12, 12), scheme=\"natural_breaks\", legend=True).set_axis_off()"
   ]
  },
  {
   "cell_type": "code",
   "execution_count": null,
   "metadata": {},
   "outputs": [],
   "source": [
    "queen_1 = libpysal.weights.contiguity.Queen.from_dataframe(tessellation, ids=\"uID\", silence_warnings=True)"
   ]
  },
  {
   "cell_type": "code",
   "execution_count": null,
   "metadata": {},
   "outputs": [],
   "source": [
    "tessellation.geom_type.value_counts()\n",
    "\n",
    "tessellation[\"neighbors\"] = momepy.Neighbors(tessellation, queen_1, \"uID\", weighted=True, verbose=False).series\n",
    "tessellation[\"covered_area\"] = momepy.CoveredArea(tessellation, queen_1, \"uID\", verbose=False).series\n",
    "\n",
    "with warnings.catch_warnings():\n",
    "    warnings.simplefilter(\"ignore\")\n",
    "\n",
    "    buildings[\"neighbor_distance\"] = momepy.NeighborDistance(buildings, queen_1, \"uID\", verbose=False).series\n",
    "\n",
    "fig, ax = plt.subplots(1, 2, figsize=(24, 12))\n",
    "\n",
    "buildings.plot(\"neighbor_distance\", ax=ax[0], scheme=\"natural_breaks\", legend=True)\n",
    "tessellation.plot(\"covered_area\", ax=ax[1], scheme=\"natural_breaks\", legend=True)\n",
    "\n",
    "ax[0].set_axis_off()\n",
    "ax[1].set_axis_off()"
   ]
  },
  {
   "cell_type": "code",
   "execution_count": null,
   "metadata": {},
   "outputs": [],
   "source": [
    "queen_3 = momepy.sw_high(k=3, weights=queen_1)\n",
    "buildings_q1 = libpysal.weights.contiguity.Queen.from_dataframe(buildings, silence_warnings=True)\n",
    "\n",
    "buildings['interbuilding_distance'] = momepy.MeanInterbuildingDistance(buildings, queen_1, 'uID', queen_3, verbose=False).series\n",
    "buildings['adjacency'] = momepy.BuildingAdjacency(buildings, queen_3, 'uID', buildings_q1, verbose=False).series\n",
    "\n",
    "fig, ax = plt.subplots(1, 2, figsize=(24, 12))\n",
    "\n",
    "buildings.plot(\"interbuilding_distance\", ax=ax[0], scheme=\"natural_breaks\", legend=True)\n",
    "buildings.plot(\"adjacency\", ax=ax[1], scheme=\"natural_breaks\", legend=True)\n",
    "\n",
    "ax[0].set_axis_off()\n",
    "ax[1].set_axis_off()"
   ]
  },
  {
   "cell_type": "code",
   "execution_count": null,
   "metadata": {},
   "outputs": [],
   "source": [
    "profile = momepy.StreetProfile(streets, buildings)\n",
    "streets[\"width\"] = profile.w\n",
    "streets[\"width_deviation\"] = profile.wd\n",
    "streets[\"openness\"] = profile.o\n",
    "\n",
    "fig, ax = plt.subplots(1, 3, figsize=(24, 12))\n",
    "\n",
    "streets.plot(\"width\", ax=ax[0], scheme=\"natural_breaks\", legend=True)\n",
    "streets.plot(\"width_deviation\", ax=ax[1], scheme=\"natural_breaks\", legend=True)\n",
    "streets.plot(\"openness\", ax=ax[2], scheme=\"natural_breaks\", legend=True)\n",
    "\n",
    "ax[0].set_axis_off()\n",
    "ax[1].set_axis_off()\n",
    "ax[2].set_axis_off()"
   ]
  },
  {
   "cell_type": "code",
   "execution_count": null,
   "metadata": {},
   "outputs": [],
   "source": [
    "tessellation['car'] = momepy.AreaRatio(tessellation, buildings, 'area', 'area', 'uID').series\n",
    "tessellation.plot(\"car\", figsize=(12, 12), vmin=0, vmax=1, legend=True).set_axis_off()"
   ]
  },
  {
   "cell_type": "code",
   "execution_count": null,
   "metadata": {},
   "outputs": [],
   "source": [
    "graph = momepy.gdf_to_nx(streets)\n",
    "graph = momepy.node_degree(graph)\n",
    "graph = momepy.closeness_centrality(graph, radius=400, distance=\"mm_len\")\n",
    "graph = momepy.meshedness(graph, radius=400, distance=\"mm_len\")\n",
    "nodes, streets = momepy.nx_to_gdf(graph)\n",
    "\n",
    "\n",
    "fig, ax = plt.subplots(1, 3, figsize=(24, 12))\n",
    "\n",
    "nodes.plot(\"degree\", ax=ax[0], scheme=\"natural_breaks\", legend=True, markersize=1)\n",
    "nodes.plot(\"closeness\", ax=ax[1], scheme=\"natural_breaks\", legend=True, markersize=1, legend_kwds={\"fmt\": \"{:.6f}\"})\n",
    "nodes.plot(\"meshedness\", ax=ax[2], scheme=\"natural_breaks\", legend=True, markersize=1)\n",
    "\n",
    "ax[0].set_axis_off()\n",
    "ax[1].set_axis_off()\n",
    "ax[2].set_axis_off()"
   ]
  },
  {
   "cell_type": "code",
   "execution_count": null,
   "metadata": {},
   "outputs": [],
   "source": [
    "buildings[\"nodeID\"] = momepy.get_node_id(buildings, nodes, streets, \"nodeID\", \"nID\")"
   ]
  },
  {
   "cell_type": "code",
   "execution_count": null,
   "metadata": {},
   "outputs": [],
   "source": [
    "tessellation.head()"
   ]
  },
  {
   "cell_type": "code",
   "execution_count": null,
   "metadata": {},
   "outputs": [],
   "source": [
    "merged = tessellation.merge(buildings.drop(columns=['nID', 'geometry']), on='uID')\n",
    "merged = merged.merge(streets.drop(columns='geometry'), on='nID', how='left')\n",
    "merged = merged.merge(nodes.drop(columns='geometry'), on='nodeID', how='left')"
   ]
  },
  {
   "cell_type": "code",
   "execution_count": null,
   "metadata": {},
   "outputs": [],
   "source": [
    "merged.columns"
   ]
  },
  {
   "cell_type": "code",
   "execution_count": null,
   "metadata": {},
   "outputs": [],
   "source": [
    "percentiles = []\n",
    "for column in merged.columns.drop([\"uID\", \"nodeID\", \"nID\", 'mm_len', 'node_start', 'node_end', \"geometry\"]):\n",
    "    perc = momepy.Percentiles(merged, column, queen_3, \"uID\", verbose=False).frame\n",
    "    perc.columns = [f\"{column}_\" + str(x) for x in perc.columns]\n",
    "    percentiles.append(perc)\n",
    "\n",
    "percentiles_joined = pandas.concat(percentiles, axis=1)\n",
    "percentiles_joined.head()"
   ]
  },
  {
   "cell_type": "code",
   "execution_count": null,
   "metadata": {},
   "outputs": [],
   "source": [
    "fig, ax = plt.subplots(1, 2, figsize=(24, 12))\n",
    "\n",
    "tessellation.plot(\"convexity\", ax=ax[0], scheme=\"natural_breaks\", legend=True)\n",
    "merged.plot(percentiles_joined['convexity_50'].values, ax=ax[1], scheme=\"natural_breaks\", legend=True)\n",
    "\n",
    "ax[0].set_axis_off()\n",
    "ax[1].set_axis_off()"
   ]
  },
  {
   "cell_type": "code",
   "execution_count": null,
   "metadata": {},
   "outputs": [],
   "source": [
    "standardized = (percentiles_joined - percentiles_joined.mean()) / percentiles_joined.std()\n",
    "standardized.head()"
   ]
  },
  {
   "cell_type": "code",
   "execution_count": null,
   "metadata": {},
   "outputs": [],
   "source": [
    "n=12\n",
    "\n",
    "cgram = Clustergram(range(1, n), n_init=10, random_state=42)\n",
    "cgram.fit(standardized.fillna(0))\n",
    "\n",
    "show(cgram.bokeh())"
   ]
  },
  {
   "cell_type": "code",
   "execution_count": null,
   "metadata": {},
   "outputs": [],
   "source": [
    "cgram.labels.head()"
   ]
  },
  {
   "cell_type": "code",
   "execution_count": null,
   "metadata": {},
   "outputs": [],
   "source": [
    "merged[\"cluster\"] = cgram.labels[n-1].values\n",
    "urban_types = buildings[[\"geometry\", \"uID\"]].merge(merged[[\"uID\", \"cluster\"]], on=\"uID\")"
   ]
  },
  {
   "cell_type": "code",
   "execution_count": null,
   "metadata": {},
   "outputs": [],
   "source": [
    "# Color\n",
    "\n",
    "\n",
    "pastel1_cmap = plt.get_cmap('Pastel1')\n",
    "values = list(set(cgram.labels[n-1].values))\n",
    "\n",
    "color_lookup = {k: pastel1_cmap(k) for k in values}\n",
    "\n",
    "cmap = mcolors.ListedColormap([color_lookup[val] for val in sorted(color_lookup)])\n"
   ]
  },
  {
   "cell_type": "code",
   "execution_count": null,
   "metadata": {},
   "outputs": [],
   "source": [
    "\n",
    "urban_types.plot(\"cluster\", categorical=True, figsize=(16, 16), legend=True, cmap=cmap).set_axis_off()"
   ]
  },
  {
   "cell_type": "code",
   "execution_count": null,
   "metadata": {},
   "outputs": [],
   "source": [
    "urban_types_area = tessellation[[\"geometry\", \"uID\"]].merge(merged[[\"uID\", \"cluster\"]], on=\"uID\")\n",
    "urban_types_area.plot(\"cluster\", categorical=True, figsize=(16, 16), legend=True, cmap=pastel1_cmap).set_axis_off()"
   ]
  },
  {
   "cell_type": "code",
   "execution_count": null,
   "metadata": {},
   "outputs": [],
   "source": [
    "dissolved = urban_types_area.dissolve(by='cluster', aggfunc='count', as_index=False).explode(inex_parts=False)\n",
    "\n",
    "min_area = 5000 # minimum area in square meters\n",
    "\n",
    "# Calculate the area of each polygon in square meters\n",
    "dissolved['area_m2'] = dissolved['geometry'].area\n",
    "\n",
    "# Filter the GeoDataFrame to keep only polygons with an area greater than or equal to min_area\n",
    "filtered = dissolved[dissolved['area_m2'] >= min_area]\n",
    "\n",
    "# Drop the area column since it is no longer needed\n",
    "filtered = filtered.drop(columns=['area_m2'])\n",
    "\n",
    "filtered['uID'] = numpy.arange(len(filtered.index))\n",
    "\n",
    "# assuming gdf is a GeoDataFrame\n",
    "centroid_series = filtered.centroid\n",
    "\n",
    "# assuming gdf is a GeoDataFrame\n",
    "centroid_series = centroid_series.centroid\n",
    "\n",
    "# extract the x and y coordinates of each centroid point\n",
    "x = centroid_series.x\n",
    "y = centroid_series.y\n",
    "\n",
    "# compute the mean x and y coordinates separately\n",
    "mean_x = numpy.mean(x)\n",
    "mean_y = numpy.mean(y)\n",
    "\n",
    "# create a new Point object for the mean centroid\n",
    "mean_centroid = Point(mean_x, mean_y)\n",
    "\n",
    "# compute the standard deviation of the centroid coordinates\n",
    "centroid_coords = numpy.column_stack((centroid_series.x, centroid_series.y))\n",
    "centroid_coords_std = centroid_coords.std(axis=0)\n",
    "# normalize the centroid coordinates\n",
    "centroid_coords_norm = (centroid_coords - mean_centroid.coords) / centroid_coords_std\n",
    "centroid_coords_norm = [Point(x, y) for x, y in centroid_coords_norm]\n",
    "\n",
    "filtered[\"centroid_norm\"] = centroid_coords_norm\n",
    "\n",
    "filtered.head()"
   ]
  },
  {
   "cell_type": "code",
   "execution_count": null,
   "metadata": {},
   "outputs": [],
   "source": [
    "dissolved.to_file(\"urbantypes.shp\")"
   ]
  },
  {
   "cell_type": "code",
   "execution_count": null,
   "metadata": {},
   "outputs": [],
   "source": [
    "f, ax = plt.subplots(figsize=(100, 100))\n",
    "filtered.plot(ax=ax, column=\"cluster\", categorical=True, legend=True, cmap=cmap)\n",
    "streets.plot(ax=ax, color='black')\n",
    "buildings.plot(ax=ax, color='grey')\n",
    "ax.set_axis_off()"
   ]
  },
  {
   "attachments": {},
   "cell_type": "markdown",
   "metadata": {},
   "source": [
    "# Network building\n",
    "\n",
    "- The following code uses the data from above to construct a network of touching urban types.\n",
    "- This is a preliminary test for a possible application in my dissertation\n",
    "- Full disclosure - quite a bit of the code was written with the help of ChatGPT; it was especially helpful in pointing me to what functions to use in networkX whilst learning it."
   ]
  },
  {
   "cell_type": "code",
   "execution_count": null,
   "metadata": {},
   "outputs": [],
   "source": [
    "## module import\n",
    "\n",
    "import networkx as nx\n",
    "from itertools import combinations"
   ]
  },
  {
   "cell_type": "code",
   "execution_count": null,
   "metadata": {},
   "outputs": [],
   "source": [
    "# Init graph object\n",
    "G = nx.Graph()"
   ]
  },
  {
   "cell_type": "code",
   "execution_count": null,
   "metadata": {},
   "outputs": [],
   "source": [
    "uID_list = filtered[\"uID\"].unique()\n",
    "\n",
    "for uid in numpy.sort(uID_list):\n",
    "    G.add_node(uid)\n",
    "\n",
    "# Check for adjacency and add it to the graph\n",
    "for x, y in combinations(uID_list, 2):\n",
    "    x_df = filtered[filtered[\"uID\"] == x]\n",
    "    y_df = filtered[filtered[\"uID\"] == y]\n",
    "    x_geom = x_df.iloc[0]['geometry']\n",
    "    y_geom = y_df.iloc[0]['geometry']\n",
    "    if x_geom.touches(y_geom):\n",
    "        print(x, \"touches\", y)\n",
    "        G.add_edge(x, y)\n",
    "    elif x_geom.intersects(y_geom):\n",
    "        print(x, \"intersects\", y)\n",
    "        G.add_edge(x, y)"
   ]
  },
  {
   "cell_type": "code",
   "execution_count": null,
   "metadata": {},
   "outputs": [],
   "source": [
    "# Position each node at the position of the centroid of each polygon, normalised for scaling.\n",
    "attrs = {}\n",
    "pos = {}\n",
    "\n",
    "area = filtered.area\n",
    "\n",
    "# define a normalization function\n",
    "area_mean = numpy.mean(area)\n",
    "area_std = numpy.std(area)\n",
    "\n",
    "for index, row in filtered.iterrows():\n",
    "\n",
    "    attrs[row[\"uID\"]] = {\n",
    "        \"urban_type\": row[\"cluster\"],\n",
    "        \"area\": area[index]\n",
    "    }\n",
    "    pos[row[\"uID\"]] = (row[\"centroid_norm\"].x, row[\"centroid_norm\"].y)  \n",
    "\n",
    "nx.set_node_attributes(G, attrs)"
   ]
  },
  {
   "cell_type": "code",
   "execution_count": null,
   "metadata": {},
   "outputs": [],
   "source": [
    "# First rendering of graph\n",
    "options = {\n",
    "    \"font_size\": 0,\n",
    "    \"node_size\": [((attr['area'] *12.5 - area_mean)/area_std) for (node, attr) in G.nodes(data=True)],\n",
    "    \"edgecolors\": \"black\",\n",
    "    \"node_color\": [color_lookup[attr['urban_type']] for (node, attr) in G.nodes(data=True)],\n",
    "    \"linewidths\": 0.5,\n",
    "    \"width\": 0.5,\n",
    "}\n",
    "nx.draw_networkx(G, pos, **options)\n",
    "\n",
    "# Map for comparison\n",
    "f, ax = plt.subplots(figsize=(100, 100))\n",
    "filtered.plot(ax=ax, column=\"cluster\", categorical=True, legend=True, cmap=cmap)\n",
    "streets.plot(ax=ax, color='black')\n",
    "buildings.plot(ax=ax, color='grey')\n",
    "ax.set_axis_off()"
   ]
  },
  {
   "attachments": {},
   "cell_type": "markdown",
   "metadata": {},
   "source": [
    "# Comments\n",
    "\n",
    "- The nodes in the graph represent each neighbourhood of homgenous urban type. The size of the node is a normalised value of the area of each of the neighbourhood, whilst the vertices represent the neighbourhoods that border each other. The nodes are positioned at a normalised value of their centoids. This graph is a representation of Glasgow\n",
    "- We can observe from the graph that central Glasgow, streching from Partick to merchant city is realtively homogenous in urban form; They are mostly characterised by dual use rowhouses that are constrained by the gridded streets to be rectangular-ish, oriented roughly in the same direction, and having relatively similar \"front yard-tage\"; the streets themselves, as grids, presumably weighed heavily in the morphology\n",
    "- High cliqueness would in this context will indicate small and highly variegated urban types within a small area; this is, curiously, the case for the East End around Camlachie.\n",
    "- The gridded downtown is differentiated from the more peripherial parts of downtown Glasgow across the river and in the West end primarily due to differences in road network; the block size in the peripherial areas are larger, and have interior courtyards\n",
    "- The largest neighbourhoods were orange. They are low density neighbourhoods where buildings are generally large, oddpped, and larger as a function of footprint. They form a belt around Glasgow's central city, snaking along important trunk roads. Most of these area has significant greenery - Glasgow Green, the Necropolis, Sighthill Cemetery, Cowlairs Park, Gartnavel hospital. These areas are largely contiguous and green, therefore becoming classified as a homogemous type in momepy with the largest size. I suspect this has to do with planning rules, but it was cool seeing it reflected in the data\n",
    "- Their size and place as a barrier between the inner city and suburbs also means that these are generally the highest degree centrality; which is curious, because these green spaces are by intuition as a person living in Glasgow the most accessible Green spaces; and it is connected to a wide diversity of different types of buildings, perhaps indicating the diversity of people living in proximity to these spaces? More evidence needed to prove this correlation.\n",
    "- \"Single family houses\", neighbourhoods with discrete family home-sized building werelly located in the suburbs - represented by the green, purple, and red urban. They show up effectively as regions whose houses were built by the same developer all at once."
   ]
  },
  {
   "cell_type": "code",
   "execution_count": null,
   "metadata": {},
   "outputs": [],
   "source": [
    "# Save netowrk to graph\n",
    "\n",
    "import json\n",
    "from networkx.readwrite import json_graph\n",
    "\n",
    "# assuming you already have a NetworkX graph object called \"G\"\n",
    "data = json_graph.node_link_data(G)\n",
    "\n",
    "# convert int64 to int\n",
    "for node in data['nodes']:\n",
    "    node['id'] = int(node['id'])\n",
    "for link in data['links']:\n",
    "    link['source'] = int(link['source'])\n",
    "    link['target'] = int(link['target'])\n",
    "\n",
    "with open(\"network.json\", \"w\") as outfile:\n",
    "    json.dump(data, outfile)"
   ]
  }
 ],
 "metadata": {
  "kernelspec": {
   "display_name": "ox",
   "language": "python",
   "name": "python3"
  },
  "language_info": {
   "codemirror_mode": {
    "name": "ipython",
    "version": 3
   },
   "file_extension": ".py",
   "mimetype": "text/x-python",
   "name": "python",
   "nbconvert_exporter": "python",
   "pygments_lexer": "ipython3",
   "version": "3.11.0"
  },
  "vscode": {
   "interpreter": {
    "hash": "8fd65d816fac188489bdd759ab72cd1540d0e1f5152fc0d60c516e674fbced89"
   }
  }
 },
 "nbformat": 4,
 "nbformat_minor": 2
}
