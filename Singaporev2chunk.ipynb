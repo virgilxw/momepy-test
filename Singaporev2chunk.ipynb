{
 "cells": [
  {
   "cell_type": "code",
   "execution_count": null,
   "metadata": {},
   "outputs": [],
   "source": [
    "import geopandas as gpd\n",
    "import pandas as pd\n",
    "import osmnx as ox\n",
    "import geopandas as gpd\n",
    "import momepy\n",
    "import os\n",
    "\n",
    "import shapely"
   ]
  },
  {
   "cell_type": "code",
   "execution_count": null,
   "metadata": {},
   "outputs": [],
   "source": [
    "local_crs = 3414\n",
    "\n",
    "place = \"Singapore\"\n",
    "\n",
    "study_area = gpd.read_file(\"./Singapore_studyArea.shp\").to_crs(epsg=4326)\n",
    "\n",
    "study_area_old = study_area\n",
    "\n",
    "# assuming your geodataframe is called `gdf` and the geometry column is called `geometry`\n",
    "study_area = study_area.geometry.unary_union"
   ]
  },
  {
   "cell_type": "code",
   "execution_count": null,
   "metadata": {},
   "outputs": [],
   "source": [
    "osm_graph= ox.graph.graph_from_polygon(study_area, network_type='drive')\n",
    "osm_graph = ox.projection.project_graph(osm_graph, to_crs=local_crs)\n",
    "\n",
    "streets = ox.consolidate_intersections(osm_graph, rebuild_graph=True, tolerance=15, dead_ends=False)\n",
    "\n",
    "streets = ox.graph_to_gdfs(\n",
    "    osm_graph,\n",
    "    nodes=False,\n",
    "    edges=True,\n",
    "    node_geometry=False,\n",
    "    fill_edge_geometry=True\n",
    ")\n",
    "streets.head()"
   ]
  },
  {
   "cell_type": "code",
   "execution_count": null,
   "metadata": {},
   "outputs": [],
   "source": [
    "osm_graph= ox.graph.graph_from_polygon(study_area, custom_filter='[\"railway\"~\"rail|subway|narrow_gauge|monorail\"]')\n",
    "osm_graph = ox.projection.project_graph(osm_graph, to_crs=local_crs)\n",
    "\n",
    "rails = ox.consolidate_intersections(osm_graph, rebuild_graph=True, tolerance=15, dead_ends=False)\n",
    "\n",
    "rails = ox.graph_to_gdfs(\n",
    "    osm_graph,\n",
    "    nodes=False,\n",
    "    edges=True,\n",
    "    node_geometry=False,\n",
    "    fill_edge_geometry=True\n",
    ")\n",
    "rails.head()"
   ]
  },
  {
   "cell_type": "code",
   "execution_count": null,
   "metadata": {},
   "outputs": [],
   "source": [
    "waters = []\n",
    "\n",
    "# Get the water bodies as geometries\n",
    "water_bodies = ox.geometries_from_polygon(study_area, tags={'natural': 'water'}).set_crs(\"epsg: 4326\").to_crs(local_crs)\n",
    "\n",
    "# Explode the GeoDataFrame into a GeoSeries of polygons and multipolygons\n",
    "gs = water_bodies.explode()\n",
    "\n",
    "# Convert each polygon into a MultiLineString\n",
    "mls = gs.geometry.boundary\n",
    "\n",
    "# Convert the MultiLineString into a DataFrame\n",
    "water_bodies = gpd.GeoDataFrame({'geometry': mls})\n",
    "\n",
    "# Add a column to specify the polygon ID\n",
    "water_bodies['polygon_id'] = gs.index\n",
    "\n",
    "print(water_bodies)\n",
    "\n",
    "for water_body in water_bodies.geometry:\n",
    "    # Create a LineString object from the coordinates\n",
    "    waters.append(water_body)\n",
    "\n",
    "coastlines = ox.geometries_from_polygon(study_area, tags={'natural': 'coastline'}).set_crs(\"epsg: 4326\").to_crs(local_crs)\n",
    "\n",
    "coastlines = coastlines[coastlines.geom_type == \"LineString\"].reset_index(drop=True)\n",
    "\n",
    "for coastline in coastlines.geometry:\n",
    "    # Create a LineString object from the coordinates\n",
    "    waters.append(coastline)\n",
    "\n",
    "# # Create a GeoDataFrame of the water area boundaries\n",
    "waters = gpd.GeoDataFrame(geometry=waters)\n",
    "waters = waters[[\"geometry\"]]\n",
    "waters.head()"
   ]
  },
  {
   "cell_type": "code",
   "execution_count": null,
   "metadata": {},
   "outputs": [],
   "source": [
    "ax = streets.plot(figsize=(16, 16))\n",
    "rails.plot(ax=ax, color='r')\n",
    "waters.plot(ax=ax, color='k')"
   ]
  },
  {
   "cell_type": "code",
   "execution_count": null,
   "metadata": {},
   "outputs": [],
   "source": [
    "enclosures = momepy.enclosures(streets, limit=gpd.GeoSeries([study_area]), additional_barriers=[streets, rails, waters])"
   ]
  },
  {
   "cell_type": "code",
   "execution_count": null,
   "metadata": {},
   "outputs": [],
   "source": [
    "enclosure_raw = enclosures\n",
    "\n",
    "# collapse columns into a single column\n",
    "collapsed_series = enclosures.apply(lambda row: row[1], axis=1)"
   ]
  },
  {
   "cell_type": "code",
   "execution_count": null,
   "metadata": {},
   "outputs": [],
   "source": [
    "print(collapsed_series)"
   ]
  },
  {
   "cell_type": "code",
   "execution_count": null,
   "metadata": {},
   "outputs": [],
   "source": [
    "enclosures.shape# create output directory if it doesn't exist\n",
    "output_dir = './out'\n",
    "if not os.path.exists(output_dir):\n",
    "    os.makedirs(output_dir)\n",
    "gpd.GeoDataFrame(geometry=collapsed_series, crs=local_crs).to_parquet('./out/enclosures.pq')"
   ]
  },
  {
   "cell_type": "code",
   "execution_count": null,
   "metadata": {},
   "outputs": [],
   "source": [
    "# osm_graph= ox.graph.graph_from_polygon(study_area, custom_filter='[\"highway\"~\"motorway\"]')\n",
    "# osm_graph = ox.projection.project_graph(osm_graph, to_crs=local_crs)\n",
    "\n",
    "# main_roads = ox.consolidate_intersections(osm_graph, rebuild_graph=True, tolerance=1000)\n",
    "\n",
    "# main_roads = ox.graph_to_gdfs(\n",
    "#     osm_graph,\n",
    "#     nodes=False,\n",
    "#     edges=True,\n",
    "#     node_geometry=False,\n",
    "#     fill_edge_geometry=True\n",
    ")"
   ]
  },
  {
   "cell_type": "code",
   "execution_count": null,
   "metadata": {},
   "outputs": [],
   "source": [
    "\n",
    "boundaries = []\n",
    "\n",
    "for polygon in study_area.geoms:\n",
    "    # Get the boundary coordinates of the polygon\n",
    "    boundary = polygon.boundary.coords[:]\n",
    "    # Add the boundary coordinates to the list\n",
    "    boundaries.append(shapely.geometry.LineString(boundary))\n",
    "\n",
    "boundaries = gpd.GeoDataFrame({'geometry': boundaries}, geometry='geometry', crs=4326)\n",
    "\n",
    "merged_gdf =  gpd.GeoDataFrame(pd.concat([boundaries.to_crs(local_crs).geometry, main_roads.geometry]), crs=local_crs)"
   ]
  },
  {
   "cell_type": "code",
   "execution_count": null,
   "metadata": {},
   "outputs": [],
   "source": [
    "merged_lines = shapely.ops.linemerge(list(merged_gdf['geometry']))\n",
    "border_lines = shapely.ops.unary_union(merged_lines)\n",
    "decomposition = shapely.ops.polygonize(border_lines)"
   ]
  },
  {
   "cell_type": "code",
   "execution_count": null,
   "metadata": {},
   "outputs": [],
   "source": [
    "# Create a list of tuples with the geometry and any additional attributes\n",
    "records = [(geometry,) for geometry in decomposition]\n",
    "\n",
    "# Create a new GeoDataFrame from the list of tuples\n",
    "chunks = gpd.GeoDataFrame.from_records(records, columns=['geometry'])"
   ]
  },
  {
   "cell_type": "code",
   "execution_count": null,
   "metadata": {},
   "outputs": [],
   "source": [
    "print(chunks)"
   ]
  },
  {
   "cell_type": "code",
   "execution_count": null,
   "metadata": {},
   "outputs": [],
   "source": [
    "ax = chunks.plot(figsize=(16, 16))"
   ]
  },
  {
   "cell_type": "code",
   "execution_count": null,
   "metadata": {},
   "outputs": [],
   "source": [
    "gdf.to_parquet('./Singapore/local_authorities.pq')"
   ]
  }
 ],
 "metadata": {
  "kernelspec": {
   "display_name": "base",
   "language": "python",
   "name": "python3"
  },
  "language_info": {
   "codemirror_mode": {
    "name": "ipython",
    "version": 3
   },
   "file_extension": ".py",
   "mimetype": "text/x-python",
   "name": "python",
   "nbconvert_exporter": "python",
   "pygments_lexer": "ipython3",
   "version": "3.10.10"
  }
 },
 "nbformat": 4,
 "nbformat_minor": 2
}
