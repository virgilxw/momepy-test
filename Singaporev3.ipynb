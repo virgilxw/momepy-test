{
 "cells": [
  {
   "cell_type": "code",
   "execution_count": 3,
   "metadata": {},
   "outputs": [],
   "source": [
    "import momepy\n",
    "import pandas as pd\n",
    "import geopandas as gpd\n",
    "\n",
    "import matplotlib.pyplot as plt\n",
    "import shapely\n",
    "\n",
    "import osmnx as ox\n",
    "\n",
    "import scripts.consolidate as consolidate\n",
    "import scripts.snap as snap\n",
    "\n",
    "import itertools\n",
    "\n",
    "import numpy as np\n",
    "from tqdm.notebook import tqdm\n",
    "import pygeos\n",
    "\n",
    "import zipfile\n",
    "import numpy as np\n",
    "import mapclassify\n",
    "import copy\n",
    "from libpysal.weights import Queen, KNN, W"
   ]
  },
  {
   "cell_type": "code",
   "execution_count": 4,
   "metadata": {},
   "outputs": [],
   "source": [
    "local_crs = 3414\n",
    "\n",
    "place = \"Singapore\"\n",
    "\n",
    "latlng = (1.29, 103.85)\n",
    "dist = 30000\n",
    "\n",
    "study_area = gpd.read_file(\"./Singapore_studyArea.shp\").to_crs(epsg=4326)\n",
    "\n",
    "# assuming your geodataframe is called `gdf` and the geometry column is called `geometry`\n",
    "study_area = study_area.geometry.unary_union"
   ]
  },
  {
   "cell_type": "code",
   "execution_count": 5,
   "metadata": {},
   "outputs": [
    {
     "ename": "KeyboardInterrupt",
     "evalue": "",
     "output_type": "error",
     "traceback": [
      "\u001b[0;31m---------------------------------------------------------------------------\u001b[0m",
      "\u001b[0;31mKeyboardInterrupt\u001b[0m                         Traceback (most recent call last)",
      "Cell \u001b[0;32mIn[5], line 1\u001b[0m\n\u001b[0;32m----> 1\u001b[0m osm_graph\u001b[38;5;241m=\u001b[39m \u001b[43mox\u001b[49m\u001b[38;5;241;43m.\u001b[39;49m\u001b[43mgraph\u001b[49m\u001b[38;5;241;43m.\u001b[39;49m\u001b[43mgraph_from_polygon\u001b[49m\u001b[43m(\u001b[49m\u001b[43mstudy_area\u001b[49m\u001b[43m,\u001b[49m\u001b[43m \u001b[49m\u001b[43mnetwork_type\u001b[49m\u001b[38;5;241;43m=\u001b[39;49m\u001b[38;5;124;43m'\u001b[39;49m\u001b[38;5;124;43mdrive\u001b[39;49m\u001b[38;5;124;43m'\u001b[39;49m\u001b[43m)\u001b[49m\n\u001b[1;32m      2\u001b[0m osm_graph \u001b[38;5;241m=\u001b[39m ox\u001b[38;5;241m.\u001b[39mprojection\u001b[38;5;241m.\u001b[39mproject_graph(osm_graph, to_crs\u001b[38;5;241m=\u001b[39mlocal_crs)\n\u001b[1;32m      4\u001b[0m streets \u001b[38;5;241m=\u001b[39m ox\u001b[38;5;241m.\u001b[39mconsolidate_intersections(osm_graph, rebuild_graph\u001b[38;5;241m=\u001b[39m\u001b[38;5;28;01mTrue\u001b[39;00m, tolerance\u001b[38;5;241m=\u001b[39m\u001b[38;5;241m15\u001b[39m, dead_ends\u001b[38;5;241m=\u001b[39m\u001b[38;5;28;01mFalse\u001b[39;00m)\n",
      "File \u001b[0;32m~/miniconda3/lib/python3.10/site-packages/osmnx/graph.py:442\u001b[0m, in \u001b[0;36mgraph_from_polygon\u001b[0;34m(polygon, network_type, simplify, retain_all, truncate_by_edge, clean_periphery, custom_filter)\u001b[0m\n\u001b[1;32m    436\u001b[0m G_buff \u001b[38;5;241m=\u001b[39m _create_graph(response_jsons, retain_all\u001b[38;5;241m=\u001b[39m\u001b[38;5;28;01mTrue\u001b[39;00m, bidirectional\u001b[38;5;241m=\u001b[39mbidirectional)\n\u001b[1;32m    438\u001b[0m \u001b[38;5;66;03m# truncate buffered graph to the buffered polygon and retain_all for\u001b[39;00m\n\u001b[1;32m    439\u001b[0m \u001b[38;5;66;03m# now. needed because overpass returns entire ways that also include\u001b[39;00m\n\u001b[1;32m    440\u001b[0m \u001b[38;5;66;03m# nodes outside the poly if the way (that is, a way with a single OSM\u001b[39;00m\n\u001b[1;32m    441\u001b[0m \u001b[38;5;66;03m# ID) has a node inside the poly at some point.\u001b[39;00m\n\u001b[0;32m--> 442\u001b[0m G_buff \u001b[38;5;241m=\u001b[39m \u001b[43mtruncate\u001b[49m\u001b[38;5;241;43m.\u001b[39;49m\u001b[43mtruncate_graph_polygon\u001b[49m\u001b[43m(\u001b[49m\u001b[43mG_buff\u001b[49m\u001b[43m,\u001b[49m\u001b[43m \u001b[49m\u001b[43mpoly_buff\u001b[49m\u001b[43m,\u001b[49m\u001b[43m \u001b[49m\u001b[38;5;28;43;01mTrue\u001b[39;49;00m\u001b[43m,\u001b[49m\u001b[43m \u001b[49m\u001b[43mtruncate_by_edge\u001b[49m\u001b[43m)\u001b[49m\n\u001b[1;32m    444\u001b[0m \u001b[38;5;66;03m# simplify the graph topology\u001b[39;00m\n\u001b[1;32m    445\u001b[0m \u001b[38;5;28;01mif\u001b[39;00m simplify:\n",
      "File \u001b[0;32m~/miniconda3/lib/python3.10/site-packages/osmnx/truncate.py:157\u001b[0m, in \u001b[0;36mtruncate_graph_polygon\u001b[0;34m(G, polygon, retain_all, truncate_by_edge, quadrat_width, min_num)\u001b[0m\n\u001b[1;32m    155\u001b[0m \u001b[38;5;66;03m# first identify all nodes whose point geometries lie within the polygon\u001b[39;00m\n\u001b[1;32m    156\u001b[0m gs_nodes \u001b[38;5;241m=\u001b[39m utils_graph\u001b[38;5;241m.\u001b[39mgraph_to_gdfs(G, edges\u001b[38;5;241m=\u001b[39m\u001b[38;5;28;01mFalse\u001b[39;00m)[[\u001b[38;5;124m\"\u001b[39m\u001b[38;5;124mgeometry\u001b[39m\u001b[38;5;124m\"\u001b[39m]]\n\u001b[0;32m--> 157\u001b[0m to_keep \u001b[38;5;241m=\u001b[39m \u001b[43mutils_geo\u001b[49m\u001b[38;5;241;43m.\u001b[39;49m\u001b[43m_intersect_index_quadrats\u001b[49m\u001b[43m(\u001b[49m\u001b[43mgs_nodes\u001b[49m\u001b[43m,\u001b[49m\u001b[43m \u001b[49m\u001b[43mpolygon\u001b[49m\u001b[43m,\u001b[49m\u001b[43m \u001b[49m\u001b[43mquadrat_width\u001b[49m\u001b[43m,\u001b[49m\u001b[43m \u001b[49m\u001b[43mmin_num\u001b[49m\u001b[43m)\u001b[49m\n\u001b[1;32m    159\u001b[0m \u001b[38;5;28;01mif\u001b[39;00m \u001b[38;5;129;01mnot\u001b[39;00m to_keep:\n\u001b[1;32m    160\u001b[0m     \u001b[38;5;66;03m# no graph nodes within the polygon: can't create a graph from that\u001b[39;00m\n\u001b[1;32m    161\u001b[0m     \u001b[38;5;28;01mraise\u001b[39;00m \u001b[38;5;167;01mValueError\u001b[39;00m(\u001b[38;5;124m\"\u001b[39m\u001b[38;5;124mFound no graph nodes within the requested polygon\u001b[39m\u001b[38;5;124m\"\u001b[39m)\n",
      "File \u001b[0;32m~/miniconda3/lib/python3.10/site-packages/osmnx/utils_geo.py:411\u001b[0m, in \u001b[0;36m_intersect_index_quadrats\u001b[0;34m(geometries, polygon, quadrat_width, min_num)\u001b[0m\n\u001b[1;32m    409\u001b[0m         possible_matches_iloc \u001b[38;5;241m=\u001b[39m sindex\u001b[38;5;241m.\u001b[39mintersection(poly\u001b[38;5;241m.\u001b[39mbounds)\n\u001b[1;32m    410\u001b[0m         possible_matches \u001b[38;5;241m=\u001b[39m geometries\u001b[38;5;241m.\u001b[39miloc[\u001b[38;5;28mlist\u001b[39m(possible_matches_iloc)]\n\u001b[0;32m--> 411\u001b[0m         precise_matches \u001b[38;5;241m=\u001b[39m possible_matches[\u001b[43mpossible_matches\u001b[49m\u001b[38;5;241;43m.\u001b[39;49m\u001b[43mintersects\u001b[49m\u001b[43m(\u001b[49m\u001b[43mpoly\u001b[49m\u001b[43m)\u001b[49m]\n\u001b[1;32m    412\u001b[0m         geoms_in_poly\u001b[38;5;241m.\u001b[39mupdate(precise_matches\u001b[38;5;241m.\u001b[39mindex)\n\u001b[1;32m    414\u001b[0m utils\u001b[38;5;241m.\u001b[39mlog(\u001b[38;5;124mf\u001b[39m\u001b[38;5;124m\"\u001b[39m\u001b[38;5;124mIdentified \u001b[39m\u001b[38;5;132;01m{\u001b[39;00m\u001b[38;5;28mlen\u001b[39m(geoms_in_poly)\u001b[38;5;132;01m}\u001b[39;00m\u001b[38;5;124m geometries inside polygon\u001b[39m\u001b[38;5;124m\"\u001b[39m)\n",
      "File \u001b[0;32m~/miniconda3/lib/python3.10/site-packages/geopandas/base.py:1493\u001b[0m, in \u001b[0;36mGeoPandasBase.intersects\u001b[0;34m(self, other, align)\u001b[0m\n\u001b[1;32m   1384\u001b[0m \u001b[38;5;28;01mdef\u001b[39;00m \u001b[38;5;21mintersects\u001b[39m(\u001b[38;5;28mself\u001b[39m, other, align\u001b[38;5;241m=\u001b[39m\u001b[38;5;28;01mTrue\u001b[39;00m):\n\u001b[1;32m   1385\u001b[0m \u001b[38;5;250m    \u001b[39m\u001b[38;5;124;03m\"\"\"Returns a ``Series`` of ``dtype('bool')`` with value ``True`` for\u001b[39;00m\n\u001b[1;32m   1386\u001b[0m \u001b[38;5;124;03m    each aligned geometry that intersects `other`.\u001b[39;00m\n\u001b[1;32m   1387\u001b[0m \n\u001b[0;32m   (...)\u001b[0m\n\u001b[1;32m   1491\u001b[0m \u001b[38;5;124;03m    GeoSeries.intersection\u001b[39;00m\n\u001b[1;32m   1492\u001b[0m \u001b[38;5;124;03m    \"\"\"\u001b[39;00m\n\u001b[0;32m-> 1493\u001b[0m     \u001b[38;5;28;01mreturn\u001b[39;00m \u001b[43m_binary_op\u001b[49m\u001b[43m(\u001b[49m\u001b[38;5;124;43m\"\u001b[39;49m\u001b[38;5;124;43mintersects\u001b[39;49m\u001b[38;5;124;43m\"\u001b[39;49m\u001b[43m,\u001b[49m\u001b[43m \u001b[49m\u001b[38;5;28;43mself\u001b[39;49m\u001b[43m,\u001b[49m\u001b[43m \u001b[49m\u001b[43mother\u001b[49m\u001b[43m,\u001b[49m\u001b[43m \u001b[49m\u001b[43malign\u001b[49m\u001b[43m)\u001b[49m\n",
      "File \u001b[0;32m~/miniconda3/lib/python3.10/site-packages/geopandas/base.py:59\u001b[0m, in \u001b[0;36m_binary_op\u001b[0;34m(op, this, other, align, *args, **kwargs)\u001b[0m\n\u001b[1;32m     56\u001b[0m \u001b[38;5;28;01mdef\u001b[39;00m \u001b[38;5;21m_binary_op\u001b[39m(op, this, other, align, \u001b[38;5;241m*\u001b[39margs, \u001b[38;5;241m*\u001b[39m\u001b[38;5;241m*\u001b[39mkwargs):\n\u001b[1;32m     57\u001b[0m     \u001b[38;5;66;03m# type: (str, GeoSeries, GeoSeries, args/kwargs) -> Series[bool/float]\u001b[39;00m\n\u001b[1;32m     58\u001b[0m \u001b[38;5;250m    \u001b[39m\u001b[38;5;124;03m\"\"\"Binary operation on GeoSeries objects that returns a Series\"\"\"\u001b[39;00m\n\u001b[0;32m---> 59\u001b[0m     data, index \u001b[38;5;241m=\u001b[39m \u001b[43m_delegate_binary_method\u001b[49m\u001b[43m(\u001b[49m\u001b[43mop\u001b[49m\u001b[43m,\u001b[49m\u001b[43m \u001b[49m\u001b[43mthis\u001b[49m\u001b[43m,\u001b[49m\u001b[43m \u001b[49m\u001b[43mother\u001b[49m\u001b[43m,\u001b[49m\u001b[43m \u001b[49m\u001b[43malign\u001b[49m\u001b[43m,\u001b[49m\u001b[43m \u001b[49m\u001b[38;5;241;43m*\u001b[39;49m\u001b[43margs\u001b[49m\u001b[43m,\u001b[49m\u001b[43m \u001b[49m\u001b[38;5;241;43m*\u001b[39;49m\u001b[38;5;241;43m*\u001b[39;49m\u001b[43mkwargs\u001b[49m\u001b[43m)\u001b[49m\n\u001b[1;32m     60\u001b[0m     \u001b[38;5;28;01mreturn\u001b[39;00m Series(data, index\u001b[38;5;241m=\u001b[39mindex)\n",
      "File \u001b[0;32m~/miniconda3/lib/python3.10/site-packages/geopandas/base.py:43\u001b[0m, in \u001b[0;36m_delegate_binary_method\u001b[0;34m(op, this, other, align, *args, **kwargs)\u001b[0m\n\u001b[1;32m     40\u001b[0m \u001b[38;5;28;01melse\u001b[39;00m:\n\u001b[1;32m     41\u001b[0m     \u001b[38;5;28;01mraise\u001b[39;00m \u001b[38;5;167;01mTypeError\u001b[39;00m(\u001b[38;5;28mtype\u001b[39m(this), \u001b[38;5;28mtype\u001b[39m(other))\n\u001b[0;32m---> 43\u001b[0m data \u001b[38;5;241m=\u001b[39m \u001b[38;5;28;43mgetattr\u001b[39;49m\u001b[43m(\u001b[49m\u001b[43ma_this\u001b[49m\u001b[43m,\u001b[49m\u001b[43m \u001b[49m\u001b[43mop\u001b[49m\u001b[43m)\u001b[49m\u001b[43m(\u001b[49m\u001b[43mother\u001b[49m\u001b[43m,\u001b[49m\u001b[43m \u001b[49m\u001b[38;5;241;43m*\u001b[39;49m\u001b[43margs\u001b[49m\u001b[43m,\u001b[49m\u001b[43m \u001b[49m\u001b[38;5;241;43m*\u001b[39;49m\u001b[38;5;241;43m*\u001b[39;49m\u001b[43mkwargs\u001b[49m\u001b[43m)\u001b[49m\n\u001b[1;32m     44\u001b[0m \u001b[38;5;28;01mreturn\u001b[39;00m data, this\u001b[38;5;241m.\u001b[39mindex\n",
      "File \u001b[0;32m~/miniconda3/lib/python3.10/site-packages/geopandas/array.py:557\u001b[0m, in \u001b[0;36mGeometryArray.intersects\u001b[0;34m(self, other)\u001b[0m\n\u001b[1;32m    556\u001b[0m \u001b[38;5;28;01mdef\u001b[39;00m \u001b[38;5;21mintersects\u001b[39m(\u001b[38;5;28mself\u001b[39m, other):\n\u001b[0;32m--> 557\u001b[0m     \u001b[38;5;28;01mreturn\u001b[39;00m \u001b[38;5;28;43mself\u001b[39;49m\u001b[38;5;241;43m.\u001b[39;49m\u001b[43m_binary_method\u001b[49m\u001b[43m(\u001b[49m\u001b[38;5;124;43m\"\u001b[39;49m\u001b[38;5;124;43mintersects\u001b[39;49m\u001b[38;5;124;43m\"\u001b[39;49m\u001b[43m,\u001b[49m\u001b[43m \u001b[49m\u001b[38;5;28;43mself\u001b[39;49m\u001b[43m,\u001b[49m\u001b[43m \u001b[49m\u001b[43mother\u001b[49m\u001b[43m)\u001b[49m\n",
      "File \u001b[0;32m~/miniconda3/lib/python3.10/site-packages/geopandas/array.py:536\u001b[0m, in \u001b[0;36mGeometryArray._binary_method\u001b[0;34m(op, left, right, **kwargs)\u001b[0m\n\u001b[1;32m    533\u001b[0m         _crs_mismatch_warn(left, right, stacklevel\u001b[38;5;241m=\u001b[39m\u001b[38;5;241m7\u001b[39m)\n\u001b[1;32m    534\u001b[0m     right \u001b[38;5;241m=\u001b[39m right\u001b[38;5;241m.\u001b[39mdata\n\u001b[0;32m--> 536\u001b[0m \u001b[38;5;28;01mreturn\u001b[39;00m \u001b[38;5;28;43mgetattr\u001b[39;49m\u001b[43m(\u001b[49m\u001b[43mvectorized\u001b[49m\u001b[43m,\u001b[49m\u001b[43m \u001b[49m\u001b[43mop\u001b[49m\u001b[43m)\u001b[49m\u001b[43m(\u001b[49m\u001b[43mleft\u001b[49m\u001b[38;5;241;43m.\u001b[39;49m\u001b[43mdata\u001b[49m\u001b[43m,\u001b[49m\u001b[43m \u001b[49m\u001b[43mright\u001b[49m\u001b[43m,\u001b[49m\u001b[43m \u001b[49m\u001b[38;5;241;43m*\u001b[39;49m\u001b[38;5;241;43m*\u001b[39;49m\u001b[43mkwargs\u001b[49m\u001b[43m)\u001b[49m\n",
      "File \u001b[0;32m~/miniconda3/lib/python3.10/site-packages/geopandas/_vectorized.py:742\u001b[0m, in \u001b[0;36mintersects\u001b[0;34m(data, other)\u001b[0m\n\u001b[1;32m    740\u001b[0m     \u001b[38;5;28;01mreturn\u001b[39;00m shapely\u001b[38;5;241m.\u001b[39mintersects(data, other)\n\u001b[1;32m    741\u001b[0m \u001b[38;5;28;01melif\u001b[39;00m compat\u001b[38;5;241m.\u001b[39mUSE_PYGEOS:\n\u001b[0;32m--> 742\u001b[0m     \u001b[38;5;28;01mreturn\u001b[39;00m \u001b[43m_binary_method\u001b[49m\u001b[43m(\u001b[49m\u001b[38;5;124;43m\"\u001b[39;49m\u001b[38;5;124;43mintersects\u001b[39;49m\u001b[38;5;124;43m\"\u001b[39;49m\u001b[43m,\u001b[49m\u001b[43m \u001b[49m\u001b[43mdata\u001b[49m\u001b[43m,\u001b[49m\u001b[43m \u001b[49m\u001b[43mother\u001b[49m\u001b[43m)\u001b[49m\n\u001b[1;32m    743\u001b[0m \u001b[38;5;28;01melse\u001b[39;00m:\n\u001b[1;32m    744\u001b[0m     \u001b[38;5;28;01mreturn\u001b[39;00m _binary_predicate(\u001b[38;5;124m\"\u001b[39m\u001b[38;5;124mintersects\u001b[39m\u001b[38;5;124m\"\u001b[39m, data, other)\n",
      "File \u001b[0;32m~/miniconda3/lib/python3.10/site-packages/geopandas/_vectorized.py:282\u001b[0m, in \u001b[0;36m_binary_method\u001b[0;34m(op, left, right, **kwargs)\u001b[0m\n\u001b[1;32m    280\u001b[0m \u001b[38;5;28;01mif\u001b[39;00m \u001b[38;5;28misinstance\u001b[39m(right, BaseGeometry):\n\u001b[1;32m    281\u001b[0m     right \u001b[38;5;241m=\u001b[39m from_shapely([right])[\u001b[38;5;241m0\u001b[39m]\n\u001b[0;32m--> 282\u001b[0m \u001b[38;5;28;01mreturn\u001b[39;00m \u001b[38;5;28;43mgetattr\u001b[39;49m\u001b[43m(\u001b[49m\u001b[43mpygeos\u001b[49m\u001b[43m,\u001b[49m\u001b[43m \u001b[49m\u001b[43mop\u001b[49m\u001b[43m)\u001b[49m\u001b[43m(\u001b[49m\u001b[43mleft\u001b[49m\u001b[43m,\u001b[49m\u001b[43m \u001b[49m\u001b[43mright\u001b[49m\u001b[43m,\u001b[49m\u001b[43m \u001b[49m\u001b[38;5;241;43m*\u001b[39;49m\u001b[38;5;241;43m*\u001b[39;49m\u001b[43mkwargs\u001b[49m\u001b[43m)\u001b[49m\n",
      "File \u001b[0;32m~/miniconda3/lib/python3.10/site-packages/pygeos/decorators.py:80\u001b[0m, in \u001b[0;36mmultithreading_enabled.<locals>.wrapped\u001b[0;34m(*args, **kwargs)\u001b[0m\n\u001b[1;32m     78\u001b[0m     \u001b[38;5;28;01mfor\u001b[39;00m arr \u001b[38;5;129;01min\u001b[39;00m array_args:\n\u001b[1;32m     79\u001b[0m         arr\u001b[38;5;241m.\u001b[39mflags\u001b[38;5;241m.\u001b[39mwriteable \u001b[38;5;241m=\u001b[39m \u001b[38;5;28;01mFalse\u001b[39;00m\n\u001b[0;32m---> 80\u001b[0m     \u001b[38;5;28;01mreturn\u001b[39;00m \u001b[43mfunc\u001b[49m\u001b[43m(\u001b[49m\u001b[38;5;241;43m*\u001b[39;49m\u001b[43margs\u001b[49m\u001b[43m,\u001b[49m\u001b[43m \u001b[49m\u001b[38;5;241;43m*\u001b[39;49m\u001b[38;5;241;43m*\u001b[39;49m\u001b[43mkwargs\u001b[49m\u001b[43m)\u001b[49m\n\u001b[1;32m     81\u001b[0m \u001b[38;5;28;01mfinally\u001b[39;00m:\n\u001b[1;32m     82\u001b[0m     \u001b[38;5;28;01mfor\u001b[39;00m arr, old_flag \u001b[38;5;129;01min\u001b[39;00m \u001b[38;5;28mzip\u001b[39m(array_args, old_flags):\n",
      "File \u001b[0;32m~/miniconda3/lib/python3.10/site-packages/pygeos/predicates.py:764\u001b[0m, in \u001b[0;36mintersects\u001b[0;34m(a, b, **kwargs)\u001b[0m\n\u001b[1;32m    734\u001b[0m \u001b[38;5;129m@multithreading_enabled\u001b[39m\n\u001b[1;32m    735\u001b[0m \u001b[38;5;28;01mdef\u001b[39;00m \u001b[38;5;21mintersects\u001b[39m(a, b, \u001b[38;5;241m*\u001b[39m\u001b[38;5;241m*\u001b[39mkwargs):\n\u001b[1;32m    736\u001b[0m \u001b[38;5;250m    \u001b[39m\u001b[38;5;124;03m\"\"\"Returns True if A and B share any portion of space.\u001b[39;00m\n\u001b[1;32m    737\u001b[0m \n\u001b[1;32m    738\u001b[0m \u001b[38;5;124;03m    Intersects implies that overlaps, touches and within are True.\u001b[39;00m\n\u001b[0;32m   (...)\u001b[0m\n\u001b[1;32m    762\u001b[0m \u001b[38;5;124;03m    False\u001b[39;00m\n\u001b[1;32m    763\u001b[0m \u001b[38;5;124;03m    \"\"\"\u001b[39;00m\n\u001b[0;32m--> 764\u001b[0m     \u001b[38;5;28;01mreturn\u001b[39;00m \u001b[43mlib\u001b[49m\u001b[38;5;241;43m.\u001b[39;49m\u001b[43mintersects\u001b[49m\u001b[43m(\u001b[49m\u001b[43ma\u001b[49m\u001b[43m,\u001b[49m\u001b[43m \u001b[49m\u001b[43mb\u001b[49m\u001b[43m,\u001b[49m\u001b[43m \u001b[49m\u001b[38;5;241;43m*\u001b[39;49m\u001b[38;5;241;43m*\u001b[39;49m\u001b[43mkwargs\u001b[49m\u001b[43m)\u001b[49m\n",
      "\u001b[0;31mKeyboardInterrupt\u001b[0m: "
     ]
    }
   ],
   "source": [
    "osm_graph= ox.graph.graph_from_polygon(study_area, network_type='drive')\n",
    "osm_graph = ox.projection.project_graph(osm_graph, to_crs=local_crs)\n",
    "\n",
    "streets = ox.consolidate_intersections(osm_graph, rebuild_graph=True, tolerance=15, dead_ends=False)\n",
    "\n",
    "streets = ox.graph_to_gdfs(\n",
    "    osm_graph,\n",
    "    nodes=False,\n",
    "    edges=True,\n",
    "    node_geometry=False,\n",
    "    fill_edge_geometry=True\n",
    ")\n",
    "streets.head()"
   ]
  },
  {
   "cell_type": "code",
   "execution_count": null,
   "metadata": {},
   "outputs": [],
   "source": [
    "osm_graph= ox.graph.graph_from_polygon(study_area, custom_filter='[\"railway\"~\"rail|subway|narrow_gauge|monorail\"]')\n",
    "osm_graph = ox.projection.project_graph(osm_graph, to_crs=local_crs)\n",
    "\n",
    "osm_graph = ox.consolidate_intersections(osm_graph, rebuild_graph=True, tolerance=15, dead_ends=False)\n",
    "\n",
    "rails = ox.graph_to_gdfs(\n",
    "    osm_graph,\n",
    "    nodes=False,\n",
    "    edges=True,\n",
    "    node_geometry=False,\n",
    "    fill_edge_geometry=True\n",
    ")\n",
    "rails.head()"
   ]
  },
  {
   "cell_type": "code",
   "execution_count": null,
   "metadata": {},
   "outputs": [],
   "source": [
    "waters = []\n",
    "\n",
    "# Get the water bodies as geometries\n",
    "water_bodies = ox.geometries_from_polygon(study_area, tags={'natural': 'water'}).set_crs(\"epsg: 4326\").to_crs(local_crs)\n",
    "\n",
    "# Explode the GeoDataFrame into a GeoSeries of polygons and multipolygons\n",
    "gs = water_bodies.explode()\n",
    "\n",
    "# Convert each polygon into a MultiLineString\n",
    "mls = gs.geometry.boundary\n",
    "\n",
    "# Convert the MultiLineString into a DataFrame\n",
    "water_bodies = gpd.GeoDataFrame({'geometry': mls})\n",
    "\n",
    "# Add a column to specify the polygon ID\n",
    "water_bodies['polygon_id'] = gs.index\n",
    "\n",
    "print(water_bodies)\n",
    "\n",
    "for water_body in water_bodies.geometry:\n",
    "    # Create a LineString object from the coordinates\n",
    "    waters.append(water_body)\n",
    "\n",
    "coastlines = ox.geometries_from_polygon(study_area, tags={'natural': 'coastline'}).set_crs(\"epsg: 4326\").to_crs(local_crs)\n",
    "\n",
    "coastlines = coastlines[coastlines.geom_type == \"LineString\"].reset_index(drop=True)\n",
    "\n",
    "for coastline in coastlines.geometry:\n",
    "    # Create a LineString object from the coordinates\n",
    "    waters.append(coastline)\n",
    "\n",
    "# # Create a GeoDataFrame of the water area boundaries\n",
    "waters = gpd.GeoDataFrame(geometry=waters)\n",
    "waters = waters[[\"geometry\"]]\n",
    "waters.head()"
   ]
  },
  {
   "cell_type": "code",
   "execution_count": null,
   "metadata": {},
   "outputs": [],
   "source": [
    "ax = streets.plot(figsize=(16, 16))\n",
    "rails.plot(ax=ax, color='r')\n",
    "waters.plot(ax=ax, color='k')"
   ]
  },
  {
   "cell_type": "code",
   "execution_count": null,
   "metadata": {},
   "outputs": [],
   "source": [
    "%%time\n",
    "barriers = pd.concat([streets.geometry, waters.geometry])"
   ]
  },
  {
   "cell_type": "code",
   "execution_count": null,
   "metadata": {},
   "outputs": [],
   "source": [
    "%%time\n",
    "unioned = barriers.unary_union"
   ]
  },
  {
   "cell_type": "code",
   "execution_count": null,
   "metadata": {},
   "outputs": [],
   "source": [
    "%%time\n",
    "polygons = shapely.ops.polygonize(unioned)\n",
    "enclosures = gpd.array.from_shapely(list(polygons), crs=local_crs)"
   ]
  },
  {
   "cell_type": "code",
   "execution_count": null,
   "metadata": {},
   "outputs": [],
   "source": [
    "%%time\n",
    "railway_topo = consolidate.topology(rails)"
   ]
  },
  {
   "cell_type": "code",
   "execution_count": null,
   "metadata": {},
   "outputs": [],
   "source": [
    "%%time\n",
    "closed = snap.close_gaps(railway_topo, tolerance=25)"
   ]
  },
  {
   "cell_type": "code",
   "execution_count": null,
   "metadata": {},
   "outputs": [],
   "source": [
    "%%time\n",
    "closed_topo = consolidate.topology(gpd.GeoDataFrame(geometry=closed))"
   ]
  },
  {
   "cell_type": "code",
   "execution_count": null,
   "metadata": {},
   "outputs": [],
   "source": [
    "%%time\n",
    "extended_topo = snap.line_to_line(closed_topo, streets, 25)"
   ]
  },
  {
   "cell_type": "code",
   "execution_count": null,
   "metadata": {},
   "outputs": [],
   "source": [
    "%%time\n",
    "additional = pd.concat([waters.geometry, extended_topo.geometry])"
   ]
  },
  {
   "cell_type": "code",
   "execution_count": null,
   "metadata": {},
   "outputs": [],
   "source": [
    "%%time\n",
    "sindex = gpd.GeoSeries(enclosures).sindex\n",
    "inp, res = sindex.query_bulk(additional.geometry, predicate='intersects')"
   ]
  },
  {
   "cell_type": "code",
   "execution_count": null,
   "metadata": {},
   "outputs": [],
   "source": [
    "%%time\n",
    "unique = np.unique(res)"
   ]
  },
  {
   "cell_type": "code",
   "execution_count": null,
   "metadata": {},
   "outputs": [],
   "source": [
    "%%time\n",
    "new = []\n",
    "\n",
    "for i in tqdm(unique, total=len(unique)):\n",
    "    poly = enclosures.data[i]  # get enclosure polygon\n",
    "    crossing = inp[res==i]  # get relevant additional barriers\n",
    "    buf = pygeos.buffer(poly, 0.01)  # to avoid floating point errors\n",
    "    crossing_ins = pygeos.intersection(buf, additional.values.data[crossing])  # keeping only parts of additional barriers within polygon\n",
    "    union = pygeos.union_all(np.append(crossing_ins, pygeos.boundary(poly)))  # union\n",
    "    polygons = np.array(list(shapely.ops.polygonize(_pygeos_to_shapely(union))))  # shapely.ops.polygonize\n",
    "    within = pygeos.covered_by(pygeos.from_shapely(polygons), buf)  # keep only those within original polygon"
   ]
  },
  {
   "cell_type": "code",
   "execution_count": null,
   "metadata": {},
   "outputs": [],
   "source": [
    "%%time\n",
    "final_enclosures = gpd.GeoSeries(enclosures).drop(unique).append(gpd.GeoSeries(new))"
   ]
  },
  {
   "cell_type": "code",
   "execution_count": null,
   "metadata": {},
   "outputs": [],
   "source": [
    "final_enclosures.shape"
   ]
  },
  {
   "cell_type": "code",
   "execution_count": null,
   "metadata": {},
   "outputs": [],
   "source": [
    "%%time\n",
    "gpd.GeoDataFrame(geometry=final_enclosures, crs=local_crs).to_parquet('./out/singapore/enclosures.pq')"
   ]
  },
  {
   "cell_type": "code",
   "execution_count": null,
   "metadata": {},
   "outputs": [],
   "source": [
    "auth = gpd.read_file(\"./Singapore/Singapore_constituencies.shp\").to_crs(local_crs)\n",
    "auth[\"index\"] = range(len(auth))"
   ]
  },
  {
   "cell_type": "code",
   "execution_count": null,
   "metadata": {},
   "outputs": [],
   "source": [
    "buildings = ox.geometries.geometries_from_polygon(study_area, tags={'building':True})\n",
    "buildings = buildings[buildings.geom_type == \"Polygon\"].reset_index(drop=True)\n",
    "buildings = buildings[[\"geometry\"]].to_crs(local_crs)"
   ]
  },
  {
   "cell_type": "code",
   "execution_count": null,
   "metadata": {},
   "outputs": [],
   "source": [
    "auth_buildings = gpd.sjoin(auth, buildings, op='intersects')\n",
    "count = auth_buildings.groupby('index').size()"
   ]
  },
  {
   "cell_type": "code",
   "execution_count": null,
   "metadata": {},
   "outputs": [],
   "source": [
    "auth = auth.merge(count.rename('counts'), left_on='index', right_index=True)"
   ]
  },
  {
   "cell_type": "code",
   "execution_count": null,
   "metadata": {},
   "outputs": [],
   "source": [
    "auth.head()"
   ]
  },
  {
   "cell_type": "code",
   "execution_count": null,
   "metadata": {},
   "outputs": [],
   "source": [
    "%time w_queen = Queen.from_dataframe(auth)"
   ]
  },
  {
   "cell_type": "code",
   "execution_count": null,
   "metadata": {},
   "outputs": [],
   "source": [
    "%time w_k1 = KNN.from_dataframe(auth, k=1)"
   ]
  },
  {
   "cell_type": "code",
   "execution_count": null,
   "metadata": {},
   "outputs": [],
   "source": [
    "neighbors = copy.deepcopy(w_queen.neighbors)\n",
    "for i in w_queen.islands:\n",
    "    j = w_k1.neighbors[i][0]\n",
    "    neighbors[i] = [j]\n",
    "    neighbors[j].append(i)\n",
    "w = W(neighbors)"
   ]
  },
  {
   "cell_type": "code",
   "execution_count": null,
   "metadata": {},
   "outputs": [],
   "source": []
  }
 ],
 "metadata": {
  "kernelspec": {
   "display_name": "Python 3 (ipykernel)",
   "language": "python",
   "name": "python3"
  },
  "language_info": {
   "codemirror_mode": {
    "name": "ipython",
    "version": 3
   },
   "file_extension": ".py",
   "mimetype": "text/x-python",
   "name": "python",
   "nbconvert_exporter": "python",
   "pygments_lexer": "ipython3",
   "version": "3.10.9"
  }
 },
 "nbformat": 4,
 "nbformat_minor": 2
}
