{
 "cells": [
  {
   "cell_type": "code",
   "execution_count": null,
   "id": "d462f854",
   "metadata": {
    "execution": {
     "iopub.execute_input": "2023-03-24T19:26:57.945462Z",
     "iopub.status.busy": "2023-03-24T19:26:57.945112Z",
     "iopub.status.idle": "2023-03-24T19:26:59.834939Z",
     "shell.execute_reply": "2023-03-24T19:26:59.834365Z"
    },
    "papermill": {
     "duration": 1.894813,
     "end_time": "2023-03-24T19:26:59.836582",
     "exception": false,
     "start_time": "2023-03-24T19:26:57.941769",
     "status": "completed"
    },
    "tags": []
   },
   "outputs": [],
   "source": [
    "import geopandas as gpd\n",
    "import numpy as np\n",
    "import pandas as pd\n",
    "from tqdm.notebook import tqdm\n",
    "from libpysal.weights import fuzzy_contiguity\n",
    "import json\n",
    "import dask\n",
    "from dask import delayed, dataframe as dd\n",
    "from dask.distributed import Client, LocalCluster\n",
    "from dask.graph_manipulation import bind\n",
    "import bokeh\n",
    "import dask_geopandas as dgpd\n",
    "from dask.diagnostics import ProgressBar\n",
    "import glob\n",
    "import dask.bag as db\n",
    "from itertools import chain\n",
    "import json\n",
    "import warnings\n",
    "import matplotlib.pyplot as plt\n",
    "import logging\n",
    "import dask.config"
   ]
  },
  {
   "cell_type": "code",
   "execution_count": null,
   "id": "0cfabdb5",
   "metadata": {
    "execution": {
     "iopub.execute_input": "2023-03-24T19:26:59.842090Z",
     "iopub.status.busy": "2023-03-24T19:26:59.841618Z",
     "iopub.status.idle": "2023-03-24T19:26:59.860922Z",
     "shell.execute_reply": "2023-03-24T19:26:59.860370Z"
    },
    "papermill": {
     "duration": 0.023364,
     "end_time": "2023-03-24T19:26:59.862234",
     "exception": false,
     "start_time": "2023-03-24T19:26:59.838870",
     "status": "completed"
    },
    "tags": []
   },
   "outputs": [],
   "source": [
    "with open('./out/singapore/clustertess.json', 'r') as f:\n",
    "    includes_dict = json.load(f)"
   ]
  },
  {
   "cell_type": "code",
   "execution_count": null,
   "id": "bc7477ec",
   "metadata": {
    "execution": {
     "iopub.execute_input": "2023-03-24T19:26:59.867025Z",
     "iopub.status.busy": "2023-03-24T19:26:59.866764Z",
     "iopub.status.idle": "2023-03-24T19:26:59.904010Z",
     "shell.execute_reply": "2023-03-24T19:26:59.903398Z"
    },
    "papermill": {
     "duration": 0.041393,
     "end_time": "2023-03-24T19:26:59.905625",
     "exception": false,
     "start_time": "2023-03-24T19:26:59.864232",
     "status": "completed"
    },
    "tags": []
   },
   "outputs": [],
   "source": [
    "chunks = gpd.read_parquet('./out/singapore/clusters.pq')"
   ]
  },
  {
   "cell_type": "code",
   "execution_count": null,
   "id": "5517f17d",
   "metadata": {
    "execution": {
     "iopub.execute_input": "2023-03-24T19:26:59.910628Z",
     "iopub.status.busy": "2023-03-24T19:26:59.910340Z",
     "iopub.status.idle": "2023-03-24T19:27:03.884004Z",
     "shell.execute_reply": "2023-03-24T19:27:03.883222Z"
    },
    "papermill": {
     "duration": 3.977774,
     "end_time": "2023-03-24T19:27:03.885417",
     "exception": false,
     "start_time": "2023-03-24T19:26:59.907643",
     "status": "completed"
    },
    "tags": []
   },
   "outputs": [],
   "source": [
    "w = fuzzy_contiguity(chunks, buffering=True, buffer=1000)"
   ]
  },
  {
   "cell_type": "code",
   "execution_count": null,
   "id": "27a1bbc8",
   "metadata": {
    "execution": {
     "iopub.execute_input": "2023-03-24T19:27:03.890668Z",
     "iopub.status.busy": "2023-03-24T19:27:03.890389Z",
     "iopub.status.idle": "2023-03-24T19:27:04.141731Z",
     "shell.execute_reply": "2023-03-24T19:27:04.141222Z"
    },
    "papermill": {
     "duration": 0.255548,
     "end_time": "2023-03-24T19:27:04.143182",
     "exception": false,
     "start_time": "2023-03-24T19:27:03.887634",
     "status": "completed"
    },
    "tags": []
   },
   "outputs": [],
   "source": [
    "ax = chunks.loc[w.neighbors[2]].plot()\n",
    "chunks.loc[[2]].plot(ax=ax, color='r')"
   ]
  },
  {
   "cell_type": "code",
   "execution_count": null,
   "id": "4235aea8",
   "metadata": {
    "execution": {
     "iopub.execute_input": "2023-03-24T19:27:04.149831Z",
     "iopub.status.busy": "2023-03-24T19:27:04.149563Z",
     "iopub.status.idle": "2023-03-24T19:27:04.153459Z",
     "shell.execute_reply": "2023-03-24T19:27:04.152986Z"
    },
    "papermill": {
     "duration": 0.008481,
     "end_time": "2023-03-24T19:27:04.154650",
     "exception": false,
     "start_time": "2023-03-24T19:27:04.146169",
     "status": "completed"
    },
    "tags": []
   },
   "outputs": [],
   "source": [
    "import dask\n",
    "dask.config.set({'logging.distributed': 'error'})"
   ]
  },
  {
   "cell_type": "code",
   "execution_count": null,
   "id": "dc21acee",
   "metadata": {
    "execution": {
     "iopub.execute_input": "2023-03-24T19:27:04.161241Z",
     "iopub.status.busy": "2023-03-24T19:27:04.160745Z",
     "iopub.status.idle": "2023-03-24T19:27:05.579368Z",
     "shell.execute_reply": "2023-03-24T19:27:05.578678Z"
    },
    "papermill": {
     "duration": 1.423532,
     "end_time": "2023-03-24T19:27:05.581010",
     "exception": false,
     "start_time": "2023-03-24T19:27:04.157478",
     "status": "completed"
    },
    "tags": []
   },
   "outputs": [],
   "source": [
    "daskCluster = LocalCluster(threads_per_worker=2,\n",
    "                n_workers=8, memory_limit='100GB')\n",
    "\n",
    "client = Client(daskCluster)"
   ]
  },
  {
   "cell_type": "code",
   "execution_count": null,
   "id": "dbe60f99",
   "metadata": {
    "execution": {
     "iopub.execute_input": "2023-03-24T19:27:05.588899Z",
     "iopub.status.busy": "2023-03-24T19:27:05.588612Z",
     "iopub.status.idle": "2023-03-24T19:27:05.592858Z",
     "shell.execute_reply": "2023-03-24T19:27:05.592197Z"
    },
    "papermill": {
     "duration": 0.009684,
     "end_time": "2023-03-24T19:27:05.594330",
     "exception": false,
     "start_time": "2023-03-24T19:27:05.584646",
     "status": "completed"
    },
    "tags": []
   },
   "outputs": [],
   "source": [
    "def duplicates(tessellation):\n",
    "\n",
    "    # Check for duplicates based on UID\n",
    "    duplicates = tessellation[tessellation.duplicated(subset='uID', keep=False)]\n",
    "\n",
    "    # duplicates.to_file( \"./out/\" + place + 'errors.shp', driver='ESRI Shapefile')\n",
    "\n",
    "    # Print the duplicate rows\n",
    "    if len(duplicates) > 0:\n",
    "        raise Exception(\"Tesselation: Duplicate UID entries:\")\n",
    "    elif (tessellation[\"uID\"].isnull().values.any()):\n",
    "        raise Exception(\"uID column include invalid entries\")\n",
    "    else:\n",
    "        print(\"combined_chunk no problems\")\n",
    "        return 0"
   ]
  },
  {
   "cell_type": "code",
   "execution_count": null,
   "id": "8485ac37",
   "metadata": {
    "execution": {
     "iopub.execute_input": "2023-03-24T19:27:05.602051Z",
     "iopub.status.busy": "2023-03-24T19:27:05.601570Z"
    },
    "papermill": {
     "duration": 115.312524,
     "end_time": "2023-03-24T19:29:00.910130",
     "exception": false,
     "start_time": "2023-03-24T19:27:05.597606",
     "status": "completed"
    },
    "tags": []
   },
   "outputs": [],
   "source": [
    "queen_out = {}\n",
    "\n",
    "@delayed\n",
    "def neigh_look(cell_id, main_chunk_ids, combined_chunks): \n",
    "    with warnings.catch_warnings():\n",
    "        warnings.simplefilter(\"ignore\", category=UserWarning)\n",
    "        cell_poly = combined_chunks.loc[combined_chunks['uID'] == cell_id]\n",
    "        neighbours = combined_chunks[~combined_chunks.geometry.disjoint(cell_poly)]\n",
    "        return neighbours.uID.tolist()\n",
    "\n",
    "def expand_one_order(n1, main_chunk_ids, added_cells_ids, order, combined_chunks):\n",
    "    \n",
    "    with warnings.catch_warnings():\n",
    "        warnings.simplefilter(\"ignore\", category=UserWarning)\n",
    "    \n",
    "        print(\"starting expand_one_order, chunk \" + str(n1) + \" order \" + str(order), flush=True)\n",
    "                \n",
    "        if order == 0:\n",
    "            return main_chunk_ids\n",
    "        \n",
    "        if len(added_cells_ids) == 0:\n",
    "            added_cells_ids = main_chunk_ids\n",
    "\n",
    "        results = db.from_sequence(main_chunk_ids)\n",
    "        \n",
    "        chunk_size = 16\n",
    "        added_cells_ids_chunks = [added_cells_ids[i:i+chunk_size] for i in range(0, len(added_cells_ids), chunk_size)]\n",
    "        \n",
    "        len_sublist = len(added_cells_ids_chunks)\n",
    "        for i, sublist in enumerate(added_cells_ids_chunks):\n",
    "\n",
    "            delay_objs =[]\n",
    "            new_results = []\n",
    "                \n",
    "            with warnings.catch_warnings():\n",
    "                warnings.simplefilter(\"ignore\", category=UserWarning)\n",
    "                delay_objs = [neigh_look(cell_id, main_chunk_ids, combined_chunks) for cell_id in sublist]\n",
    "                new_results = dask.compute(delay_objs)\n",
    "                new_results_bag = db.from_sequence(chain(*new_results[0]))\n",
    "                results = db.concat([results, new_results_bag]).distinct()\n",
    "                \n",
    "                        \n",
    "            print(\"compute done this wave\", flush=True)\n",
    "            print(\"chunk \" + str(n1) + \" , order \" + str(order) +\" , sublist \" + str(i) + \" of \" + str(len_sublist), flush=True)\n",
    "                \n",
    "        expanded_cells = list(results.compute())\n",
    "\n",
    "        neighbouring_cells = [cell for cell in added_cells_ids if cell not in main_chunk_ids]\n",
    "        print(\"cells added this wave\", flush=True)\n",
    "    \n",
    "    return expand_one_order(n1, expanded_cells, neighbouring_cells, order-1, combined_chunks)\n",
    "    \n",
    "def process_chunk(n1, order, neighbours, chunk):\n",
    "    with warnings.catch_warnings():\n",
    "        warnings.simplefilter(\"ignore\", category=UserWarning)\n",
    "            \n",
    "        main_chunk = gpd.read_parquet(f\"./out/singapore/tess_chunk_{int(n1)}.pq\")\n",
    "        combined_chunks = main_chunk\n",
    "\n",
    "        main_chunk_ids = list(main_chunk['uID'])\n",
    "        results = []\n",
    "\n",
    "        for n2 in neighbours:\n",
    "            neigh_chunk = gpd.read_parquet(f\"./out/singapore/tess_chunk_{int(n2)}.pq\")\n",
    "            combined_chunks = combined_chunks.append(neigh_chunk)\n",
    "\n",
    "        combined_chunks = combined_chunks.reindex()\n",
    "        \n",
    "        chunk_boundary = []\n",
    "        \n",
    "        buffer = gpd.GeoDataFrame(geometry = [chunk.boundary[n1].buffer(5)], crs=main_chunk.crs)\n",
    "        \n",
    "        # find the rows in main_chunk that intersect the buffered polygon\n",
    "        intersecting_rows = gpd.sjoin(main_chunk, buffer, how='inner', op='intersects')\n",
    "        \n",
    "        # intersecting_rows.plot(figsize=(5, 5))\n",
    "        # plt.show()\n",
    "        \n",
    "        out = expand_one_order(n1, main_chunk_ids, intersecting_rows[\"uID\"].tolist(), order, combined_chunks)\n",
    "        \n",
    "        return out\n",
    "\n",
    "# for n1 in tqdm(range(10), total=10):\n",
    "#     queen_out[n1] = process_chunk(n1)\n",
    "\n",
    "file_pattern = \"./out/singapore/tess_chunk_*.pq\"\n",
    "file_list = glob.glob(file_pattern)\n",
    "num_files = len(file_list)\n",
    "\n",
    "# combined_chunks=[]\n",
    "# delayed_tasks = []\n",
    "# for n1 in range(num_files):\n",
    "#     delayed_task = process_chunk(n1, w, combined_chunks)\n",
    "#     delayed_tasks.append(delayed_task)\n",
    "\n",
    "#     results = delayed_tasks\n",
    "\n",
    "queen_out = [process_chunk(n1, 3, w.neighbors[n1], chunks.loc[[n1]]) for n1 in range(num_files)]\n",
    "\n",
    "\n",
    "for n1 in tqdm(range(num_files)):\n",
    "    queen_out[n1].to_parquet(f\"./out/singapore/queen_{int(n1)}.pq\")"
   ]
  },
  {
   "cell_type": "code",
   "execution_count": null,
   "id": "b9941c59",
   "metadata": {
    "papermill": {
     "duration": null,
     "end_time": null,
     "exception": null,
     "start_time": null,
     "status": "completed"
    },
    "tags": []
   },
   "outputs": [],
   "source": [
    "daskCluster.close()\n",
    "client.shutdown()\n"
   ]
  },
  {
   "cell_type": "code",
   "execution_count": null,
   "id": "eacf42e2",
   "metadata": {
    "papermill": {
     "duration": null,
     "end_time": null,
     "exception": null,
     "start_time": null,
     "status": "completed"
    },
    "tags": []
   },
   "outputs": [],
   "source": [
    "queen_out.to_parquet(\"./out/singapore/queen_areas.pq\")"
   ]
  },
  {
   "cell_type": "code",
   "execution_count": null,
   "id": "29926672",
   "metadata": {
    "papermill": {
     "duration": null,
     "end_time": null,
     "exception": null,
     "start_time": null,
     "status": "completed"
    },
    "tags": []
   },
   "outputs": [],
   "source": []
  }
 ],
 "metadata": {
  "kernelspec": {
   "display_name": "Python (base)",
   "language": "python",
   "name": "base"
  },
  "language_info": {
   "codemirror_mode": {
    "name": "ipython",
    "version": 3
   },
   "file_extension": ".py",
   "mimetype": "text/x-python",
   "name": "python",
   "nbconvert_exporter": "python",
   "pygments_lexer": "ipython3",
   "version": "3.10.9"
  },
  "papermill": {
   "default_parameters": {},
   "duration": 124.325749,
   "end_time": "2023-03-24T19:29:01.184102",
   "environment_variables": {},
   "exception": null,
   "input_path": "Singapore3_cross-chunk.ipynb",
   "output_path": "output.ipynb",
   "parameters": {},
   "start_time": "2023-03-24T19:26:56.858353",
   "version": "2.3.4"
  }
 },
 "nbformat": 4,
 "nbformat_minor": 5
}
