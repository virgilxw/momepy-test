{
 "cells": [
  {
   "attachments": {},
   "cell_type": "markdown",
   "metadata": {
    "papermill": {
     "duration": 0.04661,
     "end_time": "2020-08-30T13:54:47.406974",
     "exception": false,
     "start_time": "2020-08-30T13:54:47.360364",
     "status": "completed"
    },
    "tags": []
   },
   "source": [
    "# Introduction "
   ]
  },
  {
   "cell_type": "code",
   "execution_count": null,
   "metadata": {
    "tags": [
     "parameters"
    ]
   },
   "outputs": [],
   "source": [
    "local_crs = 3414\n",
    "\n",
    "place = \"singapore\""
   ]
  },
  {
   "attachments": {},
   "cell_type": "markdown",
   "metadata": {
    "papermill": {
     "duration": 0.044586,
     "end_time": "2020-08-30T13:54:47.590981",
     "exception": false,
     "start_time": "2020-08-30T13:54:47.546395",
     "status": "completed"
    },
    "tags": []
   },
   "source": [
    "# Objectives"
   ]
  },
  {
   "attachments": {},
   "cell_type": "markdown",
   "metadata": {
    "papermill": {
     "duration": 0.043093,
     "end_time": "2020-08-30T13:54:47.676948",
     "exception": false,
     "start_time": "2020-08-30T13:54:47.633855",
     "status": "completed"
    },
    "tags": []
   },
   "source": [
    "My main task is to cluster the countries by the factors mentioned above and then present the solution. The following approach is suggested :\n",
    "\n",
    "- Start off with the necessary data inspection and EDA tasks suitable for this dataset - data cleaning, univariate analysis, bivariate analysis etc.\n",
    "\n",
    "\n",
    "\n",
    "\n",
    "- **Outlier Analysis:** We must perform the Outlier Analysis on the dataset. However, We do have the flexibility of not removing the outliers if it suits the business needs or a lot of countries are getting removed. Hence, all we need to do is find the outliers in the dataset, and then choose whether to keep them or remove them depending on the results We get.\n",
    "\n",
    "\n",
    "- Try both K-means and Hierarchical clustering(both single and complete linkage) on this dataset to create the clusters. [Note that both the methods may not produce identical results and We might have to choose one of them for the final list of countries.]\n",
    "\n",
    "\n",
    "- Analyse the clusters and identify the ones which are in dire need of aid. We can analyse the clusters by comparing how these three variables - [**gdpp, child_mort and income**] vary for each cluster of countries to recognise and differentiate the clusters of developed countries from the clusters of under-developed countries.\n",
    "\n",
    "\n",
    "- Also, We need to perform visualisations on the clusters that have been formed.  We can do this by choosing any two of the three variables mentioned above on the X-Y axes and plotting a scatter plot of all the countries and differentiating the clusters. Make sure We create visualisations for all the three pairs. We can also choose other types of plots like boxplots, etc. \n",
    "\n",
    "\n",
    "- Both K-means and Hierarchical may give different results because of previous analysis (whether We chose to keep or remove the outliers, how many clusters We chose,  etc.) Hence, there might be some subjectivity in the final number of countries that We think should be reported back to the CEO since they depend upon the preceding analysis as well. Here, make sure that We report back at least 5 countries which are in direst need of aid from the analysis work that we perform."
   ]
  },
  {
   "attachments": {},
   "cell_type": "markdown",
   "metadata": {
    "papermill": {
     "duration": 0.043733,
     "end_time": "2020-08-30T13:54:47.763436",
     "exception": false,
     "start_time": "2020-08-30T13:54:47.719703",
     "status": "completed"
    },
    "tags": []
   },
   "source": [
    "# Data Collected / Received"
   ]
  },
  {
   "attachments": {},
   "cell_type": "markdown",
   "metadata": {
    "papermill": {
     "duration": 0.042665,
     "end_time": "2020-08-30T13:54:47.857558",
     "exception": false,
     "start_time": "2020-08-30T13:54:47.814893",
     "status": "completed"
    },
    "tags": []
   },
   "source": [
    "The datasets containing those socio-economic factors and the corresponding data dictionary are provided."
   ]
  },
  {
   "cell_type": "code",
   "execution_count": null,
   "metadata": {
    "execution": {
     "iopub.execute_input": "2020-08-30T13:54:47.948903Z",
     "iopub.status.busy": "2020-08-30T13:54:47.947731Z",
     "iopub.status.idle": "2020-08-30T13:54:47.950574Z",
     "shell.execute_reply": "2020-08-30T13:54:47.951174Z"
    },
    "papermill": {
     "duration": 0.051778,
     "end_time": "2020-08-30T13:54:47.951425",
     "exception": false,
     "start_time": "2020-08-30T13:54:47.899647",
     "status": "completed"
    },
    "tags": []
   },
   "outputs": [],
   "source": [
    "# Supress Warnings\n",
    "import warnings\n",
    "warnings.filterwarnings('ignore')\n",
    "import json"
   ]
  },
  {
   "cell_type": "code",
   "execution_count": null,
   "metadata": {
    "execution": {
     "iopub.execute_input": "2020-08-30T13:54:48.047861Z",
     "iopub.status.busy": "2020-08-30T13:54:48.046654Z",
     "iopub.status.idle": "2020-08-30T13:54:49.385174Z",
     "shell.execute_reply": "2020-08-30T13:54:49.384284Z"
    },
    "papermill": {
     "duration": 1.390818,
     "end_time": "2020-08-30T13:54:49.385336",
     "exception": false,
     "start_time": "2020-08-30T13:54:47.994518",
     "status": "completed"
    },
    "tags": []
   },
   "outputs": [],
   "source": [
    "# Importing libraries\n",
    "import numpy as np\n",
    "import pandas as pd\n",
    "import matplotlib.pyplot as plt\n",
    "import seaborn as sns"
   ]
  },
  {
   "cell_type": "code",
   "execution_count": null,
   "metadata": {
    "execution": {
     "iopub.execute_input": "2020-08-30T13:54:49.483083Z",
     "iopub.status.busy": "2020-08-30T13:54:49.481966Z",
     "iopub.status.idle": "2020-08-30T13:54:49.485293Z",
     "shell.execute_reply": "2020-08-30T13:54:49.484489Z"
    },
    "papermill": {
     "duration": 0.05641,
     "end_time": "2020-08-30T13:54:49.485432",
     "exception": false,
     "start_time": "2020-08-30T13:54:49.429022",
     "status": "completed"
    },
    "tags": []
   },
   "outputs": [],
   "source": [
    "# visulaisation\n",
    "from matplotlib.pyplot import xticks\n",
    "%matplotlib inline"
   ]
  },
  {
   "cell_type": "code",
   "execution_count": null,
   "metadata": {
    "execution": {
     "iopub.execute_input": "2020-08-30T13:54:49.582370Z",
     "iopub.status.busy": "2020-08-30T13:54:49.581523Z",
     "iopub.status.idle": "2020-08-30T13:54:49.584766Z",
     "shell.execute_reply": "2020-08-30T13:54:49.583954Z"
    },
    "papermill": {
     "duration": 0.053621,
     "end_time": "2020-08-30T13:54:49.584905",
     "exception": false,
     "start_time": "2020-08-30T13:54:49.531284",
     "status": "completed"
    },
    "tags": []
   },
   "outputs": [],
   "source": [
    "# Data display coustomization\n",
    "pd.set_option('display.max_columns', None)\n",
    "pd.set_option('display.max_colwidth', -1)"
   ]
  },
  {
   "cell_type": "code",
   "execution_count": null,
   "metadata": {
    "execution": {
     "iopub.execute_input": "2020-08-30T13:54:49.680074Z",
     "iopub.status.busy": "2020-08-30T13:54:49.679144Z",
     "iopub.status.idle": "2020-08-30T13:54:50.190610Z",
     "shell.execute_reply": "2020-08-30T13:54:50.189523Z"
    },
    "papermill": {
     "duration": 0.56241,
     "end_time": "2020-08-30T13:54:50.190772",
     "exception": false,
     "start_time": "2020-08-30T13:54:49.628362",
     "status": "completed"
    },
    "tags": []
   },
   "outputs": [],
   "source": [
    "# To perform Hierarchical clustering\n",
    "from scipy.cluster.hierarchy import linkage\n",
    "from scipy.cluster.hierarchy import dendrogram\n",
    "from scipy.cluster.hierarchy import cut_tree\n",
    "from sklearn.metrics import silhouette_score\n",
    "from sklearn.cluster import KMeans"
   ]
  },
  {
   "cell_type": "code",
   "execution_count": null,
   "metadata": {
    "execution": {
     "iopub.execute_input": "2020-08-30T13:54:50.359156Z",
     "iopub.status.busy": "2020-08-30T13:54:50.358274Z",
     "iopub.status.idle": "2020-08-30T13:54:50.362409Z",
     "shell.execute_reply": "2020-08-30T13:54:50.361571Z"
    },
    "papermill": {
     "duration": 0.056713,
     "end_time": "2020-08-30T13:54:50.362568",
     "exception": false,
     "start_time": "2020-08-30T13:54:50.305855",
     "status": "completed"
    },
    "tags": []
   },
   "outputs": [],
   "source": [
    "# import all libraries and dependencies for machine learning\n",
    "from sklearn.preprocessing import StandardScaler\n",
    "from sklearn.decomposition import PCA\n",
    "from sklearn.decomposition import IncrementalPCA\n",
    "from sklearn.neighbors import NearestNeighbors\n",
    "from random import sample\n",
    "from numpy.random import uniform\n",
    "from math import isnan\n",
    "from bokeh.plotting import figure, show"
   ]
  },
  {
   "cell_type": "code",
   "execution_count": null,
   "metadata": {},
   "outputs": [],
   "source": [
    "from clustergram import Clustergram\n",
    "import os"
   ]
  },
  {
   "attachments": {},
   "cell_type": "markdown",
   "metadata": {
    "papermill": {
     "duration": 0.046337,
     "end_time": "2020-08-30T13:54:50.456324",
     "exception": false,
     "start_time": "2020-08-30T13:54:50.409987",
     "status": "completed"
    },
    "tags": []
   },
   "source": [
    "# Data Preparation"
   ]
  },
  {
   "attachments": {},
   "cell_type": "markdown",
   "metadata": {
    "papermill": {
     "duration": 0.045154,
     "end_time": "2020-08-30T13:54:50.546730",
     "exception": false,
     "start_time": "2020-08-30T13:54:50.501576",
     "status": "completed"
    },
    "tags": []
   },
   "source": [
    "## Data Loading"
   ]
  },
  {
   "cell_type": "code",
   "execution_count": null,
   "metadata": {},
   "outputs": [],
   "source": [
    "import geopandas as gpd"
   ]
  },
  {
   "cell_type": "code",
   "execution_count": null,
   "metadata": {},
   "outputs": [],
   "source": [
    "tessellation_raw = gpd.read_parquet(f\"./out/{place}/tessellation_stats.pq\")\n",
    "\n",
    "tessellation = tessellation_raw.drop(columns=['geometry'])"
   ]
  },
  {
   "cell_type": "code",
   "execution_count": null,
   "metadata": {
    "execution": {
     "iopub.execute_input": "2020-08-30T13:54:50.754817Z",
     "iopub.status.busy": "2020-08-30T13:54:50.753561Z",
     "iopub.status.idle": "2020-08-30T13:54:50.799656Z",
     "shell.execute_reply": "2020-08-30T13:54:50.798370Z"
    },
    "papermill": {
     "duration": 0.100217,
     "end_time": "2020-08-30T13:54:50.799890",
     "exception": false,
     "start_time": "2020-08-30T13:54:50.699673",
     "status": "completed"
    },
    "tags": []
   },
   "outputs": [],
   "source": [
    "tessellation.head()"
   ]
  },
  {
   "attachments": {},
   "cell_type": "markdown",
   "metadata": {
    "papermill": {
     "duration": 0.045573,
     "end_time": "2020-08-30T13:54:50.894961",
     "exception": false,
     "start_time": "2020-08-30T13:54:50.849388",
     "status": "completed"
    },
    "tags": []
   },
   "source": [
    "## Data Dictionary"
   ]
  },
  {
   "attachments": {},
   "cell_type": "markdown",
   "metadata": {
    "papermill": {
     "duration": 0.043488,
     "end_time": "2020-08-30T13:54:51.097716",
     "exception": false,
     "start_time": "2020-08-30T13:54:51.054228",
     "status": "completed"
    },
    "tags": []
   },
   "source": [
    "## Duplicate Check"
   ]
  },
  {
   "cell_type": "code",
   "execution_count": null,
   "metadata": {
    "execution": {
     "iopub.execute_input": "2020-08-30T13:54:51.416334Z",
     "iopub.status.busy": "2020-08-30T13:54:51.415076Z",
     "iopub.status.idle": "2020-08-30T13:54:51.420470Z",
     "shell.execute_reply": "2020-08-30T13:54:51.419776Z"
    },
    "papermill": {
     "duration": 0.056481,
     "end_time": "2020-08-30T13:54:51.420610",
     "exception": false,
     "start_time": "2020-08-30T13:54:51.364129",
     "status": "completed"
    },
    "tags": []
   },
   "outputs": [],
   "source": [
    "tessellation.shape"
   ]
  },
  {
   "attachments": {},
   "cell_type": "markdown",
   "metadata": {
    "papermill": {
     "duration": 0.043891,
     "end_time": "2020-08-30T13:54:51.510614",
     "exception": false,
     "start_time": "2020-08-30T13:54:51.466723",
     "status": "completed"
    },
    "tags": []
   },
   "source": [
    "The shape after running the drop duplicate command is same as the original dataframe.\n",
    "\n",
    "Hence we can conclude that there were zero duplicate values in the dataset."
   ]
  },
  {
   "attachments": {},
   "cell_type": "markdown",
   "metadata": {
    "papermill": {
     "duration": 0.046035,
     "end_time": "2020-08-30T13:54:51.601777",
     "exception": false,
     "start_time": "2020-08-30T13:54:51.555742",
     "status": "completed"
    },
    "tags": []
   },
   "source": [
    "## Data Inspection"
   ]
  },
  {
   "cell_type": "code",
   "execution_count": null,
   "metadata": {
    "execution": {
     "iopub.execute_input": "2020-08-30T13:54:51.698909Z",
     "iopub.status.busy": "2020-08-30T13:54:51.697634Z",
     "iopub.status.idle": "2020-08-30T13:54:51.703374Z",
     "shell.execute_reply": "2020-08-30T13:54:51.702556Z"
    },
    "papermill": {
     "duration": 0.056797,
     "end_time": "2020-08-30T13:54:51.703519",
     "exception": false,
     "start_time": "2020-08-30T13:54:51.646722",
     "status": "completed"
    },
    "tags": []
   },
   "outputs": [],
   "source": [
    "tessellation.shape"
   ]
  },
  {
   "cell_type": "code",
   "execution_count": null,
   "metadata": {
    "execution": {
     "iopub.execute_input": "2020-08-30T13:54:51.815620Z",
     "iopub.status.busy": "2020-08-30T13:54:51.814650Z",
     "iopub.status.idle": "2020-08-30T13:54:51.818643Z",
     "shell.execute_reply": "2020-08-30T13:54:51.819338Z"
    },
    "papermill": {
     "duration": 0.070408,
     "end_time": "2020-08-30T13:54:51.819534",
     "exception": false,
     "start_time": "2020-08-30T13:54:51.749126",
     "status": "completed"
    },
    "tags": []
   },
   "outputs": [],
   "source": [
    "tessellation.info()"
   ]
  },
  {
   "cell_type": "code",
   "execution_count": null,
   "metadata": {
    "execution": {
     "iopub.execute_input": "2020-08-30T13:54:51.927763Z",
     "iopub.status.busy": "2020-08-30T13:54:51.926517Z",
     "iopub.status.idle": "2020-08-30T13:54:51.973643Z",
     "shell.execute_reply": "2020-08-30T13:54:51.972834Z"
    },
    "papermill": {
     "duration": 0.107193,
     "end_time": "2020-08-30T13:54:51.973823",
     "exception": false,
     "start_time": "2020-08-30T13:54:51.866630",
     "status": "completed"
    },
    "tags": []
   },
   "outputs": [],
   "source": [
    "tessellation.describe()"
   ]
  },
  {
   "attachments": {},
   "cell_type": "markdown",
   "metadata": {
    "papermill": {
     "duration": 0.048316,
     "end_time": "2020-08-30T13:54:52.069112",
     "exception": false,
     "start_time": "2020-08-30T13:54:52.020796",
     "status": "completed"
    },
    "tags": []
   },
   "source": [
    "## Data Cleaning"
   ]
  },
  {
   "attachments": {},
   "cell_type": "markdown",
   "metadata": {},
   "source": [
    "### Deal with null values\n"
   ]
  },
  {
   "cell_type": "code",
   "execution_count": null,
   "metadata": {},
   "outputs": [],
   "source": [
    "tessellation.fillna(0, inplace=True)\n",
    "tessellation[\"building_neighbour_dist_25\"].fillna(5000, inplace=True)\n",
    "tessellation[\"building_neighbour_dist_50\"].fillna(5000, inplace=True)\n",
    "tessellation[\"building_neighbour_dist_75\"].fillna(5000, inplace=True)"
   ]
  },
  {
   "attachments": {},
   "cell_type": "markdown",
   "metadata": {
    "papermill": {
     "duration": 0.044853,
     "end_time": "2020-08-30T13:54:52.160095",
     "exception": false,
     "start_time": "2020-08-30T13:54:52.115242",
     "status": "completed"
    },
    "tags": []
   },
   "source": [
    "### Null Percentage: Columns"
   ]
  },
  {
   "cell_type": "code",
   "execution_count": null,
   "metadata": {
    "execution": {
     "iopub.execute_input": "2020-08-30T13:54:52.262193Z",
     "iopub.status.busy": "2020-08-30T13:54:52.261355Z",
     "iopub.status.idle": "2020-08-30T13:54:52.298944Z",
     "shell.execute_reply": "2020-08-30T13:54:52.298117Z"
    },
    "papermill": {
     "duration": 0.093529,
     "end_time": "2020-08-30T13:54:52.299084",
     "exception": false,
     "start_time": "2020-08-30T13:54:52.205555",
     "status": "completed"
    },
    "tags": []
   },
   "outputs": [],
   "source": [
    "(tessellation.isnull().sum() * 100 / len(tessellation)).value_counts(ascending=False)"
   ]
  },
  {
   "attachments": {},
   "cell_type": "markdown",
   "metadata": {
    "papermill": {
     "duration": 0.045242,
     "end_time": "2020-08-30T13:54:52.390854",
     "exception": false,
     "start_time": "2020-08-30T13:54:52.345612",
     "status": "completed"
    },
    "tags": []
   },
   "source": [
    "### Null Count: Columns"
   ]
  },
  {
   "cell_type": "code",
   "execution_count": null,
   "metadata": {
    "execution": {
     "iopub.execute_input": "2020-08-30T13:54:52.510183Z",
     "iopub.status.busy": "2020-08-30T13:54:52.507775Z",
     "iopub.status.idle": "2020-08-30T13:54:52.516128Z",
     "shell.execute_reply": "2020-08-30T13:54:52.515293Z"
    },
    "papermill": {
     "duration": 0.080972,
     "end_time": "2020-08-30T13:54:52.516285",
     "exception": false,
     "start_time": "2020-08-30T13:54:52.435313",
     "status": "completed"
    },
    "tags": []
   },
   "outputs": [],
   "source": [
    "tessellation.isnull().sum().value_counts(ascending=False)"
   ]
  },
  {
   "attachments": {},
   "cell_type": "markdown",
   "metadata": {
    "papermill": {
     "duration": 0.048413,
     "end_time": "2020-08-30T13:54:52.623210",
     "exception": false,
     "start_time": "2020-08-30T13:54:52.574797",
     "status": "completed"
    },
    "tags": []
   },
   "source": [
    "### Null Percentage: Rows"
   ]
  },
  {
   "cell_type": "code",
   "execution_count": null,
   "metadata": {
    "execution": {
     "iopub.execute_input": "2020-08-30T13:54:52.736037Z",
     "iopub.status.busy": "2020-08-30T13:54:52.734753Z",
     "iopub.status.idle": "2020-08-30T13:54:52.740295Z",
     "shell.execute_reply": "2020-08-30T13:54:52.739535Z"
    },
    "papermill": {
     "duration": 0.066831,
     "end_time": "2020-08-30T13:54:52.740441",
     "exception": false,
     "start_time": "2020-08-30T13:54:52.673610",
     "status": "completed"
    },
    "tags": []
   },
   "outputs": [],
   "source": [
    "(tessellation.isnull().sum(axis=1) * 100 / len(tessellation)).value_counts(ascending=False)"
   ]
  },
  {
   "cell_type": "code",
   "execution_count": null,
   "metadata": {},
   "outputs": [],
   "source": [
    "tessellation"
   ]
  },
  {
   "attachments": {},
   "cell_type": "markdown",
   "metadata": {
    "papermill": {
     "duration": 0.045846,
     "end_time": "2020-08-30T13:54:52.832544",
     "exception": false,
     "start_time": "2020-08-30T13:54:52.786698",
     "status": "completed"
    },
    "tags": []
   },
   "source": [
    "### Null Count: Rows"
   ]
  },
  {
   "cell_type": "code",
   "execution_count": null,
   "metadata": {
    "execution": {
     "iopub.execute_input": "2020-08-30T13:54:52.939152Z",
     "iopub.status.busy": "2020-08-30T13:54:52.938069Z",
     "iopub.status.idle": "2020-08-30T13:54:52.943364Z",
     "shell.execute_reply": "2020-08-30T13:54:52.942590Z"
    },
    "papermill": {
     "duration": 0.063622,
     "end_time": "2020-08-30T13:54:52.943510",
     "exception": false,
     "start_time": "2020-08-30T13:54:52.879888",
     "status": "completed"
    },
    "tags": []
   },
   "outputs": [],
   "source": [
    "tessellation.isnull().sum(axis=1).value_counts(ascending=False)"
   ]
  },
  {
   "attachments": {},
   "cell_type": "markdown",
   "metadata": {
    "papermill": {
     "duration": 0.046384,
     "end_time": "2020-08-30T13:54:53.036100",
     "exception": false,
     "start_time": "2020-08-30T13:54:52.989716",
     "status": "completed"
    },
    "tags": []
   },
   "source": [
    "There are no missing / Null values either in columns or rows"
   ]
  },
  {
   "cell_type": "code",
   "execution_count": null,
   "metadata": {},
   "outputs": [],
   "source": [
    "plt.figure(figsize = (30, 30))\n",
    "sns.heatmap(tessellation.corr(), annot = True, cmap=\"rainbow\")\n",
    "plt.savefig('Correlation')\n",
    "plt.show()"
   ]
  },
  {
   "attachments": {},
   "cell_type": "markdown",
   "metadata": {
    "papermill": {
     "duration": 0.066015,
     "end_time": "2020-08-30T13:55:45.979162",
     "exception": false,
     "start_time": "2020-08-30T13:55:45.913147",
     "status": "completed"
    },
    "tags": []
   },
   "source": [
    "## Data Preparation"
   ]
  },
  {
   "cell_type": "code",
   "execution_count": null,
   "metadata": {},
   "outputs": [],
   "source": [
    "tessellation_drop = tessellation.copy()\n",
    "uID = tessellation_drop.pop('uID')\n",
    "tessellation_drop.head()"
   ]
  },
  {
   "attachments": {},
   "cell_type": "markdown",
   "metadata": {
    "papermill": {
     "duration": 0.069895,
     "end_time": "2020-08-30T13:55:47.022977",
     "exception": false,
     "start_time": "2020-08-30T13:55:46.953082",
     "status": "completed"
    },
    "tags": []
   },
   "source": [
    "## Rescaling the Features"
   ]
  },
  {
   "attachments": {},
   "cell_type": "markdown",
   "metadata": {
    "papermill": {
     "duration": 0.069365,
     "end_time": "2020-08-30T13:55:47.164592",
     "exception": false,
     "start_time": "2020-08-30T13:55:47.095227",
     "status": "completed"
    },
    "tags": []
   },
   "source": [
    "Most software packages use SVD to compute the principal components and assume that the data is scaled and centred, so it is important to do standardisation/normalisation. There are two common ways of rescaling:\n",
    "\n",
    "- Min-Max scaling\n",
    "- Standardisation (mean-0, sigma-1)\n",
    "\n",
    "\n",
    "Here, we will use Standardisation Scaling."
   ]
  },
  {
   "cell_type": "code",
   "execution_count": null,
   "metadata": {},
   "outputs": [],
   "source": [
    "tessellation_drop"
   ]
  },
  {
   "cell_type": "code",
   "execution_count": null,
   "metadata": {
    "execution": {
     "iopub.execute_input": "2020-08-30T13:55:47.321223Z",
     "iopub.status.busy": "2020-08-30T13:55:47.319395Z",
     "iopub.status.idle": "2020-08-30T13:55:47.327525Z",
     "shell.execute_reply": "2020-08-30T13:55:47.326687Z"
    },
    "papermill": {
     "duration": 0.086839,
     "end_time": "2020-08-30T13:55:47.327669",
     "exception": false,
     "start_time": "2020-08-30T13:55:47.240830",
     "status": "completed"
    },
    "tags": []
   },
   "outputs": [],
   "source": [
    "# Standarisation technique for scaling\n",
    "scaler = StandardScaler()\n",
    "tessellation_scaled = scaler.fit_transform(tessellation_drop)"
   ]
  },
  {
   "cell_type": "code",
   "execution_count": null,
   "metadata": {
    "execution": {
     "iopub.execute_input": "2020-08-30T13:55:47.472268Z",
     "iopub.status.busy": "2020-08-30T13:55:47.471325Z",
     "iopub.status.idle": "2020-08-30T13:55:47.477953Z",
     "shell.execute_reply": "2020-08-30T13:55:47.477151Z"
    },
    "papermill": {
     "duration": 0.082554,
     "end_time": "2020-08-30T13:55:47.478113",
     "exception": false,
     "start_time": "2020-08-30T13:55:47.395559",
     "status": "completed"
    },
    "tags": []
   },
   "outputs": [],
   "source": [
    "tessellation_scaled"
   ]
  },
  {
   "attachments": {},
   "cell_type": "markdown",
   "metadata": {
    "papermill": {
     "duration": 0.068107,
     "end_time": "2020-08-30T13:55:47.616886",
     "exception": false,
     "start_time": "2020-08-30T13:55:47.548779",
     "status": "completed"
    },
    "tags": []
   },
   "source": [
    "## PCA Application"
   ]
  },
  {
   "attachments": {},
   "cell_type": "markdown",
   "metadata": {
    "papermill": {
     "duration": 0.068576,
     "end_time": "2020-08-30T13:55:47.754404",
     "exception": false,
     "start_time": "2020-08-30T13:55:47.685828",
     "status": "completed"
    },
    "tags": []
   },
   "source": [
    "We are doing PCA because we want to remove the redundancies in the data and find the most important directions where the data was aligned. A somewhat similar heuristic is also used by the United Nations to calculate the Human Development Index(HDI) to rank countries on the basis of their development.\n",
    "\n",
    "Principal component analysis (PCA) is one of the most commonly used dimensionality reduction techniques in the industry. By converting large data sets into smaller ones containing fewer variables, it helps in improving model performance, visualising complex data sets, and in many more areas.\n",
    "\n",
    "Let's use PCA for dimensionality reduction as from the heatmap it is evident that correlation exists between the attributes."
   ]
  },
  {
   "cell_type": "code",
   "execution_count": null,
   "metadata": {
    "execution": {
     "iopub.execute_input": "2020-08-30T13:55:47.902705Z",
     "iopub.status.busy": "2020-08-30T13:55:47.901572Z",
     "iopub.status.idle": "2020-08-30T13:55:47.906033Z",
     "shell.execute_reply": "2020-08-30T13:55:47.905335Z"
    },
    "papermill": {
     "duration": 0.078994,
     "end_time": "2020-08-30T13:55:47.906197",
     "exception": false,
     "start_time": "2020-08-30T13:55:47.827203",
     "status": "completed"
    },
    "tags": []
   },
   "outputs": [],
   "source": [
    "pca = PCA(svd_solver='randomized', random_state=50)\n"
   ]
  },
  {
   "cell_type": "code",
   "execution_count": null,
   "metadata": {
    "execution": {
     "iopub.execute_input": "2020-08-30T13:55:48.049205Z",
     "iopub.status.busy": "2020-08-30T13:55:48.048406Z",
     "iopub.status.idle": "2020-08-30T13:55:48.107819Z",
     "shell.execute_reply": "2020-08-30T13:55:48.107059Z"
    },
    "papermill": {
     "duration": 0.133934,
     "end_time": "2020-08-30T13:55:48.107980",
     "exception": false,
     "start_time": "2020-08-30T13:55:47.974046",
     "status": "completed"
    },
    "tags": []
   },
   "outputs": [],
   "source": [
    "# Lets apply PCA on the scaled data\n",
    "\n",
    "pca.fit(tessellation_scaled)"
   ]
  },
  {
   "cell_type": "code",
   "execution_count": null,
   "metadata": {
    "execution": {
     "iopub.execute_input": "2020-08-30T13:55:48.260687Z",
     "iopub.status.busy": "2020-08-30T13:55:48.259798Z",
     "iopub.status.idle": "2020-08-30T13:55:48.266392Z",
     "shell.execute_reply": "2020-08-30T13:55:48.265716Z"
    },
    "papermill": {
     "duration": 0.086144,
     "end_time": "2020-08-30T13:55:48.266529",
     "exception": false,
     "start_time": "2020-08-30T13:55:48.180385",
     "status": "completed"
    },
    "tags": []
   },
   "outputs": [],
   "source": [
    "# PCA components created \n",
    "\n",
    "pca.components_"
   ]
  },
  {
   "cell_type": "code",
   "execution_count": null,
   "metadata": {
    "execution": {
     "iopub.execute_input": "2020-08-30T13:55:48.413307Z",
     "iopub.status.busy": "2020-08-30T13:55:48.412343Z",
     "iopub.status.idle": "2020-08-30T13:55:48.417603Z",
     "shell.execute_reply": "2020-08-30T13:55:48.416884Z"
    },
    "papermill": {
     "duration": 0.080368,
     "end_time": "2020-08-30T13:55:48.417737",
     "exception": false,
     "start_time": "2020-08-30T13:55:48.337369",
     "status": "completed"
    },
    "tags": []
   },
   "outputs": [],
   "source": [
    "# Variance Ratio\n",
    "\n",
    "pca.explained_variance_ratio_"
   ]
  },
  {
   "cell_type": "code",
   "execution_count": null,
   "metadata": {
    "execution": {
     "iopub.execute_input": "2020-08-30T13:55:48.572030Z",
     "iopub.status.busy": "2020-08-30T13:55:48.564424Z",
     "iopub.status.idle": "2020-08-30T13:55:48.791322Z",
     "shell.execute_reply": "2020-08-30T13:55:48.792149Z"
    },
    "papermill": {
     "duration": 0.303359,
     "end_time": "2020-08-30T13:55:48.792336",
     "exception": false,
     "start_time": "2020-08-30T13:55:48.488977",
     "status": "completed"
    },
    "tags": []
   },
   "outputs": [],
   "source": [
    "# Variance Ratio bar plot for each PCA components.\n",
    "plt.figure(figsize = (10, 5))\n",
    "ax = plt.bar(range(1,len(pca.explained_variance_ratio_)+1), pca.explained_variance_ratio_)\n",
    "plt.xlabel(\"PCA Components\",fontweight = 'bold')\n",
    "plt.ylabel(\"Variance Ratio\",fontweight = 'bold')\n",
    "\n",
    "plt.show()"
   ]
  },
  {
   "cell_type": "code",
   "execution_count": null,
   "metadata": {
    "execution": {
     "iopub.execute_input": "2020-08-30T13:55:49.590501Z",
     "iopub.status.busy": "2020-08-30T13:55:49.589501Z",
     "iopub.status.idle": "2020-08-30T13:55:49.593285Z",
     "shell.execute_reply": "2020-08-30T13:55:49.592648Z"
    },
    "papermill": {
     "duration": 0.086301,
     "end_time": "2020-08-30T13:55:49.593426",
     "exception": false,
     "start_time": "2020-08-30T13:55:49.507125",
     "status": "completed"
    },
    "tags": []
   },
   "outputs": [],
   "source": [
    "# calculate the cumulative sum of explained variance ratios\n",
    "cumulative_sum = np.cumsum(pca.explained_variance_ratio_)\n",
    "\n",
    "org_col = list(tessellation.drop(['uID'],axis=1).columns)\n",
    "\n",
    "num_pc = np.argmax(cumulative_sum >= 0.95) + 1\n",
    "\n",
    "pc_dict = {'Attribute': org_col}\n",
    "\n",
    "pc_dict.update({f'PC_{i+1}':pca.components_[i] for i in range(num_pc)})\n",
    "\n",
    "attributes_pca = pd.DataFrame(pc_dict)"
   ]
  },
  {
   "cell_type": "code",
   "execution_count": null,
   "metadata": {},
   "outputs": [],
   "source": [
    "# Scree plot to visualize the Cumulative variance against the Number of components\n",
    "\n",
    "fig = plt.figure(figsize = (12,5))\n",
    "plt.plot(np.cumsum(pca.explained_variance_ratio_))\n",
    "plt.vlines(x=num_pc, ymax=1, ymin=0, colors=\"r\", linestyles=\"--\")\n",
    "plt.xlabel('Number of PCA components')\n",
    "plt.ylabel('Cumulative Explained Variance')\n",
    "plt.show()"
   ]
  },
  {
   "cell_type": "code",
   "execution_count": null,
   "metadata": {
    "execution": {
     "iopub.execute_input": "2020-08-30T13:55:49.761817Z",
     "iopub.status.busy": "2020-08-30T13:55:49.760511Z",
     "iopub.status.idle": "2020-08-30T13:55:49.767543Z",
     "shell.execute_reply": "2020-08-30T13:55:49.766684Z"
    },
    "papermill": {
     "duration": 0.102076,
     "end_time": "2020-08-30T13:55:49.767687",
     "exception": false,
     "start_time": "2020-08-30T13:55:49.665611",
     "status": "completed"
    },
    "tags": []
   },
   "outputs": [],
   "source": [
    "attributes_pca"
   ]
  },
  {
   "attachments": {},
   "cell_type": "markdown",
   "metadata": {},
   "source": []
  },
  {
   "cell_type": "code",
   "execution_count": null,
   "metadata": {
    "execution": {
     "iopub.execute_input": "2020-08-30T13:55:49.931226Z",
     "iopub.status.busy": "2020-08-30T13:55:49.930400Z",
     "iopub.status.idle": "2020-08-30T13:55:50.606821Z",
     "shell.execute_reply": "2020-08-30T13:55:50.606209Z"
    },
    "papermill": {
     "duration": 0.764987,
     "end_time": "2020-08-30T13:55:50.606989",
     "exception": false,
     "start_time": "2020-08-30T13:55:49.842002",
     "status": "completed"
    },
    "tags": []
   },
   "outputs": [],
   "source": [
    "# # Plotting the above dataframe for better visualization with PC1 and PC2\n",
    "\n",
    "# sns.pairplot(data=attributes_pca, x_vars=[\"PC_1\"], y_vars=[\"PC_2\"], hue = \"Attribute\" ,height=10)\n",
    "# plt.xlabel(\"Principal Component 1\",fontweight = 'bold')\n",
    "# plt.ylabel(\"Principal Component 2\",fontweight = 'bold')\n",
    "\n",
    "# for i,txt in enumerate(attributes_pca.Attribute):\n",
    "#     plt.annotate(txt, (attributes_pca.PC_1[i],attributes_pca.PC_2[i]))"
   ]
  },
  {
   "cell_type": "code",
   "execution_count": null,
   "metadata": {
    "execution": {
     "iopub.execute_input": "2020-08-30T13:55:50.916728Z",
     "iopub.status.busy": "2020-08-30T13:55:50.914831Z",
     "iopub.status.idle": "2020-08-30T13:55:51.572736Z",
     "shell.execute_reply": "2020-08-30T13:55:51.571898Z"
    },
    "papermill": {
     "duration": 0.748842,
     "end_time": "2020-08-30T13:55:51.572894",
     "exception": false,
     "start_time": "2020-08-30T13:55:50.824052",
     "status": "completed"
    },
    "tags": []
   },
   "outputs": [],
   "source": [
    "# # Plotting the above dataframe with PC1 and PC3 to understand the components which explains inflation.\n",
    "\n",
    "# sns.pairplot(data=attributes_pca, x_vars=[\"PC_1\"], y_vars=[\"PC_3\"], hue = \"Attribute\" ,height=8)\n",
    "# plt.xlabel(\"Principal Component 1\",fontweight = 'bold')\n",
    "# plt.ylabel(\"Principal Component 3\",fontweight = 'bold')\n",
    "\n",
    "# for i,txt in enumerate(attributes_pca.Attribute):\n",
    "#     plt.annotate(txt, (attributes_pca.PC_1[i],attributes_pca.PC_3[i]))"
   ]
  },
  {
   "cell_type": "code",
   "execution_count": null,
   "metadata": {
    "execution": {
     "iopub.execute_input": "2020-08-30T13:55:52.092068Z",
     "iopub.status.busy": "2020-08-30T13:55:52.091183Z",
     "iopub.status.idle": "2020-08-30T13:55:52.096752Z",
     "shell.execute_reply": "2020-08-30T13:55:52.095635Z"
    },
    "papermill": {
     "duration": 0.082301,
     "end_time": "2020-08-30T13:55:52.097004",
     "exception": false,
     "start_time": "2020-08-30T13:55:52.014703",
     "status": "completed"
    },
    "tags": []
   },
   "outputs": [],
   "source": [
    "# Building the dataframe using Incremental PCA for better efficiency.\n",
    "\n",
    "inc_pca = IncrementalPCA(n_components=num_pc)"
   ]
  },
  {
   "cell_type": "code",
   "execution_count": null,
   "metadata": {
    "execution": {
     "iopub.execute_input": "2020-08-30T13:55:52.268293Z",
     "iopub.status.busy": "2020-08-30T13:55:52.257120Z",
     "iopub.status.idle": "2020-08-30T13:55:52.275145Z",
     "shell.execute_reply": "2020-08-30T13:55:52.274317Z"
    },
    "papermill": {
     "duration": 0.101902,
     "end_time": "2020-08-30T13:55:52.275298",
     "exception": false,
     "start_time": "2020-08-30T13:55:52.173396",
     "status": "completed"
    },
    "tags": []
   },
   "outputs": [],
   "source": [
    "# Fitting the scaled df on incremental pca\n",
    "\n",
    "df_inc_pca = inc_pca.fit_transform(tessellation_scaled)\n",
    "df_inc_pca"
   ]
  },
  {
   "cell_type": "code",
   "execution_count": null,
   "metadata": {
    "execution": {
     "iopub.execute_input": "2020-08-30T13:55:52.440748Z",
     "iopub.status.busy": "2020-08-30T13:55:52.439561Z",
     "iopub.status.idle": "2020-08-30T13:55:52.444670Z",
     "shell.execute_reply": "2020-08-30T13:55:52.443901Z"
    },
    "papermill": {
     "duration": 0.094105,
     "end_time": "2020-08-30T13:55:52.444814",
     "exception": false,
     "start_time": "2020-08-30T13:55:52.350709",
     "status": "completed"
    },
    "tags": []
   },
   "outputs": [],
   "source": [
    "# Creating new dataframe with Principal components\n",
    "\n",
    "\n",
    "df_pca = pd.DataFrame(df_inc_pca, columns=[f\"PC_{i+1}\" for i in range(num_pc)])\n",
    "df_pca_final = pd.concat([uID, df_pca], axis=1)\n",
    "df_pca_final.head()"
   ]
  },
  {
   "cell_type": "code",
   "execution_count": null,
   "metadata": {
    "execution": {
     "iopub.execute_input": "2020-08-30T13:55:52.603856Z",
     "iopub.status.busy": "2020-08-30T13:55:52.596882Z",
     "iopub.status.idle": "2020-08-30T13:55:52.832603Z",
     "shell.execute_reply": "2020-08-30T13:55:52.831756Z"
    },
    "papermill": {
     "duration": 0.315395,
     "end_time": "2020-08-30T13:55:52.832746",
     "exception": false,
     "start_time": "2020-08-30T13:55:52.517351",
     "status": "completed"
    },
    "tags": []
   },
   "outputs": [],
   "source": [
    "# # Plotting Heatmap to check is there still dependency in the dataset.\n",
    "\n",
    "# plt.figure(figsize = (30,30))        \n",
    "# ax = sns.heatmap(df_pca.corr(),annot = True,cmap='winter')"
   ]
  },
  {
   "attachments": {},
   "cell_type": "markdown",
   "metadata": {
    "papermill": {
     "duration": 0.072874,
     "end_time": "2020-08-30T13:55:52.976384",
     "exception": false,
     "start_time": "2020-08-30T13:55:52.903510",
     "status": "completed"
    },
    "tags": []
   },
   "source": [
    "As we can see from above heatmap that the correlation among the attributes is almost 0, we can proceed with this dataframe."
   ]
  },
  {
   "cell_type": "code",
   "execution_count": null,
   "metadata": {
    "execution": {
     "iopub.execute_input": "2020-08-30T13:55:53.134242Z",
     "iopub.status.busy": "2020-08-30T13:55:53.133442Z",
     "iopub.status.idle": "2020-08-30T13:55:53.723547Z",
     "shell.execute_reply": "2020-08-30T13:55:53.722647Z"
    },
    "papermill": {
     "duration": 0.674497,
     "end_time": "2020-08-30T13:55:53.723697",
     "exception": false,
     "start_time": "2020-08-30T13:55:53.049200",
     "status": "completed"
    },
    "tags": []
   },
   "outputs": [],
   "source": [
    "# # Scatter Plot to visualize the spread of data across PCA components\n",
    "\n",
    "# sns.pairplot(data=df_pca, kind=\"hist\")"
   ]
  },
  {
   "attachments": {},
   "cell_type": "markdown",
   "metadata": {
    "papermill": {
     "duration": 0.072018,
     "end_time": "2020-08-30T13:55:53.876755",
     "exception": false,
     "start_time": "2020-08-30T13:55:53.804737",
     "status": "completed"
    },
    "tags": []
   },
   "source": [
    "## Outlier Analysis"
   ]
  },
  {
   "attachments": {},
   "cell_type": "markdown",
   "metadata": {
    "papermill": {
     "duration": 0.073664,
     "end_time": "2020-08-30T13:55:54.021291",
     "exception": false,
     "start_time": "2020-08-30T13:55:53.947627",
     "status": "completed"
    },
    "tags": []
   },
   "source": [
    "Visualization each columns using violinplot"
   ]
  },
  {
   "attachments": {},
   "cell_type": "markdown",
   "metadata": {
    "papermill": {
     "duration": 0.072126,
     "end_time": "2020-08-30T13:55:54.166709",
     "exception": false,
     "start_time": "2020-08-30T13:55:54.094583",
     "status": "completed"
    },
    "tags": []
   },
   "source": [
    "5 reasons why we used a violin graph over boxplot\n",
    "- Violin graph is like box plot, but better\n",
    "- Violin graph is like density plot, but much useful\n",
    "- Violin graph is visually intuitive and attractive\n",
    "- Violin graph is non-parametric\n",
    "- There are many ways to use violin graphs"
   ]
  },
  {
   "cell_type": "code",
   "execution_count": null,
   "metadata": {},
   "outputs": [],
   "source": [
    "len(df_pca_final)"
   ]
  },
  {
   "cell_type": "code",
   "execution_count": null,
   "metadata": {},
   "outputs": [],
   "source": [
    "df_pca_final_minus_outliers = df_pca_final"
   ]
  },
  {
   "cell_type": "code",
   "execution_count": null,
   "metadata": {
    "execution": {
     "iopub.execute_input": "2020-08-30T13:55:54.712727Z",
     "iopub.status.busy": "2020-08-30T13:55:54.710886Z",
     "iopub.status.idle": "2020-08-30T13:55:54.714849Z",
     "shell.execute_reply": "2020-08-30T13:55:54.714249Z"
    },
    "papermill": {
     "duration": 0.094492,
     "end_time": "2020-08-30T13:55:54.715009",
     "exception": false,
     "start_time": "2020-08-30T13:55:54.620517",
     "status": "completed"
    },
    "tags": []
   },
   "outputs": [],
   "source": [
    "# Loop over all PC components from PC_1 to PC_15\n",
    "for i in range(1, num_pc+1):\n",
    "    col_name = f'PC_{i}'\n",
    "    # Calculate the quartiles and IQR for the current PC component\n",
    "    Q1 = df_pca_final_minus_outliers[col_name].quantile(0.005)\n",
    "    Q3 = df_pca_final_minus_outliers[col_name].quantile(0.995)\n",
    "    IQR = Q3 - Q1\n",
    "    # Apply the outlier treatment for the current PC component\n",
    "    df_pca_final_minus_outliers = df_pca_final_minus_outliers[(df_pca_final_minus_outliers[col_name] >= Q1) & (df_pca_final_minus_outliers[col_name] <= Q3)]"
   ]
  },
  {
   "cell_type": "code",
   "execution_count": null,
   "metadata": {
    "execution": {
     "iopub.execute_input": "2020-08-30T13:55:55.213827Z",
     "iopub.status.busy": "2020-08-30T13:55:55.212625Z",
     "iopub.status.idle": "2020-08-30T13:55:55.451745Z",
     "shell.execute_reply": "2020-08-30T13:55:55.450682Z"
    },
    "papermill": {
     "duration": 0.324694,
     "end_time": "2020-08-30T13:55:55.451909",
     "exception": false,
     "start_time": "2020-08-30T13:55:55.127215",
     "status": "completed"
    },
    "tags": []
   },
   "outputs": [],
   "source": [
    "# # Plot after Outlier removal \n",
    "\n",
    "# outliers = [f\"PC_{i+1}\" for i in range(num_pc)]\n",
    "# plt.rcParams['figure.figsize'] = [20,5]\n",
    "# sns.violinplot(data = df_pca_final[outliers], orient=\"v\", palette=\"Set2\" )\n",
    "# plt.title(\"Outliers Variable Distribution\", fontsize = 14, fontweight = 'bold')\n",
    "# plt.ylabel(\"Range\", fontweight = 'bold')\n",
    "# plt.xlabel(\"PC Components\", fontweight = 'bold')\n",
    "# plt.show()"
   ]
  },
  {
   "cell_type": "code",
   "execution_count": null,
   "metadata": {},
   "outputs": [],
   "source": [
    "len(df_pca_final_minus_outliers)"
   ]
  },
  {
   "cell_type": "code",
   "execution_count": null,
   "metadata": {},
   "outputs": [],
   "source": [
    "# Reindexing the df after outlier removal\n",
    "df_minus_outliers = df_pca_final_minus_outliers.reset_index(drop=True)\n",
    "df_pca_final_minus_outliers = df_minus_outliers\n",
    "df_pca_final_minus_outliers = df_pca_final_minus_outliers.drop(['uID'],axis=1)\n",
    "df_pca_final_minus_outliers.head()"
   ]
  },
  {
   "cell_type": "code",
   "execution_count": null,
   "metadata": {
    "execution": {
     "iopub.execute_input": "2020-08-30T13:55:55.664023Z",
     "iopub.status.busy": "2020-08-30T13:55:55.662683Z",
     "iopub.status.idle": "2020-08-30T13:55:55.670202Z",
     "shell.execute_reply": "2020-08-30T13:55:55.669163Z"
    },
    "papermill": {
     "duration": 0.1224,
     "end_time": "2020-08-30T13:55:55.670655",
     "exception": false,
     "start_time": "2020-08-30T13:55:55.548255",
     "status": "completed"
    },
    "tags": []
   },
   "outputs": [],
   "source": [
    "\n",
    "df_pca_final = df_pca_final.reset_index(drop=True)\n",
    "df_pca_final_data = df_pca_final.drop(['uID'],axis=1)\n",
    "df_pca_final_data.head()"
   ]
  },
  {
   "attachments": {},
   "cell_type": "markdown",
   "metadata": {
    "papermill": {
     "duration": 0.080924,
     "end_time": "2020-08-30T13:55:55.842432",
     "exception": false,
     "start_time": "2020-08-30T13:55:55.761508",
     "status": "completed"
    },
    "tags": []
   },
   "source": [
    "## Hopkins Statistics Test"
   ]
  },
  {
   "attachments": {},
   "cell_type": "markdown",
   "metadata": {
    "papermill": {
     "duration": 0.07667,
     "end_time": "2020-08-30T13:55:55.996480",
     "exception": false,
     "start_time": "2020-08-30T13:55:55.919810",
     "status": "completed"
    },
    "tags": []
   },
   "source": [
    "The Hopkins statistic (introduced by Brian Hopkins and John Gordon Skellam) is a way of measuring the cluster tendency of a data set.It acts as a statistical hypothesis test where the null hypothesis is that the data is generated by a Poisson point process and are thus uniformly randomly distributed. A value close to 1 tends to indicate the data is highly clustered, random data will tend to result in values around 0.5, and uniformly distributed data will tend to result in values close to 0.\n",
    "- If the value is between {0.01, ...,0.3}, the data is regularly spaced.\n",
    "\n",
    "- If the value is around 0.5, it is random.\n",
    "\n",
    "- If the value is between {0.7, ..., 0.99}, it has a high tendency to cluster."
   ]
  },
  {
   "cell_type": "code",
   "execution_count": null,
   "metadata": {
    "execution": {
     "iopub.execute_input": "2020-08-30T13:55:56.220375Z",
     "iopub.status.busy": "2020-08-30T13:55:56.219228Z",
     "iopub.status.idle": "2020-08-30T13:55:56.224093Z",
     "shell.execute_reply": "2020-08-30T13:55:56.224968Z"
    },
    "papermill": {
     "duration": 0.130494,
     "end_time": "2020-08-30T13:55:56.225227",
     "exception": false,
     "start_time": "2020-08-30T13:55:56.094733",
     "status": "completed"
    },
    "tags": []
   },
   "outputs": [],
   "source": [
    "# Calculating Hopkins score to know whether the data is good for clustering or not.\n",
    "\n",
    "def hopkins(X):\n",
    "    d = X.shape[1]\n",
    "    n = len(X)\n",
    "    m = int(0.1 * n) \n",
    "    nbrs = NearestNeighbors(n_neighbors=1).fit(X.values)\n",
    " \n",
    "    rand_X = sample(range(0, n, 1), m)\n",
    " \n",
    "    ujd = []\n",
    "    wjd = []\n",
    "    for j in range(0, m):\n",
    "        u_dist, _ = nbrs.kneighbors(uniform(np.amin(X,axis=0),np.amax(X,axis=0),d).reshape(1, -1), 2, return_distance=True)\n",
    "        ujd.append(u_dist[0][1])\n",
    "        w_dist, _ = nbrs.kneighbors(X.iloc[rand_X[j]].values.reshape(1, -1), 2, return_distance=True)\n",
    "        wjd.append(w_dist[0][1])\n",
    " \n",
    "    HS = sum(ujd) / (sum(ujd) + sum(wjd))\n",
    "    if isnan(HS):\n",
    "        print(ujd, wjd)\n",
    "        HS = 0\n",
    " \n",
    "    return HS\n"
   ]
  },
  {
   "cell_type": "code",
   "execution_count": null,
   "metadata": {
    "execution": {
     "iopub.execute_input": "2020-08-30T13:55:56.421066Z",
     "iopub.status.busy": "2020-08-30T13:55:56.420061Z",
     "iopub.status.idle": "2020-08-30T13:55:56.424320Z",
     "shell.execute_reply": "2020-08-30T13:55:56.423607Z"
    },
    "papermill": {
     "duration": 0.113634,
     "end_time": "2020-08-30T13:55:56.424453",
     "exception": false,
     "start_time": "2020-08-30T13:55:56.310819",
     "status": "completed"
    },
    "tags": []
   },
   "outputs": [],
   "source": [
    "# Hopkins score\n",
    "Hopkins_score=round(hopkins(df_pca_final),2)"
   ]
  },
  {
   "cell_type": "code",
   "execution_count": null,
   "metadata": {
    "execution": {
     "iopub.execute_input": "2020-08-30T13:55:56.593775Z",
     "iopub.status.busy": "2020-08-30T13:55:56.592791Z",
     "iopub.status.idle": "2020-08-30T13:55:56.599090Z",
     "shell.execute_reply": "2020-08-30T13:55:56.598127Z"
    },
    "papermill": {
     "duration": 0.094832,
     "end_time": "2020-08-30T13:55:56.599254",
     "exception": false,
     "start_time": "2020-08-30T13:55:56.504422",
     "status": "completed"
    },
    "tags": []
   },
   "outputs": [],
   "source": [
    "print(Hopkins_score)"
   ]
  },
  {
   "attachments": {},
   "cell_type": "markdown",
   "metadata": {},
   "source": [
    "The Hopkins statistic (introduced by Brian Hopkins and John Gordon Skellam) is a way of measuring the cluster tendency of a data set.[1] It belongs to the family of sparse sampling tests. It acts as a statistical hypothesis test where the null hypothesis is that the data is generated by a Poisson point process and are thus uniformly randomly distributed.[2] A value close to 1 tends to indicate the data is highly clustered, random data will tend to result in values around 0.5, and uniformly distributed data will tend to result in values close to 0.[3]"
   ]
  },
  {
   "attachments": {},
   "cell_type": "markdown",
   "metadata": {
    "papermill": {
     "duration": 0.090051,
     "end_time": "2020-08-30T13:55:56.770143",
     "exception": false,
     "start_time": "2020-08-30T13:55:56.680092",
     "status": "completed"
    },
    "tags": []
   },
   "source": [
    "# Model Building\n",
    "\n",
    "## Clustergram"
   ]
  },
  {
   "cell_type": "code",
   "execution_count": null,
   "metadata": {},
   "outputs": [],
   "source": [
    "len(df_pca_final)"
   ]
  },
  {
   "cell_type": "code",
   "execution_count": null,
   "metadata": {},
   "outputs": [],
   "source": [
    "data = df_pca_final_data"
   ]
  },
  {
   "cell_type": "code",
   "execution_count": null,
   "metadata": {},
   "outputs": [],
   "source": [
    "data"
   ]
  },
  {
   "cell_type": "code",
   "execution_count": null,
   "metadata": {},
   "outputs": [],
   "source": [
    "cgram = Clustergram(range(1, 19), n_init=6, method='gmm', bic=True, covariance_type='diag')\n",
    "cgram.fit(data)"
   ]
  },
  {
   "cell_type": "code",
   "execution_count": null,
   "metadata": {},
   "outputs": [],
   "source": [
    "score = cgram.silhouette_score()"
   ]
  },
  {
   "cell_type": "code",
   "execution_count": null,
   "metadata": {},
   "outputs": [],
   "source": [
    "fig, axs = plt.subplots(figsize=(10, 10), sharex=True)\n",
    "score.plot(xlabel=\"Number of clusters (k)\", ylabel=\"Silhouette score\", ax=axs)"
   ]
  },
  {
   "cell_type": "code",
   "execution_count": null,
   "metadata": {},
   "outputs": [],
   "source": [
    "num_clusters = score[13:].idxmax()"
   ]
  },
  {
   "cell_type": "code",
   "execution_count": null,
   "metadata": {},
   "outputs": [],
   "source": [
    "reduced_array = np.mean(cgram.cluster_centers[num_clusters], axis=1)"
   ]
  },
  {
   "cell_type": "code",
   "execution_count": null,
   "metadata": {},
   "outputs": [],
   "source": [
    "weighted_difference_between_clusters = {i: k for i, k, in enumerate(reduced_array)}"
   ]
  },
  {
   "cell_type": "code",
   "execution_count": null,
   "metadata": {},
   "outputs": [],
   "source": [
    "def scale_dict(d):\n",
    "    # Extract values and convert them to a numpy array\n",
    "    values = np.array(list(d.values()))\n",
    "\n",
    "    # Normalize values to [0,1]\n",
    "    normalized_values = (values - np.min(values)) / (np.max(values) - np.min(values))\n",
    "\n",
    "    # Scale values from [-10,10]\n",
    "    scaled_values = (normalized_values * 20) - 10\n",
    "\n",
    "    # Create a new dictionary with the scaled values\n",
    "    scaled_dict = {key: value for key, value in zip(d.keys(), scaled_values)}\n",
    "\n",
    "    return scaled_dict"
   ]
  },
  {
   "cell_type": "code",
   "execution_count": null,
   "metadata": {},
   "outputs": [],
   "source": [
    "weighted_difference_between_clusters = scale_dict(weighted_difference_between_clusters)"
   ]
  },
  {
   "cell_type": "code",
   "execution_count": null,
   "metadata": {},
   "outputs": [],
   "source": [
    "# fig, axs = plt.subplots(3, figsize=(10, 10), sharex=True)\n",
    "# cgram.silhouette_score().plot(xlabel=\"Number of clusters (k)\", ylabel=\"Silhouette score\", ax=axs[0])\n",
    "# cgram.calinski_harabasz_score().plot(xlabel=\"Number of clusters (k)\", ylabel=\"Calinski-Harabasz score\", ax=axs[1])\n",
    "# cgram.davies_bouldin_score().plot(xlabel=\"Number of clusters (k)\", ylabel=\".davies_bouldin_score\", ax=axs[2])\n",
    "# sns.despine(offset=10)"
   ]
  },
  {
   "attachments": {},
   "cell_type": "markdown",
   "metadata": {
    "papermill": {
     "duration": 0.082302,
     "end_time": "2020-08-30T13:55:56.934781",
     "exception": false,
     "start_time": "2020-08-30T13:55:56.852479",
     "status": "completed"
    },
    "tags": []
   },
   "source": [
    "## K- means Clustering"
   ]
  },
  {
   "attachments": {},
   "cell_type": "markdown",
   "metadata": {
    "papermill": {
     "duration": 0.077959,
     "end_time": "2020-08-30T13:55:57.093130",
     "exception": false,
     "start_time": "2020-08-30T13:55:57.015171",
     "status": "completed"
    },
    "tags": []
   },
   "source": [
    "K-means clustering is one of the simplest and popular unsupervised machine learning algorithms.\n",
    "\n",
    "The algorithm works as follows:\n",
    "\n",
    "First we initialize k points, called means, randomly. We categorize each item to its closest mean and we update the mean’s coordinates, which are the averages of the items categorized in that mean so far. We repeat the process for a given number of iterations and at the end, we have our clusters."
   ]
  },
  {
   "attachments": {},
   "cell_type": "markdown",
   "metadata": {
    "papermill": {
     "duration": 0.077067,
     "end_time": "2020-08-30T13:55:57.248049",
     "exception": false,
     "start_time": "2020-08-30T13:55:57.170982",
     "status": "completed"
    },
    "tags": []
   },
   "source": [
    "# Finding the Optimal Number of Clusters"
   ]
  },
  {
   "attachments": {},
   "cell_type": "markdown",
   "metadata": {
    "papermill": {
     "duration": 0.079206,
     "end_time": "2020-08-30T13:55:57.405005",
     "exception": false,
     "start_time": "2020-08-30T13:55:57.325799",
     "status": "completed"
    },
    "tags": []
   },
   "source": [
    "### Elbow Curve to get the right number of Clusters"
   ]
  },
  {
   "attachments": {},
   "cell_type": "markdown",
   "metadata": {
    "papermill": {
     "duration": 0.078411,
     "end_time": "2020-08-30T13:55:57.562580",
     "exception": false,
     "start_time": "2020-08-30T13:55:57.484169",
     "status": "completed"
    },
    "tags": []
   },
   "source": [
    "A fundamental step for any unsupervised algorithm is to determine the optimal number of clusters into which the data may be clustered. The Elbow Method is one of the most popular methods to determine this optimal value of k."
   ]
  },
  {
   "cell_type": "code",
   "execution_count": null,
   "metadata": {
    "execution": {
     "iopub.execute_input": "2020-08-30T13:55:57.728824Z",
     "iopub.status.busy": "2020-08-30T13:55:57.727999Z",
     "iopub.status.idle": "2020-08-30T13:55:58.343957Z",
     "shell.execute_reply": "2020-08-30T13:55:58.343011Z"
    },
    "papermill": {
     "duration": 0.702334,
     "end_time": "2020-08-30T13:55:58.344127",
     "exception": false,
     "start_time": "2020-08-30T13:55:57.641793",
     "status": "completed"
    },
    "tags": []
   },
   "outputs": [],
   "source": [
    "# # Elbow curve method to find the ideal number of clusters.\n",
    "# ssd = []\n",
    "# for num_clusters in list(range(1, num_pc)):\n",
    "#     model_clus = KMeans(n_clusters = num_clusters, max_iter=150,random_state= 50)\n",
    "#     model_clus.fit(df_pca_final_data)\n",
    "#     ssd.append(model_clus.inertia_)\n",
    "\n",
    "# plt.plot(ssd)"
   ]
  },
  {
   "attachments": {},
   "cell_type": "markdown",
   "metadata": {
    "papermill": {
     "duration": 0.08032,
     "end_time": "2020-08-30T13:55:58.505084",
     "exception": false,
     "start_time": "2020-08-30T13:55:58.424764",
     "status": "completed"
    },
    "tags": []
   },
   "source": [
    "Looking at the above elbow curve it looks good to proceed with either 1 clusters."
   ]
  },
  {
   "attachments": {},
   "cell_type": "markdown",
   "metadata": {
    "papermill": {
     "duration": 0.080025,
     "end_time": "2020-08-30T13:55:58.665139",
     "exception": false,
     "start_time": "2020-08-30T13:55:58.585114",
     "status": "completed"
    },
    "tags": []
   },
   "source": [
    "## Silhouette Analysis"
   ]
  },
  {
   "attachments": {},
   "cell_type": "markdown",
   "metadata": {
    "papermill": {
     "duration": 0.076618,
     "end_time": "2020-08-30T13:55:58.821306",
     "exception": false,
     "start_time": "2020-08-30T13:55:58.744688",
     "status": "completed"
    },
    "tags": []
   },
   "source": [
    "silhouette score=(p−q)/max(p,q)\n",
    " \n",
    "**p**  is the mean distance to the points in the nearest cluster that the data point is not a part of\n",
    "\n",
    "**q**  is the mean intra-cluster distance to all the points in its own cluster.\n",
    "\n",
    "The value of the silhouette score range lies between -1 to 1.\n",
    "\n",
    "A score closer to 1 indicates that the data point is very similar to other data points in the cluster,\n",
    "\n",
    "A score closer to -1 indicates that the data point is not similar to the data points in its cluster."
   ]
  },
  {
   "cell_type": "code",
   "execution_count": null,
   "metadata": {
    "execution": {
     "iopub.execute_input": "2020-08-30T13:55:58.993133Z",
     "iopub.status.busy": "2020-08-30T13:55:58.992340Z",
     "iopub.status.idle": "2020-08-30T13:55:59.378080Z",
     "shell.execute_reply": "2020-08-30T13:55:59.378773Z"
    },
    "papermill": {
     "duration": 0.479185,
     "end_time": "2020-08-30T13:55:59.379047",
     "exception": false,
     "start_time": "2020-08-30T13:55:58.899862",
     "status": "completed"
    },
    "tags": []
   },
   "outputs": [],
   "source": [
    "# # Silhouette score analysis to find the ideal number of clusters for K-means clustering\n",
    "\n",
    "# range_n_clusters = [2, 3, 4, 5, 6, 7, 8, 9, 10, 11, 12, 13, 14, 15]\n",
    "\n",
    "# for num_clusters in range_n_clusters:\n",
    "    \n",
    "#     # intialise kmeans\n",
    "#     kmeans = KMeans(n_clusters=num_clusters, max_iter=50,random_state= 100)\n",
    "#     kmeans.fit(df_pca_final_data)\n",
    "    \n",
    "#     cluster_labels = kmeans.labels_\n",
    "    \n",
    "#     # silhouette score\n",
    "#     silhouette_avg = silhouette_score(df_pca_final_data, cluster_labels)\n",
    "#     print(\"For n_clusters={0}, the silhouette score is {1}\".format(num_clusters, silhouette_avg))"
   ]
  },
  {
   "cell_type": "code",
   "execution_count": null,
   "metadata": {
    "execution": {
     "iopub.execute_input": "2020-08-30T13:55:59.546529Z",
     "iopub.status.busy": "2020-08-30T13:55:59.545702Z",
     "iopub.status.idle": "2020-08-30T13:55:59.594713Z",
     "shell.execute_reply": "2020-08-30T13:55:59.593961Z"
    },
    "papermill": {
     "duration": 0.134836,
     "end_time": "2020-08-30T13:55:59.594846",
     "exception": false,
     "start_time": "2020-08-30T13:55:59.460010",
     "status": "completed"
    },
    "tags": []
   },
   "outputs": [],
   "source": [
    "# #K-means with k=7 clusters\n",
    "\n",
    "# cluster7 = KMeans(n_clusters=7, max_iter=150, random_state= 50)\n",
    "# cluster7.fit(df_pca_final_data)"
   ]
  },
  {
   "cell_type": "code",
   "execution_count": null,
   "metadata": {
    "execution": {
     "iopub.execute_input": "2020-08-30T13:55:59.757707Z",
     "iopub.status.busy": "2020-08-30T13:55:59.756687Z",
     "iopub.status.idle": "2020-08-30T13:55:59.761238Z",
     "shell.execute_reply": "2020-08-30T13:55:59.761812Z"
    },
    "papermill": {
     "duration": 0.090152,
     "end_time": "2020-08-30T13:55:59.762018",
     "exception": false,
     "start_time": "2020-08-30T13:55:59.671866",
     "status": "completed"
    },
    "tags": []
   },
   "outputs": [],
   "source": [
    "# # Cluster labels\n",
    "\n",
    "# cluster7.labels_"
   ]
  },
  {
   "cell_type": "code",
   "execution_count": null,
   "metadata": {
    "execution": {
     "iopub.execute_input": "2020-08-30T13:55:59.932339Z",
     "iopub.status.busy": "2020-08-30T13:55:59.931267Z",
     "iopub.status.idle": "2020-08-30T13:55:59.937971Z",
     "shell.execute_reply": "2020-08-30T13:55:59.937344Z"
    },
    "papermill": {
     "duration": 0.098655,
     "end_time": "2020-08-30T13:55:59.938122",
     "exception": false,
     "start_time": "2020-08-30T13:55:59.839467",
     "status": "completed"
    },
    "tags": []
   },
   "outputs": [],
   "source": [
    "\n",
    "# # Assign the label\n",
    "\n",
    "# df_pca_final['Cluster_Id'] = cluster7.labels_\n",
    "# df_pca_final.head()"
   ]
  },
  {
   "cell_type": "code",
   "execution_count": null,
   "metadata": {
    "execution": {
     "iopub.execute_input": "2020-08-30T13:56:00.103460Z",
     "iopub.status.busy": "2020-08-30T13:56:00.102518Z",
     "iopub.status.idle": "2020-08-30T13:56:00.107740Z",
     "shell.execute_reply": "2020-08-30T13:56:00.106970Z"
    },
    "papermill": {
     "duration": 0.091575,
     "end_time": "2020-08-30T13:56:00.107873",
     "exception": false,
     "start_time": "2020-08-30T13:56:00.016298",
     "status": "completed"
    },
    "tags": []
   },
   "outputs": [],
   "source": [
    "# # Number of countries in each cluster\n",
    "\n",
    "# df_pca_final['Cluster_Id'].value_counts()"
   ]
  },
  {
   "attachments": {},
   "cell_type": "markdown",
   "metadata": {
    "papermill": {
     "duration": 0.081817,
     "end_time": "2020-08-30T13:56:00.267726",
     "exception": false,
     "start_time": "2020-08-30T13:56:00.185909",
     "status": "completed"
    },
    "tags": []
   },
   "source": [
    "It seems there are good number of countries in each clusters."
   ]
  },
  {
   "cell_type": "code",
   "execution_count": null,
   "metadata": {
    "execution": {
     "iopub.execute_input": "2020-08-30T13:56:00.447974Z",
     "iopub.status.busy": "2020-08-30T13:56:00.446746Z",
     "iopub.status.idle": "2020-08-30T13:56:00.982696Z",
     "shell.execute_reply": "2020-08-30T13:56:00.981838Z"
    },
    "papermill": {
     "duration": 0.637338,
     "end_time": "2020-08-30T13:56:00.982854",
     "exception": false,
     "start_time": "2020-08-30T13:56:00.345516",
     "status": "completed"
    },
    "tags": []
   },
   "outputs": [],
   "source": [
    "# # Scatter plot on Principal components to visualize the spread of the data\n",
    "\n",
    "# fig, axes = plt.subplots(1,2, figsize=(15,5))\n",
    "\n",
    "# sns.scatterplot(x='PC_1',y='PC_2',hue='Cluster_Id',legend='full',palette=\"Set1\",data=df_pca_final,ax=axes[0])\n",
    "# sns.scatterplot(x='PC_1',y='PC_3',hue='Cluster_Id',legend='full',palette=\"Set2\",data=df_pca_final,ax=axes[1])\n",
    "# plt.show()"
   ]
  },
  {
   "cell_type": "code",
   "execution_count": null,
   "metadata": {},
   "outputs": [],
   "source": [
    "# df_pca_final"
   ]
  },
  {
   "attachments": {},
   "cell_type": "markdown",
   "metadata": {
    "papermill": {
     "duration": 0.079903,
     "end_time": "2020-08-30T13:56:03.450654",
     "exception": false,
     "start_time": "2020-08-30T13:56:03.370751",
     "status": "completed"
    },
    "tags": []
   },
   "source": [
    "We have visualized the data on the principal components and saw some good clusters were formed but some were not so good hence let's now visualize the data on the original attributes."
   ]
  },
  {
   "cell_type": "code",
   "execution_count": null,
   "metadata": {
    "execution": {
     "iopub.execute_input": "2020-08-30T13:56:03.640881Z",
     "iopub.status.busy": "2020-08-30T13:56:03.631507Z",
     "iopub.status.idle": "2020-08-30T13:56:03.690604Z",
     "shell.execute_reply": "2020-08-30T13:56:03.689634Z"
    },
    "papermill": {
     "duration": 0.160254,
     "end_time": "2020-08-30T13:56:03.690764",
     "exception": false,
     "start_time": "2020-08-30T13:56:03.530510",
     "status": "completed"
    },
    "tags": []
   },
   "outputs": [],
   "source": [
    "# # Merging the df with PCA with original df\n",
    "\n",
    "# df_merge = pd.merge(tessellation,df_pca_final,on='uID')\n",
    "# list = tessellation.columns.tolist()\n",
    "# list.append(\"Cluster_Id\")\n",
    "# df_merge_col = df_merge[list]\n",
    "\n",
    "# df = []\n",
    "\n",
    "# for column_name in tessellation.columns.tolist()[1:]:\n",
    "#     df.append(pd.DataFrame(df_merge_col.groupby([\"Cluster_Id\"])[column_name].mean()))\n",
    "    \n",
    "# df_concat = pd.concat([pd.Series(range(7))] + df, axis=1)    \n",
    "# df_concat.columns = [\"Cluster_Id\"] + tessellation.columns.tolist()[1:]\n",
    "# df_concat.head()"
   ]
  },
  {
   "cell_type": "code",
   "execution_count": null,
   "metadata": {
    "execution": {
     "iopub.execute_input": "2020-08-30T13:56:03.879053Z",
     "iopub.status.busy": "2020-08-30T13:56:03.878034Z",
     "iopub.status.idle": "2020-08-30T13:56:03.883700Z",
     "shell.execute_reply": "2020-08-30T13:56:03.882885Z"
    },
    "papermill": {
     "duration": 0.10961,
     "end_time": "2020-08-30T13:56:03.883843",
     "exception": false,
     "start_time": "2020-08-30T13:56:03.774233",
     "status": "completed"
    },
    "tags": []
   },
   "outputs": [],
   "source": [
    "# df_merge_col.head()"
   ]
  },
  {
   "attachments": {},
   "cell_type": "markdown",
   "metadata": {
    "papermill": {
     "duration": 0.080774,
     "end_time": "2020-08-30T13:56:04.048668",
     "exception": false,
     "start_time": "2020-08-30T13:56:03.967894",
     "status": "completed"
    },
    "tags": []
   },
   "source": [
    "From the business understanding we have learnt that **Child_Mortality, Income, Gdpp** are some important factors which decides the development of any uID. We have also cross checked with Principal components and found that these variables have good score in PCA. Hence, we will proceed with analyzing these 3 components to build some meaningful clusters."
   ]
  },
  {
   "cell_type": "code",
   "execution_count": null,
   "metadata": {
    "execution": {
     "iopub.execute_input": "2020-08-30T13:56:05.374942Z",
     "iopub.status.busy": "2020-08-30T13:56:05.363791Z",
     "iopub.status.idle": "2020-08-30T13:56:06.261797Z",
     "shell.execute_reply": "2020-08-30T13:56:06.260901Z"
    },
    "papermill": {
     "duration": 0.989634,
     "end_time": "2020-08-30T13:56:06.261989",
     "exception": false,
     "start_time": "2020-08-30T13:56:05.272355",
     "status": "completed"
    },
    "tags": []
   },
   "outputs": [],
   "source": [
    "# # assuming you have a DataFrame called df_merge_col containing all the data,\n",
    "# # and the x column is named 'Cluster_Id'\n",
    "\n",
    "# # Get a list of all column names except for the x column\n",
    "# y_columns = [col_name for col_name in df_merge_col.columns if col_name != 'Cluster_Id']\n",
    "\n",
    "# # Set up the figure with subplots\n",
    "# num_cols = 2\n",
    "# num_rows = len(y_columns) // num_cols + (len(y_columns) % num_cols > 0)\n",
    "# fig, axes = plt.subplots(nrows=num_rows, ncols=num_cols, sharey=True)\n",
    "\n",
    "# # Flatten the axes array to simplify indexing\n",
    "# axes = axes.flatten()\n",
    "\n",
    "# # Loop over all column names except for the x column\n",
    "# for i, col_name in enumerate(y_columns):\n",
    "#     # Create a violin plot for the current column\n",
    "#     sns.violinplot(x='Cluster_Id', y=col_name, data=df_merge_col, ax=axes[i])\n",
    "#     # Set the title for the current plot\n",
    "#     axes[i].set_title(col_name)\n",
    "\n",
    "# # Remove empty plots\n",
    "# for i in range(len(y_columns), num_rows*num_cols):\n",
    "#     fig.delaxes(axes[i])\n",
    "\n",
    "# # Adjust spacing between subplots\n",
    "# fig.tight_layout()\n",
    "\n",
    "# # Show the plot\n",
    "# plt.show()"
   ]
  },
  {
   "attachments": {},
   "cell_type": "markdown",
   "metadata": {
    "papermill": {
     "duration": 0.086369,
     "end_time": "2020-08-30T13:56:08.716133",
     "exception": false,
     "start_time": "2020-08-30T13:56:08.629764",
     "status": "completed"
    },
    "tags": []
   },
   "source": [
    "## Hierarchical Clustering"
   ]
  },
  {
   "attachments": {},
   "cell_type": "markdown",
   "metadata": {
    "papermill": {
     "duration": 0.084785,
     "end_time": "2020-08-30T13:56:08.889171",
     "exception": false,
     "start_time": "2020-08-30T13:56:08.804386",
     "status": "completed"
    },
    "tags": []
   },
   "source": [
    "Hierarchical clustering involves creating clusters that have a predetermined ordering from top to bottom. For example, all files and folders on the hard disk are organized in a hierarchy. There are two types of hierarchical clustering,\n",
    "\n",
    "- Divisive\n",
    "- Agglomerative."
   ]
  },
  {
   "cell_type": "code",
   "execution_count": null,
   "metadata": {
    "execution": {
     "iopub.execute_input": "2020-08-30T13:56:09.077891Z",
     "iopub.status.busy": "2020-08-30T13:56:09.076940Z",
     "iopub.status.idle": "2020-08-30T13:56:09.082540Z",
     "shell.execute_reply": "2020-08-30T13:56:09.081827Z"
    },
    "papermill": {
     "duration": 0.105373,
     "end_time": "2020-08-30T13:56:09.082674",
     "exception": false,
     "start_time": "2020-08-30T13:56:08.977301",
     "status": "completed"
    },
    "tags": []
   },
   "outputs": [],
   "source": [
    "# df_pca_final_data.head()"
   ]
  },
  {
   "attachments": {},
   "cell_type": "markdown",
   "metadata": {
    "papermill": {
     "duration": 0.084077,
     "end_time": "2020-08-30T13:56:09.251326",
     "exception": false,
     "start_time": "2020-08-30T13:56:09.167249",
     "status": "completed"
    },
    "tags": []
   },
   "source": [
    "### Single Linkage:"
   ]
  },
  {
   "attachments": {},
   "cell_type": "markdown",
   "metadata": {
    "papermill": {
     "duration": 0.140173,
     "end_time": "2020-08-30T13:56:09.478693",
     "exception": false,
     "start_time": "2020-08-30T13:56:09.338520",
     "status": "completed"
    },
    "tags": []
   },
   "source": [
    "In single linkage hierarchical clustering, the distance between two clusters is defined as the shortest distance between two points in each cluster. For example, the distance between clusters “r” and “s” to the left is equal to the length of the arrow between their two closest points."
   ]
  },
  {
   "cell_type": "code",
   "execution_count": null,
   "metadata": {},
   "outputs": [],
   "source": [
    "# import sys\n",
    "# sys.setrecursionlimit(10000)"
   ]
  },
  {
   "cell_type": "code",
   "execution_count": null,
   "metadata": {},
   "outputs": [],
   "source": [
    "# df_pca_final_data"
   ]
  },
  {
   "cell_type": "code",
   "execution_count": null,
   "metadata": {
    "execution": {
     "iopub.execute_input": "2020-08-30T13:56:09.666115Z",
     "iopub.status.busy": "2020-08-30T13:56:09.665061Z",
     "iopub.status.idle": "2020-08-30T13:56:12.831342Z",
     "shell.execute_reply": "2020-08-30T13:56:12.832050Z"
    },
    "papermill": {
     "duration": 3.265119,
     "end_time": "2020-08-30T13:56:12.832232",
     "exception": false,
     "start_time": "2020-08-30T13:56:09.567113",
     "status": "completed"
    },
    "tags": []
   },
   "outputs": [],
   "source": [
    "# # Single linkage\n",
    "\n",
    "# mergings = linkage(df_pca_final_data, method='single',metric='euclidean')\n",
    "# dendrogram(mergings)\n",
    "# plt.show()"
   ]
  },
  {
   "attachments": {},
   "cell_type": "markdown",
   "metadata": {
    "papermill": {
     "duration": 0.177752,
     "end_time": "2020-08-30T13:56:13.099351",
     "exception": false,
     "start_time": "2020-08-30T13:56:12.921599",
     "status": "completed"
    },
    "tags": []
   },
   "source": [
    "### Complete Linkage"
   ]
  },
  {
   "attachments": {},
   "cell_type": "markdown",
   "metadata": {
    "papermill": {
     "duration": 0.08595,
     "end_time": "2020-08-30T13:56:13.268440",
     "exception": false,
     "start_time": "2020-08-30T13:56:13.182490",
     "status": "completed"
    },
    "tags": []
   },
   "source": [
    "In complete linkage hierarchical clustering, the distance between two clusters is defined as the longest distance between two points in each cluster. For example, the distance between clusters “r” and “s” to the left is equal to the length of the arrow between their two furthest points."
   ]
  },
  {
   "cell_type": "code",
   "execution_count": null,
   "metadata": {
    "execution": {
     "iopub.execute_input": "2020-08-30T13:56:13.453531Z",
     "iopub.status.busy": "2020-08-30T13:56:13.449152Z",
     "iopub.status.idle": "2020-08-30T13:56:16.582431Z",
     "shell.execute_reply": "2020-08-30T13:56:16.581674Z"
    },
    "papermill": {
     "duration": 3.228827,
     "end_time": "2020-08-30T13:56:16.582571",
     "exception": false,
     "start_time": "2020-08-30T13:56:13.353744",
     "status": "completed"
    },
    "tags": []
   },
   "outputs": [],
   "source": [
    "# # Complete Linkage\n",
    "\n",
    "# mergings = linkage(df_pca_final_data, method='complete',metric='euclidean')\n",
    "# dendrogram(mergings)\n",
    "# plt.show()"
   ]
  },
  {
   "cell_type": "code",
   "execution_count": null,
   "metadata": {
    "execution": {
     "iopub.execute_input": "2020-08-30T13:56:16.769052Z",
     "iopub.status.busy": "2020-08-30T13:56:16.767870Z",
     "iopub.status.idle": "2020-08-30T13:56:16.773197Z",
     "shell.execute_reply": "2020-08-30T13:56:16.773849Z"
    },
    "papermill": {
     "duration": 0.106527,
     "end_time": "2020-08-30T13:56:16.774053",
     "exception": false,
     "start_time": "2020-08-30T13:56:16.667526",
     "status": "completed"
    },
    "tags": []
   },
   "outputs": [],
   "source": [
    "# df_pca_hc = df_pca_final.copy()\n",
    "# df_pca_hc = df_pca_hc.drop('Cluster_Id',axis=1)\n",
    "# df_pca_hc.head()"
   ]
  },
  {
   "cell_type": "code",
   "execution_count": null,
   "metadata": {
    "execution": {
     "iopub.execute_input": "2020-08-30T13:56:16.966179Z",
     "iopub.status.busy": "2020-08-30T13:56:16.965406Z",
     "iopub.status.idle": "2020-08-30T13:56:16.981625Z",
     "shell.execute_reply": "2020-08-30T13:56:16.980863Z"
    },
    "papermill": {
     "duration": 0.121528,
     "end_time": "2020-08-30T13:56:16.981798",
     "exception": false,
     "start_time": "2020-08-30T13:56:16.860270",
     "status": "completed"
    },
    "tags": []
   },
   "outputs": [],
   "source": [
    "# # Let cut the tree at height of approx 3 to get 4 clusters and see if it get any better cluster formation.\n",
    "\n",
    "# clusterCut = pd.Series(cut_tree(mergings, n_clusters = 4).reshape(-1,))\n",
    "# df_hc = pd.concat([df_pca_hc, clusterCut], axis=1)\n",
    "# df_hc.columns = ['uID'] + ['PC_' + str(i) for i in range(1, num_pc+1)] + ['Cluster_Id']"
   ]
  },
  {
   "cell_type": "code",
   "execution_count": null,
   "metadata": {
    "execution": {
     "iopub.execute_input": "2020-08-30T13:56:17.178213Z",
     "iopub.status.busy": "2020-08-30T13:56:17.177186Z",
     "iopub.status.idle": "2020-08-30T13:56:17.181881Z",
     "shell.execute_reply": "2020-08-30T13:56:17.182582Z"
    },
    "papermill": {
     "duration": 0.10826,
     "end_time": "2020-08-30T13:56:17.182789",
     "exception": false,
     "start_time": "2020-08-30T13:56:17.074529",
     "status": "completed"
    },
    "tags": []
   },
   "outputs": [],
   "source": [
    "# df_hc.head()"
   ]
  },
  {
   "cell_type": "code",
   "execution_count": null,
   "metadata": {
    "execution": {
     "iopub.execute_input": "2020-08-30T13:56:17.388335Z",
     "iopub.status.busy": "2020-08-30T13:56:17.387285Z",
     "iopub.status.idle": "2020-08-30T13:56:17.911649Z",
     "shell.execute_reply": "2020-08-30T13:56:17.910748Z"
    },
    "papermill": {
     "duration": 0.63678,
     "end_time": "2020-08-30T13:56:17.911805",
     "exception": false,
     "start_time": "2020-08-30T13:56:17.275025",
     "status": "completed"
    },
    "tags": []
   },
   "outputs": [],
   "source": [
    "# # Scatter plot on Principal components to visualize the spread of the data\n",
    "\n",
    "# fig, axes = plt.subplots(1,2, figsize=(15,5))\n",
    "\n",
    "# sns.scatterplot(x='PC_1',y='PC_2',hue='Cluster_Id',legend='full',palette=\"Set1\",data=df_hc,ax=axes[0])\n",
    "# sns.scatterplot(x='PC_1',y='PC_3',hue='Cluster_Id',legend='full',palette=\"Set1\",data=df_hc,ax=axes[1])\n",
    "# plt.show()"
   ]
  },
  {
   "attachments": {},
   "cell_type": "markdown",
   "metadata": {
    "papermill": {
     "duration": 0.092384,
     "end_time": "2020-08-30T13:56:19.874256",
     "exception": false,
     "start_time": "2020-08-30T13:56:19.781872",
     "status": "completed"
    },
    "tags": []
   },
   "source": [
    "**We have analyzed both K-means and Hierarchial clustering and found clusters formed are not identical. The clusters formed in both the cases are not that great but its better in K-means as compared to Hierarchial. So, we will proceed with the clusters formed by K-means and based on the information provided by the final clusters we will deduce the final list of countries which are in need of aid**"
   ]
  },
  {
   "cell_type": "code",
   "execution_count": null,
   "metadata": {},
   "outputs": [],
   "source": [
    "cgram.labels[num_clusters].values"
   ]
  },
  {
   "cell_type": "code",
   "execution_count": null,
   "metadata": {},
   "outputs": [],
   "source": [
    "df_pca_final[\"cluster_ID\"] = cgram.labels[num_clusters].values"
   ]
  },
  {
   "cell_type": "code",
   "execution_count": null,
   "metadata": {},
   "outputs": [],
   "source": [
    "df_pca_final[\"cluster_ID\"]"
   ]
  },
  {
   "cell_type": "code",
   "execution_count": null,
   "metadata": {},
   "outputs": [],
   "source": [
    "df_pca_final[[\"uID\", \"cluster_ID\"]]"
   ]
  },
  {
   "cell_type": "code",
   "execution_count": null,
   "metadata": {},
   "outputs": [],
   "source": [
    "merged_df = tessellation_raw.join(df_pca_final[[\"uID\", \"cluster_ID\"]].set_index('uID'), on=\"uID\")"
   ]
  },
  {
   "cell_type": "code",
   "execution_count": null,
   "metadata": {},
   "outputs": [],
   "source": [
    "merged_df[\"cluster_ID\"].fillna(999, inplace=True)"
   ]
  },
  {
   "cell_type": "code",
   "execution_count": null,
   "metadata": {},
   "outputs": [],
   "source": [
    "# Map for comparison\n",
    "f, ax = plt.subplots(figsize=(100, 100))\n",
    "merged_df.plot(ax=ax, column=\"cluster_ID\", categorical=True, legend=True, cmap='Pastel1')\n",
    "ax.set_axis_off()"
   ]
  },
  {
   "cell_type": "code",
   "execution_count": null,
   "metadata": {},
   "outputs": [],
   "source": [
    "# Convert the dictionary to a JSON-serializable format\n",
    "json_data = json.dumps(weighted_difference_between_clusters)\n",
    "\n",
    "# Create the directory if it does not exist\n",
    "directory = f\"./out/{place}/final/\"\n",
    "os.makedirs(directory, exist_ok=True)\n",
    "\n",
    "# Write the JSON data to a file\n",
    "with open(f'./out/{place}/final/weighted_difference_between_clusters.json', 'w') as f:\n",
    "    f.write(json_data)"
   ]
  },
  {
   "cell_type": "code",
   "execution_count": null,
   "metadata": {},
   "outputs": [],
   "source": [
    "merged_df.to_parquet(f\"./out/{place}/tessellation_stats_clusters.pq\")"
   ]
  }
 ],
 "metadata": {
  "kernelspec": {
   "display_name": "Python 3",
   "language": "python",
   "name": "python3"
  },
  "language_info": {
   "codemirror_mode": {
    "name": "ipython",
    "version": 3
   },
   "file_extension": ".py",
   "mimetype": "text/x-python",
   "name": "python",
   "nbconvert_exporter": "python",
   "pygments_lexer": "ipython3",
   "version": "3.10.10"
  },
  "papermill": {
   "duration": 106.497189,
   "end_time": "2020-08-30T13:56:27.817509",
   "environment_variables": {},
   "exception": null,
   "input_path": "__notebook__.ipynb",
   "output_path": "__notebook__.ipynb",
   "parameters": {},
   "start_time": "2020-08-30T13:54:41.320320",
   "version": "2.1.0"
  }
 },
 "nbformat": 4,
 "nbformat_minor": 4
}
