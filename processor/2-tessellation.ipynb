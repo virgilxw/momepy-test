{
 "cells": [
  {
   "cell_type": "code",
   "execution_count": null,
   "id": "f59900a1",
   "metadata": {
    "execution": {
     "iopub.execute_input": "2023-04-28T16:09:19.081216Z",
     "iopub.status.busy": "2023-04-28T16:09:19.080833Z",
     "iopub.status.idle": "2023-04-28T16:09:21.387745Z",
     "shell.execute_reply": "2023-04-28T16:09:21.386725Z"
    },
    "papermill": {
     "duration": 2.313579,
     "end_time": "2023-04-28T16:09:21.389388",
     "exception": false,
     "start_time": "2023-04-28T16:09:19.075809",
     "status": "completed"
    },
    "tags": []
   },
   "outputs": [],
   "source": [
    "from dask.distributed import Client, LocalCluster\n",
    "from dask import delayed, dataframe as dd\n",
    "import dask\n",
    "\n",
    "import pandas as pd\n",
    "import dask.dataframe as dd\n",
    "import geopandas as gpd\n",
    "import math\n",
    "import numpy as np\n",
    "\n",
    "import momepy\n",
    "from scripts.tessellation import enclosed_tessellation\n",
    "\n",
    "import matplotlib.pyplot as plt\n",
    "import geopandas as gpd"
   ]
  },
  {
   "cell_type": "code",
   "execution_count": null,
   "id": "bb9b9886",
   "metadata": {
    "tags": [
     "parameters"
    ]
   },
   "outputs": [],
   "source": [
    "place = \"singapore\"\n",
    "local_crs = 3414"
   ]
  },
  {
   "cell_type": "code",
   "execution_count": null,
   "id": "922813c1",
   "metadata": {
    "execution": {
     "iopub.execute_input": "2023-04-28T16:09:21.400221Z",
     "iopub.status.busy": "2023-04-28T16:09:21.399645Z",
     "iopub.status.idle": "2023-04-28T16:09:22.561624Z",
     "shell.execute_reply": "2023-04-28T16:09:22.560843Z"
    },
    "papermill": {
     "duration": 1.169628,
     "end_time": "2023-04-28T16:09:22.562840",
     "exception": false,
     "start_time": "2023-04-28T16:09:21.393212",
     "status": "completed"
    },
    "tags": []
   },
   "outputs": [],
   "source": [
    "Daskcluster = LocalCluster(threads_per_worker=2,\n",
    "                n_workers=8, memory_limit='100GB')\n",
    "\n",
    "client = Client(Daskcluster)\n",
    "client"
   ]
  },
  {
   "cell_type": "code",
   "execution_count": null,
   "id": "9f408918",
   "metadata": {
    "execution": {
     "iopub.execute_input": "2023-04-28T16:09:22.576213Z",
     "iopub.status.busy": "2023-04-28T16:09:22.575725Z",
     "iopub.status.idle": "2023-04-28T16:09:22.905156Z",
     "shell.execute_reply": "2023-04-28T16:09:22.904450Z"
    },
    "papermill": {
     "duration": 0.339475,
     "end_time": "2023-04-28T16:09:22.906559",
     "exception": false,
     "start_time": "2023-04-28T16:09:22.567084",
     "status": "completed"
    },
    "tags": []
   },
   "outputs": [],
   "source": [
    "streets = gpd.read_parquet(f\"./out/{place}/streets.pq\").explode()\n",
    "\n",
    "buildings = gpd.read_parquet(f\"./out/{place}/buildings_raw.pq\")\n",
    "\n",
    "study_area = gpd.read_parquet(f\"./out/{place}/study_area.pq\")\n",
    "\n",
    "water = gpd.read_parquet(f\"./out/{place}/water.pq\")"
   ]
  },
  {
   "cell_type": "code",
   "execution_count": null,
   "id": "a3649a33",
   "metadata": {},
   "outputs": [],
   "source": [
    "water_bodies_boundaries = []\n",
    "\n",
    "# Explode the GeoDataFrame into a GeoSeries of polygons and multipolygons\n",
    "gs = water.explode()\n",
    "\n",
    "# Convert each polygon into a MultiLineString\n",
    "mls = gs.geometry.boundary\n",
    "\n",
    "# Convert the MultiLineString into a DataFrame\n",
    "water_bodies = gpd.GeoDataFrame({'geometry': mls})\n",
    "\n",
    "for water_body in water_bodies.geometry:\n",
    "    # Create a LineString object from the coordinates\n",
    "    water_bodies_boundaries.append(water_body)\n",
    "\n",
    "# # Create a GeoDataFrame of the water area boundaries\n",
    "water_bodies_boundaries = gpd.GeoDataFrame({'geometry': water_bodies_boundaries})"
   ]
  },
  {
   "cell_type": "code",
   "execution_count": null,
   "id": "d5672049",
   "metadata": {},
   "outputs": [],
   "source": [
    "water_bodies_boundaries"
   ]
  },
  {
   "cell_type": "code",
   "execution_count": null,
   "id": "eed1a566",
   "metadata": {
    "execution": {
     "iopub.execute_input": "2023-04-28T16:09:22.915951Z",
     "iopub.status.busy": "2023-04-28T16:09:22.915546Z",
     "iopub.status.idle": "2023-04-28T16:09:22.919440Z",
     "shell.execute_reply": "2023-04-28T16:09:22.918319Z"
    },
    "papermill": {
     "duration": 0.010241,
     "end_time": "2023-04-28T16:09:22.921012",
     "exception": false,
     "start_time": "2023-04-28T16:09:22.910771",
     "status": "completed"
    },
    "tags": []
   },
   "outputs": [],
   "source": [
    "# study_area = gpd.GeoDataFrame(pd.concat( [study_area, streets_buffer], ignore_index=True)).dissolve()"
   ]
  },
  {
   "cell_type": "code",
   "execution_count": null,
   "id": "8609ec0b",
   "metadata": {
    "execution": {
     "iopub.execute_input": "2023-04-28T16:09:22.929879Z",
     "iopub.status.busy": "2023-04-28T16:09:22.929298Z",
     "iopub.status.idle": "2023-04-28T16:09:22.932650Z",
     "shell.execute_reply": "2023-04-28T16:09:22.932000Z"
    },
    "papermill": {
     "duration": 0.009044,
     "end_time": "2023-04-28T16:09:22.933780",
     "exception": false,
     "start_time": "2023-04-28T16:09:22.924736",
     "status": "completed"
    },
    "tags": []
   },
   "outputs": [],
   "source": [
    "# # Create a figure and axis\n",
    "# fig, ax = plt.subplots(figsize=(100, 100))\n",
    "\n",
    "# # Plot study_area in green on the same axis\n",
    "# study_area.plot(ax=ax, color='green')\n",
    "\n",
    "# # Plot streets in blue on the same axis\n",
    "# streets.plot(ax=ax, color='blue')\n",
    "\n",
    "# # Plot buildings in red on the same axis\n",
    "# buildings.plot(ax=ax, color='red')\n",
    "\n",
    "# outlines.plot(ax=ax, color='black')\n",
    "\n",
    "# # Show the plot\n",
    "# plt.show()"
   ]
  },
  {
   "cell_type": "code",
   "execution_count": null,
   "id": "eb1e48d0",
   "metadata": {
    "execution": {
     "iopub.execute_input": "2023-04-28T16:09:22.942653Z",
     "iopub.status.busy": "2023-04-28T16:09:22.942273Z",
     "iopub.status.idle": "2023-04-28T16:09:29.405785Z",
     "shell.execute_reply": "2023-04-28T16:09:29.404637Z"
    },
    "papermill": {
     "duration": 6.469855,
     "end_time": "2023-04-28T16:09:29.407635",
     "exception": false,
     "start_time": "2023-04-28T16:09:22.937780",
     "status": "completed"
    },
    "tags": []
   },
   "outputs": [],
   "source": [
    "enclosures = momepy.enclosures(streets.append(water_bodies_boundaries), limit= study_area, clip=True)"
   ]
  },
  {
   "cell_type": "code",
   "execution_count": null,
   "id": "251b8d0e",
   "metadata": {
    "execution": {
     "iopub.execute_input": "2023-04-28T16:09:29.418301Z",
     "iopub.status.busy": "2023-04-28T16:09:29.417866Z",
     "iopub.status.idle": "2023-04-28T16:16:53.455960Z",
     "shell.execute_reply": "2023-04-28T16:16:53.454737Z"
    },
    "papermill": {
     "duration": 444.045545,
     "end_time": "2023-04-28T16:16:53.457753",
     "exception": false,
     "start_time": "2023-04-28T16:09:29.412208",
     "status": "completed"
    },
    "tags": []
   },
   "outputs": [],
   "source": [
    "tessellation = momepy.Tessellation(buildings, unique_id='uID', enclosures=enclosures, use_dask = True).tessellation\n",
    "\n",
    "# for debugging\n",
    "tessellation_copy = tessellation"
   ]
  },
  {
   "cell_type": "code",
   "execution_count": null,
   "id": "25b69f56",
   "metadata": {},
   "outputs": [],
   "source": [
    "tessellation = tessellation_copy"
   ]
  },
  {
   "cell_type": "code",
   "execution_count": null,
   "id": "ec981164",
   "metadata": {},
   "outputs": [],
   "source": [
    "tessellation.to_parquet(f\"./out/{place}/tessellation_raw.pq\")"
   ]
  },
  {
   "cell_type": "code",
   "execution_count": null,
   "id": "6be344c0",
   "metadata": {},
   "outputs": [],
   "source": [
    "tessellation = gpd.read_parquet(f\"./out/{place}/tessellation_raw.pq\")"
   ]
  },
  {
   "cell_type": "code",
   "execution_count": null,
   "id": "17c65a61",
   "metadata": {
    "execution": {
     "iopub.execute_input": "2023-04-28T16:16:53.468198Z",
     "iopub.status.busy": "2023-04-28T16:16:53.467782Z",
     "iopub.status.idle": "2023-04-28T16:16:53.510510Z",
     "shell.execute_reply": "2023-04-28T16:16:53.509345Z"
    },
    "papermill": {
     "duration": 0.049905,
     "end_time": "2023-04-28T16:16:53.512128",
     "exception": false,
     "start_time": "2023-04-28T16:16:53.462223",
     "status": "completed"
    },
    "tags": []
   },
   "outputs": [],
   "source": [
    "tessellation = tessellation.drop(\"eID\", axis = 1)\n",
    "tessellation.dropna()"
   ]
  },
  {
   "cell_type": "code",
   "execution_count": null,
   "id": "3ce6ea8a",
   "metadata": {
    "execution": {
     "iopub.execute_input": "2023-04-28T16:16:53.521464Z",
     "iopub.status.busy": "2023-04-28T16:16:53.521002Z",
     "iopub.status.idle": "2023-04-28T16:17:18.324570Z",
     "shell.execute_reply": "2023-04-28T16:17:18.323523Z"
    },
    "papermill": {
     "duration": 24.809873,
     "end_time": "2023-04-28T16:17:18.326170",
     "exception": false,
     "start_time": "2023-04-28T16:16:53.516297",
     "status": "completed"
    },
    "tags": []
   },
   "outputs": [],
   "source": [
    "tessellation = tessellation.overlay(water, how=\"difference\")"
   ]
  },
  {
   "cell_type": "code",
   "execution_count": null,
   "id": "5ba279cb",
   "metadata": {},
   "outputs": [],
   "source": [
    "tessellation = tessellation.dropna()"
   ]
  },
  {
   "cell_type": "code",
   "execution_count": null,
   "id": "0fa429b7",
   "metadata": {},
   "outputs": [],
   "source": [
    "tessellation = tessellation.explode().reset_index().drop([\"level_0\", \"level_1\"], axis=1)"
   ]
  },
  {
   "cell_type": "code",
   "execution_count": null,
   "id": "e71c0ec5",
   "metadata": {},
   "outputs": [],
   "source": [
    "@dask.delayed\n",
    "def find_largest(group, building):\n",
    "    if len(group) == 1:\n",
    "        return gpd.GeoDataFrame(group)\n",
    "    else:\n",
    "        intersects = gpd.sjoin(group, building.set_crs(local_crs), predicate='intersects')\n",
    "        if len(intersects) == 1:\n",
    "            return gpd.GeoDataFrame(intersects)\n",
    "        else:\n",
    "            return gpd.GeoDataFrame(intersects.loc[[intersects.area.idxmax()]])\n",
    "        "
   ]
  },
  {
   "cell_type": "code",
   "execution_count": null,
   "id": "eeded9f9",
   "metadata": {},
   "outputs": [],
   "source": [
    "delayed_obj = []\n",
    "\n",
    "for uID, group in tessellation.groupby(\"uID\"):\n",
    "    building = buildings.loc[buildings[\"uID\"] == uID]\n",
    "    delayed_obj.append(find_largest(group, building))\n",
    "    \n",
    "objects = dask.compute(*delayed_obj)"
   ]
  },
  {
   "cell_type": "code",
   "execution_count": null,
   "id": "c5f062bf",
   "metadata": {},
   "outputs": [],
   "source": [
    "tessellation = gpd.GeoDataFrame(pd.concat(list(objects)), crs=tessellation.crs).reset_index(drop=True)"
   ]
  },
  {
   "cell_type": "code",
   "execution_count": null,
   "id": "6d565e8a",
   "metadata": {},
   "outputs": [],
   "source": [
    "tessellation = tessellation.join(buildings, on='uID', how='inner', rsuffix=\"right\")"
   ]
  },
  {
   "cell_type": "code",
   "execution_count": null,
   "id": "c8c42520",
   "metadata": {},
   "outputs": [],
   "source": [
    "tessellation[\"new_uID\"] = range(len(tessellation))"
   ]
  },
  {
   "cell_type": "code",
   "execution_count": null,
   "id": "d1421785",
   "metadata": {},
   "outputs": [],
   "source": [
    "buildings = pd.merge(buildings, tessellation, how='inner', left_on='uID', right_on='uID')"
   ]
  },
  {
   "cell_type": "code",
   "execution_count": null,
   "id": "134e7eba",
   "metadata": {},
   "outputs": [],
   "source": [
    "buildings[\"uID\"] = buildings[\"new_uID\"]\n",
    "tessellation[\"uID\"] = tessellation[\"new_uID\"]"
   ]
  },
  {
   "cell_type": "code",
   "execution_count": null,
   "id": "bc9ffbf2",
   "metadata": {},
   "outputs": [],
   "source": [
    "buildings.drop([\"geometry_y\", \"geometryright\", \"uIDright\", \"new_uID\"], axis = 1, inplace = True)\n",
    "buildings.rename(columns = {\"geometry_x\": \"geometry\"}, inplace = True)"
   ]
  },
  {
   "cell_type": "code",
   "execution_count": null,
   "id": "e00e98d6",
   "metadata": {},
   "outputs": [],
   "source": [
    "buildings = gpd.GeoDataFrame(buildings).set_crs(tessellation.crs, allow_override=True)"
   ]
  },
  {
   "cell_type": "code",
   "execution_count": null,
   "id": "d1e9c890",
   "metadata": {},
   "outputs": [],
   "source": [
    "buildings = buildings.sort_values(by='uID', ascending=True)"
   ]
  },
  {
   "cell_type": "code",
   "execution_count": null,
   "id": "ee5675f2",
   "metadata": {},
   "outputs": [],
   "source": [
    "tessellation = tessellation.sort_values(by='uID', ascending=True)\n",
    "tessellation.drop([\"geometryright\", \"uIDright\", \"new_uID\"], axis = 1, inplace = True)\n",
    "tessellation = tessellation.to_crs(local_crs)\n",
    "tessellation = tessellation.reset_index(drop=True)"
   ]
  },
  {
   "cell_type": "code",
   "execution_count": null,
   "id": "cc5fd69f",
   "metadata": {
    "papermill": {
     "duration": null,
     "end_time": null,
     "exception": null,
     "start_time": null,
     "status": "pending"
    },
    "tags": []
   },
   "outputs": [],
   "source": [
    "Daskcluster.close()\n",
    "client.shutdown()"
   ]
  },
  {
   "cell_type": "code",
   "execution_count": null,
   "id": "376557b1",
   "metadata": {},
   "outputs": [],
   "source": [
    "buildings.iloc[buildings[\"uID\"].idxmax()]"
   ]
  },
  {
   "cell_type": "code",
   "execution_count": null,
   "id": "dbc32f1b",
   "metadata": {
    "papermill": {
     "duration": null,
     "end_time": null,
     "exception": null,
     "start_time": null,
     "status": "pending"
    },
    "tags": []
   },
   "outputs": [],
   "source": [
    "tessellation.to_parquet(f\"./out/{place}/tessellation.pq\")"
   ]
  },
  {
   "cell_type": "code",
   "execution_count": null,
   "id": "47b90b73",
   "metadata": {
    "papermill": {
     "duration": null,
     "end_time": null,
     "exception": null,
     "start_time": null,
     "status": "pending"
    },
    "tags": []
   },
   "outputs": [],
   "source": [
    "buildings.to_parquet(f\"./out/{place}/buildings.pq\")"
   ]
  }
 ],
 "metadata": {
  "kernelspec": {
   "display_name": "base",
   "language": "python",
   "name": "python3"
  },
  "language_info": {
   "codemirror_mode": {
    "name": "ipython",
    "version": 3
   },
   "file_extension": ".py",
   "mimetype": "text/x-python",
   "name": "python",
   "nbconvert_exporter": "python",
   "pygments_lexer": "ipython3",
   "version": "3.10.10"
  },
  "papermill": {
   "default_parameters": {},
   "duration": 485.464955,
   "end_time": "2023-04-28T16:17:23.709211",
   "environment_variables": {},
   "exception": true,
   "input_path": "2-tessellation.ipynb",
   "output_path": "./out/singapore/2-tessellation-output.ipynb",
   "parameters": {},
   "start_time": "2023-04-28T16:09:18.244256",
   "version": "2.3.4"
  },
  "vscode": {
   "interpreter": {
    "hash": "4d4a16af7eecff68ca78f81aec8d4e5ee20d890b8903eddd3dd732009f4fdc6f"
   }
  }
 },
 "nbformat": 4,
 "nbformat_minor": 5
}
