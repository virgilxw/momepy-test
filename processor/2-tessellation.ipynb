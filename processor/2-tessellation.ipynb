{
 "cells": [
  {
   "cell_type": "code",
   "execution_count": 2,
   "id": "f59900a1",
   "metadata": {
    "execution": {
     "iopub.execute_input": "2023-04-28T16:09:19.081216Z",
     "iopub.status.busy": "2023-04-28T16:09:19.080833Z",
     "iopub.status.idle": "2023-04-28T16:09:21.387745Z",
     "shell.execute_reply": "2023-04-28T16:09:21.386725Z"
    },
    "papermill": {
     "duration": 2.313579,
     "end_time": "2023-04-28T16:09:21.389388",
     "exception": false,
     "start_time": "2023-04-28T16:09:19.075809",
     "status": "completed"
    },
    "tags": []
   },
   "outputs": [
    {
     "name": "stderr",
     "output_type": "stream",
     "text": [
      "/tmp/ipykernel_1889/1812556411.py:7: UserWarning: Shapely 2.0 is installed, but because PyGEOS is also installed, GeoPandas will still use PyGEOS by default for now. To force to use and test Shapely 2.0, you have to set the environment variable USE_PYGEOS=0. You can do this before starting the Python process, or in your code before importing geopandas:\n",
      "\n",
      "import os\n",
      "os.environ['USE_PYGEOS'] = '0'\n",
      "import geopandas\n",
      "\n",
      "In a future release, GeoPandas will switch to using Shapely by default. If you are using PyGEOS directly (calling PyGEOS functions on geometries from GeoPandas), this will then stop working and you are encouraged to migrate from PyGEOS to Shapely 2.0 (https://shapely.readthedocs.io/en/latest/migration_pygeos.html).\n",
      "  import geopandas as gpd\n"
     ]
    }
   ],
   "source": [
    "from dask.distributed import Client, LocalCluster\n",
    "from dask import delayed, dataframe as dd\n",
    "import dask\n",
    "\n",
    "import pandas as pd\n",
    "import dask.dataframe as dd\n",
    "import geopandas as gpd\n",
    "import math\n",
    "import numpy as np\n",
    "\n",
    "import momepy\n",
    "from scripts.tessellation import enclosed_tessellation\n",
    "\n",
    "import matplotlib.pyplot as plt\n",
    "import geopandas as gpd"
   ]
  },
  {
   "cell_type": "code",
   "execution_count": 3,
   "id": "bb9b9886",
   "metadata": {
    "tags": [
     "parameters"
    ]
   },
   "outputs": [],
   "source": [
    "place = \"singapore\"\n",
    "local_crs = 3414"
   ]
  },
  {
   "cell_type": "code",
   "execution_count": 4,
   "id": "922813c1",
   "metadata": {
    "execution": {
     "iopub.execute_input": "2023-04-28T16:09:21.400221Z",
     "iopub.status.busy": "2023-04-28T16:09:21.399645Z",
     "iopub.status.idle": "2023-04-28T16:09:22.561624Z",
     "shell.execute_reply": "2023-04-28T16:09:22.560843Z"
    },
    "papermill": {
     "duration": 1.169628,
     "end_time": "2023-04-28T16:09:22.562840",
     "exception": false,
     "start_time": "2023-04-28T16:09:21.393212",
     "status": "completed"
    },
    "tags": []
   },
   "outputs": [
    {
     "name": "stderr",
     "output_type": "stream",
     "text": [
      "2023-05-03 18:37:55,125 - distributed.nanny.memory - WARNING - Ignoring provided memory limit 100GB due to system memory limit of 31.31 GiB\n",
      "2023-05-03 18:37:55,129 - distributed.nanny.memory - WARNING - Ignoring provided memory limit 100GB due to system memory limit of 31.31 GiB\n",
      "2023-05-03 18:37:55,132 - distributed.nanny.memory - WARNING - Ignoring provided memory limit 100GB due to system memory limit of 31.31 GiB\n",
      "2023-05-03 18:37:55,136 - distributed.nanny.memory - WARNING - Ignoring provided memory limit 100GB due to system memory limit of 31.31 GiB\n",
      "2023-05-03 18:37:55,138 - distributed.nanny.memory - WARNING - Ignoring provided memory limit 100GB due to system memory limit of 31.31 GiB\n",
      "2023-05-03 18:37:55,141 - distributed.nanny.memory - WARNING - Ignoring provided memory limit 100GB due to system memory limit of 31.31 GiB\n",
      "2023-05-03 18:37:55,144 - distributed.nanny.memory - WARNING - Ignoring provided memory limit 100GB due to system memory limit of 31.31 GiB\n",
      "2023-05-03 18:37:55,147 - distributed.nanny.memory - WARNING - Ignoring provided memory limit 100GB due to system memory limit of 31.31 GiB\n",
      "2023-05-03 18:37:55,746 - distributed.diskutils - INFO - Found stale lock file and directory '/tmp/dask-worker-space/worker-0f8mhph4', purging\n",
      "2023-05-03 18:37:55,747 - distributed.diskutils - INFO - Found stale lock file and directory '/tmp/dask-worker-space/worker-hatpers_', purging\n",
      "2023-05-03 18:37:55,747 - distributed.diskutils - INFO - Found stale lock file and directory '/tmp/dask-worker-space/worker-6rk4ize_', purging\n",
      "2023-05-03 18:37:55,747 - distributed.diskutils - INFO - Found stale lock file and directory '/tmp/dask-worker-space/worker-ten1olr7', purging\n",
      "2023-05-03 18:37:55,748 - distributed.diskutils - INFO - Found stale lock file and directory '/tmp/dask-worker-space/worker-q15l_8es', purging\n",
      "2023-05-03 18:37:55,749 - distributed.diskutils - INFO - Found stale lock file and directory '/tmp/dask-worker-space/worker-iopq5yky', purging\n",
      "2023-05-03 18:37:55,749 - distributed.diskutils - INFO - Found stale lock file and directory '/tmp/dask-worker-space/worker-6487vcdv', purging\n",
      "2023-05-03 18:37:55,749 - distributed.diskutils - INFO - Found stale lock file and directory '/tmp/dask-worker-space/worker-6p5lu4rh', purging\n"
     ]
    },
    {
     "data": {
      "text/html": [
       "<div>\n",
       "    <div style=\"width: 24px; height: 24px; background-color: #e1e1e1; border: 3px solid #9D9D9D; border-radius: 5px; position: absolute;\"> </div>\n",
       "    <div style=\"margin-left: 48px;\">\n",
       "        <h3 style=\"margin-bottom: 0px;\">Client</h3>\n",
       "        <p style=\"color: #9D9D9D; margin-bottom: 0px;\">Client-3d2df4a0-e9d9-11ed-8761-00155df39b62</p>\n",
       "        <table style=\"width: 100%; text-align: left;\">\n",
       "\n",
       "        <tr>\n",
       "        \n",
       "            <td style=\"text-align: left;\"><strong>Connection method:</strong> Cluster object</td>\n",
       "            <td style=\"text-align: left;\"><strong>Cluster type:</strong> distributed.LocalCluster</td>\n",
       "        \n",
       "        </tr>\n",
       "\n",
       "        \n",
       "            <tr>\n",
       "                <td style=\"text-align: left;\">\n",
       "                    <strong>Dashboard: </strong> <a href=\"http://127.0.0.1:8787/status\" target=\"_blank\">http://127.0.0.1:8787/status</a>\n",
       "                </td>\n",
       "                <td style=\"text-align: left;\"></td>\n",
       "            </tr>\n",
       "        \n",
       "\n",
       "        </table>\n",
       "\n",
       "        \n",
       "\n",
       "        \n",
       "            <details>\n",
       "            <summary style=\"margin-bottom: 20px;\"><h3 style=\"display: inline;\">Cluster Info</h3></summary>\n",
       "            <div class=\"jp-RenderedHTMLCommon jp-RenderedHTML jp-mod-trusted jp-OutputArea-output\">\n",
       "    <div style=\"width: 24px; height: 24px; background-color: #e1e1e1; border: 3px solid #9D9D9D; border-radius: 5px; position: absolute;\">\n",
       "    </div>\n",
       "    <div style=\"margin-left: 48px;\">\n",
       "        <h3 style=\"margin-bottom: 0px; margin-top: 0px;\">LocalCluster</h3>\n",
       "        <p style=\"color: #9D9D9D; margin-bottom: 0px;\">c4014115</p>\n",
       "        <table style=\"width: 100%; text-align: left;\">\n",
       "            <tr>\n",
       "                <td style=\"text-align: left;\">\n",
       "                    <strong>Dashboard:</strong> <a href=\"http://127.0.0.1:8787/status\" target=\"_blank\">http://127.0.0.1:8787/status</a>\n",
       "                </td>\n",
       "                <td style=\"text-align: left;\">\n",
       "                    <strong>Workers:</strong> 8\n",
       "                </td>\n",
       "            </tr>\n",
       "            <tr>\n",
       "                <td style=\"text-align: left;\">\n",
       "                    <strong>Total threads:</strong> 16\n",
       "                </td>\n",
       "                <td style=\"text-align: left;\">\n",
       "                    <strong>Total memory:</strong> 250.47 GiB\n",
       "                </td>\n",
       "            </tr>\n",
       "            \n",
       "            <tr>\n",
       "    <td style=\"text-align: left;\"><strong>Status:</strong> running</td>\n",
       "    <td style=\"text-align: left;\"><strong>Using processes:</strong> True</td>\n",
       "</tr>\n",
       "\n",
       "            \n",
       "        </table>\n",
       "\n",
       "        <details>\n",
       "            <summary style=\"margin-bottom: 20px;\">\n",
       "                <h3 style=\"display: inline;\">Scheduler Info</h3>\n",
       "            </summary>\n",
       "\n",
       "            <div style=\"\">\n",
       "    <div>\n",
       "        <div style=\"width: 24px; height: 24px; background-color: #FFF7E5; border: 3px solid #FF6132; border-radius: 5px; position: absolute;\"> </div>\n",
       "        <div style=\"margin-left: 48px;\">\n",
       "            <h3 style=\"margin-bottom: 0px;\">Scheduler</h3>\n",
       "            <p style=\"color: #9D9D9D; margin-bottom: 0px;\">Scheduler-0fa6c122-c9db-41e1-9e87-e791bdebc35a</p>\n",
       "            <table style=\"width: 100%; text-align: left;\">\n",
       "                <tr>\n",
       "                    <td style=\"text-align: left;\">\n",
       "                        <strong>Comm:</strong> tcp://127.0.0.1:39003\n",
       "                    </td>\n",
       "                    <td style=\"text-align: left;\">\n",
       "                        <strong>Workers:</strong> 8\n",
       "                    </td>\n",
       "                </tr>\n",
       "                <tr>\n",
       "                    <td style=\"text-align: left;\">\n",
       "                        <strong>Dashboard:</strong> <a href=\"http://127.0.0.1:8787/status\" target=\"_blank\">http://127.0.0.1:8787/status</a>\n",
       "                    </td>\n",
       "                    <td style=\"text-align: left;\">\n",
       "                        <strong>Total threads:</strong> 16\n",
       "                    </td>\n",
       "                </tr>\n",
       "                <tr>\n",
       "                    <td style=\"text-align: left;\">\n",
       "                        <strong>Started:</strong> Just now\n",
       "                    </td>\n",
       "                    <td style=\"text-align: left;\">\n",
       "                        <strong>Total memory:</strong> 250.47 GiB\n",
       "                    </td>\n",
       "                </tr>\n",
       "            </table>\n",
       "        </div>\n",
       "    </div>\n",
       "\n",
       "    <details style=\"margin-left: 48px;\">\n",
       "        <summary style=\"margin-bottom: 20px;\">\n",
       "            <h3 style=\"display: inline;\">Workers</h3>\n",
       "        </summary>\n",
       "\n",
       "        \n",
       "        <div style=\"margin-bottom: 20px;\">\n",
       "            <div style=\"width: 24px; height: 24px; background-color: #DBF5FF; border: 3px solid #4CC9FF; border-radius: 5px; position: absolute;\"> </div>\n",
       "            <div style=\"margin-left: 48px;\">\n",
       "            <details>\n",
       "                <summary>\n",
       "                    <h4 style=\"margin-bottom: 0px; display: inline;\">Worker: 0</h4>\n",
       "                </summary>\n",
       "                <table style=\"width: 100%; text-align: left;\">\n",
       "                    <tr>\n",
       "                        <td style=\"text-align: left;\">\n",
       "                            <strong>Comm: </strong> tcp://127.0.0.1:35727\n",
       "                        </td>\n",
       "                        <td style=\"text-align: left;\">\n",
       "                            <strong>Total threads: </strong> 2\n",
       "                        </td>\n",
       "                    </tr>\n",
       "                    <tr>\n",
       "                        <td style=\"text-align: left;\">\n",
       "                            <strong>Dashboard: </strong> <a href=\"http://127.0.0.1:38409/status\" target=\"_blank\">http://127.0.0.1:38409/status</a>\n",
       "                        </td>\n",
       "                        <td style=\"text-align: left;\">\n",
       "                            <strong>Memory: </strong> 31.31 GiB\n",
       "                        </td>\n",
       "                    </tr>\n",
       "                    <tr>\n",
       "                        <td style=\"text-align: left;\">\n",
       "                            <strong>Nanny: </strong> tcp://127.0.0.1:33385\n",
       "                        </td>\n",
       "                        <td style=\"text-align: left;\"></td>\n",
       "                    </tr>\n",
       "                    <tr>\n",
       "                        <td colspan=\"2\" style=\"text-align: left;\">\n",
       "                            <strong>Local directory: </strong> /tmp/dask-worker-space/worker-_3917zoo\n",
       "                        </td>\n",
       "                    </tr>\n",
       "\n",
       "                    \n",
       "\n",
       "                    \n",
       "\n",
       "                </table>\n",
       "            </details>\n",
       "            </div>\n",
       "        </div>\n",
       "        \n",
       "        <div style=\"margin-bottom: 20px;\">\n",
       "            <div style=\"width: 24px; height: 24px; background-color: #DBF5FF; border: 3px solid #4CC9FF; border-radius: 5px; position: absolute;\"> </div>\n",
       "            <div style=\"margin-left: 48px;\">\n",
       "            <details>\n",
       "                <summary>\n",
       "                    <h4 style=\"margin-bottom: 0px; display: inline;\">Worker: 1</h4>\n",
       "                </summary>\n",
       "                <table style=\"width: 100%; text-align: left;\">\n",
       "                    <tr>\n",
       "                        <td style=\"text-align: left;\">\n",
       "                            <strong>Comm: </strong> tcp://127.0.0.1:35759\n",
       "                        </td>\n",
       "                        <td style=\"text-align: left;\">\n",
       "                            <strong>Total threads: </strong> 2\n",
       "                        </td>\n",
       "                    </tr>\n",
       "                    <tr>\n",
       "                        <td style=\"text-align: left;\">\n",
       "                            <strong>Dashboard: </strong> <a href=\"http://127.0.0.1:41801/status\" target=\"_blank\">http://127.0.0.1:41801/status</a>\n",
       "                        </td>\n",
       "                        <td style=\"text-align: left;\">\n",
       "                            <strong>Memory: </strong> 31.31 GiB\n",
       "                        </td>\n",
       "                    </tr>\n",
       "                    <tr>\n",
       "                        <td style=\"text-align: left;\">\n",
       "                            <strong>Nanny: </strong> tcp://127.0.0.1:40373\n",
       "                        </td>\n",
       "                        <td style=\"text-align: left;\"></td>\n",
       "                    </tr>\n",
       "                    <tr>\n",
       "                        <td colspan=\"2\" style=\"text-align: left;\">\n",
       "                            <strong>Local directory: </strong> /tmp/dask-worker-space/worker-0qx9qmf4\n",
       "                        </td>\n",
       "                    </tr>\n",
       "\n",
       "                    \n",
       "\n",
       "                    \n",
       "\n",
       "                </table>\n",
       "            </details>\n",
       "            </div>\n",
       "        </div>\n",
       "        \n",
       "        <div style=\"margin-bottom: 20px;\">\n",
       "            <div style=\"width: 24px; height: 24px; background-color: #DBF5FF; border: 3px solid #4CC9FF; border-radius: 5px; position: absolute;\"> </div>\n",
       "            <div style=\"margin-left: 48px;\">\n",
       "            <details>\n",
       "                <summary>\n",
       "                    <h4 style=\"margin-bottom: 0px; display: inline;\">Worker: 2</h4>\n",
       "                </summary>\n",
       "                <table style=\"width: 100%; text-align: left;\">\n",
       "                    <tr>\n",
       "                        <td style=\"text-align: left;\">\n",
       "                            <strong>Comm: </strong> tcp://127.0.0.1:40053\n",
       "                        </td>\n",
       "                        <td style=\"text-align: left;\">\n",
       "                            <strong>Total threads: </strong> 2\n",
       "                        </td>\n",
       "                    </tr>\n",
       "                    <tr>\n",
       "                        <td style=\"text-align: left;\">\n",
       "                            <strong>Dashboard: </strong> <a href=\"http://127.0.0.1:45455/status\" target=\"_blank\">http://127.0.0.1:45455/status</a>\n",
       "                        </td>\n",
       "                        <td style=\"text-align: left;\">\n",
       "                            <strong>Memory: </strong> 31.31 GiB\n",
       "                        </td>\n",
       "                    </tr>\n",
       "                    <tr>\n",
       "                        <td style=\"text-align: left;\">\n",
       "                            <strong>Nanny: </strong> tcp://127.0.0.1:37955\n",
       "                        </td>\n",
       "                        <td style=\"text-align: left;\"></td>\n",
       "                    </tr>\n",
       "                    <tr>\n",
       "                        <td colspan=\"2\" style=\"text-align: left;\">\n",
       "                            <strong>Local directory: </strong> /tmp/dask-worker-space/worker-23qwa_6o\n",
       "                        </td>\n",
       "                    </tr>\n",
       "\n",
       "                    \n",
       "\n",
       "                    \n",
       "\n",
       "                </table>\n",
       "            </details>\n",
       "            </div>\n",
       "        </div>\n",
       "        \n",
       "        <div style=\"margin-bottom: 20px;\">\n",
       "            <div style=\"width: 24px; height: 24px; background-color: #DBF5FF; border: 3px solid #4CC9FF; border-radius: 5px; position: absolute;\"> </div>\n",
       "            <div style=\"margin-left: 48px;\">\n",
       "            <details>\n",
       "                <summary>\n",
       "                    <h4 style=\"margin-bottom: 0px; display: inline;\">Worker: 3</h4>\n",
       "                </summary>\n",
       "                <table style=\"width: 100%; text-align: left;\">\n",
       "                    <tr>\n",
       "                        <td style=\"text-align: left;\">\n",
       "                            <strong>Comm: </strong> tcp://127.0.0.1:34117\n",
       "                        </td>\n",
       "                        <td style=\"text-align: left;\">\n",
       "                            <strong>Total threads: </strong> 2\n",
       "                        </td>\n",
       "                    </tr>\n",
       "                    <tr>\n",
       "                        <td style=\"text-align: left;\">\n",
       "                            <strong>Dashboard: </strong> <a href=\"http://127.0.0.1:41819/status\" target=\"_blank\">http://127.0.0.1:41819/status</a>\n",
       "                        </td>\n",
       "                        <td style=\"text-align: left;\">\n",
       "                            <strong>Memory: </strong> 31.31 GiB\n",
       "                        </td>\n",
       "                    </tr>\n",
       "                    <tr>\n",
       "                        <td style=\"text-align: left;\">\n",
       "                            <strong>Nanny: </strong> tcp://127.0.0.1:35463\n",
       "                        </td>\n",
       "                        <td style=\"text-align: left;\"></td>\n",
       "                    </tr>\n",
       "                    <tr>\n",
       "                        <td colspan=\"2\" style=\"text-align: left;\">\n",
       "                            <strong>Local directory: </strong> /tmp/dask-worker-space/worker-02zjljie\n",
       "                        </td>\n",
       "                    </tr>\n",
       "\n",
       "                    \n",
       "\n",
       "                    \n",
       "\n",
       "                </table>\n",
       "            </details>\n",
       "            </div>\n",
       "        </div>\n",
       "        \n",
       "        <div style=\"margin-bottom: 20px;\">\n",
       "            <div style=\"width: 24px; height: 24px; background-color: #DBF5FF; border: 3px solid #4CC9FF; border-radius: 5px; position: absolute;\"> </div>\n",
       "            <div style=\"margin-left: 48px;\">\n",
       "            <details>\n",
       "                <summary>\n",
       "                    <h4 style=\"margin-bottom: 0px; display: inline;\">Worker: 4</h4>\n",
       "                </summary>\n",
       "                <table style=\"width: 100%; text-align: left;\">\n",
       "                    <tr>\n",
       "                        <td style=\"text-align: left;\">\n",
       "                            <strong>Comm: </strong> tcp://127.0.0.1:33329\n",
       "                        </td>\n",
       "                        <td style=\"text-align: left;\">\n",
       "                            <strong>Total threads: </strong> 2\n",
       "                        </td>\n",
       "                    </tr>\n",
       "                    <tr>\n",
       "                        <td style=\"text-align: left;\">\n",
       "                            <strong>Dashboard: </strong> <a href=\"http://127.0.0.1:40479/status\" target=\"_blank\">http://127.0.0.1:40479/status</a>\n",
       "                        </td>\n",
       "                        <td style=\"text-align: left;\">\n",
       "                            <strong>Memory: </strong> 31.31 GiB\n",
       "                        </td>\n",
       "                    </tr>\n",
       "                    <tr>\n",
       "                        <td style=\"text-align: left;\">\n",
       "                            <strong>Nanny: </strong> tcp://127.0.0.1:36759\n",
       "                        </td>\n",
       "                        <td style=\"text-align: left;\"></td>\n",
       "                    </tr>\n",
       "                    <tr>\n",
       "                        <td colspan=\"2\" style=\"text-align: left;\">\n",
       "                            <strong>Local directory: </strong> /tmp/dask-worker-space/worker-avaxssnv\n",
       "                        </td>\n",
       "                    </tr>\n",
       "\n",
       "                    \n",
       "\n",
       "                    \n",
       "\n",
       "                </table>\n",
       "            </details>\n",
       "            </div>\n",
       "        </div>\n",
       "        \n",
       "        <div style=\"margin-bottom: 20px;\">\n",
       "            <div style=\"width: 24px; height: 24px; background-color: #DBF5FF; border: 3px solid #4CC9FF; border-radius: 5px; position: absolute;\"> </div>\n",
       "            <div style=\"margin-left: 48px;\">\n",
       "            <details>\n",
       "                <summary>\n",
       "                    <h4 style=\"margin-bottom: 0px; display: inline;\">Worker: 5</h4>\n",
       "                </summary>\n",
       "                <table style=\"width: 100%; text-align: left;\">\n",
       "                    <tr>\n",
       "                        <td style=\"text-align: left;\">\n",
       "                            <strong>Comm: </strong> tcp://127.0.0.1:40829\n",
       "                        </td>\n",
       "                        <td style=\"text-align: left;\">\n",
       "                            <strong>Total threads: </strong> 2\n",
       "                        </td>\n",
       "                    </tr>\n",
       "                    <tr>\n",
       "                        <td style=\"text-align: left;\">\n",
       "                            <strong>Dashboard: </strong> <a href=\"http://127.0.0.1:44171/status\" target=\"_blank\">http://127.0.0.1:44171/status</a>\n",
       "                        </td>\n",
       "                        <td style=\"text-align: left;\">\n",
       "                            <strong>Memory: </strong> 31.31 GiB\n",
       "                        </td>\n",
       "                    </tr>\n",
       "                    <tr>\n",
       "                        <td style=\"text-align: left;\">\n",
       "                            <strong>Nanny: </strong> tcp://127.0.0.1:46821\n",
       "                        </td>\n",
       "                        <td style=\"text-align: left;\"></td>\n",
       "                    </tr>\n",
       "                    <tr>\n",
       "                        <td colspan=\"2\" style=\"text-align: left;\">\n",
       "                            <strong>Local directory: </strong> /tmp/dask-worker-space/worker-yma5hrnz\n",
       "                        </td>\n",
       "                    </tr>\n",
       "\n",
       "                    \n",
       "\n",
       "                    \n",
       "\n",
       "                </table>\n",
       "            </details>\n",
       "            </div>\n",
       "        </div>\n",
       "        \n",
       "        <div style=\"margin-bottom: 20px;\">\n",
       "            <div style=\"width: 24px; height: 24px; background-color: #DBF5FF; border: 3px solid #4CC9FF; border-radius: 5px; position: absolute;\"> </div>\n",
       "            <div style=\"margin-left: 48px;\">\n",
       "            <details>\n",
       "                <summary>\n",
       "                    <h4 style=\"margin-bottom: 0px; display: inline;\">Worker: 6</h4>\n",
       "                </summary>\n",
       "                <table style=\"width: 100%; text-align: left;\">\n",
       "                    <tr>\n",
       "                        <td style=\"text-align: left;\">\n",
       "                            <strong>Comm: </strong> tcp://127.0.0.1:45501\n",
       "                        </td>\n",
       "                        <td style=\"text-align: left;\">\n",
       "                            <strong>Total threads: </strong> 2\n",
       "                        </td>\n",
       "                    </tr>\n",
       "                    <tr>\n",
       "                        <td style=\"text-align: left;\">\n",
       "                            <strong>Dashboard: </strong> <a href=\"http://127.0.0.1:43697/status\" target=\"_blank\">http://127.0.0.1:43697/status</a>\n",
       "                        </td>\n",
       "                        <td style=\"text-align: left;\">\n",
       "                            <strong>Memory: </strong> 31.31 GiB\n",
       "                        </td>\n",
       "                    </tr>\n",
       "                    <tr>\n",
       "                        <td style=\"text-align: left;\">\n",
       "                            <strong>Nanny: </strong> tcp://127.0.0.1:35569\n",
       "                        </td>\n",
       "                        <td style=\"text-align: left;\"></td>\n",
       "                    </tr>\n",
       "                    <tr>\n",
       "                        <td colspan=\"2\" style=\"text-align: left;\">\n",
       "                            <strong>Local directory: </strong> /tmp/dask-worker-space/worker-oynat6f5\n",
       "                        </td>\n",
       "                    </tr>\n",
       "\n",
       "                    \n",
       "\n",
       "                    \n",
       "\n",
       "                </table>\n",
       "            </details>\n",
       "            </div>\n",
       "        </div>\n",
       "        \n",
       "        <div style=\"margin-bottom: 20px;\">\n",
       "            <div style=\"width: 24px; height: 24px; background-color: #DBF5FF; border: 3px solid #4CC9FF; border-radius: 5px; position: absolute;\"> </div>\n",
       "            <div style=\"margin-left: 48px;\">\n",
       "            <details>\n",
       "                <summary>\n",
       "                    <h4 style=\"margin-bottom: 0px; display: inline;\">Worker: 7</h4>\n",
       "                </summary>\n",
       "                <table style=\"width: 100%; text-align: left;\">\n",
       "                    <tr>\n",
       "                        <td style=\"text-align: left;\">\n",
       "                            <strong>Comm: </strong> tcp://127.0.0.1:40745\n",
       "                        </td>\n",
       "                        <td style=\"text-align: left;\">\n",
       "                            <strong>Total threads: </strong> 2\n",
       "                        </td>\n",
       "                    </tr>\n",
       "                    <tr>\n",
       "                        <td style=\"text-align: left;\">\n",
       "                            <strong>Dashboard: </strong> <a href=\"http://127.0.0.1:37289/status\" target=\"_blank\">http://127.0.0.1:37289/status</a>\n",
       "                        </td>\n",
       "                        <td style=\"text-align: left;\">\n",
       "                            <strong>Memory: </strong> 31.31 GiB\n",
       "                        </td>\n",
       "                    </tr>\n",
       "                    <tr>\n",
       "                        <td style=\"text-align: left;\">\n",
       "                            <strong>Nanny: </strong> tcp://127.0.0.1:35095\n",
       "                        </td>\n",
       "                        <td style=\"text-align: left;\"></td>\n",
       "                    </tr>\n",
       "                    <tr>\n",
       "                        <td colspan=\"2\" style=\"text-align: left;\">\n",
       "                            <strong>Local directory: </strong> /tmp/dask-worker-space/worker-dqax3nn1\n",
       "                        </td>\n",
       "                    </tr>\n",
       "\n",
       "                    \n",
       "\n",
       "                    \n",
       "\n",
       "                </table>\n",
       "            </details>\n",
       "            </div>\n",
       "        </div>\n",
       "        \n",
       "\n",
       "    </details>\n",
       "</div>\n",
       "\n",
       "        </details>\n",
       "    </div>\n",
       "</div>\n",
       "            </details>\n",
       "        \n",
       "\n",
       "    </div>\n",
       "</div>"
      ],
      "text/plain": [
       "<Client: 'tcp://127.0.0.1:39003' processes=8 threads=16, memory=250.47 GiB>"
      ]
     },
     "execution_count": 4,
     "metadata": {},
     "output_type": "execute_result"
    }
   ],
   "source": [
    "Daskcluster = LocalCluster(threads_per_worker=2,\n",
    "                n_workers=8, memory_limit='100GB')\n",
    "\n",
    "client = Client(Daskcluster)\n",
    "client"
   ]
  },
  {
   "cell_type": "code",
   "execution_count": 5,
   "id": "9f408918",
   "metadata": {
    "execution": {
     "iopub.execute_input": "2023-04-28T16:09:22.576213Z",
     "iopub.status.busy": "2023-04-28T16:09:22.575725Z",
     "iopub.status.idle": "2023-04-28T16:09:22.905156Z",
     "shell.execute_reply": "2023-04-28T16:09:22.904450Z"
    },
    "papermill": {
     "duration": 0.339475,
     "end_time": "2023-04-28T16:09:22.906559",
     "exception": false,
     "start_time": "2023-04-28T16:09:22.567084",
     "status": "completed"
    },
    "tags": []
   },
   "outputs": [
    {
     "name": "stderr",
     "output_type": "stream",
     "text": [
      "/tmp/ipykernel_1889/2964440053.py:1: FutureWarning: Currently, index_parts defaults to True, but in the future, it will default to False to be consistent with Pandas. Use `index_parts=True` to keep the current behavior and True/False to silence the warning.\n",
      "  streets = gpd.read_parquet(f\"./out/{place}/streets.pq\").explode()\n"
     ]
    }
   ],
   "source": [
    "streets = gpd.read_parquet(f\"./out/{place}/streets.pq\").explode()\n",
    "\n",
    "buildings = gpd.read_parquet(f\"./out/{place}/buildings_raw.pq\")\n",
    "\n",
    "study_area = gpd.read_parquet(f\"./out/{place}/study_area.pq\")\n",
    "\n",
    "water = gpd.read_parquet(f\"./out/{place}/water.pq\")"
   ]
  },
  {
   "cell_type": "code",
   "execution_count": 9,
   "id": "a3649a33",
   "metadata": {},
   "outputs": [
    {
     "name": "stderr",
     "output_type": "stream",
     "text": [
      "/tmp/ipykernel_1889/2503369575.py:4: FutureWarning: Currently, index_parts defaults to True, but in the future, it will default to False to be consistent with Pandas. Use `index_parts=True` to keep the current behavior and True/False to silence the warning.\n",
      "  gs = water.explode()\n"
     ]
    }
   ],
   "source": [
    "water_bodies_boundaries = []\n",
    "\n",
    "# Explode the GeoDataFrame into a GeoSeries of polygons and multipolygons\n",
    "gs = water.explode()\n",
    "\n",
    "# Convert each polygon into a MultiLineString\n",
    "mls = gs.geometry.boundary\n",
    "\n",
    "# Convert the MultiLineString into a DataFrame\n",
    "water_bodies = gpd.GeoDataFrame({'geometry': mls})\n",
    "\n",
    "for water_body in water_bodies.geometry:\n",
    "    # Create a LineString object from the coordinates\n",
    "    water_bodies_boundaries.append(water_body)\n",
    "\n",
    "# # Create a GeoDataFrame of the water area boundaries\n",
    "water_bodies_boundaries = gpd.GeoDataFrame({'geometry': water_bodies_boundaries})"
   ]
  },
  {
   "cell_type": "code",
   "execution_count": 10,
   "id": "d5672049",
   "metadata": {},
   "outputs": [
    {
     "data": {
      "text/html": [
       "<div>\n",
       "<style scoped>\n",
       "    .dataframe tbody tr th:only-of-type {\n",
       "        vertical-align: middle;\n",
       "    }\n",
       "\n",
       "    .dataframe tbody tr th {\n",
       "        vertical-align: top;\n",
       "    }\n",
       "\n",
       "    .dataframe thead th {\n",
       "        text-align: right;\n",
       "    }\n",
       "</style>\n",
       "<table border=\"1\" class=\"dataframe\">\n",
       "  <thead>\n",
       "    <tr style=\"text-align: right;\">\n",
       "      <th></th>\n",
       "      <th>geometry</th>\n",
       "    </tr>\n",
       "  </thead>\n",
       "  <tbody>\n",
       "    <tr>\n",
       "      <th>0</th>\n",
       "      <td>LINESTRING (37698.921 36379.463, 37801.240 364...</td>\n",
       "    </tr>\n",
       "    <tr>\n",
       "      <th>1</th>\n",
       "      <td>LINESTRING (10638.104 45329.526, 10576.655 452...</td>\n",
       "    </tr>\n",
       "    <tr>\n",
       "      <th>2</th>\n",
       "      <td>LINESTRING (16251.515 32735.477, 16202.884 325...</td>\n",
       "    </tr>\n",
       "    <tr>\n",
       "      <th>3</th>\n",
       "      <td>LINESTRING (20392.301 40523.349, 20411.654 405...</td>\n",
       "    </tr>\n",
       "    <tr>\n",
       "      <th>4</th>\n",
       "      <td>LINESTRING (19219.340 37721.260, 19188.801 376...</td>\n",
       "    </tr>\n",
       "    <tr>\n",
       "      <th>...</th>\n",
       "      <td>...</td>\n",
       "    </tr>\n",
       "    <tr>\n",
       "      <th>1449</th>\n",
       "      <td>LINESTRING (32275.071 39839.324, 32386.436 398...</td>\n",
       "    </tr>\n",
       "    <tr>\n",
       "      <th>1450</th>\n",
       "      <td>LINESTRING (32275.071 39839.324, 32275.260 398...</td>\n",
       "    </tr>\n",
       "    <tr>\n",
       "      <th>1451</th>\n",
       "      <td>MULTILINESTRING ((15995.367 34754.843, 15992.4...</td>\n",
       "    </tr>\n",
       "    <tr>\n",
       "      <th>1452</th>\n",
       "      <td>LINESTRING (43523.381 43174.406, 43529.379 431...</td>\n",
       "    </tr>\n",
       "    <tr>\n",
       "      <th>1453</th>\n",
       "      <td>LINESTRING (32420.646 45068.284, 32469.312 450...</td>\n",
       "    </tr>\n",
       "  </tbody>\n",
       "</table>\n",
       "<p>1454 rows × 1 columns</p>\n",
       "</div>"
      ],
      "text/plain": [
       "                                               geometry\n",
       "0     LINESTRING (37698.921 36379.463, 37801.240 364...\n",
       "1     LINESTRING (10638.104 45329.526, 10576.655 452...\n",
       "2     LINESTRING (16251.515 32735.477, 16202.884 325...\n",
       "3     LINESTRING (20392.301 40523.349, 20411.654 405...\n",
       "4     LINESTRING (19219.340 37721.260, 19188.801 376...\n",
       "...                                                 ...\n",
       "1449  LINESTRING (32275.071 39839.324, 32386.436 398...\n",
       "1450  LINESTRING (32275.071 39839.324, 32275.260 398...\n",
       "1451  MULTILINESTRING ((15995.367 34754.843, 15992.4...\n",
       "1452  LINESTRING (43523.381 43174.406, 43529.379 431...\n",
       "1453  LINESTRING (32420.646 45068.284, 32469.312 450...\n",
       "\n",
       "[1454 rows x 1 columns]"
      ]
     },
     "execution_count": 10,
     "metadata": {},
     "output_type": "execute_result"
    }
   ],
   "source": [
    "water_bodies_boundaries"
   ]
  },
  {
   "cell_type": "code",
   "execution_count": null,
   "id": "eed1a566",
   "metadata": {
    "execution": {
     "iopub.execute_input": "2023-04-28T16:09:22.915951Z",
     "iopub.status.busy": "2023-04-28T16:09:22.915546Z",
     "iopub.status.idle": "2023-04-28T16:09:22.919440Z",
     "shell.execute_reply": "2023-04-28T16:09:22.918319Z"
    },
    "papermill": {
     "duration": 0.010241,
     "end_time": "2023-04-28T16:09:22.921012",
     "exception": false,
     "start_time": "2023-04-28T16:09:22.910771",
     "status": "completed"
    },
    "tags": []
   },
   "outputs": [],
   "source": [
    "# study_area = gpd.GeoDataFrame(pd.concat( [study_area, streets_buffer], ignore_index=True)).dissolve()"
   ]
  },
  {
   "cell_type": "code",
   "execution_count": null,
   "id": "8609ec0b",
   "metadata": {
    "execution": {
     "iopub.execute_input": "2023-04-28T16:09:22.929879Z",
     "iopub.status.busy": "2023-04-28T16:09:22.929298Z",
     "iopub.status.idle": "2023-04-28T16:09:22.932650Z",
     "shell.execute_reply": "2023-04-28T16:09:22.932000Z"
    },
    "papermill": {
     "duration": 0.009044,
     "end_time": "2023-04-28T16:09:22.933780",
     "exception": false,
     "start_time": "2023-04-28T16:09:22.924736",
     "status": "completed"
    },
    "tags": []
   },
   "outputs": [],
   "source": [
    "# # Create a figure and axis\n",
    "# fig, ax = plt.subplots(figsize=(100, 100))\n",
    "\n",
    "# # Plot study_area in green on the same axis\n",
    "# study_area.plot(ax=ax, color='green')\n",
    "\n",
    "# # Plot streets in blue on the same axis\n",
    "# streets.plot(ax=ax, color='blue')\n",
    "\n",
    "# # Plot buildings in red on the same axis\n",
    "# buildings.plot(ax=ax, color='red')\n",
    "\n",
    "# outlines.plot(ax=ax, color='black')\n",
    "\n",
    "# # Show the plot\n",
    "# plt.show()"
   ]
  },
  {
   "cell_type": "code",
   "execution_count": null,
   "id": "eb1e48d0",
   "metadata": {
    "execution": {
     "iopub.execute_input": "2023-04-28T16:09:22.942653Z",
     "iopub.status.busy": "2023-04-28T16:09:22.942273Z",
     "iopub.status.idle": "2023-04-28T16:09:29.405785Z",
     "shell.execute_reply": "2023-04-28T16:09:29.404637Z"
    },
    "papermill": {
     "duration": 6.469855,
     "end_time": "2023-04-28T16:09:29.407635",
     "exception": false,
     "start_time": "2023-04-28T16:09:22.937780",
     "status": "completed"
    },
    "tags": []
   },
   "outputs": [],
   "source": [
    "enclosures = momepy.enclosures(streets.append(water_bodies_boundaries), limit= study_area, clip=True)"
   ]
  },
  {
   "cell_type": "code",
   "execution_count": null,
   "id": "251b8d0e",
   "metadata": {
    "execution": {
     "iopub.execute_input": "2023-04-28T16:09:29.418301Z",
     "iopub.status.busy": "2023-04-28T16:09:29.417866Z",
     "iopub.status.idle": "2023-04-28T16:16:53.455960Z",
     "shell.execute_reply": "2023-04-28T16:16:53.454737Z"
    },
    "papermill": {
     "duration": 444.045545,
     "end_time": "2023-04-28T16:16:53.457753",
     "exception": false,
     "start_time": "2023-04-28T16:09:29.412208",
     "status": "completed"
    },
    "tags": []
   },
   "outputs": [],
   "source": [
    "tessellation = momepy.Tessellation(buildings, unique_id='uID', enclosures=enclosures, use_dask = True).tessellation\n",
    "\n",
    "# for debugging\n",
    "tessellation_copy = tessellation"
   ]
  },
  {
   "cell_type": "code",
   "execution_count": null,
   "id": "25b69f56",
   "metadata": {},
   "outputs": [],
   "source": [
    "tessellation = tessellation_copy"
   ]
  },
  {
   "cell_type": "code",
   "execution_count": null,
   "id": "ec981164",
   "metadata": {},
   "outputs": [],
   "source": [
    "tessellation.to_parquet(f\"./out/{place}/tessellation_raw.pq\")"
   ]
  },
  {
   "cell_type": "code",
   "execution_count": 35,
   "id": "6be344c0",
   "metadata": {},
   "outputs": [],
   "source": [
    "tessellation = gpd.read_parquet(f\"./out/{place}/tessellation_raw.pq\")"
   ]
  },
  {
   "cell_type": "code",
   "execution_count": 36,
   "id": "17c65a61",
   "metadata": {
    "execution": {
     "iopub.execute_input": "2023-04-28T16:16:53.468198Z",
     "iopub.status.busy": "2023-04-28T16:16:53.467782Z",
     "iopub.status.idle": "2023-04-28T16:16:53.510510Z",
     "shell.execute_reply": "2023-04-28T16:16:53.509345Z"
    },
    "papermill": {
     "duration": 0.049905,
     "end_time": "2023-04-28T16:16:53.512128",
     "exception": false,
     "start_time": "2023-04-28T16:16:53.462223",
     "status": "completed"
    },
    "tags": []
   },
   "outputs": [
    {
     "data": {
      "text/html": [
       "<div>\n",
       "<style scoped>\n",
       "    .dataframe tbody tr th:only-of-type {\n",
       "        vertical-align: middle;\n",
       "    }\n",
       "\n",
       "    .dataframe tbody tr th {\n",
       "        vertical-align: top;\n",
       "    }\n",
       "\n",
       "    .dataframe thead th {\n",
       "        text-align: right;\n",
       "    }\n",
       "</style>\n",
       "<table border=\"1\" class=\"dataframe\">\n",
       "  <thead>\n",
       "    <tr style=\"text-align: right;\">\n",
       "      <th></th>\n",
       "      <th>uID</th>\n",
       "      <th>geometry</th>\n",
       "    </tr>\n",
       "  </thead>\n",
       "  <tbody>\n",
       "    <tr>\n",
       "      <th>0</th>\n",
       "      <td>75707.0</td>\n",
       "      <td>POLYGON ((45510.911 33224.180, 45517.076 33236...</td>\n",
       "    </tr>\n",
       "    <tr>\n",
       "      <th>1</th>\n",
       "      <td>74906.0</td>\n",
       "      <td>MULTIPOLYGON (((43584.161 35868.253, 43584.343...</td>\n",
       "    </tr>\n",
       "    <tr>\n",
       "      <th>2</th>\n",
       "      <td>74909.0</td>\n",
       "      <td>MULTIPOLYGON (((43416.661 36165.753, 43415.986...</td>\n",
       "    </tr>\n",
       "    <tr>\n",
       "      <th>3</th>\n",
       "      <td>74915.0</td>\n",
       "      <td>MULTIPOLYGON (((43506.033 36382.388, 43505.789...</td>\n",
       "    </tr>\n",
       "    <tr>\n",
       "      <th>4</th>\n",
       "      <td>74921.0</td>\n",
       "      <td>POLYGON ((43453.691 36562.605, 43453.334 36563...</td>\n",
       "    </tr>\n",
       "    <tr>\n",
       "      <th>...</th>\n",
       "      <td>...</td>\n",
       "      <td>...</td>\n",
       "    </tr>\n",
       "    <tr>\n",
       "      <th>87401</th>\n",
       "      <td>35292.0</td>\n",
       "      <td>POLYGON ((27588.025 38604.710, 27587.246 38604...</td>\n",
       "    </tr>\n",
       "    <tr>\n",
       "      <th>87414</th>\n",
       "      <td>31010.0</td>\n",
       "      <td>POLYGON ((26730.051 26703.640, 26729.051 26704...</td>\n",
       "    </tr>\n",
       "    <tr>\n",
       "      <th>87434</th>\n",
       "      <td>7729.0</td>\n",
       "      <td>POLYGON ((16049.921 34749.500, 16050.812 34752...</td>\n",
       "    </tr>\n",
       "    <tr>\n",
       "      <th>87461</th>\n",
       "      <td>36329.0</td>\n",
       "      <td>POLYGON ((27847.387 22035.537, 27847.387 22125...</td>\n",
       "    </tr>\n",
       "    <tr>\n",
       "      <th>87467</th>\n",
       "      <td>7439.0</td>\n",
       "      <td>POLYGON ((15697.309 18349.986, 15688.817 18341...</td>\n",
       "    </tr>\n",
       "  </tbody>\n",
       "</table>\n",
       "<p>76804 rows × 2 columns</p>\n",
       "</div>"
      ],
      "text/plain": [
       "           uID                                           geometry\n",
       "0      75707.0  POLYGON ((45510.911 33224.180, 45517.076 33236...\n",
       "1      74906.0  MULTIPOLYGON (((43584.161 35868.253, 43584.343...\n",
       "2      74909.0  MULTIPOLYGON (((43416.661 36165.753, 43415.986...\n",
       "3      74915.0  MULTIPOLYGON (((43506.033 36382.388, 43505.789...\n",
       "4      74921.0  POLYGON ((43453.691 36562.605, 43453.334 36563...\n",
       "...        ...                                                ...\n",
       "87401  35292.0  POLYGON ((27588.025 38604.710, 27587.246 38604...\n",
       "87414  31010.0  POLYGON ((26730.051 26703.640, 26729.051 26704...\n",
       "87434   7729.0  POLYGON ((16049.921 34749.500, 16050.812 34752...\n",
       "87461  36329.0  POLYGON ((27847.387 22035.537, 27847.387 22125...\n",
       "87467   7439.0  POLYGON ((15697.309 18349.986, 15688.817 18341...\n",
       "\n",
       "[76804 rows x 2 columns]"
      ]
     },
     "execution_count": 36,
     "metadata": {},
     "output_type": "execute_result"
    }
   ],
   "source": [
    "tessellation = tessellation.drop(\"eID\", axis = 1)\n",
    "tessellation.dropna()"
   ]
  },
  {
   "cell_type": "code",
   "execution_count": 37,
   "id": "3ce6ea8a",
   "metadata": {
    "execution": {
     "iopub.execute_input": "2023-04-28T16:16:53.521464Z",
     "iopub.status.busy": "2023-04-28T16:16:53.521002Z",
     "iopub.status.idle": "2023-04-28T16:17:18.324570Z",
     "shell.execute_reply": "2023-04-28T16:17:18.323523Z"
    },
    "papermill": {
     "duration": 24.809873,
     "end_time": "2023-04-28T16:17:18.326170",
     "exception": false,
     "start_time": "2023-04-28T16:16:53.516297",
     "status": "completed"
    },
    "tags": []
   },
   "outputs": [],
   "source": [
    "tessellation = tessellation.overlay(water, how=\"difference\")"
   ]
  },
  {
   "cell_type": "code",
   "execution_count": 38,
   "id": "5ba279cb",
   "metadata": {},
   "outputs": [],
   "source": [
    "tessellation = tessellation.dropna()"
   ]
  },
  {
   "cell_type": "code",
   "execution_count": 39,
   "id": "0fa429b7",
   "metadata": {},
   "outputs": [
    {
     "name": "stderr",
     "output_type": "stream",
     "text": [
      "/tmp/ipykernel_21090/109688082.py:1: FutureWarning: Currently, index_parts defaults to True, but in the future, it will default to False to be consistent with Pandas. Use `index_parts=True` to keep the current behavior and True/False to silence the warning.\n",
      "  tessellation = tessellation.explode().reset_index().drop([\"level_0\", \"level_1\"], axis=1)\n"
     ]
    }
   ],
   "source": [
    "tessellation = tessellation.explode().reset_index().drop([\"level_0\", \"level_1\"], axis=1)"
   ]
  },
  {
   "cell_type": "code",
   "execution_count": 40,
   "id": "e71c0ec5",
   "metadata": {},
   "outputs": [],
   "source": [
    "@dask.delayed\n",
    "def find_largest(group, building):\n",
    "    if len(group) == 1:\n",
    "        return gpd.GeoDataFrame(group)\n",
    "    else:\n",
    "        intersects = gpd.sjoin(group, building.set_crs(local_crs), predicate='intersects')\n",
    "        if len(intersects) == 1:\n",
    "            return gpd.GeoDataFrame(intersects)\n",
    "        else:\n",
    "            return gpd.GeoDataFrame(intersects.loc[[intersects.area.idxmax()]])\n",
    "        "
   ]
  },
  {
   "cell_type": "code",
   "execution_count": 41,
   "id": "eeded9f9",
   "metadata": {},
   "outputs": [
    {
     "name": "stderr",
     "output_type": "stream",
     "text": [
      "/home/virgilxw/miniconda3/lib/python3.10/site-packages/distributed/client.py:3095: UserWarning: Sending large graph of size 483.56 MiB.\n",
      "This may cause some slowdown.\n",
      "Consider scattering data ahead of time and using futures.\n",
      "  warnings.warn(\n",
      "/home/virgilxw/miniconda3/lib/python3.10/site-packages/cloudpickle/cloudpickle.py:649: UserWarning: Shapely 2.0 is installed, but because PyGEOS is also installed, GeoPandas will still use PyGEOS by default for now. To force to use and test Shapely 2.0, you have to set the environment variable USE_PYGEOS=0. You can do this before starting the Python process, or in your code before importing geopandas:\n",
      "\n",
      "import os\n",
      "os.environ['USE_PYGEOS'] = '0'\n",
      "import geopandas\n",
      "\n",
      "In a future release, GeoPandas will switch to using Shapely by default. If you are using PyGEOS directly (calling PyGEOS functions on geometries from GeoPandas), this will then stop working and you are encouraged to migrate from PyGEOS to Shapely 2.0 (https://shapely.readthedocs.io/en/latest/migration_pygeos.html).\n",
      "  __import__(name)\n",
      "/home/virgilxw/miniconda3/lib/python3.10/site-packages/cloudpickle/cloudpickle.py:649: UserWarning: Shapely 2.0 is installed, but because PyGEOS is also installed, GeoPandas will still use PyGEOS by default for now. To force to use and test Shapely 2.0, you have to set the environment variable USE_PYGEOS=0. You can do this before starting the Python process, or in your code before importing geopandas:\n",
      "\n",
      "import os\n",
      "os.environ['USE_PYGEOS'] = '0'\n",
      "import geopandas\n",
      "\n",
      "In a future release, GeoPandas will switch to using Shapely by default. If you are using PyGEOS directly (calling PyGEOS functions on geometries from GeoPandas), this will then stop working and you are encouraged to migrate from PyGEOS to Shapely 2.0 (https://shapely.readthedocs.io/en/latest/migration_pygeos.html).\n",
      "  __import__(name)\n",
      "/home/virgilxw/miniconda3/lib/python3.10/site-packages/cloudpickle/cloudpickle.py:649: UserWarning: Shapely 2.0 is installed, but because PyGEOS is also installed, GeoPandas will still use PyGEOS by default for now. To force to use and test Shapely 2.0, you have to set the environment variable USE_PYGEOS=0. You can do this before starting the Python process, or in your code before importing geopandas:\n",
      "\n",
      "import os\n",
      "os.environ['USE_PYGEOS'] = '0'\n",
      "import geopandas\n",
      "\n",
      "In a future release, GeoPandas will switch to using Shapely by default. If you are using PyGEOS directly (calling PyGEOS functions on geometries from GeoPandas), this will then stop working and you are encouraged to migrate from PyGEOS to Shapely 2.0 (https://shapely.readthedocs.io/en/latest/migration_pygeos.html).\n",
      "  __import__(name)\n",
      "/home/virgilxw/miniconda3/lib/python3.10/site-packages/cloudpickle/cloudpickle.py:649: UserWarning: Shapely 2.0 is installed, but because PyGEOS is also installed, GeoPandas will still use PyGEOS by default for now. To force to use and test Shapely 2.0, you have to set the environment variable USE_PYGEOS=0. You can do this before starting the Python process, or in your code before importing geopandas:\n",
      "\n",
      "import os\n",
      "os.environ['USE_PYGEOS'] = '0'\n",
      "import geopandas\n",
      "\n",
      "In a future release, GeoPandas will switch to using Shapely by default. If you are using PyGEOS directly (calling PyGEOS functions on geometries from GeoPandas), this will then stop working and you are encouraged to migrate from PyGEOS to Shapely 2.0 (https://shapely.readthedocs.io/en/latest/migration_pygeos.html).\n",
      "  __import__(name)\n",
      "/home/virgilxw/miniconda3/lib/python3.10/site-packages/cloudpickle/cloudpickle.py:649: UserWarning: Shapely 2.0 is installed, but because PyGEOS is also installed, GeoPandas will still use PyGEOS by default for now. To force to use and test Shapely 2.0, you have to set the environment variable USE_PYGEOS=0. You can do this before starting the Python process, or in your code before importing geopandas:\n",
      "\n",
      "import os\n",
      "os.environ['USE_PYGEOS'] = '0'\n",
      "import geopandas\n",
      "\n",
      "In a future release, GeoPandas will switch to using Shapely by default. If you are using PyGEOS directly (calling PyGEOS functions on geometries from GeoPandas), this will then stop working and you are encouraged to migrate from PyGEOS to Shapely 2.0 (https://shapely.readthedocs.io/en/latest/migration_pygeos.html).\n",
      "  __import__(name)\n",
      "/home/virgilxw/miniconda3/lib/python3.10/site-packages/cloudpickle/cloudpickle.py:649: UserWarning: Shapely 2.0 is installed, but because PyGEOS is also installed, GeoPandas will still use PyGEOS by default for now. To force to use and test Shapely 2.0, you have to set the environment variable USE_PYGEOS=0. You can do this before starting the Python process, or in your code before importing geopandas:\n",
      "\n",
      "import os\n",
      "os.environ['USE_PYGEOS'] = '0'\n",
      "import geopandas\n",
      "\n",
      "In a future release, GeoPandas will switch to using Shapely by default. If you are using PyGEOS directly (calling PyGEOS functions on geometries from GeoPandas), this will then stop working and you are encouraged to migrate from PyGEOS to Shapely 2.0 (https://shapely.readthedocs.io/en/latest/migration_pygeos.html).\n",
      "  __import__(name)\n",
      "/home/virgilxw/miniconda3/lib/python3.10/site-packages/cloudpickle/cloudpickle.py:649: UserWarning: Shapely 2.0 is installed, but because PyGEOS is also installed, GeoPandas will still use PyGEOS by default for now. To force to use and test Shapely 2.0, you have to set the environment variable USE_PYGEOS=0. You can do this before starting the Python process, or in your code before importing geopandas:\n",
      "\n",
      "import os\n",
      "os.environ['USE_PYGEOS'] = '0'\n",
      "import geopandas\n",
      "\n",
      "In a future release, GeoPandas will switch to using Shapely by default. If you are using PyGEOS directly (calling PyGEOS functions on geometries from GeoPandas), this will then stop working and you are encouraged to migrate from PyGEOS to Shapely 2.0 (https://shapely.readthedocs.io/en/latest/migration_pygeos.html).\n",
      "  __import__(name)\n",
      "/home/virgilxw/miniconda3/lib/python3.10/site-packages/cloudpickle/cloudpickle.py:649: UserWarning: Shapely 2.0 is installed, but because PyGEOS is also installed, GeoPandas will still use PyGEOS by default for now. To force to use and test Shapely 2.0, you have to set the environment variable USE_PYGEOS=0. You can do this before starting the Python process, or in your code before importing geopandas:\n",
      "\n",
      "import os\n",
      "os.environ['USE_PYGEOS'] = '0'\n",
      "import geopandas\n",
      "\n",
      "In a future release, GeoPandas will switch to using Shapely by default. If you are using PyGEOS directly (calling PyGEOS functions on geometries from GeoPandas), this will then stop working and you are encouraged to migrate from PyGEOS to Shapely 2.0 (https://shapely.readthedocs.io/en/latest/migration_pygeos.html).\n",
      "  __import__(name)\n"
     ]
    }
   ],
   "source": [
    "delayed_obj = []\n",
    "\n",
    "for uID, group in tessellation.groupby(\"uID\"):\n",
    "    building = buildings.loc[buildings[\"uID\"] == uID]\n",
    "    delayed_obj.append(find_largest(group, building))\n",
    "    \n",
    "objects = dask.compute(*delayed_obj)"
   ]
  },
  {
   "cell_type": "code",
   "execution_count": 42,
   "id": "c5f062bf",
   "metadata": {},
   "outputs": [],
   "source": [
    "tessellation = gpd.GeoDataFrame(pd.concat(list(objects)), crs=tessellation.crs).reset_index(drop=True)"
   ]
  },
  {
   "cell_type": "code",
   "execution_count": 43,
   "id": "6d565e8a",
   "metadata": {},
   "outputs": [],
   "source": [
    "tessellation = tessellation.join(buildings, on='uID', how='inner', rsuffix=\"right\")"
   ]
  },
  {
   "cell_type": "code",
   "execution_count": 44,
   "id": "c8c42520",
   "metadata": {},
   "outputs": [],
   "source": [
    "tessellation[\"new_uID\"] = range(len(tessellation))"
   ]
  },
  {
   "cell_type": "code",
   "execution_count": 45,
   "id": "d1421785",
   "metadata": {},
   "outputs": [],
   "source": [
    "buildings = pd.merge(buildings, tessellation, how='inner', left_on='uID', right_on='uID')"
   ]
  },
  {
   "cell_type": "code",
   "execution_count": 46,
   "id": "134e7eba",
   "metadata": {},
   "outputs": [],
   "source": [
    "buildings[\"uID\"] = buildings[\"new_uID\"]\n",
    "tessellation[\"uID\"] = tessellation[\"new_uID\"]"
   ]
  },
  {
   "cell_type": "code",
   "execution_count": 47,
   "id": "bc9ffbf2",
   "metadata": {},
   "outputs": [],
   "source": [
    "buildings.drop([\"geometry_y\", \"geometryright\", \"uIDright\", \"new_uID\"], axis = 1, inplace = True)\n",
    "buildings.rename(columns = {\"geometry_x\": \"geometry\"}, inplace = True)"
   ]
  },
  {
   "cell_type": "code",
   "execution_count": 48,
   "id": "e00e98d6",
   "metadata": {},
   "outputs": [],
   "source": [
    "buildings = gpd.GeoDataFrame(buildings).set_crs(tessellation.crs, allow_override=True)"
   ]
  },
  {
   "cell_type": "code",
   "execution_count": 49,
   "id": "d1e9c890",
   "metadata": {},
   "outputs": [],
   "source": [
    "buildings = buildings.sort_values(by='uID', ascending=True)"
   ]
  },
  {
   "cell_type": "code",
   "execution_count": 1,
   "id": "ee5675f2",
   "metadata": {},
   "outputs": [
    {
     "ename": "NameError",
     "evalue": "name 'tessellation' is not defined",
     "output_type": "error",
     "traceback": [
      "\u001b[0;31m---------------------------------------------------------------------------\u001b[0m",
      "\u001b[0;31mNameError\u001b[0m                                 Traceback (most recent call last)",
      "Cell \u001b[0;32mIn[1], line 1\u001b[0m\n\u001b[0;32m----> 1\u001b[0m tessellation \u001b[39m=\u001b[39m tessellation\u001b[39m.\u001b[39msort_values(by\u001b[39m=\u001b[39m\u001b[39m'\u001b[39m\u001b[39muID\u001b[39m\u001b[39m'\u001b[39m, ascending\u001b[39m=\u001b[39m\u001b[39mTrue\u001b[39;00m)\n\u001b[1;32m      2\u001b[0m tessellation\u001b[39m.\u001b[39mdrop([\u001b[39m\"\u001b[39m\u001b[39mgeometryright\u001b[39m\u001b[39m\"\u001b[39m, \u001b[39m\"\u001b[39m\u001b[39muIDright\u001b[39m\u001b[39m\"\u001b[39m, \u001b[39m\"\u001b[39m\u001b[39mnew_uID\u001b[39m\u001b[39m\"\u001b[39m], axis \u001b[39m=\u001b[39m \u001b[39m1\u001b[39m, inplace \u001b[39m=\u001b[39m \u001b[39mTrue\u001b[39;00m)\n\u001b[1;32m      3\u001b[0m tessellation \u001b[39m=\u001b[39m tessellation\u001b[39m.\u001b[39mto_crs(local_crs)\n",
      "\u001b[0;31mNameError\u001b[0m: name 'tessellation' is not defined"
     ]
    }
   ],
   "source": [
    "tessellation = tessellation.sort_values(by='uID', ascending=True)\n",
    "tessellation.drop([\"geometryright\", \"uIDright\", \"new_uID\"], axis = 1, inplace = True)\n",
    "tessellation = tessellation.to_crs(local_crs)\n",
    "tessellation = tessellation.reset_index(drop=True)"
   ]
  },
  {
   "cell_type": "code",
   "execution_count": 28,
   "id": "cc5fd69f",
   "metadata": {
    "papermill": {
     "duration": null,
     "end_time": null,
     "exception": null,
     "start_time": null,
     "status": "pending"
    },
    "tags": []
   },
   "outputs": [],
   "source": [
    "Daskcluster.close()\n",
    "client.shutdown()"
   ]
  },
  {
   "cell_type": "code",
   "execution_count": 56,
   "id": "376557b1",
   "metadata": {},
   "outputs": [
    {
     "data": {
      "text/plain": [
       "geometry       POLYGON ((50664.41540419368 44793.93508395505,...\n",
       "uID                                                        75038\n",
       "uID_left                                                     NaN\n",
       "index_right                                                  NaN\n",
       "uID_right                                                    NaN\n",
       "Name: 75038, dtype: object"
      ]
     },
     "execution_count": 56,
     "metadata": {},
     "output_type": "execute_result"
    }
   ],
   "source": [
    "buildings.iloc[buildings[\"uID\"].idxmax()]"
   ]
  },
  {
   "cell_type": "code",
   "execution_count": 29,
   "id": "dbc32f1b",
   "metadata": {
    "papermill": {
     "duration": null,
     "end_time": null,
     "exception": null,
     "start_time": null,
     "status": "pending"
    },
    "tags": []
   },
   "outputs": [],
   "source": [
    "tessellation.to_parquet(f\"./out/{place}/tessellation.pq\")"
   ]
  },
  {
   "cell_type": "code",
   "execution_count": 30,
   "id": "47b90b73",
   "metadata": {
    "papermill": {
     "duration": null,
     "end_time": null,
     "exception": null,
     "start_time": null,
     "status": "pending"
    },
    "tags": []
   },
   "outputs": [],
   "source": [
    "buildings.to_parquet(f\"./out/{place}/buildings.pq\")"
   ]
  },
  {
   "cell_type": "code",
   "execution_count": null,
   "id": "114f2a28",
   "metadata": {
    "papermill": {
     "duration": null,
     "end_time": null,
     "exception": null,
     "start_time": null,
     "status": "pending"
    },
    "tags": []
   },
   "outputs": [],
   "source": []
  }
 ],
 "metadata": {
  "kernelspec": {
   "display_name": "base",
   "language": "python",
   "name": "python3"
  },
  "language_info": {
   "codemirror_mode": {
    "name": "ipython",
    "version": 3
   },
   "file_extension": ".py",
   "mimetype": "text/x-python",
   "name": "python",
   "nbconvert_exporter": "python",
   "pygments_lexer": "ipython3",
   "version": "3.10.10"
  },
  "papermill": {
   "default_parameters": {},
   "duration": 485.464955,
   "end_time": "2023-04-28T16:17:23.709211",
   "environment_variables": {},
   "exception": true,
   "input_path": "2-tessellation.ipynb",
   "output_path": "./out/singapore/2-tessellation-output.ipynb",
   "parameters": {},
   "start_time": "2023-04-28T16:09:18.244256",
   "version": "2.3.4"
  },
  "vscode": {
   "interpreter": {
    "hash": "4d4a16af7eecff68ca78f81aec8d4e5ee20d890b8903eddd3dd732009f4fdc6f"
   }
  }
 },
 "nbformat": 4,
 "nbformat_minor": 5
}
