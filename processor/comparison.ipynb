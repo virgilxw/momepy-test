{
 "cells": [
  {
   "cell_type": "code",
   "execution_count": null,
   "metadata": {},
   "outputs": [],
   "source": [
    "import osmnx as ox\n",
    "import momepy\n",
    "import geopandas as gpd\n",
    "import shapely\n",
    "from shapely.geometry import LineString\n",
    "from shapely.ops import unary_union\n",
    "import os\n",
    "from dotenv import load_dotenv\n",
    "import planetary_computer\n",
    "import pystac_client\n",
    "import dask.dataframe\n",
    "import dask_geopandas\n",
    "import dask.distributed\n",
    "import deltalake\n",
    "import shapely.geometry\n",
    "import contextily\n",
    "import mercantile\n",
    "from shapely.geometry import Polygon"
   ]
  },
  {
   "cell_type": "code",
   "execution_count": null,
   "metadata": {},
   "outputs": [],
   "source": [
    "# Define the bounding box coordinates\n",
    "bbox = [37.935104,48.547183,38.067799,48.633703]\n",
    "\n",
    "# Create a Polygon from the bounding box\n",
    "polygon = Polygon([(bbox[0], bbox[1]), \n",
    "                   (bbox[0], bbox[3]), \n",
    "                   (bbox[2], bbox[3]), \n",
    "                   (bbox[2], bbox[1])])\n",
    "\n",
    "# Create a GeoDataFrame\n",
    "gdf = gpd.GeoDataFrame([1], geometry=[polygon], crs='EPSG:4326')"
   ]
  },
  {
   "cell_type": "code",
   "execution_count": null,
   "metadata": {},
   "outputs": [],
   "source": [
    "area_of_interest = gdf.geometry[0]"
   ]
  },
  {
   "cell_type": "code",
   "execution_count": null,
   "metadata": {},
   "outputs": [],
   "source": [
    "area_of_interest"
   ]
  },
  {
   "cell_type": "code",
   "execution_count": null,
   "metadata": {},
   "outputs": [],
   "source": [
    "catalog = pystac_client.Client.open(\n",
    "    \"https://planetarycomputer.microsoft.com/api/stac/v1\",\n",
    "    modifier=planetary_computer.sign_inplace,\n",
    ")\n",
    "collection = catalog.get_collection(\"ms-buildings\")"
   ]
  },
  {
   "cell_type": "code",
   "execution_count": null,
   "metadata": {},
   "outputs": [],
   "source": [
    "asset = collection.assets[\"delta\"]"
   ]
  },
  {
   "cell_type": "code",
   "execution_count": null,
   "metadata": {},
   "outputs": [],
   "source": [
    "storage_options = {\n",
    "    \"account_name\": asset.extra_fields[\"table:storage_options\"][\"account_name\"],\n",
    "    \"sas_token\": asset.extra_fields[\"table:storage_options\"][\"credential\"],\n",
    "}\n",
    "table = deltalake.DeltaTable(asset.href, storage_options=storage_options)"
   ]
  },
  {
   "cell_type": "code",
   "execution_count": null,
   "metadata": {},
   "outputs": [],
   "source": [
    "quadkeys = [\n",
    "    int(mercantile.quadkey(tile))\n",
    "    for tile in mercantile.tiles(*area_of_interest.bounds, zooms=9)\n",
    "]\n",
    "quadkeys"
   ]
  },
  {
   "cell_type": "code",
   "execution_count": null,
   "metadata": {},
   "outputs": [],
   "source": [
    "uris = table.file_uris([(\"quadkey\", \"in\", quadkeys)])\n",
    "uris"
   ]
  },
  {
   "cell_type": "code",
   "execution_count": null,
   "metadata": {},
   "outputs": [],
   "source": [
    "df = dask_geopandas.read_parquet(uris, storage_options=storage_options)\n",
    "df"
   ]
  },
  {
   "cell_type": "code",
   "execution_count": null,
   "metadata": {},
   "outputs": [],
   "source": [
    "subset = df.clip(area_of_interest).compute()"
   ]
  },
  {
   "cell_type": "code",
   "execution_count": null,
   "metadata": {},
   "outputs": [],
   "source": [
    "subset.plot()"
   ]
  },
  {
   "cell_type": "code",
   "execution_count": null,
   "metadata": {},
   "outputs": [],
   "source": [
    "buildings = ox.geometries.geometries_from_polygon(area_of_interest, tags={'building':True})"
   ]
  },
  {
   "cell_type": "code",
   "execution_count": null,
   "metadata": {},
   "outputs": [],
   "source": [
    "buildings.plot()"
   ]
  }
 ],
 "metadata": {
  "kernelspec": {
   "display_name": "base",
   "language": "python",
   "name": "python3"
  },
  "language_info": {
   "codemirror_mode": {
    "name": "ipython",
    "version": 3
   },
   "file_extension": ".py",
   "mimetype": "text/x-python",
   "name": "python",
   "nbconvert_exporter": "python",
   "pygments_lexer": "ipython3",
   "version": "3.10.10"
  }
 },
 "nbformat": 4,
 "nbformat_minor": 2
}
