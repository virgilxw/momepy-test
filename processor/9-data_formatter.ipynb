{
 "cells": [
  {
   "cell_type": "code",
   "execution_count": null,
   "metadata": {},
   "outputs": [],
   "source": [
    "import geopandas as gpd\n",
    "import pandas as pd\n",
    "import os\n",
    "import matplotlib.pyplot as plt\n",
    "import subprocess\n",
    "import json"
   ]
  },
  {
   "cell_type": "code",
   "execution_count": null,
   "metadata": {
    "tags": [
     "parameters"
    ]
   },
   "outputs": [],
   "source": [
    "place=\"singapore\""
   ]
  },
  {
   "cell_type": "code",
   "execution_count": null,
   "metadata": {},
   "outputs": [],
   "source": [
    "# Build file path\n",
    "file_path = f'./out/{place}/final/weighted_difference_between_clusters.json'\n",
    "\n",
    "# Load JSON file\n",
    "with open(file_path, 'r') as file:\n",
    "    colours = json.load(file)"
   ]
  },
  {
   "cell_type": "code",
   "execution_count": null,
   "metadata": {},
   "outputs": [],
   "source": [
    "buildings = gpd.read_parquet(f\"./out/{place}/buildings.pq\")\n",
    "tessellation = gpd.read_parquet(f\"./out/{place}/tessellation_stats_clusters.pq\")\n",
    "streets = gpd.read_parquet(f\"./out/{place}/streets.pq\")"
   ]
  },
  {
   "cell_type": "code",
   "execution_count": null,
   "metadata": {},
   "outputs": [],
   "source": [
    "tessellation_colours = tessellation\n",
    "tessellation_colours['colour_values'] = tessellation['cluster_ID'].astype(str).str.split('.').str[0].map(colours)"
   ]
  },
  {
   "cell_type": "code",
   "execution_count": null,
   "metadata": {},
   "outputs": [],
   "source": [
    "# Map for comparison\n",
    "f, ax = plt.subplots(figsize=(200, 200))\n",
    "tessellation_colours.plot(column='colour_values', cmap='gist_rainbow', linewidth=0.8, ax=ax, edgecolor='0.8')\n",
    "streets.plot(ax=ax, color='blue')\n",
    "buildings.plot(ax=ax, color='black', alpha=0.5)\n",
    "ax.set_axis_off()\n",
    "\n",
    "# Show the plot\n",
    "plt.show()"
   ]
  },
  {
   "cell_type": "code",
   "execution_count": null,
   "metadata": {},
   "outputs": [],
   "source": [
    "# Map for comparison\n",
    "f, ax = plt.subplots(figsize=(200, 200))\n",
    "tessellation_colours.plot(column='cluster_ID', linewidth=0.8, ax=ax, edgecolor='0.8')\n",
    "streets.plot(ax=ax, color='blue')\n",
    "buildings.plot(ax=ax, color='black', alpha=0.5)\n",
    "ax.set_axis_off()\n",
    "\n",
    "# Show the plot\n",
    "plt.show()"
   ]
  },
  {
   "cell_type": "code",
   "execution_count": null,
   "metadata": {},
   "outputs": [],
   "source": [
    "file = f'./out/{place}/final/tessellation.geojson'\n",
    "\n",
    "if os.path.exists(file):\n",
    "    os.remove(file)\n",
    "    print(\"File deleted successfully.\")\n",
    "else:\n",
    "    print(\"File not found.\")"
   ]
  },
  {
   "cell_type": "code",
   "execution_count": null,
   "metadata": {},
   "outputs": [],
   "source": [
    "def set_geojson_precision_and_trim_write(n_coords: int, n_trim: int, file_path: str) -> tuple:\n",
    "\n",
    "    with open(file_path, 'r') as f:\n",
    "        data = json.load(f)\n",
    "    \n",
    "    def set_precision_and_trim(coords, n):\n",
    "        if isinstance(coords, list):\n",
    "            return [set_precision_and_trim(c, n) for c in coords]\n",
    "        elif isinstance(coords, dict):\n",
    "            return {k: set_precision_and_trim(v, n) for k, v in coords.items()}\n",
    "        elif isinstance(coords, float):\n",
    "            return round(coords, n)\n",
    "        else:\n",
    "            if isinstance(coords, str) and coords.isdigit():\n",
    "                return coords  # Don't trim strings that are only digits\n",
    "            try:\n",
    "                return float(coords)  # Leave other numbers untouched\n",
    "            except (ValueError, TypeError):\n",
    "                return coords\n",
    "    \n",
    "    for i,feature in enumerate(data['features']):\n",
    "        for key in data['features'][i][\"properties\"].keys():\n",
    "            if type(data['features'][i][\"properties\"][key]) == float:\n",
    "                data['features'][i][\"properties\"][key] = round(data['features'][i][\"properties\"][key], n_trim)\n",
    "            else:\n",
    "                continue\n",
    "            \n",
    "        try:\n",
    "            data['features'][i][\"geometry\"][\"coordinates\"] = set_precision_and_trim(data['features'][i][\"geometry\"][\"coordinates\"], n_coords)\n",
    "        except:\n",
    "            print(\"test\")\n",
    "\n",
    "    # Write the modified data to a new file with the name appended with \"_trimmed\"\n",
    "    path, ext = os.path.splitext(file_path)\n",
    "    new_file_path = path + '_trimmed' + ext\n",
    "    with open(new_file_path, 'w') as f:\n",
    "        json.dump(data, f)\n",
    "    \n",
    "    return os.path.basename(new_file_path), new_file_path"
   ]
  },
  {
   "cell_type": "code",
   "execution_count": null,
   "metadata": {},
   "outputs": [],
   "source": [
    "import contextily as ctx"
   ]
  },
  {
   "cell_type": "code",
   "execution_count": null,
   "metadata": {},
   "outputs": [],
   "source": [
    "# Define the name and filepath of the GeoJSON file to upload\n",
    "\n",
    "tessellation.to_crs(\"epsg:4326\").to_file(file, driver='GeoJSON')\n",
    "\n",
    "file_name, file_path = set_geojson_precision_and_trim_write(7, 3, file)"
   ]
  },
  {
   "cell_type": "code",
   "execution_count": null,
   "metadata": {},
   "outputs": [],
   "source": [
    "file = f'./out/{place}/final/buildings.geojson'\n",
    "\n",
    "if os.path.exists(file):\n",
    "    os.remove(file)\n",
    "    print(\"File deleted successfully.\")\n",
    "else:\n",
    "    print(\"File not found.\")"
   ]
  },
  {
   "cell_type": "code",
   "execution_count": null,
   "metadata": {},
   "outputs": [],
   "source": [
    "buildings.set_crs(tessellation.crs).to_crs(\"epsg:4326\").to_file(file, driver='GeoJSON')"
   ]
  },
  {
   "cell_type": "code",
   "execution_count": null,
   "metadata": {},
   "outputs": [],
   "source": [
    "file_name, file_path = set_geojson_precision_and_trim_write(7, 3, file)"
   ]
  },
  {
   "cell_type": "code",
   "execution_count": null,
   "metadata": {},
   "outputs": [],
   "source": []
  }
 ],
 "metadata": {
  "kernelspec": {
   "display_name": "base",
   "language": "python",
   "name": "python3"
  },
  "language_info": {
   "codemirror_mode": {
    "name": "ipython",
    "version": 3
   },
   "file_extension": ".py",
   "mimetype": "text/x-python",
   "name": "python",
   "nbconvert_exporter": "python",
   "pygments_lexer": "ipython3",
   "version": "3.10.10"
  }
 },
 "nbformat": 4,
 "nbformat_minor": 2
}
