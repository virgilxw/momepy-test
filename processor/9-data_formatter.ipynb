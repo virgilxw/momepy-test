{
 "cells": [
  {
   "cell_type": "code",
   "execution_count": null,
   "metadata": {},
   "outputs": [],
   "source": [
    "import geopandas as gpd\n",
    "import pandas as pd\n",
    "import os\n",
    "import matplotlib.pyplot as plt\n",
    "import subprocess\n",
    "import json\n",
    "import pysal.viz.mapclassify as mc\n",
    "import numpy as np\n",
    "import re"
   ]
  },
  {
   "cell_type": "code",
   "execution_count": null,
   "metadata": {
    "tags": [
     "parameters"
    ]
   },
   "outputs": [],
   "source": [
    "place=\"singapore\""
   ]
  },
  {
   "cell_type": "code",
   "execution_count": null,
   "metadata": {},
   "outputs": [],
   "source": [
    "# Build file path\n",
    "file_path = f'./out/{place}/final/weighted_difference_between_clusters.json'\n",
    "\n",
    "# Load JSON file\n",
    "with open(file_path, 'r') as file:\n",
    "    colours = json.load(file)"
   ]
  },
  {
   "cell_type": "code",
   "execution_count": null,
   "metadata": {},
   "outputs": [],
   "source": [
    "buildings = gpd.read_parquet(f\"./out/{place}/buildings.pq\")\n",
    "tessellation = gpd.read_parquet(f\"./out/{place}/tessellation_stats_clusters.pq\")\n",
    "streets = gpd.read_parquet(f\"./out/{place}/streets.pq\")"
   ]
  },
  {
   "cell_type": "code",
   "execution_count": null,
   "metadata": {},
   "outputs": [],
   "source": [
    "tessellation.head()"
   ]
  },
  {
   "cell_type": "code",
   "execution_count": null,
   "metadata": {},
   "outputs": [],
   "source": [
    "tessellation_colours = tessellation\n",
    "tessellation_colours['colour_values'] = tessellation['cluster_ID'].astype(str).str.split('.').str[0].map(colours)"
   ]
  },
  {
   "cell_type": "code",
   "execution_count": null,
   "metadata": {},
   "outputs": [],
   "source": [
    "tessellation = gpd.read_parquet(f\"./out/{place}/tessellation_stats_no_percentile.pq\")\n",
    "\n",
    "df = tessellation.drop(['uID', 'geometry'], axis=1)\n",
    "\n",
    "t = gpd.read_parquet(f\"./out/{place}/tessellation_stats_clusters.pq\")\n",
    "\n",
    "tessellation = tessellation.merge(t.drop([\"geometry\"], axis=1), on='uID')"
   ]
  },
  {
   "cell_type": "code",
   "execution_count": null,
   "metadata": {},
   "outputs": [],
   "source": [
    "# Map for comparison\n",
    "f, ax = plt.subplots(figsize=(200, 200))\n",
    "tessellation_colours.plot(column='cluster_ID', linewidth=0.8, ax=ax, edgecolor='0.8')\n",
    "streets.plot(ax=ax, color='blue')\n",
    "buildings.plot(ax=ax, color='black', alpha=0.5)\n",
    "ax.set_axis_off()\n",
    "\n",
    "# Show the plot\n",
    "plt.show()"
   ]
  },
  {
   "cell_type": "code",
   "execution_count": null,
   "metadata": {},
   "outputs": [],
   "source": [
    "def deal_with_limit_string (value):\n",
    "    limits = [float(i) for i in value[1:-1].split(',')]\n",
    "\n",
    "    if value[0] == \"(\":\n",
    "        limits[0] = limits[0] + 0.01\n",
    "\n",
    "    if value[-1] == \")\":\n",
    "        limits[1] = limits[1] - 0.01\n",
    "    \n",
    "    return limits\n",
    "\n",
    "# Create a new DataFrame to store the results\n",
    "jenks_df = {f\"{place}\":{}}\n",
    "\n",
    "# Iterate through the columns of the GeoDataFrame\n",
    "for column in tessellation.columns:\n",
    "    jenks_df[place][column] = {}\n",
    "    # Skip non-numeric columns\n",
    "    if not tessellation[column].dtype in ['int', 'float']:\n",
    "        continue\n",
    "\n",
    "    values = tessellation[column].dropna()\n",
    "    \n",
    "    # Exclude infinite values\n",
    "    values = values.replace([np.inf, -np.inf], np.nan).dropna()\n",
    "    \n",
    "    classifier = mc.NaturalBreaks(values, k=8)  # k is the number of classes\n",
    "\n",
    "    jenks_df[place][column][\"classes\"] = [deal_with_limit_string(bucket) for bucket in classifier.get_legend_classes()]\n",
    "    jenks_df[place][column][\"min\"] = str(values.min())\n",
    "    jenks_df[place][column][\"max\"] = str(values.max())\n",
    "\n",
    "with open(f'./out/{place}/final/jenks.json', \"w\") as outfile:\n",
    "    json.dump(jenks_df, outfile)"
   ]
  },
  {
   "cell_type": "code",
   "execution_count": null,
   "metadata": {},
   "outputs": [],
   "source": [
    "file = f'./out/{place}/final/tessellation.geojson'\n",
    "\n",
    "if os.path.exists(file):\n",
    "    os.remove(file)\n",
    "    print(\"File deleted successfully.\")\n",
    "else:\n",
    "    print(\"File not found.\")"
   ]
  },
  {
   "cell_type": "code",
   "execution_count": null,
   "metadata": {},
   "outputs": [],
   "source": [
    "def set_geojson_precision_and_trim_write(n_coords: int, n_trim: int, file_path: str) -> tuple:\n",
    "\n",
    "    with open(file_path, 'r') as f:\n",
    "        data = json.load(f)\n",
    "    \n",
    "    def set_precision_and_trim(coords, n):\n",
    "        if isinstance(coords, list):\n",
    "            return [set_precision_and_trim(c, n) for c in coords]\n",
    "        elif isinstance(coords, dict):\n",
    "            return {k: set_precision_and_trim(v, n) for k, v in coords.items()}\n",
    "        elif isinstance(coords, float):\n",
    "            return round(coords, n)\n",
    "        else:\n",
    "            if isinstance(coords, str) and coords.isdigit():\n",
    "                return coords  # Don't trim strings that are only digits\n",
    "            try:\n",
    "                return float(coords)  # Leave other numbers untouched\n",
    "            except (ValueError, TypeError):\n",
    "                return coords\n",
    "    \n",
    "    for i,feature in enumerate(data['features']):\n",
    "        for key in data['features'][i][\"properties\"].keys():\n",
    "            if type(data['features'][i][\"properties\"][key]) == float:\n",
    "                data['features'][i][\"properties\"][key] = round(data['features'][i][\"properties\"][key], n_trim)\n",
    "            else:\n",
    "                continue\n",
    "            \n",
    "        try:\n",
    "            data['features'][i][\"geometry\"][\"coordinates\"] = set_precision_and_trim(data['features'][i][\"geometry\"][\"coordinates\"], n_coords)\n",
    "        except:\n",
    "            print(\"test\")\n",
    "\n",
    "    # Write the modified data to a new file with the name appended with \"_trimmed\"\n",
    "    path, ext = os.path.splitext(file_path)\n",
    "    new_file_path = path + '_trimmed' + ext\n",
    "    with open(new_file_path, 'w') as f:\n",
    "        json.dump(data, f)\n",
    "    \n",
    "    return os.path.basename(new_file_path), new_file_path"
   ]
  },
  {
   "cell_type": "code",
   "execution_count": null,
   "metadata": {},
   "outputs": [],
   "source": [
    "# Define the name and filepath of the GeoJSON file to upload\n",
    "\n",
    "tessellation.to_crs(\"epsg:4326\").to_file(file, driver='GeoJSON')\n",
    "\n",
    "file_name, file_path = set_geojson_precision_and_trim_write(7, 3, file)"
   ]
  },
  {
   "cell_type": "code",
   "execution_count": null,
   "metadata": {},
   "outputs": [],
   "source": [
    "file = f'./out/{place}/final/buildings.geojson'\n",
    "\n",
    "if os.path.exists(file):\n",
    "    os.remove(file)\n",
    "    print(\"File deleted successfully.\")\n",
    "else:\n",
    "    print(\"File not found.\")"
   ]
  },
  {
   "cell_type": "code",
   "execution_count": null,
   "metadata": {},
   "outputs": [],
   "source": [
    "buildings.set_crs(tessellation.crs).to_crs(\"epsg:4326\").to_file(file, driver='GeoJSON')"
   ]
  },
  {
   "cell_type": "code",
   "execution_count": null,
   "metadata": {},
   "outputs": [],
   "source": [
    "file_name, file_path = set_geojson_precision_and_trim_write(7, 3, file)"
   ]
  },
  {
   "cell_type": "code",
   "execution_count": null,
   "metadata": {},
   "outputs": [],
   "source": [
    "tessellation.drop([\"geometry\"], axis=1).to_csv(f'./out/{place}/final/{place}-tess.csv', index=False)"
   ]
  },
  {
   "cell_type": "code",
   "execution_count": null,
   "metadata": {},
   "outputs": [],
   "source": [
    "import csv\n",
    "\n",
    "def shorten_to_three_decimals(value):\n",
    "    if value:\n",
    "        return round(float(value), 3)\n",
    "    else:\n",
    "        return \"\"\n",
    "\n",
    "def shorten_csv_values(input_file, output_file):\n",
    "    with open(input_file, 'r') as file:\n",
    "        reader = csv.reader(file)\n",
    "        rows = list(reader)\n",
    "\n",
    "    updated_rows = []\n",
    "    updated_rows.append(rows[0])  # Append the first row as it is (header)\n",
    "\n",
    "    for row in rows[1:]:\n",
    "        updated_row = [str(shorten_to_three_decimals(value)) for value in row]\n",
    "        updated_rows.append(updated_row)\n",
    "\n",
    "    with open(output_file, 'w', newline='') as file:\n",
    "        writer = csv.writer(file)\n",
    "        writer.writerows(updated_rows)\n",
    "\n",
    "    print(f\"Values in '{input_file}' (excluding the first row) have been shortened to three decimal places (ignoring empty cells) and saved to '{output_file}'.\")\n",
    "\n",
    "# Example usage\n",
    "input_file = f'./out/{place}/final/{place}-tess.csv'  # Replace with your input CSV file path\n",
    "output_file = f'./out/{place}/final/{place}-tess.csv'  # Replace with the desired output CSV file path\n",
    "\n",
    "shorten_csv_values(input_file, output_file)"
   ]
  }
 ],
 "metadata": {
  "kernelspec": {
   "display_name": "base",
   "language": "python",
   "name": "python3"
  },
  "language_info": {
   "codemirror_mode": {
    "name": "ipython",
    "version": 3
   },
   "file_extension": ".py",
   "mimetype": "text/x-python",
   "name": "python",
   "nbconvert_exporter": "python",
   "pygments_lexer": "ipython3",
   "version": "3.10.10"
  }
 },
 "nbformat": 4,
 "nbformat_minor": 2
}
