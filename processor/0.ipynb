{
 "cells": [
  {
   "cell_type": "code",
   "execution_count": 10,
   "metadata": {},
   "outputs": [],
   "source": [
    "import papermill as pm\n",
    "import geopandas as gpd"
   ]
  },
  {
   "cell_type": "code",
   "execution_count": 12,
   "metadata": {},
   "outputs": [
    {
     "data": {
      "application/vnd.jupyter.widget-view+json": {
       "model_id": "f180dfd9c6664270841c923876d79e91",
       "version_major": 2,
       "version_minor": 0
      },
      "text/plain": [
       "Executing:   0%|          | 0/37 [00:00<?, ?cell/s]"
      ]
     },
     "metadata": {},
     "output_type": "display_data"
    }
   ],
   "source": [
    "%%time\n",
    "pm.execute_notebook(\n",
    "   '1.0-osmnx.ipynb',\n",
    "   './out/singapore/1.0-osmnx-output.ipynb',\n",
    "   parameters=dict(local_crs = 3414, place = \"Singapore\", latlng = (1.29, 103.85), dist = 30000, study_area = \"./source/Singapore_studyArea.shp\")\n",
    ")"
   ]
  },
  {
   "cell_type": "code",
   "execution_count": null,
   "metadata": {},
   "outputs": [],
   "source": [
    "%%time\n",
    "pm.execute_notebook(\n",
    "   '1.0-osmnx.ipynb',\n",
    "   './out/singapore/1.2-process_roads.ipynb'\n",
    ")"
   ]
  },
  {
   "cell_type": "code",
   "execution_count": null,
   "metadata": {},
   "outputs": [],
   "source": [
    "%%time\n",
    "pm.execute_notebook(\n",
    "   '2-tessellation.ipynb',\n",
    "   './out/singapore/2-tessellation-output.ipynb',\n",
    ")"
   ]
  },
  {
   "cell_type": "code",
   "execution_count": null,
   "metadata": {},
   "outputs": [],
   "source": [
    "%%time\n",
    "pm.execute_notebook(\n",
    "   '5-network.ipynb',\n",
    "   './out/singapore/5-network-output.ipynb',\n",
    ")"
   ]
  },
  {
   "cell_type": "code",
   "execution_count": null,
   "metadata": {},
   "outputs": [],
   "source": [
    "%%time\n",
    "pm.execute_notebook(\n",
    "   '6-Morphometrics.ipynb',\n",
    "   './out/singapore/6-Morphometrics-output.ipynb',\n",
    ")"
   ]
  },
  {
   "cell_type": "code",
   "execution_count": null,
   "metadata": {},
   "outputs": [],
   "source": [
    "%%time\n",
    "pm.execute_notebook(\n",
    "   '7-clustering_morph_data.ipynb',\n",
    "   './out/singapore/7-clustering_morph_data-output.ipynb',\n",
    ")"
   ]
  }
 ],
 "metadata": {
  "kernelspec": {
   "display_name": "base",
   "language": "python",
   "name": "python3"
  },
  "language_info": {
   "codemirror_mode": {
    "name": "ipython",
    "version": 3
   },
   "file_extension": ".py",
   "mimetype": "text/x-python",
   "name": "python",
   "nbconvert_exporter": "python",
   "pygments_lexer": "ipython3",
   "version": "3.10.10"
  },
  "orig_nbformat": 4
 },
 "nbformat": 4,
 "nbformat_minor": 2
}
