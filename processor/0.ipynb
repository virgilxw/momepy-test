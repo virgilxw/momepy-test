{
 "cells": [
  {
   "cell_type": "code",
   "execution_count": null,
   "metadata": {},
   "outputs": [],
   "source": [
    "import papermill as pm\n",
    "import geopandas as gpd\n",
    "import os\n",
    "import time\n",
    "import shutil"
   ]
  },
  {
   "cell_type": "code",
   "execution_count": null,
   "metadata": {
    "tags": [
     "parameters"
    ]
   },
   "outputs": [],
   "source": [
    "local_crs = 26917\n",
    "place = \"atlanta\"\n",
    "latlng = (-84.388168, 33.748783)\n",
    "dist = 30000\n",
    "study_area = \"./source/atlanta_studyArea.shp\""
   ]
  },
  {
   "cell_type": "code",
   "execution_count": null,
   "metadata": {},
   "outputs": [],
   "source": [
    "# specify the directory path you want to create\n",
    "directory = f\"./out/{place}/\"\n",
    "\n",
    "# check if directory exists\n",
    "if not os.path.exists(directory):\n",
    "    # create directory if it doesn't exist\n",
    "    os.makedirs(directory)\n"
   ]
  },
  {
   "cell_type": "code",
   "execution_count": null,
   "metadata": {},
   "outputs": [],
   "source": [
    "# Define the source and destination folders\n",
    "source_folder = f\"./out/{place}/\"\n",
    "destination_folder = f\"./out/{place}/old/\"\n",
    "\n",
    "# Create the \"old\" folder if it doesn't exist\n",
    "if not os.path.exists(destination_folder):\n",
    "    os.makedirs(destination_folder)\n",
    "\n",
    "# Delete everything inside the \"old\" folder\n",
    "for filename in os.listdir(destination_folder):\n",
    "    file_path = os.path.join(destination_folder, filename)\n",
    "    if os.path.isfile(file_path):\n",
    "        os.remove(file_path)\n",
    "    elif os.path.isdir(file_path):\n",
    "        shutil.rmtree(file_path)\n",
    "\n",
    "# Move the files to the \"old\" folder\n",
    "for filename in os.listdir(source_folder):\n",
    "    file_path = os.path.join(source_folder, filename)\n",
    "    if os.path.isfile(file_path):\n",
    "        shutil.move(file_path, destination_folder)\n"
   ]
  },
  {
   "cell_type": "code",
   "execution_count": null,
   "metadata": {},
   "outputs": [],
   "source": [
    "pm.execute_notebook(\n",
    "    '1.0-osmnx.ipynb',\n",
    "    f'./out/{place}/1.0-osmnx-output.ipynb',\n",
    "    parameters=dict(local_crs = local_crs, place = place, latlng = latlng, dist = dist, study_area = study_area)\n",
    ")\n",
    "\n",
    "print(\"1.0-osmnx.ipynb done\")"
   ]
  },
  {
   "cell_type": "code",
   "execution_count": null,
   "metadata": {},
   "outputs": [],
   "source": [
    "pm.execute_notebook(\n",
    "    '1.2-process_roads.ipynb',\n",
    "    f'./out/{place}/1.2-process_roads.ipynb',\n",
    "    parameters=dict(local_crs = local_crs, place = place)\n",
    ")\n",
    "\n",
    "print(\"1.2-process_roads.ipynb done\")"
   ]
  },
  {
   "cell_type": "code",
   "execution_count": null,
   "metadata": {},
   "outputs": [],
   "source": [
    "pm.execute_notebook(\n",
    "    '2-tessellation.ipynb',\n",
    "    f'./out/{place}/2-tessellation-output.ipynb',\n",
    "    parameters=dict(local_crs = local_crs, place = place)\n",
    ")\n",
    "\n",
    "print(\"2-tessellation.ipynb done\")"
   ]
  },
  {
   "cell_type": "code",
   "execution_count": null,
   "metadata": {},
   "outputs": [],
   "source": [
    "pm.execute_notebook(\n",
    "    '5-network.ipynb',\n",
    "    f'./out/{place}/5-network-output.ipynb',\n",
    "    parameters=dict(local_crs = local_crs, place = place)\n",
    ")\n",
    "\n",
    "print(\"5-network.ipynb done\")"
   ]
  },
  {
   "cell_type": "code",
   "execution_count": null,
   "metadata": {},
   "outputs": [],
   "source": [
    "pm.execute_notebook(\n",
    "    '6-Morphometrics.ipynb',\n",
    "    f'./out/{place}/6-Morphometrics-output.ipynb',\n",
    "    parameters=dict(local_crs = local_crs, place = place)\n",
    ")\n",
    "\n",
    "print(\"6-Morphometrics.ipynb done\")"
   ]
  },
  {
   "cell_type": "code",
   "execution_count": null,
   "metadata": {},
   "outputs": [],
   "source": [
    "pm.execute_notebook(\n",
    "    '7-pca_clustering.ipynb',\n",
    "    f'./out/{place}/7-pca_clustering.ipynb',\n",
    "    parameters=dict(local_crs = local_crs, place = place)\n",
    ")\n",
    "\n",
    "print(\"7-pca_clustering.ipynb done\")"
   ]
  },
  {
   "cell_type": "code",
   "execution_count": null,
   "metadata": {},
   "outputs": [],
   "source": [
    "pm.execute_notebook(\n",
    "    '9-data_formatter.ipynb',\n",
    "    f'./out/{place}/9-data_formatter.ipynb',\n",
    "    parameters=dict(local_crs = local_crs, place = place)\n",
    ")"
   ]
  }
 ],
 "metadata": {
  "kernelspec": {
   "display_name": "base",
   "language": "python",
   "name": "python3"
  },
  "language_info": {
   "codemirror_mode": {
    "name": "ipython",
    "version": 3
   },
   "file_extension": ".py",
   "mimetype": "text/x-python",
   "name": "python",
   "nbconvert_exporter": "python",
   "pygments_lexer": "ipython3",
   "version": "3.10.10"
  }
 },
 "nbformat": 4,
 "nbformat_minor": 2
}
