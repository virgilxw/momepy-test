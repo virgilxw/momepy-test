{
 "cells": [
  {
   "cell_type": "code",
   "execution_count": 32,
   "metadata": {},
   "outputs": [],
   "source": [
    "import papermill as pm\n",
    "import geopandas as gpd\n",
    "import os\n",
    "import time"
   ]
  },
  {
   "cell_type": "code",
   "execution_count": 33,
   "metadata": {},
   "outputs": [],
   "source": [
    "def code_execution_wrapper(code):\n",
    "    start_time = time.time()\n",
    "    code()\n",
    "    end_time = time.time()\n",
    "    execution_time = end_time - start_time\n",
    "\n",
    "    if execution_time > 1800:  # 3600 seconds = 1 hour\n",
    "        raise TimeoutError(\"Code execution took more than one hour.\")"
   ]
  },
  {
   "cell_type": "code",
   "execution_count": 34,
   "metadata": {},
   "outputs": [],
   "source": [
    "local_crs = 27700\n",
    "place = \"glasgow\"\n",
    "latlng = (55.86, -4.25)\n",
    "dist = 30000\n",
    "study_area = \"./source/glasgow_studyArea.shp\""
   ]
  },
  {
   "cell_type": "code",
   "execution_count": 35,
   "metadata": {},
   "outputs": [],
   "source": [
    "# local_crs = 3414\n",
    "# place = \"singapore\"\n",
    "# latlng = (1.29, 103.85)\n",
    "# dist = 30000\n",
    "# study_area = \"./source/singapore_studyArea.shp\""
   ]
  },
  {
   "cell_type": "code",
   "execution_count": 36,
   "metadata": {},
   "outputs": [],
   "source": [
    "#   # Parameters\n",
    "# local_crs = 3003\n",
    "# place = \"torino\"\n",
    "# latlng = \"(45.07, 7.69)\"\n",
    "# dist = 30000\n",
    "# study_area = \"./source/torino_studyArea.shp\""
   ]
  },
  {
   "cell_type": "code",
   "execution_count": 37,
   "metadata": {},
   "outputs": [],
   "source": [
    "# local_crs = 26917\n",
    "# place = \"atlanta\"\n",
    "# latlng = (33.748783, -84.388168)\n",
    "# dist = 30000\n",
    "# study_area = \"./source/atlanta_studyArea.shp\""
   ]
  },
  {
   "cell_type": "code",
   "execution_count": 38,
   "metadata": {},
   "outputs": [],
   "source": [
    "# specify the directory path you want to create\n",
    "directory = f\"./out/{place}/\"\n",
    "\n",
    "\n",
    "for root, dirs, files in os.walk(f\"./out/{place}/\"):\n",
    "    for file in files:\n",
    "        if root.endswith(\"final\"):\n",
    "            # Don't delete files in final directory\n",
    "            continue\n",
    "        os.remove(os.path.join(root, file))\n",
    "\n",
    "# check if directory exists\n",
    "if not os.path.exists(directory):\n",
    "    # create directory if it doesn't exist\n",
    "    os.makedirs(directotry)\n"
   ]
  },
  {
   "cell_type": "code",
   "execution_count": 39,
   "metadata": {},
   "outputs": [
    {
     "data": {
      "application/vnd.jupyter.widget-view+json": {
       "model_id": "5a455bdd65df44faa9b9630cc2cc25fa",
       "version_major": 2,
       "version_minor": 0
      },
      "text/plain": [
       "Executing:   0%|          | 0/41 [00:00<?, ?cell/s]"
      ]
     },
     "metadata": {},
     "output_type": "display_data"
    },
    {
     "ename": "FileNotFoundError",
     "evalue": "output folder ./out/glasgow doesn't exist.",
     "output_type": "error",
     "traceback": [
      "\u001b[0;31m---------------------------------------------------------------------------\u001b[0m",
      "\u001b[0;31mFileNotFoundError\u001b[0m                         Traceback (most recent call last)",
      "Cell \u001b[0;32mIn[39], line 1\u001b[0m\n\u001b[0;32m----> 1\u001b[0m pm\u001b[39m.\u001b[39;49mexecute_notebook(\n\u001b[1;32m      2\u001b[0m     \u001b[39m'\u001b[39;49m\u001b[39m1.0-osmnx.ipynb\u001b[39;49m\u001b[39m'\u001b[39;49m,\n\u001b[1;32m      3\u001b[0m     \u001b[39mf\u001b[39;49m\u001b[39m'\u001b[39;49m\u001b[39m./out/\u001b[39;49m\u001b[39m{\u001b[39;49;00mplace\u001b[39m}\u001b[39;49;00m\u001b[39m/1.0-osmnx-output.ipynb\u001b[39;49m\u001b[39m'\u001b[39;49m,\n\u001b[1;32m      4\u001b[0m     parameters\u001b[39m=\u001b[39;49m\u001b[39mdict\u001b[39;49m(local_crs \u001b[39m=\u001b[39;49m local_crs, place \u001b[39m=\u001b[39;49m place, latlng \u001b[39m=\u001b[39;49m latlng, dist \u001b[39m=\u001b[39;49m dist, study_area \u001b[39m=\u001b[39;49m study_area)\n\u001b[1;32m      5\u001b[0m )\n",
      "File \u001b[0;32m~/miniconda3/lib/python3.10/site-packages/papermill/execute.py:107\u001b[0m, in \u001b[0;36mexecute_notebook\u001b[0;34m(input_path, output_path, parameters, engine_name, request_save_on_cell_execute, prepare_only, kernel_name, language, progress_bar, log_output, stdout_file, stderr_file, start_timeout, report_mode, cwd, **engine_kwargs)\u001b[0m\n\u001b[1;32m    105\u001b[0m \u001b[39m# Execute the Notebook in `cwd` if it is set\u001b[39;00m\n\u001b[1;32m    106\u001b[0m \u001b[39mwith\u001b[39;00m chdir(cwd):\n\u001b[0;32m--> 107\u001b[0m     nb \u001b[39m=\u001b[39m papermill_engines\u001b[39m.\u001b[39;49mexecute_notebook_with_engine(\n\u001b[1;32m    108\u001b[0m         engine_name,\n\u001b[1;32m    109\u001b[0m         nb,\n\u001b[1;32m    110\u001b[0m         input_path\u001b[39m=\u001b[39;49minput_path,\n\u001b[1;32m    111\u001b[0m         output_path\u001b[39m=\u001b[39;49moutput_path \u001b[39mif\u001b[39;49;00m request_save_on_cell_execute \u001b[39melse\u001b[39;49;00m \u001b[39mNone\u001b[39;49;00m,\n\u001b[1;32m    112\u001b[0m         kernel_name\u001b[39m=\u001b[39;49mkernel_name,\n\u001b[1;32m    113\u001b[0m         progress_bar\u001b[39m=\u001b[39;49mprogress_bar,\n\u001b[1;32m    114\u001b[0m         log_output\u001b[39m=\u001b[39;49mlog_output,\n\u001b[1;32m    115\u001b[0m         start_timeout\u001b[39m=\u001b[39;49mstart_timeout,\n\u001b[1;32m    116\u001b[0m         stdout_file\u001b[39m=\u001b[39;49mstdout_file,\n\u001b[1;32m    117\u001b[0m         stderr_file\u001b[39m=\u001b[39;49mstderr_file,\n\u001b[1;32m    118\u001b[0m         \u001b[39m*\u001b[39;49m\u001b[39m*\u001b[39;49mengine_kwargs\n\u001b[1;32m    119\u001b[0m     )\n\u001b[1;32m    121\u001b[0m \u001b[39m# Check for errors first (it saves on error before raising)\u001b[39;00m\n\u001b[1;32m    122\u001b[0m raise_for_execution_errors(nb, output_path)\n",
      "File \u001b[0;32m~/miniconda3/lib/python3.10/site-packages/papermill/engines.py:49\u001b[0m, in \u001b[0;36mPapermillEngines.execute_notebook_with_engine\u001b[0;34m(self, engine_name, nb, kernel_name, **kwargs)\u001b[0m\n\u001b[1;32m     47\u001b[0m \u001b[39mdef\u001b[39;00m \u001b[39mexecute_notebook_with_engine\u001b[39m(\u001b[39mself\u001b[39m, engine_name, nb, kernel_name, \u001b[39m*\u001b[39m\u001b[39m*\u001b[39mkwargs):\n\u001b[1;32m     48\u001b[0m \u001b[39m    \u001b[39m\u001b[39m\"\"\"Fetch a named engine and execute the nb object against it.\"\"\"\u001b[39;00m\n\u001b[0;32m---> 49\u001b[0m     \u001b[39mreturn\u001b[39;00m \u001b[39mself\u001b[39;49m\u001b[39m.\u001b[39;49mget_engine(engine_name)\u001b[39m.\u001b[39;49mexecute_notebook(nb, kernel_name, \u001b[39m*\u001b[39;49m\u001b[39m*\u001b[39;49mkwargs)\n",
      "File \u001b[0;32m~/miniconda3/lib/python3.10/site-packages/papermill/engines.py:357\u001b[0m, in \u001b[0;36mEngine.execute_notebook\u001b[0;34m(cls, nb, kernel_name, output_path, progress_bar, log_output, autosave_cell_every, **kwargs)\u001b[0m\n\u001b[1;32m    341\u001b[0m \u001b[39m\u001b[39m\u001b[39m\"\"\"\u001b[39;00m\n\u001b[1;32m    342\u001b[0m \u001b[39mA wrapper to handle notebook execution tasks.\u001b[39;00m\n\u001b[1;32m    343\u001b[0m \n\u001b[0;32m   (...)\u001b[0m\n\u001b[1;32m    347\u001b[0m \u001b[39miterating and executing the cell contents.\u001b[39;00m\n\u001b[1;32m    348\u001b[0m \u001b[39m\"\"\"\u001b[39;00m\n\u001b[1;32m    349\u001b[0m nb_man \u001b[39m=\u001b[39m NotebookExecutionManager(\n\u001b[1;32m    350\u001b[0m     nb,\n\u001b[1;32m    351\u001b[0m     output_path\u001b[39m=\u001b[39moutput_path,\n\u001b[0;32m   (...)\u001b[0m\n\u001b[1;32m    354\u001b[0m     autosave_cell_every\u001b[39m=\u001b[39mautosave_cell_every,\n\u001b[1;32m    355\u001b[0m )\n\u001b[0;32m--> 357\u001b[0m nb_man\u001b[39m.\u001b[39;49mnotebook_start()\n\u001b[1;32m    358\u001b[0m \u001b[39mtry\u001b[39;00m:\n\u001b[1;32m    359\u001b[0m     \u001b[39mcls\u001b[39m\u001b[39m.\u001b[39mexecute_managed_notebook(nb_man, kernel_name, log_output\u001b[39m=\u001b[39mlog_output, \u001b[39m*\u001b[39m\u001b[39m*\u001b[39mkwargs)\n",
      "File \u001b[0;32m~/miniconda3/lib/python3.10/site-packages/papermill/engines.py:69\u001b[0m, in \u001b[0;36mcatch_nb_assignment.<locals>.wrapper\u001b[0;34m(self, *args, **kwargs)\u001b[0m\n\u001b[1;32m     66\u001b[0m \u001b[39mif\u001b[39;00m nb:\n\u001b[1;32m     67\u001b[0m     \u001b[39m# Reassign if executing notebook object was replaced\u001b[39;00m\n\u001b[1;32m     68\u001b[0m     \u001b[39mself\u001b[39m\u001b[39m.\u001b[39mnb \u001b[39m=\u001b[39m nb\n\u001b[0;32m---> 69\u001b[0m \u001b[39mreturn\u001b[39;00m func(\u001b[39mself\u001b[39;49m, \u001b[39m*\u001b[39;49margs, \u001b[39m*\u001b[39;49m\u001b[39m*\u001b[39;49mkwargs)\n",
      "File \u001b[0;32m~/miniconda3/lib/python3.10/site-packages/papermill/engines.py:198\u001b[0m, in \u001b[0;36mNotebookExecutionManager.notebook_start\u001b[0;34m(self, **kwargs)\u001b[0m\n\u001b[1;32m    195\u001b[0m     \u001b[39mif\u001b[39;00m cell\u001b[39m.\u001b[39mget(\u001b[39m\"\u001b[39m\u001b[39mcell_type\u001b[39m\u001b[39m\"\u001b[39m) \u001b[39m==\u001b[39m \u001b[39m\"\u001b[39m\u001b[39mcode\u001b[39m\u001b[39m\"\u001b[39m:\n\u001b[1;32m    196\u001b[0m         cell\u001b[39m.\u001b[39moutputs \u001b[39m=\u001b[39m []\n\u001b[0;32m--> 198\u001b[0m \u001b[39mself\u001b[39;49m\u001b[39m.\u001b[39;49msave()\n",
      "File \u001b[0;32m~/miniconda3/lib/python3.10/site-packages/papermill/engines.py:69\u001b[0m, in \u001b[0;36mcatch_nb_assignment.<locals>.wrapper\u001b[0;34m(self, *args, **kwargs)\u001b[0m\n\u001b[1;32m     66\u001b[0m \u001b[39mif\u001b[39;00m nb:\n\u001b[1;32m     67\u001b[0m     \u001b[39m# Reassign if executing notebook object was replaced\u001b[39;00m\n\u001b[1;32m     68\u001b[0m     \u001b[39mself\u001b[39m\u001b[39m.\u001b[39mnb \u001b[39m=\u001b[39m nb\n\u001b[0;32m---> 69\u001b[0m \u001b[39mreturn\u001b[39;00m func(\u001b[39mself\u001b[39;49m, \u001b[39m*\u001b[39;49margs, \u001b[39m*\u001b[39;49m\u001b[39m*\u001b[39;49mkwargs)\n",
      "File \u001b[0;32m~/miniconda3/lib/python3.10/site-packages/papermill/engines.py:139\u001b[0m, in \u001b[0;36mNotebookExecutionManager.save\u001b[0;34m(self, **kwargs)\u001b[0m\n\u001b[1;32m    126\u001b[0m \u001b[39m\u001b[39m\u001b[39m\"\"\"\u001b[39;00m\n\u001b[1;32m    127\u001b[0m \u001b[39mSaves the wrapped notebook state.\u001b[39;00m\n\u001b[1;32m    128\u001b[0m \n\u001b[0;32m   (...)\u001b[0m\n\u001b[1;32m    136\u001b[0m \u001b[39ma 5 hour cell execution to capture output messages in the notebook.\u001b[39;00m\n\u001b[1;32m    137\u001b[0m \u001b[39m\"\"\"\u001b[39;00m\n\u001b[1;32m    138\u001b[0m \u001b[39mif\u001b[39;00m \u001b[39mself\u001b[39m\u001b[39m.\u001b[39moutput_path:\n\u001b[0;32m--> 139\u001b[0m     write_ipynb(\u001b[39mself\u001b[39;49m\u001b[39m.\u001b[39;49mnb, \u001b[39mself\u001b[39;49m\u001b[39m.\u001b[39;49moutput_path)\n\u001b[1;32m    140\u001b[0m \u001b[39mself\u001b[39m\u001b[39m.\u001b[39mlast_save_time \u001b[39m=\u001b[39m \u001b[39mself\u001b[39m\u001b[39m.\u001b[39mnow()\n",
      "File \u001b[0;32m~/miniconda3/lib/python3.10/site-packages/papermill/iorw.py:447\u001b[0m, in \u001b[0;36mwrite_ipynb\u001b[0;34m(nb, path)\u001b[0m\n\u001b[1;32m    441\u001b[0m \u001b[39mdef\u001b[39;00m \u001b[39mwrite_ipynb\u001b[39m(nb, path):\n\u001b[1;32m    442\u001b[0m \u001b[39m    \u001b[39m\u001b[39m\"\"\"Saves a notebook object to the specified path.\u001b[39;00m\n\u001b[1;32m    443\u001b[0m \u001b[39m    Args:\u001b[39;00m\n\u001b[1;32m    444\u001b[0m \u001b[39m        nb_node (nbformat.NotebookNode): Notebook object to save.\u001b[39;00m\n\u001b[1;32m    445\u001b[0m \u001b[39m        notebook_path (str): Path to save the notebook object to.\u001b[39;00m\n\u001b[1;32m    446\u001b[0m \u001b[39m    \"\"\"\u001b[39;00m\n\u001b[0;32m--> 447\u001b[0m     papermill_io\u001b[39m.\u001b[39;49mwrite(nbformat\u001b[39m.\u001b[39;49mwrites(nb), path)\n",
      "File \u001b[0;32m~/miniconda3/lib/python3.10/site-packages/papermill/iorw.py:143\u001b[0m, in \u001b[0;36mPapermillIO.write\u001b[0;34m(self, buf, path, extensions)\u001b[0m\n\u001b[1;32m    137\u001b[0m \u001b[39melif\u001b[39;00m \u001b[39mnot\u001b[39;00m \u001b[39many\u001b[39m(\n\u001b[1;32m    138\u001b[0m     fnmatch\u001b[39m.\u001b[39mfnmatch(os\u001b[39m.\u001b[39mpath\u001b[39m.\u001b[39mbasename(path)\u001b[39m.\u001b[39msplit(\u001b[39m'\u001b[39m\u001b[39m?\u001b[39m\u001b[39m'\u001b[39m)[\u001b[39m0\u001b[39m], \u001b[39m'\u001b[39m\u001b[39m*\u001b[39m\u001b[39m'\u001b[39m \u001b[39m+\u001b[39m ext) \u001b[39mfor\u001b[39;00m ext \u001b[39min\u001b[39;00m extensions\n\u001b[1;32m    139\u001b[0m ):\n\u001b[1;32m    140\u001b[0m     warnings\u001b[39m.\u001b[39mwarn(\n\u001b[1;32m    141\u001b[0m         \u001b[39m\"\u001b[39m\u001b[39mThe specified output file (\u001b[39m\u001b[39m{}\u001b[39;00m\u001b[39m) does not end in one of \u001b[39m\u001b[39m{}\u001b[39;00m\u001b[39m\"\u001b[39m\u001b[39m.\u001b[39mformat(path, extensions)\n\u001b[1;32m    142\u001b[0m     )\n\u001b[0;32m--> 143\u001b[0m \u001b[39mreturn\u001b[39;00m \u001b[39mself\u001b[39;49m\u001b[39m.\u001b[39;49mget_handler(path)\u001b[39m.\u001b[39;49mwrite(buf, path)\n",
      "File \u001b[0;32m~/miniconda3/lib/python3.10/site-packages/papermill/iorw.py:226\u001b[0m, in \u001b[0;36mLocalHandler.write\u001b[0;34m(self, buf, path)\u001b[0m\n\u001b[1;32m    224\u001b[0m dirname \u001b[39m=\u001b[39m os\u001b[39m.\u001b[39mpath\u001b[39m.\u001b[39mdirname(path)\n\u001b[1;32m    225\u001b[0m \u001b[39mif\u001b[39;00m dirname \u001b[39mand\u001b[39;00m \u001b[39mnot\u001b[39;00m os\u001b[39m.\u001b[39mpath\u001b[39m.\u001b[39mexists(dirname):\n\u001b[0;32m--> 226\u001b[0m     \u001b[39mraise\u001b[39;00m \u001b[39mFileNotFoundError\u001b[39;00m(\u001b[39m\"\u001b[39m\u001b[39moutput folder \u001b[39m\u001b[39m{}\u001b[39;00m\u001b[39m doesn\u001b[39m\u001b[39m'\u001b[39m\u001b[39mt exist.\u001b[39m\u001b[39m\"\u001b[39m\u001b[39m.\u001b[39mformat(dirname))\n\u001b[1;32m    227\u001b[0m \u001b[39mwith\u001b[39;00m io\u001b[39m.\u001b[39mopen(path, \u001b[39m'\u001b[39m\u001b[39mw\u001b[39m\u001b[39m'\u001b[39m, encoding\u001b[39m=\u001b[39m\u001b[39m\"\u001b[39m\u001b[39mutf-8\u001b[39m\u001b[39m\"\u001b[39m) \u001b[39mas\u001b[39;00m f:\n\u001b[1;32m    228\u001b[0m     f\u001b[39m.\u001b[39mwrite(buf)\n",
      "\u001b[0;31mFileNotFoundError\u001b[0m: output folder ./out/glasgow doesn't exist."
     ]
    }
   ],
   "source": [
    "pm.execute_notebook(\n",
    "    '1.0-osmnx.ipynb',\n",
    "    f'./out/{place}/1.0-osmnx-output.ipynb',\n",
    "    parameters=dict(local_crs = local_crs, place = place, latlng = latlng, dist = dist, study_area = study_area)\n",
    ")"
   ]
  },
  {
   "cell_type": "code",
   "execution_count": null,
   "metadata": {},
   "outputs": [],
   "source": [
    "pm.execute_notebook(\n",
    "    '1.2-process_roads.ipynb',\n",
    "    f'./out/{place}/1.2-process_roads.ipynb',\n",
    "    parameters=dict(local_crs = local_crs, place = place)\n",
    ")"
   ]
  },
  {
   "cell_type": "code",
   "execution_count": null,
   "metadata": {},
   "outputs": [],
   "source": [
    "pm.execute_notebook(\n",
    "    '2-tessellation.ipynb',\n",
    "    f'./out/{place}/2-tessellation-output.ipynb',\n",
    "    parameters=dict(local_crs = local_crs, place = place)\n",
    ")"
   ]
  },
  {
   "cell_type": "code",
   "execution_count": null,
   "metadata": {},
   "outputs": [],
   "source": [
    "pm.execute_notebook(\n",
    "    '5-network.ipynb',\n",
    "    f'./out/{place}/5-network-output.ipynb',\n",
    "    parameters=dict(local_crs = local_crs, place = place)\n",
    ")"
   ]
  },
  {
   "cell_type": "code",
   "execution_count": null,
   "metadata": {},
   "outputs": [],
   "source": [
    "pm.execute_notebook(\n",
    "    '6-Morphometrics.ipynb',\n",
    "    f'./out/{place}/6-Morphometrics-output.ipynb',\n",
    "    parameters=dict(local_crs = local_crs, place = place)\n",
    ")"
   ]
  },
  {
   "cell_type": "code",
   "execution_count": null,
   "metadata": {},
   "outputs": [],
   "source": [
    "pm.execute_notebook(\n",
    "    '7-pca_clustering.ipynb',\n",
    "    f'./out/{place}/7-pca_clustering.ipynb',\n",
    "    parameters=dict(local_crs = local_crs, place = place)\n",
    ")"
   ]
  },
  {
   "cell_type": "code",
   "execution_count": null,
   "metadata": {},
   "outputs": [],
   "source": [
    "code_execution_wrapper(lambda: pm.execute_notebook(\n",
    "    '9-data_formatter.ipynb',\n",
    "    f'./out/{place}/9-data_formatter.ipynb',\n",
    "    parameters=dict(local_crs = local_crs, place = place)\n",
    "))"
   ]
  },
  {
   "cell_type": "code",
   "execution_count": null,
   "metadata": {},
   "outputs": [],
   "source": []
  }
 ],
 "metadata": {
  "kernelspec": {
   "display_name": "base",
   "language": "python",
   "name": "python3"
  },
  "language_info": {
   "codemirror_mode": {
    "name": "ipython",
    "version": 3
   },
   "file_extension": ".py",
   "mimetype": "text/x-python",
   "name": "python",
   "nbconvert_exporter": "python",
   "pygments_lexer": "ipython3",
   "version": "3.10.10"
  },
  "orig_nbformat": 4
 },
 "nbformat": 4,
 "nbformat_minor": 2
}
