{
 "cells": [
  {
   "cell_type": "code",
   "execution_count": 1,
   "metadata": {},
   "outputs": [],
   "source": [
    "import dotenv\n",
    "import os\n",
    "import subprocess\n",
    "import json"
   ]
  },
  {
   "cell_type": "code",
   "execution_count": 2,
   "metadata": {},
   "outputs": [
    {
     "data": {
      "text/plain": [
       "True"
      ]
     },
     "execution_count": 2,
     "metadata": {},
     "output_type": "execute_result"
    }
   ],
   "source": [
    "dotenv.load_dotenv()"
   ]
  },
  {
   "cell_type": "code",
   "execution_count": 3,
   "metadata": {},
   "outputs": [],
   "source": [
    "# Load the Mapbox access token and username from environment variables\n",
    "MAPBOX_UPLOAD_ACCESS_TOKEN = os.getenv(\"MAPBOX_UPLOAD_ACCESS_TOKEN\")\n",
    "MAPBOX_USERNAME = os.getenv(\"MAPBOX_USERNAME\")\n"
   ]
  },
  {
   "cell_type": "code",
   "execution_count": 4,
   "metadata": {},
   "outputs": [],
   "source": [
    "\n",
    "def upload (MAPBOX_USERNAME, mytileset, folder_name, file_name, MAPBOX_UPLOAD_ACCESS_TOKEN):\n",
    "    \n",
    "    file_path = f\"./out/{folder_name}/final/{file_name}\"\n",
    "\n",
    "    os.environ[\"MAPBOX_ACCESS_TOKEN\"] = MAPBOX_UPLOAD_ACCESS_TOKEN\n",
    "\n",
    "    # Define the CLI commands as strings\n",
    "    upload_cmd = f\"tilesets upload-source {MAPBOX_USERNAME} {mytileset} {file_path}\"\n",
    "    view_cmd = f\"tilesets view-source {MAPBOX_USERNAME} {mytileset}\"\n",
    "    # Run each command using subprocess\n",
    "    subprocess.run(upload_cmd.split())\n",
    "    view_output = subprocess.run(view_cmd.split(), capture_output=True)\n",
    "        \n",
    "    source = json.loads(view_output.stdout.decode())[\"id\"]\n",
    "\n",
    "    data = {\n",
    "        \"version\": 1,\n",
    "        \"layers\": {\n",
    "        \"trees\": {\n",
    "            \"source\": source,\n",
    "            \"minzoom\": 9,\n",
    "            \"maxzoom\": 16\n",
    "            }\n",
    "        }\n",
    "    }\n",
    "    \n",
    "    with open(f\"./out/{folder_name}/final/{mytileset}.json\", 'w') as f:\n",
    "        json.dump(data, f)\n",
    "    \n",
    "    create_cmd = f'tilesets create {MAPBOX_USERNAME}.{mytileset} --recipe ./out/{folder_name}/final/{mytileset}.json --name {mytileset} '\n",
    "    publish_cmd = f\"tilesets publish {MAPBOX_USERNAME}.{mytileset}\"\n",
    "\n",
    "    subprocess.run(create_cmd.split())\n",
    "    publish_output = subprocess.run(publish_cmd.split(), capture_output=True)\n",
    "    \n",
    "    return publish_output.stdout.decode()\n"
   ]
  },
  {
   "cell_type": "code",
   "execution_count": 5,
   "metadata": {},
   "outputs": [],
   "source": [
    "# Define the name and filepath of the GeoJSON file to upload\n",
    "file_name = \"buildings_trimmed.geojson\"\n",
    "folder_name = \"singapore\"\n",
    "\n",
    "mytileset = \"singapore-buildings\"\n",
    "\n",
    "# file_name, file_path = set_geojson_precision_and_trim_write(7, 3, file_path)"
   ]
  },
  {
   "cell_type": "code",
   "execution_count": 6,
   "metadata": {},
   "outputs": [
    {
     "name": "stdout",
     "output_type": "stream",
     "text": [
      "upload progress\n",
      "{\"id\": \"mapbox://tileset-source/virgilxw/singapore-buildings\", \"files\": 1, \"source_size\": 34881093, \"file_size\": 34881093}\n",
      "{\"message\": \"Successfully created empty tileset virgilxw.singapore-buildings. Publish your tileset to begin processing your data into vector tiles.\"}\n"
     ]
    },
    {
     "data": {
      "text/plain": [
       "'{\"message\": \"Processing virgilxw.singapore-buildings\", \"jobId\": \"clj39jx3u004g08l4bewigtbu\"}\\n'"
      ]
     },
     "execution_count": 6,
     "metadata": {},
     "output_type": "execute_result"
    }
   ],
   "source": [
    "upload(MAPBOX_USERNAME, mytileset, folder_name, file_name, MAPBOX_UPLOAD_ACCESS_TOKEN)"
   ]
  },
  {
   "cell_type": "code",
   "execution_count": 7,
   "metadata": {},
   "outputs": [],
   "source": [
    "# Define the name and filepath of the GeoJSON file to upload\n",
    "file_name = \"tessellation_trimmed.geojson\"\n",
    "folder_name = \"singapore\"\n",
    "mytileset = \"singapore-tessellation\"\n",
    "\n",
    "# file_name, file_path = set_geojson_precision_and_trim_write(7, 3, file_path)"
   ]
  },
  {
   "cell_type": "code",
   "execution_count": 8,
   "metadata": {},
   "outputs": [
    {
     "name": "stdout",
     "output_type": "stream",
     "text": [
      "upload progress\n",
      "{\"id\": \"mapbox://tileset-source/virgilxw/singapore-tessellation\", \"files\": 1, \"source_size\": 1234583366, \"file_size\": 1234583366}\n",
      "{\"message\": \"Successfully created empty tileset virgilxw.singapore-tessellation. Publish your tileset to begin processing your data into vector tiles.\"}\n"
     ]
    },
    {
     "data": {
      "text/plain": [
       "'{\"message\": \"Processing virgilxw.singapore-tessellation\", \"jobId\": \"clj3a5f5s005708l463pedywc\"}\\n'"
      ]
     },
     "execution_count": 8,
     "metadata": {},
     "output_type": "execute_result"
    }
   ],
   "source": [
    "upload(MAPBOX_USERNAME, mytileset, folder_name, file_name, MAPBOX_UPLOAD_ACCESS_TOKEN)"
   ]
  },
  {
   "cell_type": "code",
   "execution_count": 9,
   "metadata": {},
   "outputs": [],
   "source": [
    "# def split_json(input_file: str) -> None:\n",
    "    \n",
    "#     # Define the file pattern to search for\n",
    "#     file_pattern = f'./processor/out/singapore/final/output_{mytileset}*.geojson'\n",
    "\n",
    "#     # Get a list of files that match the pattern\n",
    "#     file_list = glob.glob(file_pattern)\n",
    "\n",
    "#     # Loop through the file list and delete each file\n",
    "#     for file_path in file_list:\n",
    "#         os.remove(file_path)\n",
    "\n",
    "#     # Maximum size of each output GeoJSON file (in bytes)\n",
    "#     max_size = 4 * 1024 * 1024  # 4 MB\n",
    "\n",
    "#     # Load the input GeoJSON file as a Python dictionary\n",
    "#     with open(input_file, 'r') as f:\n",
    "#         data = json.load(f)\n",
    "\n",
    "#     # Extract the list of features from the GeoJSON dictionary\n",
    "#     features = data['features']\n",
    "\n",
    "#     # Initialize variables for the current file and its size\n",
    "#     current_file = 0\n",
    "#     current_size = 0\n",
    "    \n",
    "#     feature_collection = {\n",
    "#         'type': 'FeatureCollection',\n",
    "#         'features': []\n",
    "#     }\n",
    "\n",
    "#     # Loop through each feature and write it to a separate file\n",
    "#     for i, feature in enumerate(features):\n",
    "#         # Create a new GeoJSON dictionary with only the current feature\n",
    "#         # Get the size of the serialized GeoJSON string\n",
    "#         feature_size = len(str(feature))\n",
    "\n",
    "#         # If adding the current feature to the current file would make it too large,\n",
    "#         # start a new file\n",
    "#         if current_size + feature_size > max_size:\n",
    "#             current_file += 1\n",
    "#             current_size = 0\n",
    "            \n",
    "#                     # Write the GeoJSON string to a file\n",
    "#             filename = f'output_{mytileset}_{current_file}.geojson'\n",
    "#             with open(f\"./processor/out/singapore/final/{filename}\", 'w') as f:\n",
    "#                 json.dump(feature_collection, f)\n",
    "                \n",
    "#             feature_collection[\"features\"] = []\n",
    "            \n",
    "#         feature_collection['features'].append(feature)\n",
    "\n",
    "#         # Update the current file size\n",
    "#         current_size += feature_size\n",
    "    \n",
    "#     filename = f'output_{mytileset}_{current_file}.geojson'\n",
    "#     with open(f\"./processor/out/singapore/final/{filename}\", 'w') as f:\n",
    "#         json.dump(feature_collection, f)"
   ]
  },
  {
   "cell_type": "code",
   "execution_count": 10,
   "metadata": {},
   "outputs": [],
   "source": [
    "# split_json(file_path)"
   ]
  },
  {
   "cell_type": "code",
   "execution_count": 11,
   "metadata": {},
   "outputs": [],
   "source": [
    "# with open(file_path, 'r') as f:\n",
    "#     data = json.load(f)\n",
    "\n",
    "# data = data['features']"
   ]
  },
  {
   "cell_type": "code",
   "execution_count": 12,
   "metadata": {},
   "outputs": [],
   "source": [
    "# def upload (MAPBOX_UPLOAD_ACCESS_TOKEN, MAPBOX_USERNAME, mytileset):\n",
    "#   dataset = {\n",
    "#     \"name\": mytileset\n",
    "#   }\n",
    "\n",
    "#   # Construct the curl command as a list of arguments\n",
    "#   curl_command = [\n",
    "#       \"curl\",\n",
    "#       \"-X\",\n",
    "#       \"POST\",\n",
    "#       f\"https://api.mapbox.com/datasets/v1/{MAPBOX_USERNAME}?access_token={MAPBOX_UPLOAD_ACCESS_TOKEN}\",\n",
    "#       \"-d\",\n",
    "#       json.dumps(dataset),\n",
    "#       \"--header\",\n",
    "#       \"Content-Type:application/json\"\n",
    "#   ]\n",
    "\n",
    "#   # Run the curl command using subprocess\n",
    "#   process = subprocess.Popen(curl_command,\n",
    "#                       stdout=subprocess.PIPE, \n",
    "#                       stderr=subprocess.PIPE)\n",
    "#   stdout, stderr = process.communicate()\n",
    "\n",
    "#   response = json.loads(stdout)\n",
    "\n",
    "#   id = response[\"id\"]\n",
    "\n",
    "#   # Define the file pattern to search for\n",
    "#   file_pattern = f'./processor/out/singapore/final/output_{mytileset}_*.geojson'\n",
    "\n",
    "#   # Get a list of files that match the pattern\n",
    "#   file_list = glob.glob(file_pattern)\n",
    "\n",
    "#   for i, feature in enumerate(data):\n",
    "#       # Construct the curl command as a list of arguments\n",
    "#       curl_command = [\n",
    "#           \"curl\",\n",
    "#           \"-X\",\n",
    "#           \"PUT\",\n",
    "#           f\"https://api.mapbox.com/datasets/v1/{MAPBOX_USERNAME}/{id}/features/{i}?access_token={MAPBOX_UPLOAD_ACCESS_TOKEN}\",\n",
    "#           \"-H\",\n",
    "#           \"Content-Type:application/json\",\n",
    "#           \"-d\",\n",
    "#           json.dumps(feature),\n",
    "#           \"-v\"\n",
    "#       ]\n",
    "\n",
    "#       # Run the curl command using subprocess\n",
    "#       process = subprocess.Popen(curl_command,\n",
    "#                           stdout=subprocess.PIPE, \n",
    "#                           stderr=subprocess.PIPE)\n",
    "#       stdout, stderr = process.communicate()\n",
    "\n",
    "#       response = json.loads(stdout)\n",
    "\n",
    "#   return id\n"
   ]
  },
  {
   "cell_type": "code",
   "execution_count": 13,
   "metadata": {},
   "outputs": [],
   "source": [
    "# dataset_id = upload(MAPBOX_UPLOAD_ACCESS_TOKEN, MAPBOX_USERNAME, mytileset)"
   ]
  },
  {
   "cell_type": "code",
   "execution_count": 14,
   "metadata": {},
   "outputs": [],
   "source": [
    "# def upload (MAPBOX_UPLOAD_ACCESS_TOKEN, MAPBOX_USERNAME, file_name, file_path, mytileset):\n",
    "\n",
    "#     # Construct the curl command as a list of arguments\n",
    "#     curl_command = [\n",
    "#         \"curl\",\n",
    "#         \"-X\",\n",
    "#         \"POST\",\n",
    "#         f\"https://api.mapbox.com/uploads/v1/{MAPBOX_USERNAME}/credentials?access_token={MAPBOX_UPLOAD_ACCESS_TOKEN}\"\n",
    "#     ]\n",
    "\n",
    "#     # Run the curl command using subprocess\n",
    "#     process = subprocess.Popen(curl_command,\n",
    "#                         stdout=subprocess.PIPE, \n",
    "#                         stderr=subprocess.PIPE)\n",
    "#     stdout, stderr = process.communicate()\n",
    "    \n",
    "#     response = json.loads(stdout)\n",
    "#     access_key_id = response[\"accessKeyId\"]\n",
    "#     secret_access_key = response[\"secretAccessKey\"]\n",
    "#     session_token = response[\"sessionToken\"]\n",
    "#     bucket = response[\"bucket\"]\n",
    "#     key = response[\"key\"]\n",
    "    \n",
    "#     print(response)\n",
    "\n",
    "#     # Construct the curl command as a list of arguments\n",
    "#     curl_command = [\n",
    "#         \"curl\",\n",
    "#         \"-X\",\n",
    "#         \"POST\",\n",
    "#         \"-H\",\n",
    "#         \"Content-Type: application/json\", \n",
    "#         \"-H\",\n",
    "#         \"Cache-Control: no-cache\",\n",
    "#         \"-d\"\n",
    "#         f\"'{\"tileset\": \"{MAPBOX_USERNAME}.mytileset\",\"url\": \"mapbox://datasets/{MAPBOX_USERNAME}/{dataset_id}\",\"name\": \"{mytileset}\" }'\",\n",
    "#         f\"https://api.mapbox.com/uploads/v1/{MAPBOX_USERNAME}?access_token={MAPBOX_UPLOAD_ACCESS_TOKEN}\"\n",
    "#     ]\n",
    "\n",
    "#     # Run the curl command using subprocess\n",
    "#     process = subprocess.Popen(curl_command,\n",
    "#                         stdout=subprocess.PIPE, \n",
    "#                         stderr=subprocess.PIPE)\n",
    "#     stdout, stderr = process.communicate()\n",
    "\n",
    "#     response = json.loads(stdout)\n",
    "#     print(response)\n",
    "\n",
    "#     # Construct the curl command as a list of arguments\n",
    "#     curl_command = [\n",
    "#         \"curl\",\n",
    "#         f\"https://api.mapbox.com/uploads/v1/{MAPBOX_USERNAME}?reverse=true&limit=10&access_token={MAPBOX_UPLOAD_ACCESS_TOKEN}\"\n",
    "#     ]\n",
    "\n",
    "#     # Run the curl command using subprocess\n",
    "#     process = subprocess.Popen(curl_command,\n",
    "#                         stdout=subprocess.PIPE, \n",
    "#                         stderr=subprocess.PIPE)\n",
    "#     stdout, stderr = process.communicate()\n",
    "\n",
    "#     response = json.loads(stdout)\n",
    "#     print(response)"
   ]
  },
  {
   "cell_type": "code",
   "execution_count": 15,
   "metadata": {},
   "outputs": [],
   "source": [
    "# upload (MAPBOX_UPLOAD_ACCESS_TOKEN, MAPBOX_USERNAME, file_name, file_path, mytileset)"
   ]
  },
  {
   "cell_type": "code",
   "execution_count": 16,
   "metadata": {},
   "outputs": [],
   "source": [
    "# print(file_name, file_path, mytileset)\n",
    "# upload (MAPBOX_UPLOAD_ACCESS_TOKEN, MAPBOX_USERNAME, file_name, file_path, mytileset)"
   ]
  },
  {
   "cell_type": "code",
   "execution_count": null,
   "metadata": {},
   "outputs": [],
   "source": []
  }
 ],
 "metadata": {
  "kernelspec": {
   "display_name": "base",
   "language": "python",
   "name": "python3"
  },
  "language_info": {
   "codemirror_mode": {
    "name": "ipython",
    "version": 3
   },
   "file_extension": ".py",
   "mimetype": "text/x-python",
   "name": "python",
   "nbconvert_exporter": "python",
   "pygments_lexer": "ipython3",
   "version": "3.10.10"
  }
 },
 "nbformat": 4,
 "nbformat_minor": 2
}
