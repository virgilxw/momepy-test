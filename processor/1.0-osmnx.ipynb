{
 "cells": [
  {
   "cell_type": "code",
   "execution_count": null,
   "metadata": {},
   "outputs": [],
   "source": [
    "import osmnx as ox\n",
    "import momepy\n",
    "import geopandas as gpd\n",
    "import shapely\n",
    "from shapely.geometry import LineString\n",
    "import os"
   ]
  },
  {
   "cell_type": "code",
   "execution_count": null,
   "metadata": {},
   "outputs": [],
   "source": [
    "local_crs = 3414\n",
    "\n",
    "place = \"Singapore\"\n",
    "\n",
    "latlng = (1.29, 103.85)\n",
    "dist = 30000\n",
    "\n",
    "study_area = gpd.read_file(\"./source/Singapore_studyArea.shp\").to_crs(epsg=4326)\n",
    "\n",
    "# assuming your geodataframe is called `gdf` and the geometry column is called `geometry`\n",
    "study_area_polygon = study_area.geometry.unary_union"
   ]
  },
  {
   "cell_type": "code",
   "execution_count": null,
   "metadata": {},
   "outputs": [],
   "source": [
    "## Use osmnx to download all water body polygons within study_area\n",
    "## and prune them from study_area\n",
    "    # Download water body polygons\n",
    "water = ox.geometries.geometries_from_polygon(study_area_polygon, tags={\"natural\": \"water\"})\n",
    "water.head()"
   ]
  },
  {
   "cell_type": "code",
   "execution_count": null,
   "metadata": {},
   "outputs": [],
   "source": [
    "## Prune study area\n",
    "study_area = study_area.overlay(water, how='difference')"
   ]
  },
  {
   "cell_type": "code",
   "execution_count": null,
   "metadata": {},
   "outputs": [],
   "source": [
    "study_area.plot()"
   ]
  },
  {
   "cell_type": "code",
   "execution_count": null,
   "metadata": {},
   "outputs": [],
   "source": [
    "# buildings = ox.geometries.geometries_from_place(place, tags={'building':True})\n",
    "# buildings = ox.geometries.geometries_from_point(latlng, tags={'building':True}, dist=dist)\n",
    "buildings = ox.geometries.geometries_from_polygon(study_area_polygon, tags={'building':True})\n",
    "buildings.head()"
   ]
  },
  {
   "cell_type": "code",
   "execution_count": null,
   "metadata": {},
   "outputs": [],
   "source": [
    "buildings = buildings[buildings.geom_type == \"Polygon\"].reset_index(drop=True)\n",
    "buildings = buildings[[\"geometry\"]].to_crs(local_crs)\n",
    "print(buildings.geom_type.value_counts())\n"
   ]
  },
  {
   "cell_type": "code",
   "execution_count": null,
   "metadata": {},
   "outputs": [],
   "source": [
    "# Use the unary_union method to merge adjacent or overlapping polygons\n",
    "merged = buildings.geometry.unary_union\n",
    "\n",
    "# Convert the merged geometry back to a GeoDataFrame\n",
    "merged_buildings_gdf = gpd.GeoDataFrame(geometry=[merged])\n",
    "buildings = merged_buildings_gdf.explode()\n",
    "buildings = buildings[buildings.geom_type == \"Polygon\"].reset_index(drop=True)"
   ]
  },
  {
   "cell_type": "code",
   "execution_count": null,
   "metadata": {},
   "outputs": [],
   "source": [
    "buildings[\"uID\"] = range(len(buildings))"
   ]
  },
  {
   "cell_type": "code",
   "execution_count": null,
   "metadata": {},
   "outputs": [],
   "source": [
    "print(buildings.geom_type.value_counts())\n",
    "buildings.head()"
   ]
  },
  {
   "cell_type": "code",
   "execution_count": null,
   "metadata": {},
   "outputs": [],
   "source": [
    "osm_graph= ox.graph.graph_from_polygon(study_area_polygon, network_type='drive')\n",
    "osm_graph = ox.projection.project_graph(osm_graph, to_crs=local_crs)\n",
    "streets = ox.graph_to_gdfs(\n",
    "    osm_graph,\n",
    "    nodes=False,\n",
    "    edges=True,\n",
    "    node_geometry=False,\n",
    "    fill_edge_geometry=True\n",
    ")\n",
    "\n",
    "streets.head()\n",
    "streets = streets.drop(columns=[col for col in streets.columns if col != 'geometry'])"
   ]
  },
  {
   "cell_type": "code",
   "execution_count": null,
   "metadata": {},
   "outputs": [],
   "source": [
    "from shapely.geometry import LineString\n",
    "\n",
    "# Assuming your GeoDataFrame is named 'gdf'\n",
    "line_strings = []\n",
    "for geometry in streets.geometry:\n",
    "    if geometry.geom_type == 'LineString':\n",
    "        line_strings.append(geometry)\n",
    "    elif geometry.geom_type == 'MultiLineString':\n",
    "        line_strings.extend(list(geometry))"
   ]
  },
  {
   "cell_type": "code",
   "execution_count": null,
   "metadata": {},
   "outputs": [],
   "source": [
    "collection = shapely.GeometryCollection(line_strings)  # combine to a single object\n",
    "noded = shapely.node(collection)  # add missing nodes\n",
    "streets_noded_gdf = gpd.GeoDataFrame(geometry=gpd.GeoSeries(noded), crs=local_crs)\n"
   ]
  },
  {
   "cell_type": "code",
   "execution_count": null,
   "metadata": {},
   "outputs": [],
   "source": [
    "streets_noded_gdf.plot()"
   ]
  },
  {
   "cell_type": "code",
   "execution_count": null,
   "metadata": {},
   "outputs": [],
   "source": [
    "buildings.plot()"
   ]
  },
  {
   "cell_type": "code",
   "execution_count": null,
   "metadata": {},
   "outputs": [],
   "source": [
    "study_area = study_area.to_crs(local_crs)\n",
    "study_area.plot()"
   ]
  },
  {
   "cell_type": "code",
   "execution_count": null,
   "metadata": {},
   "outputs": [],
   "source": [
    "## create directory ./out/singapore if it does not exist\n",
    "def create_dir(dir):\n",
    "    if not os.path.exists(dir):\n",
    "        os.makedirs(dir)\n",
    "        \n",
    "create_dir(\"./out/singapore\")"
   ]
  },
  {
   "cell_type": "code",
   "execution_count": null,
   "metadata": {},
   "outputs": [],
   "source": [
    "## convert streets_noded_gdf, buildings, and study_area to local_crs\n",
    "streets_noded_gdf.to_parquet(\"./out/singapore/streets.pq\")\n",
    "\n",
    "buildings.to_parquet(\"./out/singapore/buildings.pq\")\n",
    "\n",
    "study_area.to_parquet(\"./out/singapore/study_area.pq\")"
   ]
  },
  {
   "cell_type": "code",
   "execution_count": 25,
   "metadata": {},
   "outputs": [],
   "source": [
    "water.drop(columns=water.columns.difference(['geometry'])).to_crs(local_crs).reset_index(drop=True).to_parquet(\"./out/singapore/water.pq\")"
   ]
  },
  {
   "cell_type": "code",
   "execution_count": null,
   "metadata": {},
   "outputs": [],
   "source": [
    "# # Create a polygon geodataframe from creating a 2 meter buffer around every line in streets_noded_gdf and dissolve it into study_area\n",
    "\n",
    "# streets_noded_gdf_buffer = dgpd.from_geopandas(streets_noded_gdf, npartitions=4)\n",
    "# streets_noded_gdf_buffer.buffer(2)\n",
    "\n",
    "# study_area_dgpd = dgpd.from_geopandas(study_area, npartitions=4).append(streets_noded_gdf_buffer).dissolve()"
   ]
  },
  {
   "cell_type": "code",
   "execution_count": null,
   "metadata": {},
   "outputs": [],
   "source": [
    "# test = study_area_dgpd.compute()"
   ]
  },
  {
   "cell_type": "code",
   "execution_count": null,
   "metadata": {},
   "outputs": [],
   "source": [
    "# # dissolve streets_noded_gdf_buffer into study_area into one multipolygon in a geodataframe\n",
    "# concat = pd.concat([study_area, streets_noded_gdf_buffer])\n",
    "\n",
    "# study_area_polygon = gdf.geometry.unary_union\n",
    "# study_area = gpd.GeoDataFrame(geometry=[dissolved_geom], crs=gdf.crs)"
   ]
  },
  {
   "cell_type": "code",
   "execution_count": null,
   "metadata": {},
   "outputs": [],
   "source": [
    "# enclosures = momepy.enclosures(noded_gdf , limit= study_area.to_crs(local_crs))"
   ]
  },
  {
   "cell_type": "code",
   "execution_count": null,
   "metadata": {},
   "outputs": [],
   "source": [
    "# enclosures.plot()"
   ]
  },
  {
   "cell_type": "code",
   "execution_count": null,
   "metadata": {},
   "outputs": [],
   "source": [
    "# # Perform a spatial join of the overlapping polygons with themselves\n",
    "# spatial_join = gpd.sjoin(enclosures, enclosures, how=\"inner\", op=\"intersects\")\n",
    "\n",
    "# # Count the number of overlapping polygons for each polygon\n",
    "# overlapping_counts = spatial_join.groupby([\"eID_left\"]).size()\n",
    "\n",
    "# # Get the polygons that overlap with more than one other polygon\n",
    "# overlapping_count = overlapping_counts[overlapping_counts > 30].index.tolist()\n"
   ]
  },
  {
   "cell_type": "code",
   "execution_count": null,
   "metadata": {},
   "outputs": [],
   "source": []
  }
 ],
 "metadata": {
  "kernelspec": {
   "display_name": "base",
   "language": "python",
   "name": "python3"
  },
  "language_info": {
   "codemirror_mode": {
    "name": "ipython",
    "version": 3
   },
   "file_extension": ".py",
   "mimetype": "text/x-python",
   "name": "python",
   "nbconvert_exporter": "python",
   "pygments_lexer": "ipython3",
   "version": "3.10.10"
  },
  "orig_nbformat": 4,
  "vscode": {
   "interpreter": {
    "hash": "4d4a16af7eecff68ca78f81aec8d4e5ee20d890b8903eddd3dd732009f4fdc6f"
   }
  }
 },
 "nbformat": 4,
 "nbformat_minor": 2
}
