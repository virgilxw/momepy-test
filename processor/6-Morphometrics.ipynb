{
 "cells": [
  {
   "cell_type": "code",
   "execution_count": null,
   "metadata": {},
   "outputs": [],
   "source": [
    "from dask.distributed import Client, LocalCluster\n",
    "import bokeh\n",
    "import geopandas as gpd\n",
    "import scipy\n",
    "import libpysal\n",
    "import momepy\n",
    "import json\n",
    "from dask import delayed\n",
    "import glob\n",
    "import dask\n",
    "import dask.dataframe as dd\n",
    "import momepy\n",
    "import geopandas as gpd\n",
    "import matplotlib.pyplot as plt\n",
    "import pandas as pd\n",
    "import json\n",
    "from tqdm import tqdm\n",
    "from shapely.geometry import Point\n",
    "import networkx as nx\n",
    "import pickle"
   ]
  },
  {
   "cell_type": "code",
   "execution_count": null,
   "metadata": {},
   "outputs": [],
   "source": [
    "daskCluster = LocalCluster(threads_per_worker=2,\n",
    "                n_workers=8, memory_limit='100GB')\n",
    "\n",
    "client = Client(daskCluster)\n",
    "\n",
    "client"
   ]
  },
  {
   "cell_type": "code",
   "execution_count": null,
   "metadata": {},
   "outputs": [],
   "source": [
    "# with open('./out/singapore/what_cells_are_in_what_cluster_dict.json', 'r') as f:\n",
    "#     includes_dict = json.load(f)\n",
    "    \n",
    "tessellation = gpd.read_parquet(\"./out/singapore/tessellation.pq\")\n",
    "\n",
    "buildings = gpd.read_parquet(\"./out/singapore/buildings.pq\")\n",
    "\n",
    "streets = gpd.read_parquet(\"./out/singapore/streets.pq\").explode()"
   ]
  },
  {
   "cell_type": "code",
   "execution_count": null,
   "metadata": {},
   "outputs": [],
   "source": [
    "streets['nID'] = momepy.unique_id(streets)\n",
    "# buildings['nID'] = momepy.get_network_id(buildings, streets,\n",
    "#                                                'nID').values\n",
    "\n",
    "# buildings = buildings.drop_duplicates(\"uID\").drop(columns=\"index_right\")\n",
    "# tessellation = tessellation.merge(buildings[['uID', 'nID']], on='uID', how='left')"
   ]
  },
  {
   "cell_type": "code",
   "execution_count": null,
   "metadata": {},
   "outputs": [],
   "source": [
    "### Distance Weight\n",
    "dist200 = libpysal.weights.DistanceBand.from_dataframe(buildings, 200, ids='uID')"
   ]
  },
  {
   "cell_type": "code",
   "execution_count": null,
   "metadata": {},
   "outputs": [],
   "source": [
    "# @dask.delayed\n",
    "# def queen_contiguity_load(n1, includes_dict):\n",
    "#     chunk = gpd.read_parquet(f\"./out/singapore/expanded_cells_in_chunk_{int(n1)}.pq\")\n",
    "    \n",
    "#     # weights\n",
    "    # queen_1 = libpysal.weights.w_subset(momepy.sw_high(k=1, gdf=chunk, ids='uID'), includes_dict[str(n1)]).to_adjlist()\n",
    "    # queen_3 = libpysal.weights.w_subset(momepy.sw_high(k=3, gdf=chunk, ids='uID'), includes_dict[str(n1)]).to_adjlist()\n",
    "    \n",
    "#     return (queen_1, queen_3)"
   ]
  },
  {
   "cell_type": "code",
   "execution_count": null,
   "metadata": {},
   "outputs": [],
   "source": [
    "# file_pattern = \"./out/singapore/expanded_cells_in_chunk_*.pq\"\n",
    "# file_list = glob.glob(file_pattern)\n",
    "# num_files = len(file_list)\n",
    "\n",
    "# weight_out = [process(n1, includes_dict) for n1 in tqdm(range(num_files))]\n",
    "\n",
    "# weight_out = [queen_contiguity_load(n1, includes_dict) for n1 in range(num_files)]\n",
    "\n",
    "# weight_out = dask.compute(weight_out)\n"
   ]
  },
  {
   "cell_type": "code",
   "execution_count": null,
   "metadata": {},
   "outputs": [],
   "source": [
    "# queen_1 = libpysal.weights.W.from_adjlist(pd.concat(weight_out[0][i][0] for i in range(num_files)))\n",
    "\n",
    "# queen_3 = libpysal.weights.W.from_adjlist(pd.concat(weight_out[0][i][1] for i in range(num_files)))"
   ]
  },
  {
   "cell_type": "code",
   "execution_count": null,
   "metadata": {},
   "outputs": [],
   "source": [
    "tessellation_bridged = gpd.read_parquet(\"./out/singapore/tessellation_bridges.pq\")"
   ]
  },
  {
   "cell_type": "code",
   "execution_count": 10,
   "metadata": {},
   "outputs": [],
   "source": [
    "queen_1 = libpysal.weights.contiguity.Queen.from_dataframe(tessellation_bridged, ids=\"uID\", silence_warnings=True)\n",
    "queen_3 = momepy.sw_high(k=3, weights=queen_1)"
   ]
  },
  {
   "cell_type": "code",
   "execution_count": 11,
   "metadata": {},
   "outputs": [],
   "source": [
    "# # Find the uIDs in tessellation that are not in buildings\n",
    "# tessellation_uids = set(tessellation['uID'])\n",
    "# buildings_uids = set(buildings['uID'])\n",
    "# new_uids = tessellation_uids - buildings_uids\n",
    "\n",
    "# # Create a new GeoDataFrame with the new uIDs and empty geometry\n",
    "# new_rows = pd.DataFrame({'uID': list(new_uids)})\n",
    "# new_rows['geometry'] = None\n",
    "# new_gdf = gpd.GeoDataFrame(new_rows, crs=buildings.crs)\n",
    "\n",
    "# # Append the new GeoDataFrame to buildings\n",
    "# new_buildings = pd.concat([buildings, new_gdf], ignore_index=True)"
   ]
  },
  {
   "cell_type": "code",
   "execution_count": 12,
   "metadata": {},
   "outputs": [
    {
     "data": {
      "application/vnd.jupyter.widget-view+json": {
       "model_id": "47dfeeab90c34a399aa5d720f12c7100",
       "version_major": 2,
       "version_minor": 0
      },
      "text/plain": [
       "  0%|          | 0/76533 [00:00<?, ?it/s]"
      ]
     },
     "metadata": {},
     "output_type": "display_data"
    },
    {
     "name": "stderr",
     "output_type": "stream",
     "text": [
      "/home/virgilxw/miniconda3/lib/python3.10/site-packages/momepy/shape.py:962: ShapelyDeprecationWarning: The 'type' attribute is deprecated, and will be removed in the future. You can use the 'geom_type' attribute instead.\n",
      "  if geom.type == \"Polygon\":\n",
      "/home/virgilxw/miniconda3/lib/python3.10/site-packages/momepy/shape.py:956: RuntimeWarning: invalid value encountered in arccos\n",
      "  angle = np.degrees(np.arccos(cosine_angle))\n",
      "/home/virgilxw/miniconda3/lib/python3.10/site-packages/numpy/core/fromnumeric.py:3432: RuntimeWarning: Mean of empty slice.\n",
      "  return _methods._mean(a, axis=axis, dtype=dtype,\n",
      "/home/virgilxw/miniconda3/lib/python3.10/site-packages/numpy/core/_methods.py:190: RuntimeWarning: invalid value encountered in double_scalars\n",
      "  ret = ret.dtype.type(ret / rcount)\n"
     ]
    },
    {
     "data": {
      "application/vnd.jupyter.widget-view+json": {
       "model_id": "70e461f3bd594de6a4b4d4eb08df3763",
       "version_major": 2,
       "version_minor": 0
      },
      "text/plain": [
       "  0%|          | 0/76533 [00:00<?, ?it/s]"
      ]
     },
     "metadata": {},
     "output_type": "display_data"
    },
    {
     "name": "stderr",
     "output_type": "stream",
     "text": [
      "/home/virgilxw/miniconda3/lib/python3.10/site-packages/momepy/distribution.py:74: ShapelyDeprecationWarning: The 'type' attribute is deprecated, and will be removed in the future. You can use the 'geom_type' attribute instead.\n",
      "  if geom.type in [\"Polygon\", \"MultiPolygon\", \"LinearRing\"]:\n"
     ]
    }
   ],
   "source": [
    "### Building Area\n",
    "buildings['area'] = momepy.Area(buildings).series\n",
    "\n",
    "## Building Shapes\n",
    "\n",
    "### Circular Compactness\n",
    "buildings['circular_com'] =  momepy.CircularCompactness(buildings).series\n",
    "\n",
    "### Elongation\n",
    "blg_elongation = momepy.Elongation(buildings)\n",
    "buildings['elongation'] = blg_elongation.series\n",
    "\n",
    "## Squareness\n",
    "blg_squareness = momepy.Squareness(buildings)\n",
    "buildings['squareness'] = blg_squareness.series\n",
    "\n",
    "buildings['eri'] = momepy.EquivalentRectangularIndex(buildings).series\n",
    "\n",
    "buildings['area'] = momepy.Area(buildings).series\n",
    "\n",
    "\n",
    "buildings['orientation'] = momepy.Orientation(buildings).series"
   ]
  },
  {
   "cell_type": "code",
   "execution_count": 13,
   "metadata": {},
   "outputs": [
    {
     "data": {
      "application/vnd.jupyter.widget-view+json": {
       "model_id": "af02064203174f079d57497cf3423fea",
       "version_major": 2,
       "version_minor": 0
      },
      "text/plain": [
       "  0%|          | 0/76498 [00:00<?, ?it/s]"
      ]
     },
     "metadata": {},
     "output_type": "display_data"
    },
    {
     "data": {
      "application/vnd.jupyter.widget-view+json": {
       "model_id": "0bf365ea3ade412297ebcb7083c5556f",
       "version_major": 2,
       "version_minor": 0
      },
      "text/plain": [
       "  0%|          | 0/76498 [00:00<?, ?it/s]"
      ]
     },
     "metadata": {},
     "output_type": "display_data"
    },
    {
     "data": {
      "application/vnd.jupyter.widget-view+json": {
       "model_id": "ccbd77fffe83441db28d339c66fd937a",
       "version_major": 2,
       "version_minor": 0
      },
      "text/plain": [
       "  0%|          | 0/76498 [00:00<?, ?it/s]"
      ]
     },
     "metadata": {},
     "output_type": "display_data"
    },
    {
     "data": {
      "application/vnd.jupyter.widget-view+json": {
       "model_id": "fac8e4682fec426b88493384bee6680f",
       "version_major": 2,
       "version_minor": 0
      },
      "text/plain": [
       "  0%|          | 0/76498 [00:00<?, ?it/s]"
      ]
     },
     "metadata": {},
     "output_type": "display_data"
    },
    {
     "data": {
      "application/vnd.jupyter.widget-view+json": {
       "model_id": "a7a69d894113428fae8806cda219a0e9",
       "version_major": 2,
       "version_minor": 0
      },
      "text/plain": [
       "  0%|          | 0/76498 [00:00<?, ?it/s]"
      ]
     },
     "metadata": {},
     "output_type": "display_data"
    },
    {
     "data": {
      "application/vnd.jupyter.widget-view+json": {
       "model_id": "65781ca2c34b455abd00a0a5c532f157",
       "version_major": 2,
       "version_minor": 0
      },
      "text/plain": [
       "  0%|          | 0/76498 [00:00<?, ?it/s]"
      ]
     },
     "metadata": {},
     "output_type": "display_data"
    },
    {
     "data": {
      "application/vnd.jupyter.widget-view+json": {
       "model_id": "794d0d49b36d47d7b3acc293fa900959",
       "version_major": 2,
       "version_minor": 0
      },
      "text/plain": [
       "  0%|          | 0/76498 [00:00<?, ?it/s]"
      ]
     },
     "metadata": {},
     "output_type": "display_data"
    },
    {
     "data": {
      "application/vnd.jupyter.widget-view+json": {
       "model_id": "92adde22c5fb459bb4d11ac65eb78652",
       "version_major": 2,
       "version_minor": 0
      },
      "text/plain": [
       "  0%|          | 0/76498 [00:00<?, ?it/s]"
      ]
     },
     "metadata": {},
     "output_type": "display_data"
    }
   ],
   "source": [
    "tessellation[\"convexity\"] = momepy.Convexity(tessellation).series\n",
    "tessellation[\"area\"] = momepy.Area(tessellation).series\n",
    "\n",
    "tessellation[\"neighbours\"] = momepy.Neighbors(tessellation, queen_3,'uID').series\n",
    "tessellation[\"neighbours400\"] = momepy.Neighbors(tessellation, dist200, 'uID').series\n",
    "tessellation[\"covered_area\"] = momepy.CoveredArea(tessellation, queen_1, \"uID\", verbose=False).series\n",
    "\n",
    "areas = momepy.Area(tessellation).series\n",
    "tessellation[\"mean_area\"] = momepy.AverageCharacter(\n",
    "tessellation, values=areas, spatial_weights=queen_3, unique_id='uID').mean\n",
    "\n",
    "tessellation[\"mean_area_iq\"] = momepy.AverageCharacter(\n",
    "    tessellation, areas, queen_3, 'uID', rng=(25, 75)).mean\n",
    "\n",
    "tessellation[\"area_rng\"] = momepy.Range(tessellation, values='area',\n",
    "                                        spatial_weights=queen_3, unique_id='uID').series\n",
    "tessellation[\"area_iqr\"] = momepy.Range(tessellation, values='area',\n",
    "                        spatial_weights=queen_3, unique_id='uID',\n",
    "                        rng=(25, 75)).series\n",
    "tessellation[\"rea_theil\"] = momepy.Theil(tessellation, values='area',\n",
    "                        spatial_weights=queen_3,\n",
    "                        unique_id='uID').series\n",
    "\n",
    "tessellation[\"shannon\"] = momepy.Shannon(tessellation, values='area',spatial_weights=queen_3, unique_id='uID').series\n"
   ]
  },
  {
   "cell_type": "code",
   "execution_count": 14,
   "metadata": {},
   "outputs": [
    {
     "name": "stderr",
     "output_type": "stream",
     "text": [
      "/home/virgilxw/miniconda3/lib/python3.10/site-packages/momepy/shape.py:1286: ShapelyDeprecationWarning: The 'type' attribute is deprecated, and will be removed in the future. You can use the 'geom_type' attribute instead.\n",
      "  if geom.type == \"LineString\"\n"
     ]
    }
   ],
   "source": [
    "edg_lin = momepy.Linearity(streets)\n",
    "streets['linearity'] = edg_lin.series\n",
    "\n",
    "profile = momepy.StreetProfile(streets, buildings)\n",
    "streets[\"width\"] = profile.w\n",
    "streets[\"width_deviation\"] = profile.wd\n",
    "streets[\"openness\"] = profile.o"
   ]
  },
  {
   "cell_type": "code",
   "execution_count": 15,
   "metadata": {},
   "outputs": [],
   "source": [
    "# primal = momepy.gdf_to_nx(streets, approach='primal')"
   ]
  },
  {
   "cell_type": "code",
   "execution_count": 16,
   "metadata": {},
   "outputs": [
    {
     "name": "stdout",
     "output_type": "stream",
     "text": [
      "CPU times: user 0 ns, sys: 3 µs, total: 3 µs\n",
      "Wall time: 4.53 µs\n"
     ]
    }
   ],
   "source": [
    "%%time\n",
    "# momepy.node_degree(primal)"
   ]
  },
  {
   "cell_type": "code",
   "execution_count": 17,
   "metadata": {},
   "outputs": [
    {
     "name": "stdout",
     "output_type": "stream",
     "text": [
      "CPU times: user 0 ns, sys: 2 µs, total: 2 µs\n",
      "Wall time: 4.77 µs\n"
     ]
    }
   ],
   "source": [
    "%%time\n",
    "# primal = momepy.closeness_centrality(primal, radius=400, name='closeness400', distance='mm_len', weight='mm_len')"
   ]
  },
  {
   "cell_type": "code",
   "execution_count": 18,
   "metadata": {},
   "outputs": [
    {
     "name": "stdout",
     "output_type": "stream",
     "text": [
      "CPU times: user 2 µs, sys: 1e+03 ns, total: 3 µs\n",
      "Wall time: 5.25 µs\n"
     ]
    }
   ],
   "source": [
    "%%time\n",
    "# primal = momepy.meshedness(primal, radius=400, distance=\"mm_len\")"
   ]
  },
  {
   "cell_type": "code",
   "execution_count": 19,
   "metadata": {},
   "outputs": [],
   "source": [
    "# %%time\n",
    "# primal = momepy.straightness_centrality(primal)"
   ]
  },
  {
   "cell_type": "code",
   "execution_count": 20,
   "metadata": {},
   "outputs": [],
   "source": [
    "# %%time\n",
    "# primal = momepy.closeness_centrality(primal, name='closeness_global', weight='mm_len')"
   ]
  },
  {
   "cell_type": "code",
   "execution_count": 21,
   "metadata": {},
   "outputs": [],
   "source": [
    "# %%time\n",
    "# primal =  momepy.betweenness_centrality(primal, name='betweenness_metric_n', mode='nodes', weight='mm_len', k=100)"
   ]
  },
  {
   "cell_type": "code",
   "execution_count": 22,
   "metadata": {},
   "outputs": [],
   "source": [
    "# %%time\n",
    "# primal = momepy.straightness_centrality(primal)\n",
    "# # momepy.mean_nodes(primal, 'straightness')\n",
    "# momepy.mean_nodes(primal, 'closeness400')\n",
    "# # momepy.mean_nodes(primal, 'closeness_global')\n",
    "# # momepy.mean_nodes(primal, 'betweenness_metric_n')\n",
    "\n",
    "# nodes, streets = momepy.nx_to_gdf(primal)"
   ]
  },
  {
   "cell_type": "code",
   "execution_count": 23,
   "metadata": {},
   "outputs": [],
   "source": [
    "# dual = momepy.gdf_to_nx(streets, approach='dual')\n",
    "\n",
    "# dual = momepy.closeness_centrality(dual, radius=5, name='angcloseness400', weight='angle')\n",
    "\n",
    "# # dual = momepy.closeness_centrality(dual, name='closeness_global_ang', weight='angle')\n",
    "\n",
    "# # dual = momepy.betweenness_centrality(dual, name='angbetweenness', mode='nodes', weight='angle')\n",
    "\n",
    "# edges_d = momepy.nx_to_gdf(dual)\n"
   ]
  },
  {
   "cell_type": "code",
   "execution_count": 24,
   "metadata": {},
   "outputs": [],
   "source": [
    "# Find the uIDs in tessellation that are not in buildings\n",
    "tessellation_uids = set(tessellation['uID'])\n",
    "buildings_uids = set(buildings['uID'])\n",
    "new_uids = tessellation_uids - buildings_uids\n",
    "\n",
    "# Create a new GeoDataFrame with the new uIDs and empty geometry\n",
    "new_rows = pd.DataFrame({'uID': list(new_uids)})\n",
    "new_rows['geometry'] = None\n",
    "new_gdf = gpd.GeoDataFrame(new_rows, crs=buildings.crs)\n",
    "\n",
    "# Append the new GeoDataFrame to buildings\n",
    "buildings = pd.concat([buildings, new_gdf], ignore_index=True)"
   ]
  },
  {
   "cell_type": "code",
   "execution_count": 25,
   "metadata": {},
   "outputs": [
    {
     "data": {
      "application/vnd.jupyter.widget-view+json": {
       "model_id": "d9c65bc5bdcd44a8b0039cab6e270e29",
       "version_major": 2,
       "version_minor": 0
      },
      "text/plain": [
       "  0%|          | 0/76533 [00:00<?, ?it/s]"
      ]
     },
     "metadata": {},
     "output_type": "display_data"
    },
    {
     "data": {
      "application/vnd.jupyter.widget-view+json": {
       "model_id": "6dd1ce7f73a044978943721ac759f43d",
       "version_major": 2,
       "version_minor": 0
      },
      "text/plain": [
       "  0%|          | 0/76533 [00:00<?, ?it/s]"
      ]
     },
     "metadata": {},
     "output_type": "display_data"
    },
    {
     "name": "stdout",
     "output_type": "stream",
     "text": [
      "Computing mean interbuilding distances...\n"
     ]
    },
    {
     "data": {
      "application/vnd.jupyter.widget-view+json": {
       "model_id": "2ff2b63d9992454db61ed78c880ddf7c",
       "version_major": 2,
       "version_minor": 0
      },
      "text/plain": [
       "  0%|          | 0/76533 [00:00<?, ?it/s]"
      ]
     },
     "metadata": {},
     "output_type": "display_data"
    },
    {
     "name": "stdout",
     "output_type": "stream",
     "text": [
      "Computing mean interbuilding distances...\n"
     ]
    },
    {
     "data": {
      "application/vnd.jupyter.widget-view+json": {
       "model_id": "f56ff41899114eae828553155f1fbf57",
       "version_major": 2,
       "version_minor": 0
      },
      "text/plain": [
       "  0%|          | 0/76533 [00:00<?, ?it/s]"
      ]
     },
     "metadata": {},
     "output_type": "display_data"
    }
   ],
   "source": [
    "circular_compactness = momepy.CircularCompactness(buildings)\n",
    "buildings['weighted_circom'] = momepy.WeightedCharacter(\n",
    "buildings, circular_compactness.series, queen_3, 'uID', momepy.Area(buildings).series).series\n",
    "\n",
    "buildings['neighbour_dist'] = momepy.NeighborDistance(buildings, queen_1, 'uID').series\n",
    "\n",
    "buildings['interbuilding_distance'] = momepy.MeanInterbuildingDistance(buildings, queen_1, 'uID', 3, verbose=False).series\n",
    "\n",
    "interblg_distance = momepy.MeanInterbuildingDistance(\n",
    "buildings, queen_1, 'uID', spatial_weights_higher=queen_3)\n",
    "buildings['mean_ib_dist'] = interblg_distance.series\n",
    "\n",
    "buildings['mean_ib_dist'] = momepy.MeanInterbuildingDistance(\n",
    "    buildings, queen_1, 'uID', order=3).series\n",
    "\n",
    "\n"
   ]
  },
  {
   "cell_type": "code",
   "execution_count": 26,
   "metadata": {},
   "outputs": [],
   "source": [
    "cols = list(streets.columns)\n",
    "cols.remove('nID')\n",
    "cols.remove('geometry')"
   ]
  },
  {
   "cell_type": "code",
   "execution_count": 27,
   "metadata": {},
   "outputs": [
    {
     "data": {
      "application/vnd.jupyter.widget-view+json": {
       "model_id": "371d2e494cb84c418f206b4e216749ad",
       "version_major": 2,
       "version_minor": 0
      },
      "text/plain": [
       "  0%|          | 0/76533 [00:00<?, ?it/s]"
      ]
     },
     "metadata": {},
     "output_type": "display_data"
    }
   ],
   "source": [
    "buildings['weighted_circom'] = momepy.WeightedCharacter(\n",
    "buildings, circular_compactness.series, queen_3, 'uID', momepy.Area(buildings).series).series"
   ]
  },
  {
   "cell_type": "code",
   "execution_count": 28,
   "metadata": {},
   "outputs": [],
   "source": [
    "streets_dropped = streets.drop(cols,axis=1).reset_index(drop=True)"
   ]
  },
  {
   "cell_type": "code",
   "execution_count": 29,
   "metadata": {},
   "outputs": [],
   "source": [
    "buildings = buildings.set_crs(\"epsg:3414\")"
   ]
  },
  {
   "cell_type": "code",
   "execution_count": 30,
   "metadata": {},
   "outputs": [
    {
     "name": "stdout",
     "output_type": "stream",
     "text": [
      "There are no rows with duplicate uids.\n"
     ]
    }
   ],
   "source": [
    "buildings = gpd.sjoin_nearest(left_df=buildings, right_df=streets_dropped, how='left', max_distance=1000).drop_duplicates(subset=['geometry'])\n",
    "duplicates = buildings[buildings.duplicated(['uID'], keep=False)]\n",
    "if len(duplicates) > 0:\n",
    "    print(f\"There are {len(duplicates)} rows with duplicate uids.\")\n",
    "    print(duplicates)\n",
    "else:\n",
    "    print(\"There are no rows with duplicate uids.\")\n"
   ]
  },
  {
   "cell_type": "code",
   "execution_count": 31,
   "metadata": {},
   "outputs": [],
   "source": [
    "buildings = buildings.dropna(subset=['geometry'])\n",
    "tessellation = tessellation.dropna(subset=['geometry'])"
   ]
  },
  {
   "cell_type": "code",
   "execution_count": 32,
   "metadata": {},
   "outputs": [
    {
     "data": {
      "application/vnd.jupyter.widget-view+json": {
       "model_id": "a1e3b27acc1845649ec300bac77974ef",
       "version_major": 2,
       "version_minor": 0
      },
      "text/plain": [
       "  0%|          | 0/76533 [00:00<?, ?it/s]"
      ]
     },
     "metadata": {},
     "output_type": "display_data"
    },
    {
     "name": "stderr",
     "output_type": "stream",
     "text": [
      "/home/virgilxw/miniconda3/lib/python3.10/site-packages/momepy/distribution.py:74: ShapelyDeprecationWarning: The 'type' attribute is deprecated, and will be removed in the future. You can use the 'geom_type' attribute instead.\n",
      "  if geom.type in [\"Polygon\", \"MultiPolygon\", \"LinearRing\"]:\n"
     ]
    },
    {
     "data": {
      "application/vnd.jupyter.widget-view+json": {
       "model_id": "d88e104f0a524316bfc0cc15d68b2301",
       "version_major": 2,
       "version_minor": 0
      },
      "text/plain": [
       "  0%|          | 0/76498 [00:00<?, ?it/s]"
      ]
     },
     "metadata": {},
     "output_type": "display_data"
    }
   ],
   "source": [
    "buildings['orientation'] = momepy.Orientation(buildings).series\n",
    "tessellation['orientation'] = momepy.Orientation(tessellation).series"
   ]
  },
  {
   "cell_type": "code",
   "execution_count": 33,
   "metadata": {},
   "outputs": [
    {
     "name": "stderr",
     "output_type": "stream",
     "text": [
      "/home/virgilxw/miniconda3/lib/python3.10/site-packages/momepy/distribution.py:84: ShapelyDeprecationWarning: The 'type' attribute is deprecated, and will be removed in the future. You can use the 'geom_type' attribute instead.\n",
      "  elif geom.type in [\"LineString\", \"MultiLineString\"]:\n"
     ]
    }
   ],
   "source": [
    "str_align = momepy.StreetAlignment(buildings, streets,\n",
    "                                   'orientation', 'nID',\n",
    "                                   'nID')\n",
    "buildings['str_align'] = str_align.series"
   ]
  },
  {
   "cell_type": "code",
   "execution_count": 34,
   "metadata": {},
   "outputs": [],
   "source": [
    "blg_cell_align = momepy.CellAlignment(buildings, tessellation,\n",
    "                                      'orientation', 'orientation',\n",
    "                                      'uID', 'uID')\n",
    "buildings['cell_align'] = blg_cell_align.series"
   ]
  },
  {
   "cell_type": "code",
   "execution_count": 35,
   "metadata": {},
   "outputs": [],
   "source": [
    "tessellation['car'] = momepy.AreaRatio(tessellation, buildings, 'area', 'area', 'uID').series"
   ]
  },
  {
   "cell_type": "code",
   "execution_count": 36,
   "metadata": {},
   "outputs": [],
   "source": [
    "nodes = gpd.read_parquet(\"./out/singapore/vertices_frame.pq\")\n",
    "edges = gpd.read_parquet(\"./out/singapore/edges_frame.pq\")"
   ]
  },
  {
   "cell_type": "code",
   "execution_count": 37,
   "metadata": {},
   "outputs": [],
   "source": [
    "buildings = buildings.drop([\"nID\", \"index_right\"], axis=1)\n",
    "nodes = nodes.drop([\"vertID\"], axis=1)\n",
    "edges = edges.drop(\"edgeID\", axis=1)"
   ]
  },
  {
   "cell_type": "code",
   "execution_count": 38,
   "metadata": {},
   "outputs": [
    {
     "name": "stdout",
     "output_type": "stream",
     "text": [
      "There are no rows with duplicate uids.\n"
     ]
    }
   ],
   "source": [
    "buildings = gpd.sjoin_nearest(left_df=buildings, right_df=nodes, how='left', max_distance=1000).drop_duplicates(subset=['geometry'])\n",
    "duplicates = buildings[buildings.duplicated(['uID'], keep=False)]\n",
    "if len(duplicates) > 0:\n",
    "    print(f\"There are {len(duplicates)} rows with duplicate uids.\")\n",
    "    print(duplicates)\n",
    "else:\n",
    "    print(\"There are no rows with duplicate uids.\")\n"
   ]
  },
  {
   "cell_type": "code",
   "execution_count": 39,
   "metadata": {},
   "outputs": [
    {
     "name": "stdout",
     "output_type": "stream",
     "text": [
      "There are no rows with duplicate uids.\n"
     ]
    }
   ],
   "source": [
    "buildings = buildings.drop(\"index_right\", axis=1)\n",
    "buildings = gpd.sjoin_nearest(left_df=buildings, right_df=edges, how='left', max_distance=1000).drop_duplicates(subset=['geometry'])\n",
    "duplicates = buildings[buildings.duplicated(['uID'], keep=False)]\n",
    "if len(duplicates) > 0:\n",
    "    print(f\"There are {len(duplicates)} rows with duplicate uids.\")\n",
    "    print(duplicates)\n",
    "else:\n",
    "    print(\"There are no rows with duplicate uids.\")\n"
   ]
  },
  {
   "cell_type": "code",
   "execution_count": 40,
   "metadata": {},
   "outputs": [],
   "source": [
    "tessellation = tessellation.merge(buildings, how='left', left_on = \"uID\", right_on=\"uID\" )\n",
    "tessellation = tessellation.drop(['eID', \"geometry_y\", \"index_right\"], axis=1)\n",
    "tessellation = tessellation.rename(columns={\"geometry_x\": \"geometry\"})\n",
    "tessellation = gpd.GeoDataFrame(tessellation.dropna(subset=['geometry']))"
   ]
  },
  {
   "cell_type": "code",
   "execution_count": 41,
   "metadata": {},
   "outputs": [],
   "source": [
    "with open('./out/singapore/weights.pickle', 'wb') as f:\n",
    "    pickle.dump(queen_1, f)\n",
    "    pickle.dump(queen_3, f)\n",
    "    pickle.dump(dist200, f)\n",
    "    f.close()"
   ]
  },
  {
   "cell_type": "code",
   "execution_count": 42,
   "metadata": {},
   "outputs": [
    {
     "name": "stdout",
     "output_type": "stream",
     "text": [
      "           uID                                           geometry  convexity  \\\n",
      "0      75707.0  POLYGON ((45510.911 33224.180, 45517.076 33236...   0.957765   \n",
      "1      74906.0  MULTIPOLYGON (((43852.067 36248.967, 43784.590...   0.840004   \n",
      "2      74909.0  MULTIPOLYGON (((43767.188 36235.006, 43757.647...   0.982273   \n",
      "3      74915.0  MULTIPOLYGON (((43800.984 36416.304, 43801.539...   0.941257   \n",
      "4      74921.0  POLYGON ((43453.691 36562.605, 43453.334 36563...   0.921910   \n",
      "...        ...                                                ...        ...   \n",
      "76493  74471.0  POLYGON ((42502.870 37070.330, 42522.949 37069...   0.936044   \n",
      "76494  75817.0  POLYGON ((44572.445 35487.575, 44678.812 35737...   0.653799   \n",
      "76495  75833.0  MULTIPOLYGON (((45462.523 38178.956, 45451.205...   0.244914   \n",
      "76496  75840.0  POLYGON ((45232.729 37907.457, 45238.212 37858...   0.991706   \n",
      "76497  75848.0  POLYGON ((45265.010 37965.610, 45253.833 37953...   1.000000   \n",
      "\n",
      "              area_x  neighbours  neighbours400  covered_area      mean_area  \\\n",
      "0       22937.497181          22              3  3.304277e+05   97631.601565   \n",
      "1      235621.185654          40              0  1.056545e+06   65194.838533   \n",
      "2       54389.426355          38              2  5.063879e+05   50002.502721   \n",
      "3       77570.608968          46              4  7.223144e+05   43228.015279   \n",
      "4       14120.738619          35              9  1.243544e+05   43769.543130   \n",
      "...              ...         ...            ...           ...            ...   \n",
      "76493     715.068117           0              7  7.150681e+02     715.068117   \n",
      "76494   94737.359917           0              2  9.473736e+04   94737.359917   \n",
      "76495  393683.670408           3              1  4.187862e+05  106403.428496   \n",
      "76496    5349.144058           0              4  5.349144e+03    5349.144058   \n",
      "76497     689.853061           0              4  6.898531e+02     689.853061   \n",
      "\n",
      "       mean_area_iq       area_rng  ...  str_align    cell_align  \\\n",
      "0      56803.633839  427280.928675  ...   0.233152  1.410468e-01   \n",
      "1      35980.716008  447656.891680  ...   5.294152  6.564115e+00   \n",
      "2      31821.096351  234705.882192  ...  14.614829  8.064704e+00   \n",
      "3      24545.857306  234705.882192  ...  19.348732  8.783638e+00   \n",
      "4      25385.820713  234705.882192  ...   9.579286  2.591594e+00   \n",
      "...             ...            ...  ...        ...           ...   \n",
      "76493    715.068117       0.000000  ...  39.514037  5.388659e-08   \n",
      "76494  94737.359917       0.000000  ...  17.750876  0.000000e+00   \n",
      "76495  14852.525311  391458.677452  ...   2.039058  0.000000e+00   \n",
      "76496   5349.144058       0.000000  ...  20.917782  9.040946e-09   \n",
      "76497    689.853061       0.000000  ...  16.535033  1.326737e-08   \n",
      "\n",
      "       betweeness_centrality_left  node_degree  closeness  \\\n",
      "0                    1.400278e-04          2.0   0.000000   \n",
      "1                    2.375823e-03          3.0   1.000000   \n",
      "2                    2.632913e-03          2.0   0.000000   \n",
      "3                    1.680131e-04          2.0   0.068419   \n",
      "4                    1.400129e-04          2.0   0.076781   \n",
      "...                           ...          ...        ...   \n",
      "76493                2.093108e-03          3.0   0.000000   \n",
      "76494                0.000000e+00          4.0   0.000000   \n",
      "76495                7.842431e-10          3.0   0.000000   \n",
      "76496                2.803708e-05          2.0   0.147158   \n",
      "76497                9.410917e-08          2.0   0.147158   \n",
      "\n",
      "       global_closeness_centrality  global_clustering_400m  eigenvector  \\\n",
      "0                         0.000043                0.166667      62344.0   \n",
      "1                         0.000048                     NaN      52676.0   \n",
      "2                         0.000050                0.000000      42869.0   \n",
      "3                         0.000049                0.000000      25573.0   \n",
      "4                         0.000049                0.000000      25575.0   \n",
      "...                            ...                     ...          ...   \n",
      "76493                     0.000053                0.102564      75214.0   \n",
      "76494                     0.000046                0.000000      59711.0   \n",
      "76495                     0.000042                0.000000      24048.0   \n",
      "76496                     0.000043                0.000000      47218.0   \n",
      "76497                     0.000043                0.000000      47219.0   \n",
      "\n",
      "       node_centrality_400m  betweeness_centrality_right  \n",
      "0                      20.0                 1.400293e-04  \n",
      "1                       1.0                 2.402493e-03  \n",
      "2                       7.0                 2.633279e-03  \n",
      "3                      16.0                 1.960098e-04  \n",
      "4                      15.0                 1.680108e-04  \n",
      "...                     ...                          ...  \n",
      "76493                  84.0                 2.398493e-04  \n",
      "76494                   5.0                 2.744774e-09  \n",
      "76495                   8.0                 3.915953e-04  \n",
      "76496                   8.0                 5.600907e-05  \n",
      "76497                   8.0                 1.959498e-04  \n",
      "\n",
      "[76498 rows x 35 columns]\n"
     ]
    }
   ],
   "source": [
    "print(tessellation)"
   ]
  },
  {
   "cell_type": "code",
   "execution_count": 43,
   "metadata": {},
   "outputs": [],
   "source": [
    "tessellation.to_parquet(\"./out/singapore/tessellation_stats.pq\")"
   ]
  },
  {
   "cell_type": "code",
   "execution_count": 44,
   "metadata": {},
   "outputs": [],
   "source": [
    "# chunk_size = 250000\n",
    "# chunks = []\n",
    "# for i in range(0, len(tessellation), chunk_size):\n",
    "#     chunks.append(tessellation.iloc[i:i + chunk_size])"
   ]
  },
  {
   "cell_type": "code",
   "execution_count": 45,
   "metadata": {},
   "outputs": [],
   "source": [
    "# import os\n",
    "# new_directory = \"./out/singapore/tessellation/\"\n",
    "\n",
    "# if not os.path.exists(new_directory):\n",
    "#     os.makedirs(new_directory)\n",
    "#     print(f\"Created directory: {new_directory}\")\n",
    "# else:\n",
    "#     print(f\"Directory already exists: {new_directory}\")\n",
    "\n",
    "# # iterate over all files in the directory and delete them\n",
    "# for filename in os.listdir(new_directory):\n",
    "#     file_path = os.path.join(new_directory, filename)\n",
    "#     if os.path.isfile(file_path):\n",
    "#         os.remove(file_path)\n",
    "#         print(f\"Deleted file: {file_path}\")"
   ]
  },
  {
   "cell_type": "code",
   "execution_count": 46,
   "metadata": {},
   "outputs": [],
   "source": [
    "# for i, chunk in enumerate(chunks):\n",
    "#     chunk.to_parquet(f\"./out/singapore/tessellation/tesselation_chunk_{i}.pq\")"
   ]
  },
  {
   "cell_type": "code",
   "execution_count": 47,
   "metadata": {},
   "outputs": [],
   "source": [
    "# duplicates = tessellation[tessellation.duplicated(['uID'], keep=False)]\n",
    "# if len(duplicates) > 0:\n",
    "#     print(f\"There are {len(duplicates)} rows with duplicate uids.\")\n",
    "#     print(duplicates)\n",
    "# else:\n",
    "#     print(\"There are no rows with duplicate uids.\")"
   ]
  },
  {
   "cell_type": "code",
   "execution_count": 48,
   "metadata": {},
   "outputs": [],
   "source": [
    "# import pickle\n",
    "\n",
    "# # Open the file for reading\n",
    "# with open('./out/singapore/weights.pickle', 'rb') as f:\n",
    "#     # Load the variables in the same order that they were dumped\n",
    "#     queen_1 = pickle.load(f)\n",
    "#     queen_3 = pickle.load(f)\n",
    "#     dist200 = pickle.load(f)\n",
    "#     tessellation = pickle.load(f)"
   ]
  },
  {
   "cell_type": "code",
   "execution_count": 49,
   "metadata": {},
   "outputs": [],
   "source": [
    "# tessellation.to_parquet(\"./out/singapore/tessellation_with_data.pq\", write_metadata_file=False)"
   ]
  }
 ],
 "metadata": {
  "kernelspec": {
   "display_name": "base",
   "language": "python",
   "name": "python3"
  },
  "language_info": {
   "codemirror_mode": {
    "name": "ipython",
    "version": 3
   },
   "file_extension": ".py",
   "mimetype": "text/x-python",
   "name": "python",
   "nbconvert_exporter": "python",
   "pygments_lexer": "ipython3",
   "version": "3.10.10"
  },
  "orig_nbformat": 4
 },
 "nbformat": 4,
 "nbformat_minor": 2
}
