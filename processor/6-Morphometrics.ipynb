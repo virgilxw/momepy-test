{
 "cells": [
  {
   "cell_type": "code",
   "execution_count": 1,
   "metadata": {},
   "outputs": [
    {
     "name": "stderr",
     "output_type": "stream",
     "text": [
      "/tmp/ipykernel_601/2859145375.py:3: UserWarning: Shapely 2.0 is installed, but because PyGEOS is also installed, GeoPandas will still use PyGEOS by default for now. To force to use and test Shapely 2.0, you have to set the environment variable USE_PYGEOS=0. You can do this before starting the Python process, or in your code before importing geopandas:\n",
      "\n",
      "import os\n",
      "os.environ['USE_PYGEOS'] = '0'\n",
      "import geopandas\n",
      "\n",
      "In a future release, GeoPandas will switch to using Shapely by default. If you are using PyGEOS directly (calling PyGEOS functions on geometries from GeoPandas), this will then stop working and you are encouraged to migrate from PyGEOS to Shapely 2.0 (https://shapely.readthedocs.io/en/latest/migration_pygeos.html).\n",
      "  import geopandas as gpd\n"
     ]
    }
   ],
   "source": [
    "from dask.distributed import Client, LocalCluster\n",
    "import bokeh\n",
    "import geopandas as gpd\n",
    "import scipy\n",
    "import libpysal\n",
    "import momepy\n",
    "import json\n",
    "from dask import delayed\n",
    "import glob\n",
    "import dask\n",
    "import dask.dataframe as dd\n",
    "import momepy\n",
    "import geopandas as gpd\n",
    "import matplotlib.pyplot as plt\n",
    "import pandas as pd\n",
    "import json\n",
    "from tqdm import tqdm\n",
    "from shapely.geometry import Point\n",
    "import networkx as nx"
   ]
  },
  {
   "cell_type": "code",
   "execution_count": null,
   "metadata": {},
   "outputs": [],
   "source": [
    "daskCluster = LocalCluster(threads_per_worker=2,\n",
    "                n_workers=8, memory_limit='100GB')\n",
    "\n",
    "client = Client(daskCluster)\n",
    "\n",
    "client"
   ]
  },
  {
   "cell_type": "code",
   "execution_count": null,
   "metadata": {},
   "outputs": [],
   "source": [
    "with open('./out/singapore/what_cells_are_in_what_cluster_dict.json', 'r') as f:\n",
    "    includes_dict = json.load(f)\n",
    "    \n",
    "tessellation = gpd.read_parquet(\"./out/singapore/tessellation.pq\")\n",
    "\n",
    "buildings = gpd.read_parquet(\"./out/singapore/buildings.pq\")\n",
    "\n",
    "streets = gpd.read_parquet(\"./out/singapore/streets.pq\").explode()"
   ]
  },
  {
   "cell_type": "code",
   "execution_count": null,
   "metadata": {},
   "outputs": [],
   "source": [
    "streets['nID'] = momepy.unique_id(streets)\n",
    "# buildings['nID'] = momepy.get_network_id(buildings, streets,\n",
    "#                                                'nID').values\n",
    "\n",
    "# buildings = buildings.drop_duplicates(\"uID\").drop(columns=\"index_right\")\n",
    "# tessellation = tessellation.merge(buildings[['uID', 'nID']], on='uID', how='left')"
   ]
  },
  {
   "cell_type": "code",
   "execution_count": null,
   "metadata": {},
   "outputs": [],
   "source": [
    "### Distance Weight\n",
    "dist200 = libpysal.weights.DistanceBand.from_dataframe(buildings, 200, ids='uID')"
   ]
  },
  {
   "cell_type": "code",
   "execution_count": null,
   "metadata": {},
   "outputs": [],
   "source": [
    "@dask.delayed\n",
    "def queen_contiguity_load(n1, includes_dict):\n",
    "    chunk = gpd.read_parquet(f\"./out/singapore/expanded_cells_in_chunk_{int(n1)}.pq\")\n",
    "    \n",
    "    # weights\n",
    "    sw1 = libpysal.weights.w_subset(momepy.sw_high(k=1, gdf=chunk, ids='uID'), includes_dict[str(n1)]).to_adjlist()\n",
    "    sw3 = libpysal.weights.w_subset(momepy.sw_high(k=3, gdf=chunk, ids='uID'), includes_dict[str(n1)]).to_adjlist()\n",
    "    \n",
    "    return (sw1, sw3)"
   ]
  },
  {
   "cell_type": "code",
   "execution_count": null,
   "metadata": {},
   "outputs": [],
   "source": [
    "file_pattern = \"./out/singapore/expanded_cells_in_chunk_*.pq\"\n",
    "file_list = glob.glob(file_pattern)\n",
    "num_files = len(file_list)\n",
    "\n",
    "# weight_out = [process(n1, includes_dict) for n1 in tqdm(range(num_files))]\n",
    "\n",
    "weight_out = [queen_contiguity_load(n1, includes_dict) for n1 in range(num_files)]\n",
    "\n",
    "weight_out = dask.compute(weight_out)\n"
   ]
  },
  {
   "cell_type": "code",
   "execution_count": null,
   "metadata": {},
   "outputs": [],
   "source": [
    "sw1 = libpysal.weights.W.from_adjlist(pd.concat(weight_out[0][i][0] for i in range(num_files)))\n",
    "\n",
    "sw3 = libpysal.weights.W.from_adjlist(pd.concat(weight_out[0][i][1] for i in range(num_files)))"
   ]
  },
  {
   "cell_type": "code",
   "execution_count": null,
   "metadata": {},
   "outputs": [],
   "source": [
    "# # Find the uIDs in tessellation that are not in buildings\n",
    "# tessellation_uids = set(tessellation['uID'])\n",
    "# buildings_uids = set(buildings['uID'])\n",
    "# new_uids = tessellation_uids - buildings_uids\n",
    "\n",
    "# # Create a new GeoDataFrame with the new uIDs and empty geometry\n",
    "# new_rows = pd.DataFrame({'uID': list(new_uids)})\n",
    "# new_rows['geometry'] = None\n",
    "# new_gdf = gpd.GeoDataFrame(new_rows, crs=buildings.crs)\n",
    "\n",
    "# # Append the new GeoDataFrame to buildings\n",
    "# new_buildings = pd.concat([buildings, new_gdf], ignore_index=True)"
   ]
  },
  {
   "cell_type": "code",
   "execution_count": null,
   "metadata": {},
   "outputs": [],
   "source": [
    "### Building Area\n",
    "buildings['area'] = momepy.Area(buildings).series\n",
    "\n",
    "## Building Shapes\n",
    "\n",
    "### Circular Compactness\n",
    "buildings['circular_com'] =  momepy.CircularCompactness(buildings).series\n",
    "\n",
    "### Elongation\n",
    "blg_elongation = momepy.Elongation(buildings)\n",
    "buildings['elongation'] = blg_elongation.series\n",
    "\n",
    "## Squareness\n",
    "blg_squareness = momepy.Squareness(buildings)\n",
    "buildings['squareness'] = blg_squareness.series\n",
    "\n",
    "buildings['eri'] = momepy.EquivalentRectangularIndex(buildings).series\n",
    "\n",
    "buildings['area'] = momepy.Area(buildings).series\n",
    "\n",
    "\n",
    "buildings['orientation'] = momepy.Orientation(buildings).series"
   ]
  },
  {
   "cell_type": "code",
   "execution_count": null,
   "metadata": {},
   "outputs": [],
   "source": [
    "tessellation[\"convexity\"] = momepy.Convexity(tessellation).series\n",
    "tessellation[\"area\"] = momepy.Area(tessellation).series\n",
    "\n",
    "tessellation[\"neighbours\"] = momepy.Neighbors(tessellation, sw3,'uID').series\n",
    "tessellation[\"neighbours400\"] = momepy.Neighbors(tessellation, dist200, 'uID').series\n",
    "tessellation[\"covered_area\"] = momepy.CoveredArea(tessellation, sw1, \"uID\", verbose=False).series\n",
    "\n",
    "areas = momepy.Area(tessellation).series\n",
    "tessellation[\"mean_area\"] = momepy.AverageCharacter(\n",
    "tessellation, values=areas, spatial_weights=sw3, unique_id='uID').mean\n",
    "\n",
    "tessellation[\"mean_area_iq\"] = momepy.AverageCharacter(\n",
    "    tessellation, areas, sw3, 'uID', rng=(25, 75)).mean\n",
    "\n",
    "tessellation[\"area_rng\"] = momepy.Range(tessellation, values='area',\n",
    "                                        spatial_weights=sw3, unique_id='uID').series\n",
    "tessellation[\"area_iqr\"] = momepy.Range(tessellation, values='area',\n",
    "                        spatial_weights=sw3, unique_id='uID',\n",
    "                        rng=(25, 75)).series\n",
    "tessellation[\"rea_theil\"] = momepy.Theil(tessellation, values='area',\n",
    "                        spatial_weights=sw3,\n",
    "                        unique_id='uID').series\n",
    "\n",
    "tessellation[\"shannon\"] = momepy.Shannon(tessellation, values='area',spatial_weights=sw3, unique_id='uID').series\n"
   ]
  },
  {
   "cell_type": "code",
   "execution_count": null,
   "metadata": {},
   "outputs": [],
   "source": [
    "edg_lin = momepy.Linearity(streets)\n",
    "streets['linearity'] = edg_lin.series\n",
    "\n",
    "profile = momepy.StreetProfile(streets, buildings)\n",
    "streets[\"width\"] = profile.w\n",
    "streets[\"width_deviation\"] = profile.wd\n",
    "streets[\"openness\"] = profile.o"
   ]
  },
  {
   "cell_type": "code",
   "execution_count": null,
   "metadata": {},
   "outputs": [],
   "source": [
    "# primal = momepy.gdf_to_nx(streets, approach='primal')"
   ]
  },
  {
   "cell_type": "code",
   "execution_count": null,
   "metadata": {},
   "outputs": [],
   "source": [
    "%%time\n",
    "# momepy.node_degree(primal)"
   ]
  },
  {
   "cell_type": "code",
   "execution_count": null,
   "metadata": {},
   "outputs": [],
   "source": [
    "%%time\n",
    "# primal = momepy.closeness_centrality(primal, radius=400, name='closeness400', distance='mm_len', weight='mm_len')"
   ]
  },
  {
   "cell_type": "code",
   "execution_count": null,
   "metadata": {},
   "outputs": [],
   "source": [
    "%%time\n",
    "# primal = momepy.meshedness(primal, radius=400, distance=\"mm_len\")"
   ]
  },
  {
   "cell_type": "code",
   "execution_count": null,
   "metadata": {},
   "outputs": [],
   "source": [
    " %%time\n",
    "primal = momepy.straightness_centrality(primal)"
   ]
  },
  {
   "cell_type": "code",
   "execution_count": null,
   "metadata": {},
   "outputs": [],
   "source": [
    "# %%time\n",
    "# primal = momepy.closeness_centrality(primal, name='closeness_global', weight='mm_len')"
   ]
  },
  {
   "cell_type": "code",
   "execution_count": null,
   "metadata": {},
   "outputs": [],
   "source": [
    "# %%time\n",
    "# primal =  momepy.betweenness_centrality(primal, name='betweenness_metric_n', mode='nodes', weight='mm_len', k=100)"
   ]
  },
  {
   "cell_type": "code",
   "execution_count": null,
   "metadata": {},
   "outputs": [],
   "source": [
    "# %%time\n",
    "# primal = momepy.straightness_centrality(primal)\n",
    "# # momepy.mean_nodes(primal, 'straightness')\n",
    "# momepy.mean_nodes(primal, 'closeness400')\n",
    "# # momepy.mean_nodes(primal, 'closeness_global')\n",
    "# # momepy.mean_nodes(primal, 'betweenness_metric_n')\n",
    "\n",
    "# nodes, streets = momepy.nx_to_gdf(primal)"
   ]
  },
  {
   "cell_type": "code",
   "execution_count": null,
   "metadata": {},
   "outputs": [],
   "source": [
    "# dual = momepy.gdf_to_nx(streets, approach='dual')\n",
    "\n",
    "# dual = momepy.closeness_centrality(dual, radius=5, name='angcloseness400', weight='angle')\n",
    "\n",
    "# # dual = momepy.closeness_centrality(dual, name='closeness_global_ang', weight='angle')\n",
    "\n",
    "# # dual = momepy.betweenness_centrality(dual, name='angbetweenness', mode='nodes', weight='angle')\n",
    "\n",
    "# edges_d = momepy.nx_to_gdf(dual)\n"
   ]
  },
  {
   "cell_type": "code",
   "execution_count": null,
   "metadata": {},
   "outputs": [],
   "source": [
    "# # Find the uIDs in tessellation that are not in buildings\n",
    "# tessellation_uids = set(tessellation['uID'])\n",
    "# buildings_uids = set(buildings['uID'])\n",
    "# new_uids = tessellation_uids - buildings_uids\n",
    "\n",
    "# # Create a new GeoDataFrame with the new uIDs and empty geometry\n",
    "# new_rows = pd.DataFrame({'uID': list(new_uids)})\n",
    "# new_rows['geometry'] = None\n",
    "# new_gdf = gpd.GeoDataFrame(new_rows, crs=buildings.crs)\n",
    "\n",
    "# # Append the new GeoDataFrame to buildings\n",
    "# buildings = pd.concat([buildings, new_gdf], ignore_index=True)"
   ]
  },
  {
   "cell_type": "code",
   "execution_count": null,
   "metadata": {},
   "outputs": [],
   "source": [
    "circular_compactness = momepy.CircularCompactness(buildings)\n",
    "buildings['weighted_circom'] = momepy.WeightedCharacter(\n",
    "buildings, circular_compactness.series, sw3, 'uID', momepy.Area(buildings).series).series\n",
    "\n",
    "buildings['neighbour_dist'] = momepy.NeighborDistance(buildings, sw1, 'uID').series\n",
    "\n",
    "buildings['interbuilding_distance'] = momepy.MeanInterbuildingDistance(buildings, sw1, 'uID', 3, verbose=False).series\n",
    "\n",
    "interblg_distance = momepy.MeanInterbuildingDistance(\n",
    "buildings, sw1, 'uID', spatial_weights_higher=sw3)\n",
    "buildings['mean_ib_dist'] = interblg_distance.series\n",
    "\n",
    "buildings['mean_ib_dist'] = momepy.MeanInterbuildingDistance(\n",
    "    buildings, sw1, 'uID', order=3).series\n",
    "\n",
    "\n",
    "buildings_net = buildings.dropna(subset=[\"nID\"])\n",
    "\n",
    "str_align = momepy.StreetAlignment(buildings_net, streets,\n",
    "                                   'orientation', 'nID',\n",
    "                                   'nID')\n",
    "buildings_net['str_align'] = str_align.series\n",
    "\n",
    "blg_cell_align = momepy.CellAlignment(buildings, tessellation,\n",
    "                                      'orientation', 'orientation',\n",
    "                                      'uID', 'uID')\n",
    "buildings['cell_align'] = blg_cell_align.series\n",
    "\n",
    "\n",
    "tessellation['car'] = momepy.AreaRatio(tessellation, buildings, 'area', 'area', 'uID').series\n",
    "\n",
    "buildings['weighted_circom'] = momepy.WeightedCharacter(\n",
    "buildings, circular_compactness.series, sw3, 'uID', momepy.Area(buildings).series).series\n",
    "\n"
   ]
  },
  {
   "cell_type": "code",
   "execution_count": null,
   "metadata": {},
   "outputs": [],
   "source": [
    "merged = tessellation.merge(buildings.drop(columns=['nID', 'geometry']), on='uID')\n",
    "merged = merged.merge(streets.drop(columns='geometry'), on='nID', how='left')\n",
    "merged = merged.merge(nodes.drop(columns='geometry'), on='nodeID', how='left')\n",
    "merged = merged.merge(edges_d.drop(columns='geometry'), on='nodeID', how='left')\n"
   ]
  },
  {
   "cell_type": "code",
   "execution_count": null,
   "metadata": {},
   "outputs": [],
   "source": []
  }
 ],
 "metadata": {
  "kernelspec": {
   "display_name": "base",
   "language": "python",
   "name": "python3"
  },
  "language_info": {
   "codemirror_mode": {
    "name": "ipython",
    "version": 3
   },
   "file_extension": ".py",
   "mimetype": "text/x-python",
   "name": "python",
   "nbconvert_exporter": "python",
   "pygments_lexer": "ipython3",
   "version": "3.10.10"
  },
  "orig_nbformat": 4
 },
 "nbformat": 4,
 "nbformat_minor": 2
}
