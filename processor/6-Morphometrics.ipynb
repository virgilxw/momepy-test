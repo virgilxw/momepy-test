{
 "cells": [
  {
   "cell_type": "code",
   "execution_count": 1,
   "metadata": {},
   "outputs": [
    {
     "name": "stderr",
     "output_type": "stream",
     "text": [
      "/tmp/ipykernel_10897/3967175050.py:3: UserWarning: Shapely 2.0 is installed, but because PyGEOS is also installed, GeoPandas will still use PyGEOS by default for now. To force to use and test Shapely 2.0, you have to set the environment variable USE_PYGEOS=0. You can do this before starting the Python process, or in your code before importing geopandas:\n",
      "\n",
      "import os\n",
      "os.environ['USE_PYGEOS'] = '0'\n",
      "import geopandas\n",
      "\n",
      "In a future release, GeoPandas will switch to using Shapely by default. If you are using PyGEOS directly (calling PyGEOS functions on geometries from GeoPandas), this will then stop working and you are encouraged to migrate from PyGEOS to Shapely 2.0 (https://shapely.readthedocs.io/en/latest/migration_pygeos.html).\n",
      "  import geopandas as gpd\n"
     ]
    }
   ],
   "source": [
    "from dask.distributed import Client, LocalCluster\n",
    "import bokeh\n",
    "import geopandas as gpd\n",
    "import scipy\n",
    "import libpysal\n",
    "import momepy\n",
    "import json\n",
    "from dask import delayed\n",
    "import glob\n",
    "import dask\n",
    "import dask.dataframe as dd\n",
    "import momepy\n",
    "import geopandas as gpd\n",
    "import matplotlib.pyplot as plt\n",
    "import pandas as pd\n",
    "import json\n",
    "from tqdm import tqdm\n",
    "from shapely.geometry import Point\n",
    "import networkx as nx\n",
    "import pickle"
   ]
  },
  {
   "cell_type": "code",
   "execution_count": 2,
   "metadata": {
    "tags": [
     "parameters"
    ]
   },
   "outputs": [],
   "source": [
    "local_crs = 3414\n",
    "\n",
    "place = \"singapore\""
   ]
  },
  {
   "cell_type": "code",
   "execution_count": 3,
   "metadata": {},
   "outputs": [
    {
     "name": "stderr",
     "output_type": "stream",
     "text": [
      "/home/virgilxw/miniconda3/lib/python3.10/site-packages/distributed/node.py:182: UserWarning: Port 8787 is already in use.\n",
      "Perhaps you already have a cluster running?\n",
      "Hosting the HTTP server on port 40413 instead\n",
      "  warnings.warn(\n",
      "2023-05-23 19:30:21,455 - distributed.nanny.memory - WARNING - Ignoring provided memory limit 100GB due to system memory limit of 31.31 GiB\n",
      "2023-05-23 19:30:21,457 - distributed.nanny.memory - WARNING - Ignoring provided memory limit 100GB due to system memory limit of 31.31 GiB\n",
      "2023-05-23 19:30:21,458 - distributed.nanny.memory - WARNING - Ignoring provided memory limit 100GB due to system memory limit of 31.31 GiB\n",
      "2023-05-23 19:30:21,461 - distributed.nanny.memory - WARNING - Ignoring provided memory limit 100GB due to system memory limit of 31.31 GiB\n",
      "2023-05-23 19:30:21,463 - distributed.nanny.memory - WARNING - Ignoring provided memory limit 100GB due to system memory limit of 31.31 GiB\n",
      "2023-05-23 19:30:21,466 - distributed.nanny.memory - WARNING - Ignoring provided memory limit 100GB due to system memory limit of 31.31 GiB\n",
      "2023-05-23 19:30:21,468 - distributed.nanny.memory - WARNING - Ignoring provided memory limit 100GB due to system memory limit of 31.31 GiB\n",
      "2023-05-23 19:30:21,471 - distributed.nanny.memory - WARNING - Ignoring provided memory limit 100GB due to system memory limit of 31.31 GiB\n"
     ]
    },
    {
     "data": {
      "text/html": [
       "<div>\n",
       "    <div style=\"width: 24px; height: 24px; background-color: #e1e1e1; border: 3px solid #9D9D9D; border-radius: 5px; position: absolute;\"> </div>\n",
       "    <div style=\"margin-left: 48px;\">\n",
       "        <h3 style=\"margin-bottom: 0px;\">Client</h3>\n",
       "        <p style=\"color: #9D9D9D; margin-bottom: 0px;\">Client-e0b5e18e-f997-11ed-aa91-00155df95aff</p>\n",
       "        <table style=\"width: 100%; text-align: left;\">\n",
       "\n",
       "        <tr>\n",
       "        \n",
       "            <td style=\"text-align: left;\"><strong>Connection method:</strong> Cluster object</td>\n",
       "            <td style=\"text-align: left;\"><strong>Cluster type:</strong> distributed.LocalCluster</td>\n",
       "        \n",
       "        </tr>\n",
       "\n",
       "        \n",
       "            <tr>\n",
       "                <td style=\"text-align: left;\">\n",
       "                    <strong>Dashboard: </strong> <a href=\"http://127.0.0.1:40413/status\" target=\"_blank\">http://127.0.0.1:40413/status</a>\n",
       "                </td>\n",
       "                <td style=\"text-align: left;\"></td>\n",
       "            </tr>\n",
       "        \n",
       "\n",
       "        </table>\n",
       "\n",
       "        \n",
       "\n",
       "        \n",
       "            <details>\n",
       "            <summary style=\"margin-bottom: 20px;\"><h3 style=\"display: inline;\">Cluster Info</h3></summary>\n",
       "            <div class=\"jp-RenderedHTMLCommon jp-RenderedHTML jp-mod-trusted jp-OutputArea-output\">\n",
       "    <div style=\"width: 24px; height: 24px; background-color: #e1e1e1; border: 3px solid #9D9D9D; border-radius: 5px; position: absolute;\">\n",
       "    </div>\n",
       "    <div style=\"margin-left: 48px;\">\n",
       "        <h3 style=\"margin-bottom: 0px; margin-top: 0px;\">LocalCluster</h3>\n",
       "        <p style=\"color: #9D9D9D; margin-bottom: 0px;\">f49d40dd</p>\n",
       "        <table style=\"width: 100%; text-align: left;\">\n",
       "            <tr>\n",
       "                <td style=\"text-align: left;\">\n",
       "                    <strong>Dashboard:</strong> <a href=\"http://127.0.0.1:40413/status\" target=\"_blank\">http://127.0.0.1:40413/status</a>\n",
       "                </td>\n",
       "                <td style=\"text-align: left;\">\n",
       "                    <strong>Workers:</strong> 8\n",
       "                </td>\n",
       "            </tr>\n",
       "            <tr>\n",
       "                <td style=\"text-align: left;\">\n",
       "                    <strong>Total threads:</strong> 8\n",
       "                </td>\n",
       "                <td style=\"text-align: left;\">\n",
       "                    <strong>Total memory:</strong> 250.47 GiB\n",
       "                </td>\n",
       "            </tr>\n",
       "            \n",
       "            <tr>\n",
       "    <td style=\"text-align: left;\"><strong>Status:</strong> running</td>\n",
       "    <td style=\"text-align: left;\"><strong>Using processes:</strong> True</td>\n",
       "</tr>\n",
       "\n",
       "            \n",
       "        </table>\n",
       "\n",
       "        <details>\n",
       "            <summary style=\"margin-bottom: 20px;\">\n",
       "                <h3 style=\"display: inline;\">Scheduler Info</h3>\n",
       "            </summary>\n",
       "\n",
       "            <div style=\"\">\n",
       "    <div>\n",
       "        <div style=\"width: 24px; height: 24px; background-color: #FFF7E5; border: 3px solid #FF6132; border-radius: 5px; position: absolute;\"> </div>\n",
       "        <div style=\"margin-left: 48px;\">\n",
       "            <h3 style=\"margin-bottom: 0px;\">Scheduler</h3>\n",
       "            <p style=\"color: #9D9D9D; margin-bottom: 0px;\">Scheduler-67e85bb0-5ef5-4b28-97a4-e688d29419b6</p>\n",
       "            <table style=\"width: 100%; text-align: left;\">\n",
       "                <tr>\n",
       "                    <td style=\"text-align: left;\">\n",
       "                        <strong>Comm:</strong> tcp://127.0.0.1:46363\n",
       "                    </td>\n",
       "                    <td style=\"text-align: left;\">\n",
       "                        <strong>Workers:</strong> 8\n",
       "                    </td>\n",
       "                </tr>\n",
       "                <tr>\n",
       "                    <td style=\"text-align: left;\">\n",
       "                        <strong>Dashboard:</strong> <a href=\"http://127.0.0.1:40413/status\" target=\"_blank\">http://127.0.0.1:40413/status</a>\n",
       "                    </td>\n",
       "                    <td style=\"text-align: left;\">\n",
       "                        <strong>Total threads:</strong> 8\n",
       "                    </td>\n",
       "                </tr>\n",
       "                <tr>\n",
       "                    <td style=\"text-align: left;\">\n",
       "                        <strong>Started:</strong> Just now\n",
       "                    </td>\n",
       "                    <td style=\"text-align: left;\">\n",
       "                        <strong>Total memory:</strong> 250.47 GiB\n",
       "                    </td>\n",
       "                </tr>\n",
       "            </table>\n",
       "        </div>\n",
       "    </div>\n",
       "\n",
       "    <details style=\"margin-left: 48px;\">\n",
       "        <summary style=\"margin-bottom: 20px;\">\n",
       "            <h3 style=\"display: inline;\">Workers</h3>\n",
       "        </summary>\n",
       "\n",
       "        \n",
       "        <div style=\"margin-bottom: 20px;\">\n",
       "            <div style=\"width: 24px; height: 24px; background-color: #DBF5FF; border: 3px solid #4CC9FF; border-radius: 5px; position: absolute;\"> </div>\n",
       "            <div style=\"margin-left: 48px;\">\n",
       "            <details>\n",
       "                <summary>\n",
       "                    <h4 style=\"margin-bottom: 0px; display: inline;\">Worker: 0</h4>\n",
       "                </summary>\n",
       "                <table style=\"width: 100%; text-align: left;\">\n",
       "                    <tr>\n",
       "                        <td style=\"text-align: left;\">\n",
       "                            <strong>Comm: </strong> tcp://127.0.0.1:39923\n",
       "                        </td>\n",
       "                        <td style=\"text-align: left;\">\n",
       "                            <strong>Total threads: </strong> 1\n",
       "                        </td>\n",
       "                    </tr>\n",
       "                    <tr>\n",
       "                        <td style=\"text-align: left;\">\n",
       "                            <strong>Dashboard: </strong> <a href=\"http://127.0.0.1:33163/status\" target=\"_blank\">http://127.0.0.1:33163/status</a>\n",
       "                        </td>\n",
       "                        <td style=\"text-align: left;\">\n",
       "                            <strong>Memory: </strong> 31.31 GiB\n",
       "                        </td>\n",
       "                    </tr>\n",
       "                    <tr>\n",
       "                        <td style=\"text-align: left;\">\n",
       "                            <strong>Nanny: </strong> tcp://127.0.0.1:42425\n",
       "                        </td>\n",
       "                        <td style=\"text-align: left;\"></td>\n",
       "                    </tr>\n",
       "                    <tr>\n",
       "                        <td colspan=\"2\" style=\"text-align: left;\">\n",
       "                            <strong>Local directory: </strong> /tmp/dask-worker-space/worker-285qw8gc\n",
       "                        </td>\n",
       "                    </tr>\n",
       "\n",
       "                    \n",
       "\n",
       "                    \n",
       "\n",
       "                </table>\n",
       "            </details>\n",
       "            </div>\n",
       "        </div>\n",
       "        \n",
       "        <div style=\"margin-bottom: 20px;\">\n",
       "            <div style=\"width: 24px; height: 24px; background-color: #DBF5FF; border: 3px solid #4CC9FF; border-radius: 5px; position: absolute;\"> </div>\n",
       "            <div style=\"margin-left: 48px;\">\n",
       "            <details>\n",
       "                <summary>\n",
       "                    <h4 style=\"margin-bottom: 0px; display: inline;\">Worker: 1</h4>\n",
       "                </summary>\n",
       "                <table style=\"width: 100%; text-align: left;\">\n",
       "                    <tr>\n",
       "                        <td style=\"text-align: left;\">\n",
       "                            <strong>Comm: </strong> tcp://127.0.0.1:35873\n",
       "                        </td>\n",
       "                        <td style=\"text-align: left;\">\n",
       "                            <strong>Total threads: </strong> 1\n",
       "                        </td>\n",
       "                    </tr>\n",
       "                    <tr>\n",
       "                        <td style=\"text-align: left;\">\n",
       "                            <strong>Dashboard: </strong> <a href=\"http://127.0.0.1:33513/status\" target=\"_blank\">http://127.0.0.1:33513/status</a>\n",
       "                        </td>\n",
       "                        <td style=\"text-align: left;\">\n",
       "                            <strong>Memory: </strong> 31.31 GiB\n",
       "                        </td>\n",
       "                    </tr>\n",
       "                    <tr>\n",
       "                        <td style=\"text-align: left;\">\n",
       "                            <strong>Nanny: </strong> tcp://127.0.0.1:37603\n",
       "                        </td>\n",
       "                        <td style=\"text-align: left;\"></td>\n",
       "                    </tr>\n",
       "                    <tr>\n",
       "                        <td colspan=\"2\" style=\"text-align: left;\">\n",
       "                            <strong>Local directory: </strong> /tmp/dask-worker-space/worker-i_7lo32w\n",
       "                        </td>\n",
       "                    </tr>\n",
       "\n",
       "                    \n",
       "\n",
       "                    \n",
       "\n",
       "                </table>\n",
       "            </details>\n",
       "            </div>\n",
       "        </div>\n",
       "        \n",
       "        <div style=\"margin-bottom: 20px;\">\n",
       "            <div style=\"width: 24px; height: 24px; background-color: #DBF5FF; border: 3px solid #4CC9FF; border-radius: 5px; position: absolute;\"> </div>\n",
       "            <div style=\"margin-left: 48px;\">\n",
       "            <details>\n",
       "                <summary>\n",
       "                    <h4 style=\"margin-bottom: 0px; display: inline;\">Worker: 2</h4>\n",
       "                </summary>\n",
       "                <table style=\"width: 100%; text-align: left;\">\n",
       "                    <tr>\n",
       "                        <td style=\"text-align: left;\">\n",
       "                            <strong>Comm: </strong> tcp://127.0.0.1:40199\n",
       "                        </td>\n",
       "                        <td style=\"text-align: left;\">\n",
       "                            <strong>Total threads: </strong> 1\n",
       "                        </td>\n",
       "                    </tr>\n",
       "                    <tr>\n",
       "                        <td style=\"text-align: left;\">\n",
       "                            <strong>Dashboard: </strong> <a href=\"http://127.0.0.1:36385/status\" target=\"_blank\">http://127.0.0.1:36385/status</a>\n",
       "                        </td>\n",
       "                        <td style=\"text-align: left;\">\n",
       "                            <strong>Memory: </strong> 31.31 GiB\n",
       "                        </td>\n",
       "                    </tr>\n",
       "                    <tr>\n",
       "                        <td style=\"text-align: left;\">\n",
       "                            <strong>Nanny: </strong> tcp://127.0.0.1:38967\n",
       "                        </td>\n",
       "                        <td style=\"text-align: left;\"></td>\n",
       "                    </tr>\n",
       "                    <tr>\n",
       "                        <td colspan=\"2\" style=\"text-align: left;\">\n",
       "                            <strong>Local directory: </strong> /tmp/dask-worker-space/worker-eujeb1ex\n",
       "                        </td>\n",
       "                    </tr>\n",
       "\n",
       "                    \n",
       "\n",
       "                    \n",
       "\n",
       "                </table>\n",
       "            </details>\n",
       "            </div>\n",
       "        </div>\n",
       "        \n",
       "        <div style=\"margin-bottom: 20px;\">\n",
       "            <div style=\"width: 24px; height: 24px; background-color: #DBF5FF; border: 3px solid #4CC9FF; border-radius: 5px; position: absolute;\"> </div>\n",
       "            <div style=\"margin-left: 48px;\">\n",
       "            <details>\n",
       "                <summary>\n",
       "                    <h4 style=\"margin-bottom: 0px; display: inline;\">Worker: 3</h4>\n",
       "                </summary>\n",
       "                <table style=\"width: 100%; text-align: left;\">\n",
       "                    <tr>\n",
       "                        <td style=\"text-align: left;\">\n",
       "                            <strong>Comm: </strong> tcp://127.0.0.1:45897\n",
       "                        </td>\n",
       "                        <td style=\"text-align: left;\">\n",
       "                            <strong>Total threads: </strong> 1\n",
       "                        </td>\n",
       "                    </tr>\n",
       "                    <tr>\n",
       "                        <td style=\"text-align: left;\">\n",
       "                            <strong>Dashboard: </strong> <a href=\"http://127.0.0.1:35647/status\" target=\"_blank\">http://127.0.0.1:35647/status</a>\n",
       "                        </td>\n",
       "                        <td style=\"text-align: left;\">\n",
       "                            <strong>Memory: </strong> 31.31 GiB\n",
       "                        </td>\n",
       "                    </tr>\n",
       "                    <tr>\n",
       "                        <td style=\"text-align: left;\">\n",
       "                            <strong>Nanny: </strong> tcp://127.0.0.1:45363\n",
       "                        </td>\n",
       "                        <td style=\"text-align: left;\"></td>\n",
       "                    </tr>\n",
       "                    <tr>\n",
       "                        <td colspan=\"2\" style=\"text-align: left;\">\n",
       "                            <strong>Local directory: </strong> /tmp/dask-worker-space/worker-4bgo8gtm\n",
       "                        </td>\n",
       "                    </tr>\n",
       "\n",
       "                    \n",
       "\n",
       "                    \n",
       "\n",
       "                </table>\n",
       "            </details>\n",
       "            </div>\n",
       "        </div>\n",
       "        \n",
       "        <div style=\"margin-bottom: 20px;\">\n",
       "            <div style=\"width: 24px; height: 24px; background-color: #DBF5FF; border: 3px solid #4CC9FF; border-radius: 5px; position: absolute;\"> </div>\n",
       "            <div style=\"margin-left: 48px;\">\n",
       "            <details>\n",
       "                <summary>\n",
       "                    <h4 style=\"margin-bottom: 0px; display: inline;\">Worker: 4</h4>\n",
       "                </summary>\n",
       "                <table style=\"width: 100%; text-align: left;\">\n",
       "                    <tr>\n",
       "                        <td style=\"text-align: left;\">\n",
       "                            <strong>Comm: </strong> tcp://127.0.0.1:46173\n",
       "                        </td>\n",
       "                        <td style=\"text-align: left;\">\n",
       "                            <strong>Total threads: </strong> 1\n",
       "                        </td>\n",
       "                    </tr>\n",
       "                    <tr>\n",
       "                        <td style=\"text-align: left;\">\n",
       "                            <strong>Dashboard: </strong> <a href=\"http://127.0.0.1:39383/status\" target=\"_blank\">http://127.0.0.1:39383/status</a>\n",
       "                        </td>\n",
       "                        <td style=\"text-align: left;\">\n",
       "                            <strong>Memory: </strong> 31.31 GiB\n",
       "                        </td>\n",
       "                    </tr>\n",
       "                    <tr>\n",
       "                        <td style=\"text-align: left;\">\n",
       "                            <strong>Nanny: </strong> tcp://127.0.0.1:41043\n",
       "                        </td>\n",
       "                        <td style=\"text-align: left;\"></td>\n",
       "                    </tr>\n",
       "                    <tr>\n",
       "                        <td colspan=\"2\" style=\"text-align: left;\">\n",
       "                            <strong>Local directory: </strong> /tmp/dask-worker-space/worker-23u30slc\n",
       "                        </td>\n",
       "                    </tr>\n",
       "\n",
       "                    \n",
       "\n",
       "                    \n",
       "\n",
       "                </table>\n",
       "            </details>\n",
       "            </div>\n",
       "        </div>\n",
       "        \n",
       "        <div style=\"margin-bottom: 20px;\">\n",
       "            <div style=\"width: 24px; height: 24px; background-color: #DBF5FF; border: 3px solid #4CC9FF; border-radius: 5px; position: absolute;\"> </div>\n",
       "            <div style=\"margin-left: 48px;\">\n",
       "            <details>\n",
       "                <summary>\n",
       "                    <h4 style=\"margin-bottom: 0px; display: inline;\">Worker: 5</h4>\n",
       "                </summary>\n",
       "                <table style=\"width: 100%; text-align: left;\">\n",
       "                    <tr>\n",
       "                        <td style=\"text-align: left;\">\n",
       "                            <strong>Comm: </strong> tcp://127.0.0.1:40885\n",
       "                        </td>\n",
       "                        <td style=\"text-align: left;\">\n",
       "                            <strong>Total threads: </strong> 1\n",
       "                        </td>\n",
       "                    </tr>\n",
       "                    <tr>\n",
       "                        <td style=\"text-align: left;\">\n",
       "                            <strong>Dashboard: </strong> <a href=\"http://127.0.0.1:36629/status\" target=\"_blank\">http://127.0.0.1:36629/status</a>\n",
       "                        </td>\n",
       "                        <td style=\"text-align: left;\">\n",
       "                            <strong>Memory: </strong> 31.31 GiB\n",
       "                        </td>\n",
       "                    </tr>\n",
       "                    <tr>\n",
       "                        <td style=\"text-align: left;\">\n",
       "                            <strong>Nanny: </strong> tcp://127.0.0.1:45699\n",
       "                        </td>\n",
       "                        <td style=\"text-align: left;\"></td>\n",
       "                    </tr>\n",
       "                    <tr>\n",
       "                        <td colspan=\"2\" style=\"text-align: left;\">\n",
       "                            <strong>Local directory: </strong> /tmp/dask-worker-space/worker-h667hvo7\n",
       "                        </td>\n",
       "                    </tr>\n",
       "\n",
       "                    \n",
       "\n",
       "                    \n",
       "\n",
       "                </table>\n",
       "            </details>\n",
       "            </div>\n",
       "        </div>\n",
       "        \n",
       "        <div style=\"margin-bottom: 20px;\">\n",
       "            <div style=\"width: 24px; height: 24px; background-color: #DBF5FF; border: 3px solid #4CC9FF; border-radius: 5px; position: absolute;\"> </div>\n",
       "            <div style=\"margin-left: 48px;\">\n",
       "            <details>\n",
       "                <summary>\n",
       "                    <h4 style=\"margin-bottom: 0px; display: inline;\">Worker: 6</h4>\n",
       "                </summary>\n",
       "                <table style=\"width: 100%; text-align: left;\">\n",
       "                    <tr>\n",
       "                        <td style=\"text-align: left;\">\n",
       "                            <strong>Comm: </strong> tcp://127.0.0.1:37847\n",
       "                        </td>\n",
       "                        <td style=\"text-align: left;\">\n",
       "                            <strong>Total threads: </strong> 1\n",
       "                        </td>\n",
       "                    </tr>\n",
       "                    <tr>\n",
       "                        <td style=\"text-align: left;\">\n",
       "                            <strong>Dashboard: </strong> <a href=\"http://127.0.0.1:45611/status\" target=\"_blank\">http://127.0.0.1:45611/status</a>\n",
       "                        </td>\n",
       "                        <td style=\"text-align: left;\">\n",
       "                            <strong>Memory: </strong> 31.31 GiB\n",
       "                        </td>\n",
       "                    </tr>\n",
       "                    <tr>\n",
       "                        <td style=\"text-align: left;\">\n",
       "                            <strong>Nanny: </strong> tcp://127.0.0.1:38365\n",
       "                        </td>\n",
       "                        <td style=\"text-align: left;\"></td>\n",
       "                    </tr>\n",
       "                    <tr>\n",
       "                        <td colspan=\"2\" style=\"text-align: left;\">\n",
       "                            <strong>Local directory: </strong> /tmp/dask-worker-space/worker-2ow98edy\n",
       "                        </td>\n",
       "                    </tr>\n",
       "\n",
       "                    \n",
       "\n",
       "                    \n",
       "\n",
       "                </table>\n",
       "            </details>\n",
       "            </div>\n",
       "        </div>\n",
       "        \n",
       "        <div style=\"margin-bottom: 20px;\">\n",
       "            <div style=\"width: 24px; height: 24px; background-color: #DBF5FF; border: 3px solid #4CC9FF; border-radius: 5px; position: absolute;\"> </div>\n",
       "            <div style=\"margin-left: 48px;\">\n",
       "            <details>\n",
       "                <summary>\n",
       "                    <h4 style=\"margin-bottom: 0px; display: inline;\">Worker: 7</h4>\n",
       "                </summary>\n",
       "                <table style=\"width: 100%; text-align: left;\">\n",
       "                    <tr>\n",
       "                        <td style=\"text-align: left;\">\n",
       "                            <strong>Comm: </strong> tcp://127.0.0.1:37793\n",
       "                        </td>\n",
       "                        <td style=\"text-align: left;\">\n",
       "                            <strong>Total threads: </strong> 1\n",
       "                        </td>\n",
       "                    </tr>\n",
       "                    <tr>\n",
       "                        <td style=\"text-align: left;\">\n",
       "                            <strong>Dashboard: </strong> <a href=\"http://127.0.0.1:38857/status\" target=\"_blank\">http://127.0.0.1:38857/status</a>\n",
       "                        </td>\n",
       "                        <td style=\"text-align: left;\">\n",
       "                            <strong>Memory: </strong> 31.31 GiB\n",
       "                        </td>\n",
       "                    </tr>\n",
       "                    <tr>\n",
       "                        <td style=\"text-align: left;\">\n",
       "                            <strong>Nanny: </strong> tcp://127.0.0.1:35487\n",
       "                        </td>\n",
       "                        <td style=\"text-align: left;\"></td>\n",
       "                    </tr>\n",
       "                    <tr>\n",
       "                        <td colspan=\"2\" style=\"text-align: left;\">\n",
       "                            <strong>Local directory: </strong> /tmp/dask-worker-space/worker-yxwiqonj\n",
       "                        </td>\n",
       "                    </tr>\n",
       "\n",
       "                    \n",
       "\n",
       "                    \n",
       "\n",
       "                </table>\n",
       "            </details>\n",
       "            </div>\n",
       "        </div>\n",
       "        \n",
       "\n",
       "    </details>\n",
       "</div>\n",
       "\n",
       "        </details>\n",
       "    </div>\n",
       "</div>\n",
       "            </details>\n",
       "        \n",
       "\n",
       "    </div>\n",
       "</div>"
      ],
      "text/plain": [
       "<Client: 'tcp://127.0.0.1:46363' processes=8 threads=8, memory=250.47 GiB>"
      ]
     },
     "execution_count": 3,
     "metadata": {},
     "output_type": "execute_result"
    }
   ],
   "source": [
    "daskCluster = LocalCluster(threads_per_worker=2,\n",
    "                n_workers=8, memory_limit='100GB')\n",
    "\n",
    "client = Client(daskCluster)\n",
    "\n",
    "client"
   ]
  },
  {
   "cell_type": "code",
   "execution_count": null,
   "metadata": {},
   "outputs": [],
   "source": [
    "# with open('./out/{place}/what_cells_are_in_what_cluster_dict.json', 'r') as f:\n",
    "#     includes_dict = json.load(f)\n",
    "    \n",
    "tessellation = gpd.read_parquet(f\"./out/{place}/tessellation.pq\")\n",
    "\n",
    "buildings = gpd.read_parquet(f\"./out/{place}/buildings.pq\")\n",
    "\n",
    "streets = gpd.read_parquet(f\"./out/{place}/streets.pq\").explode()"
   ]
  },
  {
   "cell_type": "code",
   "execution_count": null,
   "metadata": {},
   "outputs": [],
   "source": [
    "streets['nID'] = momepy.unique_id(streets)\n",
    "# buildings['nID'] = momepy.get_network_id(buildings, streets,\n",
    "#                                                'nID').values\n",
    "\n",
    "# buildings = buildings.drop_duplicates(\"uID\").drop(columns=\"index_right\")\n",
    "# tessellation = tessellation.merge(buildings[['uID', 'nID']], on='uID', how='left')"
   ]
  },
  {
   "cell_type": "code",
   "execution_count": null,
   "metadata": {},
   "outputs": [],
   "source": [
    "# @dask.delayed\n",
    "# def queen_contiguity_load(n1, includes_dict):\n",
    "#     chunk = gpd.read_parquet(f\"./out/{place}/expanded_cells_in_chunk_{int(n1)}.pq\")\n",
    "    \n",
    "#     # weights\n",
    "    # queen_1 = libpysal.weights.w_subset(momepy.sw_high(k=1, gdf=chunk, ids='uID'), includes_dict[str(n1)]).to_adjlist()\n",
    "    # queen_3 = libpysal.weights.w_subset(momepy.sw_high(k=3, gdf=chunk, ids='uID'), includes_dict[str(n1)]).to_adjlist()\n",
    "    \n",
    "#     return (queen_1, queen_3)"
   ]
  },
  {
   "cell_type": "code",
   "execution_count": null,
   "metadata": {},
   "outputs": [],
   "source": [
    "# file_pattern = f\"./out/{place}/expanded_cells_in_chunk_*.pq\"\n",
    "# file_list = glob.glob(file_pattern)\n",
    "# num_files = len(file_list)\n",
    "\n",
    "# weight_out = [process(n1, includes_dict) for n1 in tqdm(range(num_files))]\n",
    "\n",
    "# weight_out = [queen_contiguity_load(n1, includes_dict) for n1 in range(num_files)]\n",
    "\n",
    "# weight_out = dask.compute(weight_out)\n"
   ]
  },
  {
   "cell_type": "code",
   "execution_count": null,
   "metadata": {},
   "outputs": [],
   "source": [
    "# queen_1 = libpysal.weights.W.from_adjlist(pd.concat(weight_out[0][i][0] for i in range(num_files)))\n",
    "\n",
    "# queen_3 = libpysal.weights.W.from_adjlist(pd.concat(weight_out[0][i][1] for i in range(num_files)))"
   ]
  },
  {
   "cell_type": "code",
   "execution_count": 26,
   "metadata": {},
   "outputs": [
    {
     "ename": "KeyboardInterrupt",
     "evalue": "",
     "output_type": "error",
     "traceback": [
      "\u001b[0;31m---------------------------------------------------------------------------\u001b[0m",
      "\u001b[0;31mKeyboardInterrupt\u001b[0m                         Traceback (most recent call last)",
      "Cell \u001b[0;32mIn[26], line 1\u001b[0m\n\u001b[0;32m----> 1\u001b[0m queen_1 \u001b[39m=\u001b[39m libpysal\u001b[39m.\u001b[39;49mweights\u001b[39m.\u001b[39;49mfuzzy_contiguity(tessellation, tolerance\u001b[39m=\u001b[39;49m\u001b[39m0.05\u001b[39;49m, buffering\u001b[39m=\u001b[39;49m\u001b[39mTrue\u001b[39;49;00m, drop\u001b[39m=\u001b[39;49m\u001b[39mTrue\u001b[39;49;00m, buffer\u001b[39m=\u001b[39;49m\u001b[39m20\u001b[39;49m, ids\u001b[39m=\u001b[39;49m\u001b[39m\"\u001b[39;49m\u001b[39muID\u001b[39;49m\u001b[39m\"\u001b[39;49m, silence_warnings\u001b[39m=\u001b[39;49m\u001b[39mTrue\u001b[39;49;00m)\n\u001b[1;32m      2\u001b[0m queen_3 \u001b[39m=\u001b[39m momepy\u001b[39m.\u001b[39msw_high(k\u001b[39m=\u001b[39m\u001b[39m3\u001b[39m, weights\u001b[39m=\u001b[39mqueen_1)\n\u001b[1;32m      3\u001b[0m dist200 \u001b[39m=\u001b[39m libpysal\u001b[39m.\u001b[39mweights\u001b[39m.\u001b[39mDistanceBand\u001b[39m.\u001b[39mfrom_dataframe(buildings, \u001b[39m200\u001b[39m, ids\u001b[39m=\u001b[39m\u001b[39m'\u001b[39m\u001b[39muID\u001b[39m\u001b[39m'\u001b[39m)\n",
      "File \u001b[0;32m~/miniconda3/lib/python3.10/site-packages/libpysal/weights/util.py:1657\u001b[0m, in \u001b[0;36mfuzzy_contiguity\u001b[0;34m(gdf, tolerance, buffering, drop, buffer, predicate, **kwargs)\u001b[0m\n\u001b[1;32m   1655\u001b[0m     buffer \u001b[39m=\u001b[39m tolerance \u001b[39m*\u001b[39m \u001b[39m0.5\u001b[39m \u001b[39m*\u001b[39m \u001b[39mabs\u001b[39m(\u001b[39mmin\u001b[39m(maxx \u001b[39m-\u001b[39m minx, maxy \u001b[39m-\u001b[39m miny))\n\u001b[1;32m   1656\u001b[0m \u001b[39m# create new geometry column\u001b[39;00m\n\u001b[0;32m-> 1657\u001b[0m new_geometry \u001b[39m=\u001b[39m gdf\u001b[39m.\u001b[39;49mgeometry\u001b[39m.\u001b[39;49mbuffer(buffer)\n\u001b[1;32m   1658\u001b[0m gdf[\u001b[39m\"\u001b[39m\u001b[39m_buffer\u001b[39m\u001b[39m\"\u001b[39m] \u001b[39m=\u001b[39m new_geometry\n\u001b[1;32m   1659\u001b[0m old_geometry_name \u001b[39m=\u001b[39m gdf\u001b[39m.\u001b[39mgeometry\u001b[39m.\u001b[39mname\n",
      "File \u001b[0;32m~/miniconda3/lib/python3.10/site-packages/geopandas/base.py:2874\u001b[0m, in \u001b[0;36mGeoPandasBase.buffer\u001b[0;34m(self, distance, resolution, **kwargs)\u001b[0m\n\u001b[1;32m   2868\u001b[0m         \u001b[39mraise\u001b[39;00m \u001b[39mValueError\u001b[39;00m(\n\u001b[1;32m   2869\u001b[0m             \u001b[39m\"\u001b[39m\u001b[39mIndex values of distance sequence does \u001b[39m\u001b[39m\"\u001b[39m\n\u001b[1;32m   2870\u001b[0m             \u001b[39m\"\u001b[39m\u001b[39mnot match index values of the GeoSeries\u001b[39m\u001b[39m\"\u001b[39m\n\u001b[1;32m   2871\u001b[0m         )\n\u001b[1;32m   2872\u001b[0m     distance \u001b[39m=\u001b[39m np\u001b[39m.\u001b[39masarray(distance)\n\u001b[0;32m-> 2874\u001b[0m \u001b[39mreturn\u001b[39;00m _delegate_geo_method(\n\u001b[1;32m   2875\u001b[0m     \u001b[39m\"\u001b[39;49m\u001b[39mbuffer\u001b[39;49m\u001b[39m\"\u001b[39;49m, \u001b[39mself\u001b[39;49m, distance, resolution\u001b[39m=\u001b[39;49mresolution, \u001b[39m*\u001b[39;49m\u001b[39m*\u001b[39;49mkwargs\n\u001b[1;32m   2876\u001b[0m )\n",
      "File \u001b[0;32m~/miniconda3/lib/python3.10/site-packages/geopandas/base.py:81\u001b[0m, in \u001b[0;36m_delegate_geo_method\u001b[0;34m(op, this, *args, **kwargs)\u001b[0m\n\u001b[1;32m     78\u001b[0m \u001b[39mfrom\u001b[39;00m \u001b[39m.\u001b[39;00m\u001b[39mgeoseries\u001b[39;00m \u001b[39mimport\u001b[39;00m GeoSeries\n\u001b[1;32m     80\u001b[0m a_this \u001b[39m=\u001b[39m GeometryArray(this\u001b[39m.\u001b[39mgeometry\u001b[39m.\u001b[39mvalues)\n\u001b[0;32m---> 81\u001b[0m data \u001b[39m=\u001b[39m \u001b[39mgetattr\u001b[39;49m(a_this, op)(\u001b[39m*\u001b[39;49margs, \u001b[39m*\u001b[39;49m\u001b[39m*\u001b[39;49mkwargs)\u001b[39m.\u001b[39mdata\n\u001b[1;32m     82\u001b[0m \u001b[39mreturn\u001b[39;00m GeoSeries(data, index\u001b[39m=\u001b[39mthis\u001b[39m.\u001b[39mindex, crs\u001b[39m=\u001b[39mthis\u001b[39m.\u001b[39mcrs)\n",
      "File \u001b[0;32m~/miniconda3/lib/python3.10/site-packages/geopandas/array.py:614\u001b[0m, in \u001b[0;36mGeometryArray.buffer\u001b[0;34m(self, distance, resolution, **kwargs)\u001b[0m\n\u001b[1;32m    611\u001b[0m \u001b[39mif\u001b[39;00m \u001b[39mnot\u001b[39;00m (\u001b[39misinstance\u001b[39m(distance, (\u001b[39mint\u001b[39m, \u001b[39mfloat\u001b[39m)) \u001b[39mand\u001b[39;00m distance \u001b[39m==\u001b[39m \u001b[39m0\u001b[39m):\n\u001b[1;32m    612\u001b[0m     \u001b[39mself\u001b[39m\u001b[39m.\u001b[39mcheck_geographic_crs(stacklevel\u001b[39m=\u001b[39m\u001b[39m5\u001b[39m)\n\u001b[1;32m    613\u001b[0m \u001b[39mreturn\u001b[39;00m GeometryArray(\n\u001b[0;32m--> 614\u001b[0m     vectorized\u001b[39m.\u001b[39;49mbuffer(\u001b[39mself\u001b[39;49m\u001b[39m.\u001b[39;49mdata, distance, resolution\u001b[39m=\u001b[39;49mresolution, \u001b[39m*\u001b[39;49m\u001b[39m*\u001b[39;49mkwargs),\n\u001b[1;32m    615\u001b[0m     crs\u001b[39m=\u001b[39m\u001b[39mself\u001b[39m\u001b[39m.\u001b[39mcrs,\n\u001b[1;32m    616\u001b[0m )\n",
      "File \u001b[0;32m~/miniconda3/lib/python3.10/site-packages/geopandas/_vectorized.py:869\u001b[0m, in \u001b[0;36mbuffer\u001b[0;34m(data, distance, resolution, **kwargs)\u001b[0m\n\u001b[1;32m    867\u001b[0m         \u001b[39mreturn\u001b[39;00m shapely\u001b[39m.\u001b[39mbuffer(data, distance, quadsegs\u001b[39m=\u001b[39mresolution, \u001b[39m*\u001b[39m\u001b[39m*\u001b[39mkwargs)\n\u001b[1;32m    868\u001b[0m \u001b[39melif\u001b[39;00m compat\u001b[39m.\u001b[39mUSE_PYGEOS:\n\u001b[0;32m--> 869\u001b[0m     \u001b[39mreturn\u001b[39;00m pygeos\u001b[39m.\u001b[39;49mbuffer(data, distance, quadsegs\u001b[39m=\u001b[39;49mresolution, \u001b[39m*\u001b[39;49m\u001b[39m*\u001b[39;49mkwargs)\n\u001b[1;32m    870\u001b[0m \u001b[39melse\u001b[39;00m:\n\u001b[1;32m    871\u001b[0m     out \u001b[39m=\u001b[39m np\u001b[39m.\u001b[39mempty(\u001b[39mlen\u001b[39m(data), dtype\u001b[39m=\u001b[39m\u001b[39mobject\u001b[39m)\n",
      "File \u001b[0;32m~/miniconda3/lib/python3.10/site-packages/pygeos/decorators.py:80\u001b[0m, in \u001b[0;36mmultithreading_enabled.<locals>.wrapped\u001b[0;34m(*args, **kwargs)\u001b[0m\n\u001b[1;32m     78\u001b[0m     \u001b[39mfor\u001b[39;00m arr \u001b[39min\u001b[39;00m array_args:\n\u001b[1;32m     79\u001b[0m         arr\u001b[39m.\u001b[39mflags\u001b[39m.\u001b[39mwriteable \u001b[39m=\u001b[39m \u001b[39mFalse\u001b[39;00m\n\u001b[0;32m---> 80\u001b[0m     \u001b[39mreturn\u001b[39;00m func(\u001b[39m*\u001b[39;49margs, \u001b[39m*\u001b[39;49m\u001b[39m*\u001b[39;49mkwargs)\n\u001b[1;32m     81\u001b[0m \u001b[39mfinally\u001b[39;00m:\n\u001b[1;32m     82\u001b[0m     \u001b[39mfor\u001b[39;00m arr, old_flag \u001b[39min\u001b[39;00m \u001b[39mzip\u001b[39m(array_args, old_flags):\n",
      "File \u001b[0;32m~/miniconda3/lib/python3.10/site-packages/pygeos/constructive.py:175\u001b[0m, in \u001b[0;36mbuffer\u001b[0;34m(geometry, radius, quadsegs, cap_style, join_style, mitre_limit, single_sided, **kwargs)\u001b[0m\n\u001b[1;32m    173\u001b[0m \u001b[39mif\u001b[39;00m \u001b[39mnot\u001b[39;00m np\u001b[39m.\u001b[39misscalar(single_sided):\n\u001b[1;32m    174\u001b[0m     \u001b[39mraise\u001b[39;00m \u001b[39mTypeError\u001b[39;00m(\u001b[39m\"\u001b[39m\u001b[39msingle_sided only accepts scalar values\u001b[39m\u001b[39m\"\u001b[39m)\n\u001b[0;32m--> 175\u001b[0m \u001b[39mreturn\u001b[39;00m lib\u001b[39m.\u001b[39;49mbuffer(\n\u001b[1;32m    176\u001b[0m     geometry,\n\u001b[1;32m    177\u001b[0m     radius,\n\u001b[1;32m    178\u001b[0m     np\u001b[39m.\u001b[39;49mintc(quadsegs),\n\u001b[1;32m    179\u001b[0m     np\u001b[39m.\u001b[39;49mintc(cap_style),\n\u001b[1;32m    180\u001b[0m     np\u001b[39m.\u001b[39;49mintc(join_style),\n\u001b[1;32m    181\u001b[0m     mitre_limit,\n\u001b[1;32m    182\u001b[0m     np\u001b[39m.\u001b[39;49mbool_(single_sided),\n\u001b[1;32m    183\u001b[0m     \u001b[39m*\u001b[39;49m\u001b[39m*\u001b[39;49mkwargs\n\u001b[1;32m    184\u001b[0m )\n",
      "\u001b[0;31mKeyboardInterrupt\u001b[0m: "
     ]
    }
   ],
   "source": [
    "queen_1 = libpysal.weights.fuzzy_contiguity(tessellation, tolerance=0.05, buffering=True, drop=True, buffer=20, ids=\"uID\", silence_warnings=True)\n",
    "queen_3 = momepy.sw_high(k=3, weights=queen_1)\n",
    "dist200 = libpysal.weights.DistanceBand.from_dataframe(buildings, 200, ids='uID')"
   ]
  },
  {
   "cell_type": "code",
   "execution_count": null,
   "metadata": {},
   "outputs": [],
   "source": [
    "# # Find the uIDs in tessellation that are not in buildings\n",
    "# tessellation_uids = set(tessellation['uID'])\n",
    "# buildings_uids = set(buildings['uID'])\n",
    "# new_uids = tessellation_uids - buildings_uids\n",
    "\n",
    "# # Create a new GeoDataFrame with the new uIDs and empty geometry\n",
    "# new_rows = pd.DataFrame({'uID': list(new_uids)})\n",
    "# new_rows['geometry'] = None\n",
    "# new_gdf = gpd.GeoDataFrame(new_rows, crs=buildings.crs)\n",
    "\n",
    "# # Append the new GeoDataFrame to buildings\n",
    "# new_buildings = pd.concat([buildings, new_gdf], ignore_index=True)"
   ]
  },
  {
   "cell_type": "code",
   "execution_count": null,
   "metadata": {},
   "outputs": [],
   "source": [
    "### Building Area\n",
    "buildings['building_area'] = momepy.Area(buildings).series\n",
    "tessellation['tess_area'] = momepy.Area(tessellation).series"
   ]
  },
  {
   "cell_type": "code",
   "execution_count": null,
   "metadata": {},
   "outputs": [],
   "source": [
    "buildings_future = buildings\n",
    "streets_future = streets\n",
    "# tessellation_future = tessellation\n",
    "# queen_3_future = queen_3"
   ]
  },
  {
   "cell_type": "code",
   "execution_count": null,
   "metadata": {},
   "outputs": [],
   "source": [
    "# # buildings_future = client.scatter(buildings)\n",
    "# # streets_future = client.scatter(streets)\n",
    "# tessellation_future = client.scatter(tessellation)\n",
    "# queen_3_future = client.scatter(queen_3)"
   ]
  },
  {
   "cell_type": "code",
   "execution_count": null,
   "metadata": {},
   "outputs": [],
   "source": [
    "buildings_future = client.scatter(buildings)\n",
    "streets_future = client.scatter(streets)\n",
    "tessellation_future = client.scatter(tessellation)\n",
    "queen_3_future = client.scatter(queen_3)"
   ]
  },
  {
   "cell_type": "code",
   "execution_count": null,
   "metadata": {},
   "outputs": [],
   "source": [
    "computations = []\n",
    "### Circular Compactness\n",
    "building_circular_compactness =  delayed(momepy.CircularCompactness)(buildings_future)\n",
    "computations.append(building_circular_compactness)\n",
    "\n",
    "### Elongation\n",
    "building_elongation = delayed(momepy.Elongation)(buildings_future)\n",
    "computations.append(building_elongation)\n",
    "\n",
    "## Squareness\n",
    "building_squareness = delayed(momepy.Squareness)(buildings_future)\n",
    "computations.append(building_squareness)\n",
    "\n",
    "building_eri = delayed(momepy.EquivalentRectangularIndex)(buildings_future)\n",
    "computations.append(building_eri)\n",
    "\n",
    "street_linearity = delayed(momepy.Linearity)(buildings_future)\n",
    "computations.append(street_linearity)\n",
    "\n",
    "# StreetProfile computation\n",
    "profile = delayed(momepy.StreetProfile)(streets_future, buildings_future)\n",
    "computations.append(profile)\n",
    "\n",
    "# Tessellation computations\n",
    "tess_convexity = delayed(momepy.Convexity)(tessellation_future)\n",
    "computations.append(tess_convexity)\n",
    "\n",
    "tess_neighbours = delayed(momepy.Neighbors)(tessellation_future, queen_3_future,'uID', weighted=True)\n",
    "computations.append(tess_neighbours)\n",
    "\n",
    "tess_neighbours_200 = delayed(momepy.Neighbors)(tessellation_future, dist200, 'uID', weighted=True)\n",
    "computations.append(tess_neighbours_200)\n",
    "\n",
    "tess_covered_area = delayed(momepy.CoveredArea)(tessellation_future, queen_1, \"uID\")\n",
    "computations.append(tess_covered_area)\n",
    "\n",
    "tess_area_iqr = delayed(momepy.Range)(\n",
    "    tessellation_future, values='tess_area', spatial_weights=queen_3_future, unique_id='uID', rng=(25, 75))\n",
    "computations.append(tess_area_iqr)\n",
    "\n",
    "tess_rea_theil = delayed(momepy.Theil)(\n",
    "    tessellation_future, values='tess_area', spatial_weights=queen_3_future, unique_id='uID')\n",
    "computations.append(tess_rea_theil)\n",
    "\n",
    "building_orientation = delayed(momepy.Orientation)(buildings_future)\n",
    "computations.append(building_orientation)\n",
    "\n",
    "tess_orientation = delayed(momepy.Orientation)(tessellation_future)\n",
    "computations.append(tess_orientation)\n",
    "\n",
    "building_neighbour_dist = delayed(momepy.NeighborDistance)(buildings_future, queen_1, 'uID')\n",
    "computations.append(building_neighbour_dist)\n",
    "\n",
    "building_neighbourhood_interbuilding_distance = delayed(momepy.MeanInterbuildingDistance)(buildings_future, queen_1, 'uID', 3)\n",
    "computations.append(building_neighbourhood_interbuilding_distance)"
   ]
  },
  {
   "cell_type": "code",
   "execution_count": null,
   "metadata": {},
   "outputs": [],
   "source": [
    "# Compute all tasks at once using the Dask client\n",
    "results = client.compute(computations)"
   ]
  },
  {
   "cell_type": "code",
   "execution_count": null,
   "metadata": {},
   "outputs": [],
   "source": [
    "building_circular_compactness, building_elongation, building_squareness, building_eri, street_linearity, profile, tess_convexity, tess_neighbours, tess_neighbours_200, tess_covered_area, tess_area_iqr, tess_rea_theil, building_orientation, tess_orientation, building_neighbour_dist, building_neighbourhood_interbuilding_distance = results"
   ]
  },
  {
   "cell_type": "code",
   "execution_count": null,
   "metadata": {},
   "outputs": [],
   "source": [
    "buildings['building_circular_compactness'] = building_circular_compactness.result().series\n",
    "buildings['building_elongation'] = building_elongation.result().series\n",
    "buildings['building_squareness'] = building_squareness.result().series\n",
    "buildings['building_eri'] = building_eri.result().series\n",
    "buildings['building_orientation'] = building_orientation.result().series\n",
    "streets['street_linearity'] = street_linearity.result().series\n",
    "tessellation[\"tess_convexity\"] = tess_convexity.result().series\n",
    "tessellation[\"tess_neighbours\"] = tess_neighbours.result().series\n",
    "tessellation[\"tess_neighbours_200\"] =  tess_neighbours_200.result().series\n",
    "tessellation[\"tess_covered_area\"] = tess_covered_area.result().series\n",
    "tessellation[\"tess_area_iqr\"] = tess_area_iqr.result().series\n",
    "tessellation[\"tess_rea_theil\"] = tess_rea_theil.result().series\n",
    "buildings[\"building_orientation\"] = building_orientation.result().series\n",
    "tessellation[\"tess_orientation\"] = tess_orientation.result().series\n",
    "tessellation[\"building_neighbour_dist\"] = building_neighbour_dist.result().series\n",
    "tessellation[\"building_neighbourhood_interbuilding_distance\"] = building_neighbourhood_interbuilding_distance.result().series"
   ]
  },
  {
   "cell_type": "code",
   "execution_count": null,
   "metadata": {},
   "outputs": [],
   "source": [
    "profile_result = profile.result()\n",
    "\n",
    "\n",
    "streets[\"street_width\"] = profile_result.w\n",
    "streets[\"street_width_deviation\"] = profile_result.wd\n",
    "streets[\"street_openness\"] = profile_result.o"
   ]
  },
  {
   "cell_type": "code",
   "execution_count": null,
   "metadata": {},
   "outputs": [],
   "source": [
    "buildings['building_weighted_circom'] = momepy.WeightedCharacter(\n",
    "buildings, buildings[\"building_circular_compactness\"], queen_3, 'uID', momepy.Area(buildings).series).series"
   ]
  },
  {
   "cell_type": "code",
   "execution_count": null,
   "metadata": {},
   "outputs": [],
   "source": [
    "# primal = momepy.gdf_to_nx(streets, approach='primal')"
   ]
  },
  {
   "cell_type": "code",
   "execution_count": null,
   "metadata": {},
   "outputs": [],
   "source": [
    "%%time\n",
    "# momepy.node_degree(primal)"
   ]
  },
  {
   "cell_type": "code",
   "execution_count": null,
   "metadata": {},
   "outputs": [],
   "source": [
    "%%time\n",
    "# primal = momepy.closeness_centrality(primal, radius=400, name='closeness400', distance='mm_len', weight='mm_len')"
   ]
  },
  {
   "cell_type": "code",
   "execution_count": null,
   "metadata": {},
   "outputs": [],
   "source": [
    "%%time\n",
    "# primal = momepy.meshedness(primal, radius=400, distance=\"mm_len\")"
   ]
  },
  {
   "cell_type": "code",
   "execution_count": null,
   "metadata": {},
   "outputs": [],
   "source": [
    "# %%time\n",
    "# primal = momepy.straightness_centrality(primal)"
   ]
  },
  {
   "cell_type": "code",
   "execution_count": null,
   "metadata": {},
   "outputs": [],
   "source": [
    "# %%time\n",
    "# primal = momepy.closeness_centrality(primal, name='closeness_global', weight='mm_len')"
   ]
  },
  {
   "cell_type": "code",
   "execution_count": null,
   "metadata": {},
   "outputs": [],
   "source": [
    "# %%time\n",
    "# primal =  momepy.betweenness_centrality(primal, name='betweenness_metric_n', mode='nodes', weight='mm_len', k=100)"
   ]
  },
  {
   "cell_type": "code",
   "execution_count": null,
   "metadata": {},
   "outputs": [],
   "source": [
    "# %%time\n",
    "# primal = momepy.straightness_centrality(primal)\n",
    "# # momepy.mean_nodes(primal, 'straightness')\n",
    "# momepy.mean_nodes(primal, 'closeness400')\n",
    "# # momepy.mean_nodes(primal, 'closeness_global')\n",
    "# # momepy.mean_nodes(primal, 'betweenness_metric_n')\n",
    "\n",
    "# nodes, streets = momepy.nx_to_gdf(primal)"
   ]
  },
  {
   "cell_type": "code",
   "execution_count": null,
   "metadata": {},
   "outputs": [],
   "source": [
    "# dual = momepy.gdf_to_nx(streets, approach='dual')\n",
    "\n",
    "# dual = momepy.closeness_centrality(dual, radius=5, name='angcloseness400', weight='angle')\n",
    "\n",
    "# # dual = momepy.closeness_centrality(dual, name='closeness_global_ang', weight='angle')\n",
    "\n",
    "# # dual = momepy.betweenness_centrality(dual, name='angbetweenness', mode='nodes', weight='angle')\n",
    "\n",
    "# edges_d = momepy.nx_to_gdf(dual)\n"
   ]
  },
  {
   "cell_type": "code",
   "execution_count": null,
   "metadata": {},
   "outputs": [],
   "source": [
    "cols = list(streets.columns)\n",
    "cols.remove('geometry')"
   ]
  },
  {
   "cell_type": "code",
   "execution_count": null,
   "metadata": {},
   "outputs": [],
   "source": [
    "streets_dropped = streets.drop(cols,axis=1).reset_index(drop=True)"
   ]
  },
  {
   "cell_type": "code",
   "execution_count": null,
   "metadata": {},
   "outputs": [],
   "source": [
    "buildings = buildings.set_crs(local_crs)"
   ]
  },
  {
   "cell_type": "code",
   "execution_count": null,
   "metadata": {},
   "outputs": [],
   "source": [
    "# buildings=buildings.drop([\"index_right\"], axis=1)"
   ]
  },
  {
   "cell_type": "code",
   "execution_count": null,
   "metadata": {},
   "outputs": [],
   "source": [
    "buildings=buildings.drop([\"uID_left\", \"index_right\", \"uID_right\"], axis=1)"
   ]
  },
  {
   "cell_type": "code",
   "execution_count": null,
   "metadata": {},
   "outputs": [],
   "source": [
    "tessellation=tessellation.drop([\"uID_left\", \"index_right\", \"uID_right\"], axis=1)"
   ]
  },
  {
   "cell_type": "code",
   "execution_count": null,
   "metadata": {},
   "outputs": [],
   "source": [
    "buildings = gpd.sjoin_nearest(left_df=buildings, right_df=streets_dropped, how='left', max_distance=1000).drop_duplicates(subset=['geometry'])\n",
    "duplicates = buildings[buildings.duplicated(['uID'], keep=False)]\n",
    "if len(duplicates) > 0:\n",
    "    print(f\"There are {len(duplicates)} rows with duplicate uids.\")\n",
    "    print(duplicates)\n",
    "else:\n",
    "    print(\"There are no rows with duplicate uids.\")\n"
   ]
  },
  {
   "cell_type": "code",
   "execution_count": null,
   "metadata": {},
   "outputs": [],
   "source": [
    "buildings = buildings.dropna(subset=['geometry'])\n",
    "tessellation = tessellation.dropna(subset=['geometry'])"
   ]
  },
  {
   "cell_type": "code",
   "execution_count": null,
   "metadata": {},
   "outputs": [],
   "source": [
    "streets.reset_index(drop=True, inplace=True)"
   ]
  },
  {
   "cell_type": "code",
   "execution_count": null,
   "metadata": {},
   "outputs": [],
   "source": [
    "streets[\"nID\"]= streets.index"
   ]
  },
  {
   "cell_type": "code",
   "execution_count": null,
   "metadata": {},
   "outputs": [],
   "source": [
    "buildings.drop(columns=['index_right'], inplace=True)"
   ]
  },
  {
   "cell_type": "code",
   "execution_count": null,
   "metadata": {},
   "outputs": [],
   "source": [
    "streets[\"nID\"]= streets.index\n",
    "buildings =  gpd.sjoin_nearest(buildings, streets, how=\"left\", max_distance=1000)"
   ]
  },
  {
   "cell_type": "code",
   "execution_count": null,
   "metadata": {},
   "outputs": [],
   "source": [
    "buildings[\"building_str_align\"] = momepy.StreetAlignment(buildings, streets,\n",
    "                                   'building_orientation', 'nID',\n",
    "                                   'nID').series"
   ]
  },
  {
   "cell_type": "code",
   "execution_count": null,
   "metadata": {},
   "outputs": [],
   "source": [
    "blg_cell_align = momepy.CellAlignment(buildings, tessellation,\n",
    "                                      'building_orientation', 'tess_orientation',\n",
    "                                      'uID', 'uID')\n",
    "buildings['building_cell_align'] = blg_cell_align.series"
   ]
  },
  {
   "cell_type": "code",
   "execution_count": null,
   "metadata": {},
   "outputs": [],
   "source": [
    "tessellation['tess_car'] = momepy.AreaRatio(tessellation, buildings, 'tess_area', 'building_area', 'uID').series"
   ]
  },
  {
   "cell_type": "code",
   "execution_count": null,
   "metadata": {},
   "outputs": [],
   "source": [
    "nodes = gpd.read_parquet(f\"./out/{place}/vertices_frame.pq\")\n",
    "edges = gpd.read_parquet(f\"./out/{place}/edges_frame.pq\")"
   ]
  },
  {
   "cell_type": "code",
   "execution_count": null,
   "metadata": {},
   "outputs": [],
   "source": [
    "buildings = buildings.drop([\"nID\", \"index_right\", \"nID\"], axis=1)\n",
    "nodes = nodes.drop([\"vertID\"], axis=1)\n",
    "edges = edges.drop(\"edgeID\", axis=1)"
   ]
  },
  {
   "cell_type": "code",
   "execution_count": null,
   "metadata": {},
   "outputs": [],
   "source": [
    "buildings = gpd.sjoin_nearest(left_df=buildings, right_df=nodes, how='left', max_distance=1000).drop_duplicates(subset=['geometry'])\n",
    "duplicates = buildings[buildings.duplicated(['uID'], keep=False)]\n",
    "if len(duplicates) > 0:\n",
    "    print(f\"There are {len(duplicates)} rows with duplicate uids.\")\n",
    "    print(duplicates)\n",
    "else:\n",
    "    print(\"There are no rows with duplicate uids.\")\n"
   ]
  },
  {
   "cell_type": "code",
   "execution_count": null,
   "metadata": {},
   "outputs": [],
   "source": [
    "buildings = buildings.drop(\"index_right\", axis=1)\n",
    "buildings = gpd.sjoin_nearest(left_df=buildings, right_df=edges, how='left', max_distance=1000).drop_duplicates(subset=['geometry'])\n",
    "duplicates = buildings[buildings.duplicated(['uID'], keep=False)]\n",
    "if len(duplicates) > 0:\n",
    "    print(f\"There are {len(duplicates)} rows with duplicate uids.\")\n",
    "    print(duplicates)\n",
    "else:\n",
    "    print(\"There are no rows with duplicate uids.\")\n"
   ]
  },
  {
   "cell_type": "code",
   "execution_count": null,
   "metadata": {},
   "outputs": [],
   "source": [
    "tessellation = tessellation.merge(buildings, how='left', left_on = \"uID\", right_on=\"uID\" )"
   ]
  },
  {
   "cell_type": "code",
   "execution_count": null,
   "metadata": {},
   "outputs": [],
   "source": [
    "tessellation = tessellation.drop([\"geometry_y\", \"index_right\"], axis=1)\n",
    "tessellation = tessellation.rename(columns={\"geometry_x\": \"geometry\"})\n",
    "tessellation = gpd.GeoDataFrame(tessellation.dropna(subset=['geometry']))"
   ]
  },
  {
   "cell_type": "code",
   "execution_count": null,
   "metadata": {},
   "outputs": [],
   "source": [
    "with open(f\"./out/{place}/weights.pickle\", 'wb') as f:\n",
    "    pickle.dump(queen_1, f)\n",
    "    pickle.dump(queen_3, f)\n",
    "    pickle.dump(dist200, f)\n",
    "    f.close()"
   ]
  },
  {
   "cell_type": "code",
   "execution_count": null,
   "metadata": {},
   "outputs": [],
   "source": [
    "tessellation.columns=tessellation.columns.astype(str)"
   ]
  },
  {
   "cell_type": "code",
   "execution_count": null,
   "metadata": {},
   "outputs": [],
   "source": [
    "tessellation"
   ]
  },
  {
   "cell_type": "code",
   "execution_count": null,
   "metadata": {},
   "outputs": [],
   "source": [
    "tessellation.describe()"
   ]
  },
  {
   "cell_type": "code",
   "execution_count": null,
   "metadata": {},
   "outputs": [],
   "source": [
    "tessellation.to_parquet(f\"./out/{place}/tessellation_stats_no_percentile.pq\")"
   ]
  },
  {
   "cell_type": "code",
   "execution_count": null,
   "metadata": {},
   "outputs": [],
   "source": [
    "# def split_dataframe(df, num_dfs):\n",
    "#     \"\"\"\n",
    "#     This function splits a DataFrame into a list of smaller DataFrames with equal number of columns.\n",
    "\n",
    "#     Parameters:\n",
    "#     df (pandas.DataFrame): The DataFrame to split.\n",
    "#     num_dfs (int): The number of DataFrames to split 'df' into.\n",
    "\n",
    "#     Returns:\n",
    "#     list: A list of pandas DataFrame objects.\n",
    "#     \"\"\"\n",
    "\n",
    "#     dfs = []\n",
    "#     n = df.shape[1]\n",
    "#     num_cols = n // num_dfs\n",
    "\n",
    "#     for i in range(num_dfs):\n",
    "#         start = i * num_cols\n",
    "#         end = (i + 1) * num_cols if i != num_dfs - 1 else n\n",
    "#         dfs.append(df.iloc[:, start:end])\n",
    "\n",
    "#     return dfs\n",
    "\n",
    "# # Use the function\n",
    "# list_of_dfs = split_dataframe(tessellation[tessellation.columns.drop([\"uID\", \"geometry\"])], 16)"
   ]
  },
  {
   "cell_type": "code",
   "execution_count": null,
   "metadata": {},
   "outputs": [],
   "source": [
    "tessellation_future = client.scatter(tessellation)"
   ]
  },
  {
   "cell_type": "code",
   "execution_count": 15,
   "metadata": {},
   "outputs": [],
   "source": [
    "dropped = tessellation.drop([\"uID\", \"geometry\"], axis=1)\n",
    "\n",
    "column_lists = [list(dropped.columns[i:i + 16]) \n",
    "                for i in range(0, len(dropped.columns), 16)]\n",
    "\n"
   ]
  },
  {
   "cell_type": "code",
   "execution_count": 23,
   "metadata": {},
   "outputs": [],
   "source": [
    "# def process_percentiles(tessellation, queen_3):\n",
    "#     percentiles = []\n",
    "#     for column in tessellation.columns.drop([\"uID\", \"geometry\"]):\n",
    "#         perc = momepy.Percentiles(tessellation, column, queen_3, \"uID\", verbose=False).frame\n",
    "#         perc.columns = [f\"{column}_\" + str(x) for x in perc.columns]\n",
    "#         percentiles.append(perc)\n",
    "        \n",
    "#     percentiles_joined = pd.concat(percentiles, axis=1)\n",
    "#     return percentiles_joined"
   ]
  },
  {
   "cell_type": "code",
   "execution_count": 24,
   "metadata": {},
   "outputs": [],
   "source": [
    "def process_percentiles(df, column, queen_3):\n",
    "    perc = momepy.Percentiles(df, column, queen_3, \"uID\", verbose=False).frame\n",
    "    perc.columns = [f\"{column}_\" + str(x) for x in perc.columns]\n",
    "    \n",
    "    return perc"
   ]
  },
  {
   "cell_type": "code",
   "execution_count": 25,
   "metadata": {},
   "outputs": [
    {
     "ename": "NameError",
     "evalue": "name 'queen_3_future' is not defined",
     "output_type": "error",
     "traceback": [
      "\u001b[0;31m---------------------------------------------------------------------------\u001b[0m",
      "\u001b[0;31mNameError\u001b[0m                                 Traceback (most recent call last)",
      "Cell \u001b[0;32mIn[25], line 6\u001b[0m\n\u001b[1;32m      3\u001b[0m computations \u001b[39m=\u001b[39m []\n\u001b[1;32m      5\u001b[0m \u001b[39mfor\u001b[39;00m column \u001b[39min\u001b[39;00m column_list:\n\u001b[0;32m----> 6\u001b[0m     computations\u001b[39m.\u001b[39mappend(delayed(process_percentiles)(tessellation[[\u001b[39m'\u001b[39m\u001b[39muID\u001b[39m\u001b[39m'\u001b[39m, column]], column, queen_3_future))\n\u001b[1;32m      8\u001b[0m out \u001b[39m=\u001b[39m client\u001b[39m.\u001b[39mcompute(computations)\n\u001b[1;32m     11\u001b[0m {listofdf\u001b[39m.\u001b[39mappend(out[i]\u001b[39m.\u001b[39mresult()) \u001b[39mfor\u001b[39;00m i \u001b[39min\u001b[39;00m \u001b[39mrange\u001b[39m(\u001b[39mlen\u001b[39m(column_list))}\n",
      "\u001b[0;31mNameError\u001b[0m: name 'queen_3_future' is not defined"
     ]
    }
   ],
   "source": [
    "listofdf = []\n",
    "for column_list in column_lists:\n",
    "    computations = []\n",
    "\n",
    "    for column in column_list:\n",
    "        computations.append(delayed(process_percentiles)(tessellation[['uID', column]], column, queen_3_future))\n",
    "        \n",
    "    out = client.compute(computations)\n",
    "    \n",
    "    \n",
    "    {listofdf.append(out[i].result()) for i in range(len(column_list))}"
   ]
  },
  {
   "cell_type": "code",
   "execution_count": 74,
   "metadata": {},
   "outputs": [],
   "source": [
    "percentiles_joined = pd.concat(listofdf, axis=1)"
   ]
  },
  {
   "cell_type": "code",
   "execution_count": 75,
   "metadata": {},
   "outputs": [],
   "source": [
    "merged_df = pd.concat([percentiles_joined, tessellation[['uID', 'geometry']]], axis=1)"
   ]
  },
  {
   "cell_type": "code",
   "execution_count": 76,
   "metadata": {},
   "outputs": [],
   "source": [
    "percentiles_joined[\"uID\"] = tessellation[\"uID\"]\n",
    "percentiles_joined[\"geometry\"] = tessellation[\"geometry\"]"
   ]
  },
  {
   "cell_type": "code",
   "execution_count": 77,
   "metadata": {},
   "outputs": [],
   "source": [
    "gdf = gpd.GeoDataFrame(percentiles_joined, geometry=\"geometry\")"
   ]
  },
  {
   "cell_type": "code",
   "execution_count": 78,
   "metadata": {},
   "outputs": [
    {
     "data": {
      "text/plain": [
       "<Axes: >"
      ]
     },
     "execution_count": 78,
     "metadata": {},
     "output_type": "execute_result"
    },
    {
     "data": {
      "image/png": "[encoded data removed]",
      "text/plain": [
       "<Figure size 640x480 with 1 Axes>"
      ]
     },
     "metadata": {},
     "output_type": "display_data"
    }
   ],
   "source": [
    "gdf.plot()"
   ]
  },
  {
   "cell_type": "code",
   "execution_count": 79,
   "metadata": {},
   "outputs": [
    {
     "ename": "",
     "evalue": "",
     "output_type": "error",
     "traceback": [
      "\u001b[1;31mThe Kernel crashed while executing code in the the current cell or a previous cell. Please review the code in the cell(s) to identify a possible cause of the failure. Click <a href='https://aka.ms/vscodeJupyterKernelCrash'>here</a> for more info. View Jupyter <a href='command:jupyter.viewOutput'>log</a> for further details."
     ]
    }
   ],
   "source": [
    "gdf.to_parquet(f\"./out/{place}/tessellation_stats.pq\")"
   ]
  },
  {
   "cell_type": "code",
   "execution_count": null,
   "metadata": {},
   "outputs": [],
   "source": [
    "# chunk_size = 250000\n",
    "# chunks = []\n",
    "# for i in range(0, len(tessellation), chunk_size):\n",
    "#     chunks.append(tessellation.iloc[i:i + chunk_size])"
   ]
  },
  {
   "cell_type": "code",
   "execution_count": null,
   "metadata": {},
   "outputs": [],
   "source": [
    "# import os\n",
    "# new_directory = f\"./out/{place}/tessellation/\"\n",
    "\n",
    "# if not os.path.exists(new_directory):\n",
    "#     os.makedirs(new_directory)\n",
    "#     print(f\"Created directory: {new_directory}\")\n",
    "# else:\n",
    "#     print(f\"Directory already exists: {new_directory}\")\n",
    "\n",
    "# # iterate over all files in the directory and delete them\n",
    "# for filename in os.listdir(new_directory):\n",
    "#     file_path = os.path.join(new_directory, filename)\n",
    "#     if os.path.isfile(file_path):\n",
    "#         os.remove(file_path)\n",
    "#         print(f\"Deleted file: {file_path}\")"
   ]
  },
  {
   "cell_type": "code",
   "execution_count": null,
   "metadata": {},
   "outputs": [],
   "source": [
    "# for i, chunk in enumerate(chunks):\n",
    "#     chunk.to_parquet(f\"./out/{place}/tessellation/tesselation_chunk_{i}.pq\")"
   ]
  },
  {
   "cell_type": "code",
   "execution_count": null,
   "metadata": {},
   "outputs": [],
   "source": [
    "# duplicates = tessellation[tessellation.duplicated(['uID'], keep=False)]\n",
    "# if len(duplicates) > 0:\n",
    "#     print(f\"There are {len(duplicates)} rows with duplicate uids.\")\n",
    "#     print(duplicates)\n",
    "# else:\n",
    "#     print(\"There are no rows with duplicate uids.\")"
   ]
  },
  {
   "cell_type": "code",
   "execution_count": null,
   "metadata": {},
   "outputs": [],
   "source": [
    "# import pickle\n",
    "\n",
    "# # Open the file for reading\n",
    "# with open('./out/{place}/weights.pickle', 'rb') as f:\n",
    "#     # Load the variables in the same order that they were dumped\n",
    "#     queen_1 = pickle.load(f)\n",
    "#     queen_3 = pickle.load(f)\n",
    "#     dist200 = pickle.load(f)\n",
    "#     tessellation = pickle.load(f)"
   ]
  },
  {
   "cell_type": "code",
   "execution_count": null,
   "metadata": {},
   "outputs": [],
   "source": [
    "# tessellation.to_parquet(\"./out/{place}/tessellation_with_data.pq\", write_metadata_file=False)"
   ]
  },
  {
   "cell_type": "code",
   "execution_count": null,
   "metadata": {},
   "outputs": [],
   "source": [
    "daskCluster.close()\n",
    "client.shutdown()\n"
   ]
  }
 ],
 "metadata": {
  "kernelspec": {
   "display_name": "base",
   "language": "python",
   "name": "python3"
  },
  "language_info": {
   "codemirror_mode": {
    "name": "ipython",
    "version": 3
   },
   "file_extension": ".py",
   "mimetype": "text/x-python",
   "name": "python",
   "nbconvert_exporter": "python",
   "pygments_lexer": "ipython3",
   "version": "3.10.10"
  },
  "orig_nbformat": 4
 },
 "nbformat": 4,
 "nbformat_minor": 2
}
