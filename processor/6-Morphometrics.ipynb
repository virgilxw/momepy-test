{
 "cells": [
  {
   "cell_type": "code",
   "execution_count": 1,
   "metadata": {},
   "outputs": [
    {
     "name": "stderr",
     "output_type": "stream",
     "text": [
      "/tmp/ipykernel_4670/154743991.py:3: UserWarning: Shapely 2.0 is installed, but because PyGEOS is also installed, GeoPandas will still use PyGEOS by default for now. To force to use and test Shapely 2.0, you have to set the environment variable USE_PYGEOS=0. You can do this before starting the Python process, or in your code before importing geopandas:\n",
      "\n",
      "import os\n",
      "os.environ['USE_PYGEOS'] = '0'\n",
      "import geopandas\n",
      "\n",
      "In a future release, GeoPandas will switch to using Shapely by default. If you are using PyGEOS directly (calling PyGEOS functions on geometries from GeoPandas), this will then stop working and you are encouraged to migrate from PyGEOS to Shapely 2.0 (https://shapely.readthedocs.io/en/latest/migration_pygeos.html).\n",
      "  import geopandas as gpd\n"
     ]
    }
   ],
   "source": [
    "from dask.distributed import Client, LocalCluster\n",
    "import bokeh\n",
    "import geopandas as gpd\n",
    "import scipy\n",
    "import libpysal\n",
    "import momepy\n",
    "import json\n",
    "from dask import delayed\n",
    "import glob\n",
    "import dask\n",
    "import dask.dataframe as dd\n",
    "import momepy\n",
    "import geopandas as gpd\n",
    "import matplotlib.pyplot as plt\n",
    "import pandas as pd\n",
    "import json\n",
    "from tqdm import tqdm\n",
    "from shapely.geometry import Point\n",
    "import networkx as nx\n",
    "import pickle\n",
    "import time"
   ]
  },
  {
   "cell_type": "code",
   "execution_count": 2,
   "metadata": {
    "tags": [
     "parameters"
    ]
   },
   "outputs": [],
   "source": [
    "local_crs = 3414\n",
    "\n",
    "place = \"singapore\"\n",
    "\n",
    "latlng = (103.85, 1.29)"
   ]
  },
  {
   "cell_type": "code",
   "execution_count": 4,
   "metadata": {},
   "outputs": [
    {
     "name": "stderr",
     "output_type": "stream",
     "text": [
      "2023-06-12 21:08:11,681 - distributed.nanny.memory - WARNING - Ignoring provided memory limit 100GB due to system memory limit of 31.31 GiB\n",
      "2023-06-12 21:08:11,684 - distributed.nanny.memory - WARNING - Ignoring provided memory limit 100GB due to system memory limit of 31.31 GiB\n",
      "2023-06-12 21:08:11,686 - distributed.nanny.memory - WARNING - Ignoring provided memory limit 100GB due to system memory limit of 31.31 GiB\n",
      "2023-06-12 21:08:11,689 - distributed.nanny.memory - WARNING - Ignoring provided memory limit 100GB due to system memory limit of 31.31 GiB\n",
      "2023-06-12 21:08:11,692 - distributed.nanny.memory - WARNING - Ignoring provided memory limit 100GB due to system memory limit of 31.31 GiB\n",
      "2023-06-12 21:08:11,694 - distributed.nanny.memory - WARNING - Ignoring provided memory limit 100GB due to system memory limit of 31.31 GiB\n",
      "2023-06-12 21:08:11,696 - distributed.nanny.memory - WARNING - Ignoring provided memory limit 100GB due to system memory limit of 31.31 GiB\n",
      "2023-06-12 21:08:11,698 - distributed.nanny.memory - WARNING - Ignoring provided memory limit 100GB due to system memory limit of 31.31 GiB\n",
      "2023-06-12 21:08:12,150 - distributed.diskutils - INFO - Found stale lock file and directory '/tmp/dask-worker-space/worker-u9jjvjr4', purging\n",
      "2023-06-12 21:08:12,157 - distributed.diskutils - INFO - Found stale lock file and directory '/tmp/dask-worker-space/worker-8jugm9il', purging\n",
      "2023-06-12 21:08:12,159 - distributed.diskutils - INFO - Found stale lock file and directory '/tmp/dask-worker-space/worker-ks9kdyo3', purging\n",
      "2023-06-12 21:08:12,161 - distributed.diskutils - INFO - Found stale lock file and directory '/tmp/dask-worker-space/worker-kh1d1vuj', purging\n",
      "2023-06-12 21:08:12,162 - distributed.diskutils - INFO - Found stale lock file and directory '/tmp/dask-worker-space/worker-p1bum4bi', purging\n",
      "2023-06-12 21:08:12,163 - distributed.diskutils - INFO - Found stale lock file and directory '/tmp/dask-worker-space/worker-qif2zxvx', purging\n",
      "2023-06-12 21:08:12,165 - distributed.diskutils - INFO - Found stale lock file and directory '/tmp/dask-worker-space/worker-ghx8awjy', purging\n",
      "2023-06-12 21:08:12,167 - distributed.diskutils - INFO - Found stale lock file and directory '/tmp/dask-worker-space/worker-083t3fzl', purging\n"
     ]
    },
    {
     "data": {
      "text/html": [
       "<div>\n",
       "    <div style=\"width: 24px; height: 24px; background-color: #e1e1e1; border: 3px solid #9D9D9D; border-radius: 5px; position: absolute;\"> </div>\n",
       "    <div style=\"margin-left: 48px;\">\n",
       "        <h3 style=\"margin-bottom: 0px;\">Client</h3>\n",
       "        <p style=\"color: #9D9D9D; margin-bottom: 0px;\">Client-dbdd18aa-095c-11ee-923e-00155dbe76a5</p>\n",
       "        <table style=\"width: 100%; text-align: left;\">\n",
       "\n",
       "        <tr>\n",
       "        \n",
       "            <td style=\"text-align: left;\"><strong>Connection method:</strong> Cluster object</td>\n",
       "            <td style=\"text-align: left;\"><strong>Cluster type:</strong> distributed.LocalCluster</td>\n",
       "        \n",
       "        </tr>\n",
       "\n",
       "        \n",
       "            <tr>\n",
       "                <td style=\"text-align: left;\">\n",
       "                    <strong>Dashboard: </strong> <a href=\"http://127.0.0.1:8787/status\" target=\"_blank\">http://127.0.0.1:8787/status</a>\n",
       "                </td>\n",
       "                <td style=\"text-align: left;\"></td>\n",
       "            </tr>\n",
       "        \n",
       "\n",
       "        </table>\n",
       "\n",
       "        \n",
       "\n",
       "        \n",
       "            <details>\n",
       "            <summary style=\"margin-bottom: 20px;\"><h3 style=\"display: inline;\">Cluster Info</h3></summary>\n",
       "            <div class=\"jp-RenderedHTMLCommon jp-RenderedHTML jp-mod-trusted jp-OutputArea-output\">\n",
       "    <div style=\"width: 24px; height: 24px; background-color: #e1e1e1; border: 3px solid #9D9D9D; border-radius: 5px; position: absolute;\">\n",
       "    </div>\n",
       "    <div style=\"margin-left: 48px;\">\n",
       "        <h3 style=\"margin-bottom: 0px; margin-top: 0px;\">LocalCluster</h3>\n",
       "        <p style=\"color: #9D9D9D; margin-bottom: 0px;\">145a7ea2</p>\n",
       "        <table style=\"width: 100%; text-align: left;\">\n",
       "            <tr>\n",
       "                <td style=\"text-align: left;\">\n",
       "                    <strong>Dashboard:</strong> <a href=\"http://127.0.0.1:8787/status\" target=\"_blank\">http://127.0.0.1:8787/status</a>\n",
       "                </td>\n",
       "                <td style=\"text-align: left;\">\n",
       "                    <strong>Workers:</strong> 8\n",
       "                </td>\n",
       "            </tr>\n",
       "            <tr>\n",
       "                <td style=\"text-align: left;\">\n",
       "                    <strong>Total threads:</strong> 8\n",
       "                </td>\n",
       "                <td style=\"text-align: left;\">\n",
       "                    <strong>Total memory:</strong> 250.47 GiB\n",
       "                </td>\n",
       "            </tr>\n",
       "            \n",
       "            <tr>\n",
       "    <td style=\"text-align: left;\"><strong>Status:</strong> running</td>\n",
       "    <td style=\"text-align: left;\"><strong>Using processes:</strong> True</td>\n",
       "</tr>\n",
       "\n",
       "            \n",
       "        </table>\n",
       "\n",
       "        <details>\n",
       "            <summary style=\"margin-bottom: 20px;\">\n",
       "                <h3 style=\"display: inline;\">Scheduler Info</h3>\n",
       "            </summary>\n",
       "\n",
       "            <div style=\"\">\n",
       "    <div>\n",
       "        <div style=\"width: 24px; height: 24px; background-color: #FFF7E5; border: 3px solid #FF6132; border-radius: 5px; position: absolute;\"> </div>\n",
       "        <div style=\"margin-left: 48px;\">\n",
       "            <h3 style=\"margin-bottom: 0px;\">Scheduler</h3>\n",
       "            <p style=\"color: #9D9D9D; margin-bottom: 0px;\">Scheduler-5bd5f12a-cd0a-4d45-8639-a0ff6012df8c</p>\n",
       "            <table style=\"width: 100%; text-align: left;\">\n",
       "                <tr>\n",
       "                    <td style=\"text-align: left;\">\n",
       "                        <strong>Comm:</strong> tcp://127.0.0.1:39407\n",
       "                    </td>\n",
       "                    <td style=\"text-align: left;\">\n",
       "                        <strong>Workers:</strong> 8\n",
       "                    </td>\n",
       "                </tr>\n",
       "                <tr>\n",
       "                    <td style=\"text-align: left;\">\n",
       "                        <strong>Dashboard:</strong> <a href=\"http://127.0.0.1:8787/status\" target=\"_blank\">http://127.0.0.1:8787/status</a>\n",
       "                    </td>\n",
       "                    <td style=\"text-align: left;\">\n",
       "                        <strong>Total threads:</strong> 8\n",
       "                    </td>\n",
       "                </tr>\n",
       "                <tr>\n",
       "                    <td style=\"text-align: left;\">\n",
       "                        <strong>Started:</strong> Just now\n",
       "                    </td>\n",
       "                    <td style=\"text-align: left;\">\n",
       "                        <strong>Total memory:</strong> 250.47 GiB\n",
       "                    </td>\n",
       "                </tr>\n",
       "            </table>\n",
       "        </div>\n",
       "    </div>\n",
       "\n",
       "    <details style=\"margin-left: 48px;\">\n",
       "        <summary style=\"margin-bottom: 20px;\">\n",
       "            <h3 style=\"display: inline;\">Workers</h3>\n",
       "        </summary>\n",
       "\n",
       "        \n",
       "        <div style=\"margin-bottom: 20px;\">\n",
       "            <div style=\"width: 24px; height: 24px; background-color: #DBF5FF; border: 3px solid #4CC9FF; border-radius: 5px; position: absolute;\"> </div>\n",
       "            <div style=\"margin-left: 48px;\">\n",
       "            <details>\n",
       "                <summary>\n",
       "                    <h4 style=\"margin-bottom: 0px; display: inline;\">Worker: 0</h4>\n",
       "                </summary>\n",
       "                <table style=\"width: 100%; text-align: left;\">\n",
       "                    <tr>\n",
       "                        <td style=\"text-align: left;\">\n",
       "                            <strong>Comm: </strong> tcp://127.0.0.1:44523\n",
       "                        </td>\n",
       "                        <td style=\"text-align: left;\">\n",
       "                            <strong>Total threads: </strong> 1\n",
       "                        </td>\n",
       "                    </tr>\n",
       "                    <tr>\n",
       "                        <td style=\"text-align: left;\">\n",
       "                            <strong>Dashboard: </strong> <a href=\"http://127.0.0.1:46355/status\" target=\"_blank\">http://127.0.0.1:46355/status</a>\n",
       "                        </td>\n",
       "                        <td style=\"text-align: left;\">\n",
       "                            <strong>Memory: </strong> 31.31 GiB\n",
       "                        </td>\n",
       "                    </tr>\n",
       "                    <tr>\n",
       "                        <td style=\"text-align: left;\">\n",
       "                            <strong>Nanny: </strong> tcp://127.0.0.1:38761\n",
       "                        </td>\n",
       "                        <td style=\"text-align: left;\"></td>\n",
       "                    </tr>\n",
       "                    <tr>\n",
       "                        <td colspan=\"2\" style=\"text-align: left;\">\n",
       "                            <strong>Local directory: </strong> /tmp/dask-worker-space/worker-9trqwp9s\n",
       "                        </td>\n",
       "                    </tr>\n",
       "\n",
       "                    \n",
       "\n",
       "                    \n",
       "\n",
       "                </table>\n",
       "            </details>\n",
       "            </div>\n",
       "        </div>\n",
       "        \n",
       "        <div style=\"margin-bottom: 20px;\">\n",
       "            <div style=\"width: 24px; height: 24px; background-color: #DBF5FF; border: 3px solid #4CC9FF; border-radius: 5px; position: absolute;\"> </div>\n",
       "            <div style=\"margin-left: 48px;\">\n",
       "            <details>\n",
       "                <summary>\n",
       "                    <h4 style=\"margin-bottom: 0px; display: inline;\">Worker: 1</h4>\n",
       "                </summary>\n",
       "                <table style=\"width: 100%; text-align: left;\">\n",
       "                    <tr>\n",
       "                        <td style=\"text-align: left;\">\n",
       "                            <strong>Comm: </strong> tcp://127.0.0.1:34809\n",
       "                        </td>\n",
       "                        <td style=\"text-align: left;\">\n",
       "                            <strong>Total threads: </strong> 1\n",
       "                        </td>\n",
       "                    </tr>\n",
       "                    <tr>\n",
       "                        <td style=\"text-align: left;\">\n",
       "                            <strong>Dashboard: </strong> <a href=\"http://127.0.0.1:38549/status\" target=\"_blank\">http://127.0.0.1:38549/status</a>\n",
       "                        </td>\n",
       "                        <td style=\"text-align: left;\">\n",
       "                            <strong>Memory: </strong> 31.31 GiB\n",
       "                        </td>\n",
       "                    </tr>\n",
       "                    <tr>\n",
       "                        <td style=\"text-align: left;\">\n",
       "                            <strong>Nanny: </strong> tcp://127.0.0.1:32871\n",
       "                        </td>\n",
       "                        <td style=\"text-align: left;\"></td>\n",
       "                    </tr>\n",
       "                    <tr>\n",
       "                        <td colspan=\"2\" style=\"text-align: left;\">\n",
       "                            <strong>Local directory: </strong> /tmp/dask-worker-space/worker-9ynqqgjv\n",
       "                        </td>\n",
       "                    </tr>\n",
       "\n",
       "                    \n",
       "\n",
       "                    \n",
       "\n",
       "                </table>\n",
       "            </details>\n",
       "            </div>\n",
       "        </div>\n",
       "        \n",
       "        <div style=\"margin-bottom: 20px;\">\n",
       "            <div style=\"width: 24px; height: 24px; background-color: #DBF5FF; border: 3px solid #4CC9FF; border-radius: 5px; position: absolute;\"> </div>\n",
       "            <div style=\"margin-left: 48px;\">\n",
       "            <details>\n",
       "                <summary>\n",
       "                    <h4 style=\"margin-bottom: 0px; display: inline;\">Worker: 2</h4>\n",
       "                </summary>\n",
       "                <table style=\"width: 100%; text-align: left;\">\n",
       "                    <tr>\n",
       "                        <td style=\"text-align: left;\">\n",
       "                            <strong>Comm: </strong> tcp://127.0.0.1:32905\n",
       "                        </td>\n",
       "                        <td style=\"text-align: left;\">\n",
       "                            <strong>Total threads: </strong> 1\n",
       "                        </td>\n",
       "                    </tr>\n",
       "                    <tr>\n",
       "                        <td style=\"text-align: left;\">\n",
       "                            <strong>Dashboard: </strong> <a href=\"http://127.0.0.1:46097/status\" target=\"_blank\">http://127.0.0.1:46097/status</a>\n",
       "                        </td>\n",
       "                        <td style=\"text-align: left;\">\n",
       "                            <strong>Memory: </strong> 31.31 GiB\n",
       "                        </td>\n",
       "                    </tr>\n",
       "                    <tr>\n",
       "                        <td style=\"text-align: left;\">\n",
       "                            <strong>Nanny: </strong> tcp://127.0.0.1:38297\n",
       "                        </td>\n",
       "                        <td style=\"text-align: left;\"></td>\n",
       "                    </tr>\n",
       "                    <tr>\n",
       "                        <td colspan=\"2\" style=\"text-align: left;\">\n",
       "                            <strong>Local directory: </strong> /tmp/dask-worker-space/worker-5_yzw959\n",
       "                        </td>\n",
       "                    </tr>\n",
       "\n",
       "                    \n",
       "\n",
       "                    \n",
       "\n",
       "                </table>\n",
       "            </details>\n",
       "            </div>\n",
       "        </div>\n",
       "        \n",
       "        <div style=\"margin-bottom: 20px;\">\n",
       "            <div style=\"width: 24px; height: 24px; background-color: #DBF5FF; border: 3px solid #4CC9FF; border-radius: 5px; position: absolute;\"> </div>\n",
       "            <div style=\"margin-left: 48px;\">\n",
       "            <details>\n",
       "                <summary>\n",
       "                    <h4 style=\"margin-bottom: 0px; display: inline;\">Worker: 3</h4>\n",
       "                </summary>\n",
       "                <table style=\"width: 100%; text-align: left;\">\n",
       "                    <tr>\n",
       "                        <td style=\"text-align: left;\">\n",
       "                            <strong>Comm: </strong> tcp://127.0.0.1:46031\n",
       "                        </td>\n",
       "                        <td style=\"text-align: left;\">\n",
       "                            <strong>Total threads: </strong> 1\n",
       "                        </td>\n",
       "                    </tr>\n",
       "                    <tr>\n",
       "                        <td style=\"text-align: left;\">\n",
       "                            <strong>Dashboard: </strong> <a href=\"http://127.0.0.1:42959/status\" target=\"_blank\">http://127.0.0.1:42959/status</a>\n",
       "                        </td>\n",
       "                        <td style=\"text-align: left;\">\n",
       "                            <strong>Memory: </strong> 31.31 GiB\n",
       "                        </td>\n",
       "                    </tr>\n",
       "                    <tr>\n",
       "                        <td style=\"text-align: left;\">\n",
       "                            <strong>Nanny: </strong> tcp://127.0.0.1:43341\n",
       "                        </td>\n",
       "                        <td style=\"text-align: left;\"></td>\n",
       "                    </tr>\n",
       "                    <tr>\n",
       "                        <td colspan=\"2\" style=\"text-align: left;\">\n",
       "                            <strong>Local directory: </strong> /tmp/dask-worker-space/worker-zsu7rviv\n",
       "                        </td>\n",
       "                    </tr>\n",
       "\n",
       "                    \n",
       "\n",
       "                    \n",
       "\n",
       "                </table>\n",
       "            </details>\n",
       "            </div>\n",
       "        </div>\n",
       "        \n",
       "        <div style=\"margin-bottom: 20px;\">\n",
       "            <div style=\"width: 24px; height: 24px; background-color: #DBF5FF; border: 3px solid #4CC9FF; border-radius: 5px; position: absolute;\"> </div>\n",
       "            <div style=\"margin-left: 48px;\">\n",
       "            <details>\n",
       "                <summary>\n",
       "                    <h4 style=\"margin-bottom: 0px; display: inline;\">Worker: 4</h4>\n",
       "                </summary>\n",
       "                <table style=\"width: 100%; text-align: left;\">\n",
       "                    <tr>\n",
       "                        <td style=\"text-align: left;\">\n",
       "                            <strong>Comm: </strong> tcp://127.0.0.1:46819\n",
       "                        </td>\n",
       "                        <td style=\"text-align: left;\">\n",
       "                            <strong>Total threads: </strong> 1\n",
       "                        </td>\n",
       "                    </tr>\n",
       "                    <tr>\n",
       "                        <td style=\"text-align: left;\">\n",
       "                            <strong>Dashboard: </strong> <a href=\"http://127.0.0.1:32919/status\" target=\"_blank\">http://127.0.0.1:32919/status</a>\n",
       "                        </td>\n",
       "                        <td style=\"text-align: left;\">\n",
       "                            <strong>Memory: </strong> 31.31 GiB\n",
       "                        </td>\n",
       "                    </tr>\n",
       "                    <tr>\n",
       "                        <td style=\"text-align: left;\">\n",
       "                            <strong>Nanny: </strong> tcp://127.0.0.1:34461\n",
       "                        </td>\n",
       "                        <td style=\"text-align: left;\"></td>\n",
       "                    </tr>\n",
       "                    <tr>\n",
       "                        <td colspan=\"2\" style=\"text-align: left;\">\n",
       "                            <strong>Local directory: </strong> /tmp/dask-worker-space/worker-is431bvd\n",
       "                        </td>\n",
       "                    </tr>\n",
       "\n",
       "                    \n",
       "\n",
       "                    \n",
       "\n",
       "                </table>\n",
       "            </details>\n",
       "            </div>\n",
       "        </div>\n",
       "        \n",
       "        <div style=\"margin-bottom: 20px;\">\n",
       "            <div style=\"width: 24px; height: 24px; background-color: #DBF5FF; border: 3px solid #4CC9FF; border-radius: 5px; position: absolute;\"> </div>\n",
       "            <div style=\"margin-left: 48px;\">\n",
       "            <details>\n",
       "                <summary>\n",
       "                    <h4 style=\"margin-bottom: 0px; display: inline;\">Worker: 5</h4>\n",
       "                </summary>\n",
       "                <table style=\"width: 100%; text-align: left;\">\n",
       "                    <tr>\n",
       "                        <td style=\"text-align: left;\">\n",
       "                            <strong>Comm: </strong> tcp://127.0.0.1:35323\n",
       "                        </td>\n",
       "                        <td style=\"text-align: left;\">\n",
       "                            <strong>Total threads: </strong> 1\n",
       "                        </td>\n",
       "                    </tr>\n",
       "                    <tr>\n",
       "                        <td style=\"text-align: left;\">\n",
       "                            <strong>Dashboard: </strong> <a href=\"http://127.0.0.1:43559/status\" target=\"_blank\">http://127.0.0.1:43559/status</a>\n",
       "                        </td>\n",
       "                        <td style=\"text-align: left;\">\n",
       "                            <strong>Memory: </strong> 31.31 GiB\n",
       "                        </td>\n",
       "                    </tr>\n",
       "                    <tr>\n",
       "                        <td style=\"text-align: left;\">\n",
       "                            <strong>Nanny: </strong> tcp://127.0.0.1:33419\n",
       "                        </td>\n",
       "                        <td style=\"text-align: left;\"></td>\n",
       "                    </tr>\n",
       "                    <tr>\n",
       "                        <td colspan=\"2\" style=\"text-align: left;\">\n",
       "                            <strong>Local directory: </strong> /tmp/dask-worker-space/worker-8fhpubw0\n",
       "                        </td>\n",
       "                    </tr>\n",
       "\n",
       "                    \n",
       "\n",
       "                    \n",
       "\n",
       "                </table>\n",
       "            </details>\n",
       "            </div>\n",
       "        </div>\n",
       "        \n",
       "        <div style=\"margin-bottom: 20px;\">\n",
       "            <div style=\"width: 24px; height: 24px; background-color: #DBF5FF; border: 3px solid #4CC9FF; border-radius: 5px; position: absolute;\"> </div>\n",
       "            <div style=\"margin-left: 48px;\">\n",
       "            <details>\n",
       "                <summary>\n",
       "                    <h4 style=\"margin-bottom: 0px; display: inline;\">Worker: 6</h4>\n",
       "                </summary>\n",
       "                <table style=\"width: 100%; text-align: left;\">\n",
       "                    <tr>\n",
       "                        <td style=\"text-align: left;\">\n",
       "                            <strong>Comm: </strong> tcp://127.0.0.1:44701\n",
       "                        </td>\n",
       "                        <td style=\"text-align: left;\">\n",
       "                            <strong>Total threads: </strong> 1\n",
       "                        </td>\n",
       "                    </tr>\n",
       "                    <tr>\n",
       "                        <td style=\"text-align: left;\">\n",
       "                            <strong>Dashboard: </strong> <a href=\"http://127.0.0.1:43741/status\" target=\"_blank\">http://127.0.0.1:43741/status</a>\n",
       "                        </td>\n",
       "                        <td style=\"text-align: left;\">\n",
       "                            <strong>Memory: </strong> 31.31 GiB\n",
       "                        </td>\n",
       "                    </tr>\n",
       "                    <tr>\n",
       "                        <td style=\"text-align: left;\">\n",
       "                            <strong>Nanny: </strong> tcp://127.0.0.1:42339\n",
       "                        </td>\n",
       "                        <td style=\"text-align: left;\"></td>\n",
       "                    </tr>\n",
       "                    <tr>\n",
       "                        <td colspan=\"2\" style=\"text-align: left;\">\n",
       "                            <strong>Local directory: </strong> /tmp/dask-worker-space/worker-7wpfime0\n",
       "                        </td>\n",
       "                    </tr>\n",
       "\n",
       "                    \n",
       "\n",
       "                    \n",
       "\n",
       "                </table>\n",
       "            </details>\n",
       "            </div>\n",
       "        </div>\n",
       "        \n",
       "        <div style=\"margin-bottom: 20px;\">\n",
       "            <div style=\"width: 24px; height: 24px; background-color: #DBF5FF; border: 3px solid #4CC9FF; border-radius: 5px; position: absolute;\"> </div>\n",
       "            <div style=\"margin-left: 48px;\">\n",
       "            <details>\n",
       "                <summary>\n",
       "                    <h4 style=\"margin-bottom: 0px; display: inline;\">Worker: 7</h4>\n",
       "                </summary>\n",
       "                <table style=\"width: 100%; text-align: left;\">\n",
       "                    <tr>\n",
       "                        <td style=\"text-align: left;\">\n",
       "                            <strong>Comm: </strong> tcp://127.0.0.1:42903\n",
       "                        </td>\n",
       "                        <td style=\"text-align: left;\">\n",
       "                            <strong>Total threads: </strong> 1\n",
       "                        </td>\n",
       "                    </tr>\n",
       "                    <tr>\n",
       "                        <td style=\"text-align: left;\">\n",
       "                            <strong>Dashboard: </strong> <a href=\"http://127.0.0.1:35305/status\" target=\"_blank\">http://127.0.0.1:35305/status</a>\n",
       "                        </td>\n",
       "                        <td style=\"text-align: left;\">\n",
       "                            <strong>Memory: </strong> 31.31 GiB\n",
       "                        </td>\n",
       "                    </tr>\n",
       "                    <tr>\n",
       "                        <td style=\"text-align: left;\">\n",
       "                            <strong>Nanny: </strong> tcp://127.0.0.1:37137\n",
       "                        </td>\n",
       "                        <td style=\"text-align: left;\"></td>\n",
       "                    </tr>\n",
       "                    <tr>\n",
       "                        <td colspan=\"2\" style=\"text-align: left;\">\n",
       "                            <strong>Local directory: </strong> /tmp/dask-worker-space/worker-1xu9s4rz\n",
       "                        </td>\n",
       "                    </tr>\n",
       "\n",
       "                    \n",
       "\n",
       "                    \n",
       "\n",
       "                </table>\n",
       "            </details>\n",
       "            </div>\n",
       "        </div>\n",
       "        \n",
       "\n",
       "    </details>\n",
       "</div>\n",
       "\n",
       "        </details>\n",
       "    </div>\n",
       "</div>\n",
       "            </details>\n",
       "        \n",
       "\n",
       "    </div>\n",
       "</div>"
      ],
      "text/plain": [
       "<Client: 'tcp://127.0.0.1:39407' processes=8 threads=8, memory=250.47 GiB>"
      ]
     },
     "execution_count": 4,
     "metadata": {},
     "output_type": "execute_result"
    }
   ],
   "source": [
    "daskCluster = LocalCluster(threads_per_worker=1,\n",
    "                n_workers=8, memory_limit='100GB')\n",
    "\n",
    "client = Client(daskCluster)\n",
    "\n",
    "client"
   ]
  },
  {
   "cell_type": "code",
   "execution_count": 5,
   "metadata": {},
   "outputs": [
    {
     "name": "stderr",
     "output_type": "stream",
     "text": [
      "/tmp/ipykernel_4670/1367824222.py:8: FutureWarning: Currently, index_parts defaults to True, but in the future, it will default to False to be consistent with Pandas. Use `index_parts=True` to keep the current behavior and True/False to silence the warning.\n",
      "  streets = gpd.read_parquet(f\"./out/{place}/streets.pq\").explode()\n"
     ]
    }
   ],
   "source": [
    "# with open('./out/{place}/what_cells_are_in_what_cluster_dict.json', 'r') as f:\n",
    "#     includes_dict = json.load(f)\n",
    "    \n",
    "tessellation = gpd.read_parquet(f\"./out/{place}/tessellation.pq\")\n",
    "\n",
    "buildings = gpd.read_parquet(f\"./out/{place}/buildings.pq\")\n",
    "\n",
    "streets = gpd.read_parquet(f\"./out/{place}/streets.pq\").explode()"
   ]
  },
  {
   "cell_type": "code",
   "execution_count": 6,
   "metadata": {},
   "outputs": [
    {
     "data": {
      "text/plain": [
       "Index(['uID', 'geometry'], dtype='object')"
      ]
     },
     "execution_count": 6,
     "metadata": {},
     "output_type": "execute_result"
    }
   ],
   "source": [
    "tessellation.columns"
   ]
  },
  {
   "cell_type": "code",
   "execution_count": 7,
   "metadata": {},
   "outputs": [
    {
     "data": {
      "text/plain": [
       "Index(['uID', 'geometry'], dtype='object')"
      ]
     },
     "execution_count": 7,
     "metadata": {},
     "output_type": "execute_result"
    }
   ],
   "source": [
    "buildings.columns"
   ]
  },
  {
   "cell_type": "code",
   "execution_count": 8,
   "metadata": {},
   "outputs": [],
   "source": [
    "# # Map for comparison\n",
    "# f, ax = plt.subplots(figsize=(200, 200))\n",
    "# tessellation.plot(linewidth=0.8, ax=ax, edgecolor='0.8')\n",
    "# streets.plot(ax=ax, color='blue')\n",
    "# buildings.plot(ax=ax, color='black', alpha=0.5)\n",
    "# ax.set_axis_off()\n",
    "\n",
    "# # Show the plot\n",
    "# plt.show()"
   ]
  },
  {
   "cell_type": "code",
   "execution_count": 9,
   "metadata": {},
   "outputs": [],
   "source": [
    "tessellation = tessellation[[\"uID\", \"geometry\"]]"
   ]
  },
  {
   "cell_type": "code",
   "execution_count": 10,
   "metadata": {},
   "outputs": [],
   "source": [
    "buildings = buildings[[\"uID\", \"geometry\"]]"
   ]
  },
  {
   "cell_type": "code",
   "execution_count": 11,
   "metadata": {},
   "outputs": [],
   "source": [
    "streets['nID'] = momepy.unique_id(streets)\n",
    "streets = streets.reset_index().drop([\"level_0\", \"level_1\"], axis=1)\n",
    "# buildings['nID'] = momepy.get_network_id(buildings, streets,\n",
    "#                                                'nID').values\n",
    "\n",
    "# buildings = buildings.drop_duplicates(\"uID\").drop(columns=\"index_right\")\n",
    "# tessellation = tessellation.merge(buildings[['uID', 'nID']], on='uID', how='left')"
   ]
  },
  {
   "cell_type": "code",
   "execution_count": 12,
   "metadata": {},
   "outputs": [],
   "source": [
    "# @dask.delayed\n",
    "# def queen_contiguity_load(n1, includes_dict):\n",
    "#     chunk = gpd.read_parquet(f\"./out/{place}/expanded_cells_in_chunk_{int(n1)}.pq\")\n",
    "    \n",
    "#     # weights\n",
    "    # queen_1 = libpysal.weights.w_subset(momepy.sw_high(k=1, gdf=chunk, ids='uID'), includes_dict[str(n1)]).to_adjlist()\n",
    "    # queen_3 = libpysal.weights.w_subset(momepy.sw_high(k=3, gdf=chunk, ids='uID'), includes_dict[str(n1)]).to_adjlist()\n",
    "    \n",
    "#     return (queen_1, queen_3)"
   ]
  },
  {
   "cell_type": "code",
   "execution_count": 13,
   "metadata": {},
   "outputs": [],
   "source": [
    "# file_pattern = f\"./out/{place}/expanded_cells_in_chunk_*.pq\"\n",
    "# file_list = glob.glob(file_pattern)\n",
    "# num_files = len(file_list)\n",
    "\n",
    "# weight_out = [process(n1, includes_dict) for n1 in tqdm(range(num_files))]\n",
    "\n",
    "# weight_out = [queen_contiguity_load(n1, includes_dict) for n1 in range(num_files)]\n",
    "\n",
    "# weight_out = dask.compute(weight_out)\n"
   ]
  },
  {
   "cell_type": "code",
   "execution_count": 14,
   "metadata": {},
   "outputs": [],
   "source": [
    "# queen_1 = libpysal.weights.W.from_adjlist(pd.concat(weight_out[0][i][0] for i in range(num_files)))\n",
    "\n",
    "# queen_3 = libpysal.weights.W.from_adjlist(pd.concat(weight_out[0][i][1] for i in range(num_files)))"
   ]
  },
  {
   "cell_type": "code",
   "execution_count": 15,
   "metadata": {},
   "outputs": [],
   "source": [
    "# latlng_series = gpd.GeoSeries([Point(latlng)], crs=4326)"
   ]
  },
  {
   "cell_type": "code",
   "execution_count": 16,
   "metadata": {},
   "outputs": [],
   "source": [
    "# buildings[\"building_distance_to_central_city\"] = buildings.geometry.centroid.distance(latlng_series.to_crs(local_crs)[0])"
   ]
  },
  {
   "cell_type": "code",
   "execution_count": 17,
   "metadata": {},
   "outputs": [],
   "source": [
    "# # Find the uIDs in tessellation that are not in buildings\n",
    "# tessellation_uids = set(tessellation['uID'])\n",
    "# buildings_uids = set(buildings['uID'])\n",
    "# new_uids = tessellation_uids - buildings_uids\n",
    "\n",
    "# # Create a new GeoDataFrame with the new uIDs and empty geometry\n",
    "# new_rows = pd.DataFrame({'uID': list(new_uids)})\n",
    "# new_rows['geometry'] = None\n",
    "# new_gdf = gpd.GeoDataFrame(new_rows, crs=buildings.crs)\n",
    "\n",
    "# # Append the new GeoDataFrame to buildings\n",
    "# new_buildings = pd.concat([buildings, new_gdf], ignore_index=True)"
   ]
  },
  {
   "cell_type": "code",
   "execution_count": 18,
   "metadata": {},
   "outputs": [],
   "source": [
    "### Building Area\n",
    "buildings['building_area'] = momepy.Area(buildings).series\n",
    "tessellation['tess_area'] = momepy.Area(tessellation).series"
   ]
  },
  {
   "cell_type": "code",
   "execution_count": 19,
   "metadata": {},
   "outputs": [],
   "source": [
    "continuity = momepy.COINS(streets)\n",
    "# stroke_gdf = continuity.stroke_gdf()\n",
    "\n",
    "streets[\"continuity_stroke\"] = continuity.stroke_attribute()"
   ]
  },
  {
   "cell_type": "code",
   "execution_count": 20,
   "metadata": {},
   "outputs": [
    {
     "name": "stderr",
     "output_type": "stream",
     "text": [
      "/home/virgilxw/miniconda3/lib/python3.10/site-packages/libpysal/weights/weights.py:172: UserWarning: The weights matrix is not fully connected: \n",
      " There are 1939 disconnected components.\n",
      " There are 576 islands with ids: 28, 501, 502, 508, 535, 1788, 1948, 2189, 2860, 5055, 5645, 5656, 5662, 5702, 5707, 8133, 9193, 9201, 10638, 10776, 13292, 13653, 13654, 16954, 17555, 17857, 19135, 19142, 19235, 19241, 19318, 19358, 20781, 20894, 21202, 21392, 21399, 21452, 21512, 21513, 21545, 21572, 21616, 21827, 21836, 21844, 21924, 22041, 22042, 22043, 22049, 22176, 22177, 22178, 22181, 22689, 22714, 22795, 22807, 23195, 23733, 23735, 23782, 23922, 24076, 24095, 24502, 24504, 24563, 24625, 24644, 24980, 25074, 25089, 25148, 25563, 25612, 25752, 25753, 25762, 25768, 25792, 25813, 25814, 25833, 25843, 26616, 26617, 27529, 27661, 27922, 27963, 27964, 28095, 28105, 28767, 29659, 29990, 29991, 30364, 30422, 30491, 30597, 30598, 30599, 30971, 31453, 31560, 31561, 31664, 31816, 31817, 31901, 31946, 32211, 32250, 32295, 32451, 32452, 32473, 35095, 38368, 38494, 38561, 38563, 38576, 38577, 38586, 38593, 38665, 38684, 38685, 38720, 38792, 39432, 39439, 40826, 43158, 43198, 44172, 44396, 44398, 44571, 44979, 51528, 52436, 52822, 54285, 56308, 58973, 59673, 61219, 61509, 61650, 62044, 62048, 62619, 63095, 63120, 63141, 63154, 71665, 83783, 84724, 91029, 91259, 91270, 91375, 91393, 91961, 92240, 92241, 92243, 92278, 92295, 92361, 92512, 93562, 94494, 94705, 94706, 94707, 94764, 94930, 95467, 95496, 95647, 95655, 95769, 95856, 95909, 96083, 97709, 99126, 101573, 101801, 101809, 103215, 103316, 103434, 103987, 103988, 104002, 104160, 104738, 105469, 105539, 105541, 105549, 108163, 109369, 109569, 109661, 109669, 109686, 109859, 109873, 110358, 111192, 111194, 111195, 112148, 112268, 112864, 112871, 112872, 112905, 112909, 112915, 112920, 113003, 113181, 113182, 113190, 113192, 113566, 113603, 113696, 114271, 117196, 117681, 118431, 118441, 118452, 118592, 118982, 118983, 119118, 119172, 119993, 120207, 121428, 122559, 124068, 124492, 125429, 125680, 127321, 127363, 127369, 127589, 128776, 132037, 132038, 132039, 132047, 132137, 132151, 132207, 132514, 132516, 132576, 134792, 134835, 135061, 136202, 136464, 136465, 136472, 136479, 136527, 136746, 137365, 137375, 137640, 141541, 141542, 141543, 141863, 141976, 142642, 143360, 143361, 143413, 143421, 143533, 143535, 144236, 144932, 145029, 145057, 145070, 145078, 145093, 145096, 145159, 145245, 145818, 146251, 146263, 146317, 146318, 147676, 147712, 147724, 147725, 147734, 147975, 147976, 147980, 148238, 148294, 148673, 149088, 149671, 149693, 149701, 151462, 151693, 151904, 151905, 151906, 151922, 152126, 152261, 152273, 152274, 152275, 152313, 152314, 152316, 152390, 152391, 152412, 152413, 152414, 152415, 157133, 158877, 159387, 159579, 159595, 161541, 161870, 161883, 164097, 164636, 164743, 164756, 164784, 164827, 164832, 164911, 166916, 166934, 167347, 167350, 167429, 167903, 167906, 167908, 167909, 168270, 169168, 169184, 169203, 169290, 169299, 169309, 169390, 169399, 169408, 169412, 169440, 169451, 170428, 172815, 173262, 174416, 174706, 175961, 176031, 176032, 176144, 176302, 176325, 178261, 179029, 180069, 180188, 180236, 180298, 180693, 180696, 180714, 180791, 180798, 180907, 180908, 180916, 181641, 181646, 181768, 182002, 182127, 183477, 183640, 186017, 186116, 189159, 189160, 189172, 192270, 192274, 192275, 192276, 192318, 192382, 192468, 192474, 192614, 193034, 193904, 194116, 194117, 194683, 194724, 194825, 195418, 195489, 195490, 195791, 196048, 196724, 196725, 196785, 196790, 196800, 196806, 196881, 196950, 197631, 197763, 198292, 198354, 198437, 198613, 198632, 198637, 198648, 198659, 198671, 198801, 198815, 198816, 198824, 199508, 199957, 199965, 200059, 200089, 200099, 200109, 200110, 200111, 200112, 204554, 206358, 206526, 207534, 207544, 207552, 207980, 208064, 208276, 208341, 209644, 209652, 209653, 211745, 212042, 212093, 212339, 212514, 212537, 212996, 213040, 213041, 213057, 213454, 213480, 213696, 213748, 214600, 214912, 214913, 216805, 216827, 217013, 217141, 217163, 217164, 217177, 218776, 218785, 219636, 219644, 219908, 219966, 219967, 220151, 220173, 220364, 220385, 220505, 221172, 221173, 221186, 221189, 221209, 221325, 221333, 221352, 221422, 222106, 222327, 223392, 223393, 223399, 223488, 223489, 223505, 223609, 224168, 224214, 224281, 224780, 224830, 224850, 225036, 225037, 225169, 225192, 225209, 225272, 225273, 225274, 225279, 225282, 225304, 225308, 225309, 225310, 225311, 225526, 225790, 225810, 226048, 226112, 226156, 226157, 226163, 226164, 226978, 227127, 227363.\n",
      "  warnings.warn(message)\n"
     ]
    }
   ],
   "source": [
    "queen_1 = libpysal.weights.fuzzy_contiguity(tessellation, tolerance=0.05, buffering=True, drop=True, buffer=5, ids=\"uID\", silence_warnings=True)\n",
    "queen_3 = momepy.sw_high(k=3, weights=queen_1)\n",
    "dist200 = libpysal.weights.DistanceBand.from_dataframe(buildings, 200, ids='uID')"
   ]
  },
  {
   "cell_type": "code",
   "execution_count": 21,
   "metadata": {},
   "outputs": [
    {
     "data": {
      "application/vnd.jupyter.widget-view+json": {
       "model_id": "f50d2e8e881a4e19ba52ffefdcf4b9cf",
       "version_major": 2,
       "version_minor": 0
      },
      "text/plain": [
       "  0%|          | 0/227364 [00:00<?, ?it/s]"
      ]
     },
     "metadata": {},
     "output_type": "display_data"
    },
    {
     "name": "stderr",
     "output_type": "stream",
     "text": [
      "/home/virgilxw/miniconda3/lib/python3.10/site-packages/momepy/shape.py:962: ShapelyDeprecationWarning: The 'type' attribute is deprecated, and will be removed in the future. You can use the 'geom_type' attribute instead.\n",
      "  if geom.type == \"Polygon\":\n",
      "/home/virgilxw/miniconda3/lib/python3.10/site-packages/momepy/shape.py:956: RuntimeWarning: invalid value encountered in arccos\n",
      "  angle = np.degrees(np.arccos(cosine_angle))\n"
     ]
    },
    {
     "data": {
      "application/vnd.jupyter.widget-view+json": {
       "model_id": "827ab44b8fce4374839c7afc0511f4e8",
       "version_major": 2,
       "version_minor": 0
      },
      "text/plain": [
       "  0%|          | 0/227364 [00:00<?, ?it/s]"
      ]
     },
     "metadata": {},
     "output_type": "display_data"
    },
    {
     "name": "stderr",
     "output_type": "stream",
     "text": [
      "/home/virgilxw/miniconda3/lib/python3.10/site-packages/momepy/distribution.py:74: ShapelyDeprecationWarning: The 'type' attribute is deprecated, and will be removed in the future. You can use the 'geom_type' attribute instead.\n",
      "  if geom.type in [\"Polygon\", \"MultiPolygon\", \"LinearRing\"]:\n",
      "/home/virgilxw/miniconda3/lib/python3.10/site-packages/momepy/shape.py:1286: ShapelyDeprecationWarning: The 'type' attribute is deprecated, and will be removed in the future. You can use the 'geom_type' attribute instead.\n",
      "  if geom.type == \"LineString\"\n"
     ]
    },
    {
     "data": {
      "application/vnd.jupyter.widget-view+json": {
       "model_id": "ceaed01085614aa4968cbde35f596192",
       "version_major": 2,
       "version_minor": 0
      },
      "text/plain": [
       "  0%|          | 0/227364 [00:00<?, ?it/s]"
      ]
     },
     "metadata": {},
     "output_type": "display_data"
    },
    {
     "data": {
      "application/vnd.jupyter.widget-view+json": {
       "model_id": "89eccaef76764ddc8a1761e4e23b6cff",
       "version_major": 2,
       "version_minor": 0
      },
      "text/plain": [
       "  0%|          | 0/227364 [00:00<?, ?it/s]"
      ]
     },
     "metadata": {},
     "output_type": "display_data"
    },
    {
     "data": {
      "application/vnd.jupyter.widget-view+json": {
       "model_id": "b8686e35b2854d13a45b43d93279a9a7",
       "version_major": 2,
       "version_minor": 0
      },
      "text/plain": [
       "  0%|          | 0/227364 [00:00<?, ?it/s]"
      ]
     },
     "metadata": {},
     "output_type": "display_data"
    },
    {
     "data": {
      "application/vnd.jupyter.widget-view+json": {
       "model_id": "2fd94fce14a8475f9ec94641be329dce",
       "version_major": 2,
       "version_minor": 0
      },
      "text/plain": [
       "  0%|          | 0/227364 [00:00<?, ?it/s]"
      ]
     },
     "metadata": {},
     "output_type": "display_data"
    },
    {
     "data": {
      "application/vnd.jupyter.widget-view+json": {
       "model_id": "8d1c4e3c9a9749eea8c96668a02dff05",
       "version_major": 2,
       "version_minor": 0
      },
      "text/plain": [
       "  0%|          | 0/227364 [00:00<?, ?it/s]"
      ]
     },
     "metadata": {},
     "output_type": "display_data"
    },
    {
     "data": {
      "application/vnd.jupyter.widget-view+json": {
       "model_id": "65e7d5fb44544be4aa30a9f7a3dfe00e",
       "version_major": 2,
       "version_minor": 0
      },
      "text/plain": [
       "  0%|          | 0/227364 [00:00<?, ?it/s]"
      ]
     },
     "metadata": {},
     "output_type": "display_data"
    },
    {
     "name": "stderr",
     "output_type": "stream",
     "text": [
      "/home/virgilxw/miniconda3/lib/python3.10/site-packages/momepy/distribution.py:74: ShapelyDeprecationWarning: The 'type' attribute is deprecated, and will be removed in the future. You can use the 'geom_type' attribute instead.\n",
      "  if geom.type in [\"Polygon\", \"MultiPolygon\", \"LinearRing\"]:\n"
     ]
    },
    {
     "data": {
      "application/vnd.jupyter.widget-view+json": {
       "model_id": "63c58196eb6a480a9362324305e09de2",
       "version_major": 2,
       "version_minor": 0
      },
      "text/plain": [
       "  0%|          | 0/227364 [00:00<?, ?it/s]"
      ]
     },
     "metadata": {},
     "output_type": "display_data"
    },
    {
     "name": "stdout",
     "output_type": "stream",
     "text": [
      "Computing mean interbuilding distances...\n"
     ]
    },
    {
     "data": {
      "application/vnd.jupyter.widget-view+json": {
       "model_id": "c2af3854da4b48bc965a21032b046d73",
       "version_major": 2,
       "version_minor": 0
      },
      "text/plain": [
       "  0%|          | 0/227364 [00:00<?, ?it/s]"
      ]
     },
     "metadata": {},
     "output_type": "display_data"
    }
   ],
   "source": [
    "buildings['building_circular_compactness'] = momepy.CircularCompactness(buildings).series\n",
    "buildings['building_elongation'] = momepy.Elongation(buildings).series\n",
    "buildings['building_squareness'] = momepy.Squareness(buildings).series\n",
    "buildings['building_eri'] = momepy.EquivalentRectangularIndex(buildings).series\n",
    "buildings['building_orientation'] = momepy.Orientation(buildings).series\n",
    "streets['street_linearity'] = momepy.Linearity(streets).series\n",
    "tessellation[\"tess_convexity\"] = momepy.Convexity(tessellation).series\n",
    "tessellation[\"tess_neighbours\"] = momepy.Neighbors(tessellation, queen_3,'uID', weighted=True).series\n",
    "tessellation[\"tess_neighbours_200\"] =  momepy.Neighbors(tessellation, dist200, 'uID', weighted=True).series\n",
    "tessellation[\"tess_covered_area\"] = momepy.CoveredArea(tessellation, queen_1, \"uID\").series\n",
    "tessellation[\"tess_area_iqr\"] = momepy.Range(tessellation, values='tess_area', spatial_weights=queen_3, unique_id='uID', rng=(25, 75)).series\n",
    "tessellation[\"tess_rea_theil\"] = momepy.Theil(tessellation, values='tess_area', spatial_weights=queen_3, unique_id='uID').series\n",
    "tessellation[\"tess_orientation\"] = momepy.Orientation(tessellation).series\n",
    "tessellation[\"building_neighbour_dist\"] = momepy.NeighborDistance(buildings, queen_1, 'uID').series\n",
    "tessellation[\"building_neighbourhood_interbuilding_distance\"] = momepy.MeanInterbuildingDistance(buildings, queen_1, 'uID', 3).series"
   ]
  },
  {
   "cell_type": "code",
   "execution_count": 22,
   "metadata": {},
   "outputs": [],
   "source": [
    "# StreetProfile computation\n",
    "profile = momepy.StreetProfile(streets, buildings)\n"
   ]
  },
  {
   "cell_type": "code",
   "execution_count": 23,
   "metadata": {},
   "outputs": [],
   "source": [
    "streets[\"street_width\"] = profile.w\n",
    "streets[\"street_width_deviation\"] = profile.wd\n",
    "streets[\"street_openness\"] = profile.o"
   ]
  },
  {
   "cell_type": "code",
   "execution_count": 24,
   "metadata": {},
   "outputs": [
    {
     "data": {
      "application/vnd.jupyter.widget-view+json": {
       "model_id": "ad1b8964209f4c16bec3243b878c8b96",
       "version_major": 2,
       "version_minor": 0
      },
      "text/plain": [
       "  0%|          | 0/227364 [00:00<?, ?it/s]"
      ]
     },
     "metadata": {},
     "output_type": "display_data"
    }
   ],
   "source": [
    "buildings['building_weighted_circom'] = momepy.WeightedCharacter(\n",
    "buildings, buildings[\"building_circular_compactness\"], queen_3, 'uID', momepy.Area(buildings).series).series"
   ]
  },
  {
   "cell_type": "code",
   "execution_count": 25,
   "metadata": {},
   "outputs": [],
   "source": [
    "# primal = momepy.gdf_to_nx(streets, approach='primal')"
   ]
  },
  {
   "cell_type": "code",
   "execution_count": 26,
   "metadata": {},
   "outputs": [
    {
     "name": "stdout",
     "output_type": "stream",
     "text": [
      "CPU times: user 3 µs, sys: 1e+03 ns, total: 4 µs\n",
      "Wall time: 5.96 µs\n"
     ]
    }
   ],
   "source": [
    "%%time\n",
    "# momepy.node_degree(primal)"
   ]
  },
  {
   "cell_type": "code",
   "execution_count": 27,
   "metadata": {},
   "outputs": [
    {
     "name": "stdout",
     "output_type": "stream",
     "text": [
      "CPU times: user 0 ns, sys: 2 µs, total: 2 µs\n",
      "Wall time: 4.05 µs\n"
     ]
    }
   ],
   "source": [
    "%%time\n",
    "# primal = momepy.closeness_centrality(primal, radius=400, name='closeness400', distance='mm_len', weight='mm_len')"
   ]
  },
  {
   "cell_type": "code",
   "execution_count": 28,
   "metadata": {},
   "outputs": [
    {
     "name": "stdout",
     "output_type": "stream",
     "text": [
      "CPU times: user 2 µs, sys: 0 ns, total: 2 µs\n",
      "Wall time: 4.77 µs\n"
     ]
    }
   ],
   "source": [
    "%%time\n",
    "# primal = momepy.meshedness(primal, radius=400, distance=\"mm_len\")"
   ]
  },
  {
   "cell_type": "code",
   "execution_count": 29,
   "metadata": {},
   "outputs": [],
   "source": [
    "# %%time\n",
    "# primal = momepy.straightness_centrality(primal)"
   ]
  },
  {
   "cell_type": "code",
   "execution_count": 30,
   "metadata": {},
   "outputs": [],
   "source": [
    "# %%time\n",
    "# primal = momepy.closeness_centrality(primal, name='closeness_global', weight='mm_len')"
   ]
  },
  {
   "cell_type": "code",
   "execution_count": 31,
   "metadata": {},
   "outputs": [],
   "source": [
    "# %%time\n",
    "# primal =  momepy.betweenness_centrality(primal, name='betweenness_metric_n', mode='nodes', weight='mm_len', k=100)"
   ]
  },
  {
   "cell_type": "code",
   "execution_count": 32,
   "metadata": {},
   "outputs": [],
   "source": [
    "# %%time\n",
    "# primal = momepy.straightness_centrality(primal)\n",
    "# # momepy.mean_nodes(primal, 'straightness')\n",
    "# momepy.mean_nodes(primal, 'closeness400')\n",
    "# # momepy.mean_nodes(primal, 'closeness_global')\n",
    "# # momepy.mean_nodes(primal, 'betweenness_metric_n')\n",
    "\n",
    "# nodes, streets = momepy.nx_to_gdf(primal)"
   ]
  },
  {
   "cell_type": "code",
   "execution_count": 33,
   "metadata": {},
   "outputs": [],
   "source": [
    "cols = list(streets.columns)\n",
    "cols.remove('geometry')"
   ]
  },
  {
   "cell_type": "code",
   "execution_count": 34,
   "metadata": {},
   "outputs": [],
   "source": [
    "streets_dropped = streets.drop(cols,axis=1).reset_index(drop=True)"
   ]
  },
  {
   "cell_type": "code",
   "execution_count": 35,
   "metadata": {},
   "outputs": [],
   "source": [
    "buildings = buildings.set_crs(local_crs)"
   ]
  },
  {
   "cell_type": "code",
   "execution_count": 36,
   "metadata": {},
   "outputs": [],
   "source": [
    "# buildings=buildings.drop([\"index_right\"], axis=1)"
   ]
  },
  {
   "cell_type": "code",
   "execution_count": 37,
   "metadata": {},
   "outputs": [
    {
     "data": {
      "text/plain": [
       "Index(['uID', 'geometry', 'building_area', 'building_circular_compactness',\n",
       "       'building_elongation', 'building_squareness', 'building_eri',\n",
       "       'building_orientation', 'building_weighted_circom'],\n",
       "      dtype='object')"
      ]
     },
     "execution_count": 37,
     "metadata": {},
     "output_type": "execute_result"
    }
   ],
   "source": [
    "buildings.columns"
   ]
  },
  {
   "cell_type": "code",
   "execution_count": 38,
   "metadata": {},
   "outputs": [
    {
     "name": "stdout",
     "output_type": "stream",
     "text": [
      "There are no rows with duplicate uids.\n"
     ]
    }
   ],
   "source": [
    "buildings = gpd.sjoin_nearest(left_df=buildings, right_df=streets_dropped, how='left', max_distance=1000).drop_duplicates(subset=['geometry'])\n",
    "duplicates = buildings[buildings.duplicated(['uID'], keep=False)]\n",
    "if len(duplicates) > 0:\n",
    "    print(f\"There are {len(duplicates)} rows with duplicate uids.\")\n",
    "    print(duplicates)\n",
    "else:\n",
    "    print(\"There are no rows with duplicate uids.\")\n"
   ]
  },
  {
   "cell_type": "code",
   "execution_count": 39,
   "metadata": {},
   "outputs": [],
   "source": [
    "buildings = buildings.dropna(subset=['geometry'])\n",
    "tessellation = tessellation.dropna(subset=['geometry'])"
   ]
  },
  {
   "cell_type": "code",
   "execution_count": 40,
   "metadata": {},
   "outputs": [],
   "source": [
    "streets.reset_index(drop=True, inplace=True)"
   ]
  },
  {
   "cell_type": "code",
   "execution_count": 41,
   "metadata": {},
   "outputs": [],
   "source": [
    "streets[\"nID\"]= streets.index"
   ]
  },
  {
   "cell_type": "code",
   "execution_count": 42,
   "metadata": {},
   "outputs": [],
   "source": [
    "buildings.drop(columns=['index_right'], inplace=True)"
   ]
  },
  {
   "cell_type": "code",
   "execution_count": 43,
   "metadata": {},
   "outputs": [],
   "source": [
    "streets[\"nID\"]= streets.index\n",
    "buildings =  gpd.sjoin_nearest(buildings, streets, how=\"left\", max_distance=1000)"
   ]
  },
  {
   "cell_type": "code",
   "execution_count": 44,
   "metadata": {},
   "outputs": [
    {
     "name": "stderr",
     "output_type": "stream",
     "text": [
      "/home/virgilxw/miniconda3/lib/python3.10/site-packages/momepy/distribution.py:84: ShapelyDeprecationWarning: The 'type' attribute is deprecated, and will be removed in the future. You can use the 'geom_type' attribute instead.\n",
      "  elif geom.type in [\"LineString\", \"MultiLineString\"]:\n"
     ]
    }
   ],
   "source": [
    "buildings[\"building_str_align\"] = momepy.StreetAlignment(buildings, streets,\n",
    "                                   'building_orientation', 'nID',\n",
    "                                   'nID').series"
   ]
  },
  {
   "cell_type": "code",
   "execution_count": 45,
   "metadata": {},
   "outputs": [
    {
     "data": {
      "text/plain": [
       "0         22.042835\n",
       "0          7.114630\n",
       "1         24.190966\n",
       "1          4.966499\n",
       "2         36.887659\n",
       "            ...    \n",
       "227359    26.220792\n",
       "227360    27.729728\n",
       "227361    30.450673\n",
       "227362     2.773757\n",
       "227363     0.689828\n",
       "Name: building_str_align, Length: 247605, dtype: float64"
      ]
     },
     "execution_count": 45,
     "metadata": {},
     "output_type": "execute_result"
    }
   ],
   "source": [
    "buildings[\"building_str_align\"]"
   ]
  },
  {
   "cell_type": "code",
   "execution_count": 46,
   "metadata": {},
   "outputs": [],
   "source": [
    "blg_cell_align = momepy.CellAlignment(buildings, tessellation,\n",
    "                                      'building_orientation', 'tess_orientation',\n",
    "                                      'uID', 'uID')\n",
    "buildings['building_cell_align'] = blg_cell_align.series"
   ]
  },
  {
   "cell_type": "code",
   "execution_count": 47,
   "metadata": {},
   "outputs": [
    {
     "data": {
      "text/plain": [
       "0         19.890222\n",
       "0         19.890222\n",
       "1         25.848451\n",
       "1         25.848451\n",
       "2         18.477654\n",
       "            ...    \n",
       "227359     8.595352\n",
       "227360    29.870404\n",
       "227361     4.519630\n",
       "227362    14.137398\n",
       "227363    21.842173\n",
       "Name: building_cell_align, Length: 247605, dtype: float64"
      ]
     },
     "execution_count": 47,
     "metadata": {},
     "output_type": "execute_result"
    }
   ],
   "source": [
    "buildings['building_cell_align']"
   ]
  },
  {
   "cell_type": "code",
   "execution_count": 48,
   "metadata": {},
   "outputs": [],
   "source": [
    "tessellation['tess_car'] = momepy.AreaRatio(tessellation, buildings, 'tess_area', 'building_area', 'uID').series"
   ]
  },
  {
   "cell_type": "code",
   "execution_count": 49,
   "metadata": {},
   "outputs": [],
   "source": [
    "nodes = gpd.read_parquet(f\"./out/{place}/vertices_frame.pq\")\n",
    "edges = gpd.read_parquet(f\"./out/{place}/edges_frame.pq\")\n",
    "dual = gpd.read_parquet(f\"./out/{place}/dual_vertices_frame.pq\")"
   ]
  },
  {
   "cell_type": "code",
   "execution_count": 50,
   "metadata": {},
   "outputs": [],
   "source": [
    "buildings = buildings.drop([\"nID\", \"index_right\", \"nID\"], axis=1)\n",
    "nodes = nodes.drop([\"vertID\"], axis=1)\n",
    "edges = edges.drop(\"edgeID\", axis=1)"
   ]
  },
  {
   "cell_type": "code",
   "execution_count": 51,
   "metadata": {},
   "outputs": [
    {
     "name": "stdout",
     "output_type": "stream",
     "text": [
      "There are no rows with duplicate uids.\n"
     ]
    }
   ],
   "source": [
    "buildings = gpd.sjoin_nearest(left_df=buildings, right_df=nodes, how='left', max_distance=1000).drop_duplicates(subset=['geometry'])\n",
    "duplicates = buildings[buildings.duplicated(['uID'], keep=False)]\n",
    "if len(duplicates) > 0:\n",
    "    print(f\"There are {len(duplicates)} rows with duplicate uids.\")\n",
    "    print(duplicates)\n",
    "else:\n",
    "    print(\"There are no rows with duplicate uids.\")\n"
   ]
  },
  {
   "cell_type": "code",
   "execution_count": 52,
   "metadata": {},
   "outputs": [
    {
     "name": "stdout",
     "output_type": "stream",
     "text": [
      "There are no rows with duplicate uids.\n"
     ]
    }
   ],
   "source": [
    "buildings = buildings.drop(\"index_right\", axis=1)\n",
    "buildings = gpd.sjoin_nearest(left_df=buildings, right_df=edges, how='left', max_distance=1000).drop_duplicates(subset=['geometry'])\n",
    "duplicates = buildings[buildings.duplicated(['uID'], keep=False)]\n",
    "if len(duplicates) > 0:\n",
    "    print(f\"There are {len(duplicates)} rows with duplicate uids.\")\n",
    "    print(duplicates)\n",
    "else:\n",
    "    print(\"There are no rows with duplicate uids.\")\n"
   ]
  },
  {
   "cell_type": "code",
   "execution_count": 53,
   "metadata": {},
   "outputs": [
    {
     "name": "stdout",
     "output_type": "stream",
     "text": [
      "There are no rows with duplicate uids.\n"
     ]
    }
   ],
   "source": [
    "buildings = buildings.drop(\"index_right\", axis=1)\n",
    "buildings = gpd.sjoin_nearest(left_df=buildings, right_df=dual, how='left', max_distance=1000).drop_duplicates(subset=['geometry'])\n",
    "duplicates = buildings[buildings.duplicated(['uID'], keep=False)]\n",
    "if len(duplicates) > 0:\n",
    "    print(f\"There are {len(duplicates)} rows with duplicate uids.\")\n",
    "    print(duplicates)\n",
    "else:\n",
    "    print(\"There are no rows with duplicate uids.\")\n"
   ]
  },
  {
   "cell_type": "code",
   "execution_count": 54,
   "metadata": {},
   "outputs": [],
   "source": [
    "tessellation = tessellation.merge(buildings, how='left', left_on = \"uID\", right_on=\"uID\" )"
   ]
  },
  {
   "cell_type": "code",
   "execution_count": 55,
   "metadata": {},
   "outputs": [],
   "source": [
    "tessellation = tessellation.drop([\"geometry_y\", \"index_right\"], axis=1)\n",
    "tessellation = tessellation.rename(columns={\"geometry_x\": \"geometry\"})\n",
    "tessellation = gpd.GeoDataFrame(tessellation.dropna(subset=['geometry']))"
   ]
  },
  {
   "cell_type": "code",
   "execution_count": 56,
   "metadata": {},
   "outputs": [],
   "source": [
    "with open(f\"./out/{place}/weights.pickle\", 'wb') as f:\n",
    "    pickle.dump(queen_1, f)\n",
    "    pickle.dump(queen_3, f)\n",
    "    pickle.dump(dist200, f)\n",
    "    f.close()"
   ]
  },
  {
   "cell_type": "code",
   "execution_count": 57,
   "metadata": {},
   "outputs": [],
   "source": [
    "tessellation.columns=tessellation.columns.astype(str)"
   ]
  },
  {
   "cell_type": "code",
   "execution_count": 58,
   "metadata": {},
   "outputs": [
    {
     "data": {
      "text/html": [
       "<div>\n",
       "<style scoped>\n",
       "    .dataframe tbody tr th:only-of-type {\n",
       "        vertical-align: middle;\n",
       "    }\n",
       "\n",
       "    .dataframe tbody tr th {\n",
       "        vertical-align: top;\n",
       "    }\n",
       "\n",
       "    .dataframe thead th {\n",
       "        text-align: right;\n",
       "    }\n",
       "</style>\n",
       "<table border=\"1\" class=\"dataframe\">\n",
       "  <thead>\n",
       "    <tr style=\"text-align: right;\">\n",
       "      <th></th>\n",
       "      <th>uID</th>\n",
       "      <th>geometry</th>\n",
       "      <th>tess_area</th>\n",
       "      <th>tess_convexity</th>\n",
       "      <th>tess_neighbours</th>\n",
       "      <th>tess_neighbours_200</th>\n",
       "      <th>tess_covered_area</th>\n",
       "      <th>tess_area_iqr</th>\n",
       "      <th>tess_rea_theil</th>\n",
       "      <th>tess_orientation</th>\n",
       "      <th>...</th>\n",
       "      <th>closeness</th>\n",
       "      <th>global_closeness_centrality</th>\n",
       "      <th>global_clustering_400m</th>\n",
       "      <th>eigenvector</th>\n",
       "      <th>node_centrality_400m</th>\n",
       "      <th>node_meshedness_400m</th>\n",
       "      <th>betweeness_centrality_edge</th>\n",
       "      <th>dual_global_closeness_centrality</th>\n",
       "      <th>dual_global_angular_betweeness</th>\n",
       "      <th>dual_local_angular_closeness</th>\n",
       "    </tr>\n",
       "  </thead>\n",
       "  <tbody>\n",
       "    <tr>\n",
       "      <th>0</th>\n",
       "      <td>0</td>\n",
       "      <td>POLYGON ((1400616.533 4972737.288, 1400525.996...</td>\n",
       "      <td>136749.119016</td>\n",
       "      <td>0.997752</td>\n",
       "      <td>0.071830</td>\n",
       "      <td>0.005177</td>\n",
       "      <td>422398.715896</td>\n",
       "      <td>17261.794696</td>\n",
       "      <td>0.998689</td>\n",
       "      <td>31.400542</td>\n",
       "      <td>...</td>\n",
       "      <td>0.101518</td>\n",
       "      <td>0.000034</td>\n",
       "      <td>0.100000</td>\n",
       "      <td>95849.0</td>\n",
       "      <td>19.0</td>\n",
       "      <td>0.085714</td>\n",
       "      <td>0.000037</td>\n",
       "      <td>0.000450</td>\n",
       "      <td>0.000232</td>\n",
       "      <td>0.500000</td>\n",
       "    </tr>\n",
       "    <tr>\n",
       "      <th>1</th>\n",
       "      <td>1</td>\n",
       "      <td>POLYGON ((1400917.915 4973182.230, 1400917.485...</td>\n",
       "      <td>17210.981777</td>\n",
       "      <td>0.975233</td>\n",
       "      <td>0.097511</td>\n",
       "      <td>0.013450</td>\n",
       "      <td>215861.503546</td>\n",
       "      <td>34113.505629</td>\n",
       "      <td>0.823051</td>\n",
       "      <td>35.210640</td>\n",
       "      <td>...</td>\n",
       "      <td>0.101518</td>\n",
       "      <td>0.000034</td>\n",
       "      <td>0.100000</td>\n",
       "      <td>95849.0</td>\n",
       "      <td>19.0</td>\n",
       "      <td>0.085714</td>\n",
       "      <td>0.000037</td>\n",
       "      <td>0.000450</td>\n",
       "      <td>0.000232</td>\n",
       "      <td>0.500000</td>\n",
       "    </tr>\n",
       "    <tr>\n",
       "      <th>2</th>\n",
       "      <td>2</td>\n",
       "      <td>POLYGON ((1400742.906 4973648.851, 1400742.538...</td>\n",
       "      <td>6320.734947</td>\n",
       "      <td>0.950241</td>\n",
       "      <td>0.167899</td>\n",
       "      <td>0.061484</td>\n",
       "      <td>91544.517624</td>\n",
       "      <td>23070.754633</td>\n",
       "      <td>1.059120</td>\n",
       "      <td>24.742012</td>\n",
       "      <td>...</td>\n",
       "      <td>0.127758</td>\n",
       "      <td>0.000034</td>\n",
       "      <td>0.000000</td>\n",
       "      <td>88759.0</td>\n",
       "      <td>9.0</td>\n",
       "      <td>0.000000</td>\n",
       "      <td>0.000197</td>\n",
       "      <td>0.000478</td>\n",
       "      <td>0.000410</td>\n",
       "      <td>0.500000</td>\n",
       "    </tr>\n",
       "    <tr>\n",
       "      <th>3</th>\n",
       "      <td>3</td>\n",
       "      <td>POLYGON ((1400728.379 4973717.979, 1400728.029...</td>\n",
       "      <td>912.566985</td>\n",
       "      <td>0.840390</td>\n",
       "      <td>0.426767</td>\n",
       "      <td>0.224234</td>\n",
       "      <td>78144.108710</td>\n",
       "      <td>26702.734197</td>\n",
       "      <td>1.050709</td>\n",
       "      <td>14.097888</td>\n",
       "      <td>...</td>\n",
       "      <td>0.000000</td>\n",
       "      <td>0.000035</td>\n",
       "      <td>0.000000</td>\n",
       "      <td>18703.0</td>\n",
       "      <td>3.0</td>\n",
       "      <td>0.000000</td>\n",
       "      <td>0.000197</td>\n",
       "      <td>0.000478</td>\n",
       "      <td>0.000410</td>\n",
       "      <td>0.500000</td>\n",
       "    </tr>\n",
       "    <tr>\n",
       "      <th>4</th>\n",
       "      <td>4</td>\n",
       "      <td>POLYGON ((1401244.156 4973084.835, 1401244.426...</td>\n",
       "      <td>4168.070217</td>\n",
       "      <td>0.996454</td>\n",
       "      <td>0.089570</td>\n",
       "      <td>0.019194</td>\n",
       "      <td>154705.660138</td>\n",
       "      <td>51670.774742</td>\n",
       "      <td>0.839969</td>\n",
       "      <td>2.233811</td>\n",
       "      <td>...</td>\n",
       "      <td>0.101518</td>\n",
       "      <td>0.000034</td>\n",
       "      <td>0.100000</td>\n",
       "      <td>95849.0</td>\n",
       "      <td>19.0</td>\n",
       "      <td>0.085714</td>\n",
       "      <td>0.000037</td>\n",
       "      <td>0.000450</td>\n",
       "      <td>0.000232</td>\n",
       "      <td>0.500000</td>\n",
       "    </tr>\n",
       "    <tr>\n",
       "      <th>...</th>\n",
       "      <td>...</td>\n",
       "      <td>...</td>\n",
       "      <td>...</td>\n",
       "      <td>...</td>\n",
       "      <td>...</td>\n",
       "      <td>...</td>\n",
       "      <td>...</td>\n",
       "      <td>...</td>\n",
       "      <td>...</td>\n",
       "      <td>...</td>\n",
       "      <td>...</td>\n",
       "      <td>...</td>\n",
       "      <td>...</td>\n",
       "      <td>...</td>\n",
       "      <td>...</td>\n",
       "      <td>...</td>\n",
       "      <td>...</td>\n",
       "      <td>...</td>\n",
       "      <td>...</td>\n",
       "      <td>...</td>\n",
       "      <td>...</td>\n",
       "    </tr>\n",
       "    <tr>\n",
       "      <th>227359</th>\n",
       "      <td>227359</td>\n",
       "      <td>POLYGON ((1402878.578 5013534.417, 1402878.327...</td>\n",
       "      <td>5121.416289</td>\n",
       "      <td>0.906032</td>\n",
       "      <td>0.141486</td>\n",
       "      <td>0.040425</td>\n",
       "      <td>25989.267403</td>\n",
       "      <td>1825.758685</td>\n",
       "      <td>0.289019</td>\n",
       "      <td>13.639079</td>\n",
       "      <td>...</td>\n",
       "      <td>0.000000</td>\n",
       "      <td>0.000029</td>\n",
       "      <td>0.083333</td>\n",
       "      <td>126011.0</td>\n",
       "      <td>26.0</td>\n",
       "      <td>0.040816</td>\n",
       "      <td>0.000989</td>\n",
       "      <td>0.000616</td>\n",
       "      <td>0.001090</td>\n",
       "      <td>0.333333</td>\n",
       "    </tr>\n",
       "    <tr>\n",
       "      <th>227360</th>\n",
       "      <td>227360</td>\n",
       "      <td>POLYGON ((1402700.123 5013544.269, 1402700.432...</td>\n",
       "      <td>4066.030622</td>\n",
       "      <td>0.905363</td>\n",
       "      <td>0.081193</td>\n",
       "      <td>0.038832</td>\n",
       "      <td>21455.243599</td>\n",
       "      <td>2468.355493</td>\n",
       "      <td>0.265126</td>\n",
       "      <td>33.405195</td>\n",
       "      <td>...</td>\n",
       "      <td>0.000000</td>\n",
       "      <td>0.000029</td>\n",
       "      <td>0.083333</td>\n",
       "      <td>126011.0</td>\n",
       "      <td>26.0</td>\n",
       "      <td>0.040816</td>\n",
       "      <td>0.000989</td>\n",
       "      <td>0.000616</td>\n",
       "      <td>0.001090</td>\n",
       "      <td>0.333333</td>\n",
       "    </tr>\n",
       "    <tr>\n",
       "      <th>227361</th>\n",
       "      <td>227361</td>\n",
       "      <td>POLYGON ((1402906.563 5013603.757, 1402905.617...</td>\n",
       "      <td>1636.690767</td>\n",
       "      <td>0.946027</td>\n",
       "      <td>0.169054</td>\n",
       "      <td>0.068874</td>\n",
       "      <td>8493.167555</td>\n",
       "      <td>2213.880196</td>\n",
       "      <td>0.313953</td>\n",
       "      <td>5.333477</td>\n",
       "      <td>...</td>\n",
       "      <td>0.000000</td>\n",
       "      <td>0.000029</td>\n",
       "      <td>0.083333</td>\n",
       "      <td>126011.0</td>\n",
       "      <td>26.0</td>\n",
       "      <td>0.040816</td>\n",
       "      <td>0.000989</td>\n",
       "      <td>0.000616</td>\n",
       "      <td>0.001090</td>\n",
       "      <td>0.333333</td>\n",
       "    </tr>\n",
       "    <tr>\n",
       "      <th>227362</th>\n",
       "      <td>227362</td>\n",
       "      <td>POLYGON ((1402734.802 5013612.807, 1402734.686...</td>\n",
       "      <td>1790.537362</td>\n",
       "      <td>0.956664</td>\n",
       "      <td>0.107302</td>\n",
       "      <td>0.065573</td>\n",
       "      <td>10045.560816</td>\n",
       "      <td>2541.380709</td>\n",
       "      <td>0.253389</td>\n",
       "      <td>14.353364</td>\n",
       "      <td>...</td>\n",
       "      <td>0.000000</td>\n",
       "      <td>0.000029</td>\n",
       "      <td>0.083333</td>\n",
       "      <td>126011.0</td>\n",
       "      <td>26.0</td>\n",
       "      <td>0.040816</td>\n",
       "      <td>0.000989</td>\n",
       "      <td>0.000616</td>\n",
       "      <td>0.001090</td>\n",
       "      <td>0.333333</td>\n",
       "    </tr>\n",
       "    <tr>\n",
       "      <th>227363</th>\n",
       "      <td>227363</td>\n",
       "      <td>POLYGON ((1402756.813 5013621.291, 1402756.700...</td>\n",
       "      <td>4188.992831</td>\n",
       "      <td>0.922265</td>\n",
       "      <td>0.114646</td>\n",
       "      <td>0.000000</td>\n",
       "      <td>18043.111207</td>\n",
       "      <td>2051.499507</td>\n",
       "      <td>0.304735</td>\n",
       "      <td>4.414737</td>\n",
       "      <td>...</td>\n",
       "      <td>0.052546</td>\n",
       "      <td>0.000029</td>\n",
       "      <td>0.000000</td>\n",
       "      <td>125993.0</td>\n",
       "      <td>27.0</td>\n",
       "      <td>0.000000</td>\n",
       "      <td>0.000160</td>\n",
       "      <td>0.000540</td>\n",
       "      <td>0.000133</td>\n",
       "      <td>0.500000</td>\n",
       "    </tr>\n",
       "  </tbody>\n",
       "</table>\n",
       "<p>227364 rows × 39 columns</p>\n",
       "</div>"
      ],
      "text/plain": [
       "           uID                                           geometry  \\\n",
       "0            0  POLYGON ((1400616.533 4972737.288, 1400525.996...   \n",
       "1            1  POLYGON ((1400917.915 4973182.230, 1400917.485...   \n",
       "2            2  POLYGON ((1400742.906 4973648.851, 1400742.538...   \n",
       "3            3  POLYGON ((1400728.379 4973717.979, 1400728.029...   \n",
       "4            4  POLYGON ((1401244.156 4973084.835, 1401244.426...   \n",
       "...        ...                                                ...   \n",
       "227359  227359  POLYGON ((1402878.578 5013534.417, 1402878.327...   \n",
       "227360  227360  POLYGON ((1402700.123 5013544.269, 1402700.432...   \n",
       "227361  227361  POLYGON ((1402906.563 5013603.757, 1402905.617...   \n",
       "227362  227362  POLYGON ((1402734.802 5013612.807, 1402734.686...   \n",
       "227363  227363  POLYGON ((1402756.813 5013621.291, 1402756.700...   \n",
       "\n",
       "            tess_area  tess_convexity  tess_neighbours  tess_neighbours_200  \\\n",
       "0       136749.119016        0.997752         0.071830             0.005177   \n",
       "1        17210.981777        0.975233         0.097511             0.013450   \n",
       "2         6320.734947        0.950241         0.167899             0.061484   \n",
       "3          912.566985        0.840390         0.426767             0.224234   \n",
       "4         4168.070217        0.996454         0.089570             0.019194   \n",
       "...               ...             ...              ...                  ...   \n",
       "227359    5121.416289        0.906032         0.141486             0.040425   \n",
       "227360    4066.030622        0.905363         0.081193             0.038832   \n",
       "227361    1636.690767        0.946027         0.169054             0.068874   \n",
       "227362    1790.537362        0.956664         0.107302             0.065573   \n",
       "227363    4188.992831        0.922265         0.114646             0.000000   \n",
       "\n",
       "        tess_covered_area  tess_area_iqr  tess_rea_theil  tess_orientation  \\\n",
       "0           422398.715896   17261.794696        0.998689         31.400542   \n",
       "1           215861.503546   34113.505629        0.823051         35.210640   \n",
       "2            91544.517624   23070.754633        1.059120         24.742012   \n",
       "3            78144.108710   26702.734197        1.050709         14.097888   \n",
       "4           154705.660138   51670.774742        0.839969          2.233811   \n",
       "...                   ...            ...             ...               ...   \n",
       "227359       25989.267403    1825.758685        0.289019         13.639079   \n",
       "227360       21455.243599    2468.355493        0.265126         33.405195   \n",
       "227361        8493.167555    2213.880196        0.313953          5.333477   \n",
       "227362       10045.560816    2541.380709        0.253389         14.353364   \n",
       "227363       18043.111207    2051.499507        0.304735          4.414737   \n",
       "\n",
       "        ...  closeness  global_closeness_centrality  global_clustering_400m  \\\n",
       "0       ...   0.101518                     0.000034                0.100000   \n",
       "1       ...   0.101518                     0.000034                0.100000   \n",
       "2       ...   0.127758                     0.000034                0.000000   \n",
       "3       ...   0.000000                     0.000035                0.000000   \n",
       "4       ...   0.101518                     0.000034                0.100000   \n",
       "...     ...        ...                          ...                     ...   \n",
       "227359  ...   0.000000                     0.000029                0.083333   \n",
       "227360  ...   0.000000                     0.000029                0.083333   \n",
       "227361  ...   0.000000                     0.000029                0.083333   \n",
       "227362  ...   0.000000                     0.000029                0.083333   \n",
       "227363  ...   0.052546                     0.000029                0.000000   \n",
       "\n",
       "        eigenvector  node_centrality_400m  node_meshedness_400m  \\\n",
       "0           95849.0                  19.0              0.085714   \n",
       "1           95849.0                  19.0              0.085714   \n",
       "2           88759.0                   9.0              0.000000   \n",
       "3           18703.0                   3.0              0.000000   \n",
       "4           95849.0                  19.0              0.085714   \n",
       "...             ...                   ...                   ...   \n",
       "227359     126011.0                  26.0              0.040816   \n",
       "227360     126011.0                  26.0              0.040816   \n",
       "227361     126011.0                  26.0              0.040816   \n",
       "227362     126011.0                  26.0              0.040816   \n",
       "227363     125993.0                  27.0              0.000000   \n",
       "\n",
       "        betweeness_centrality_edge  dual_global_closeness_centrality  \\\n",
       "0                         0.000037                          0.000450   \n",
       "1                         0.000037                          0.000450   \n",
       "2                         0.000197                          0.000478   \n",
       "3                         0.000197                          0.000478   \n",
       "4                         0.000037                          0.000450   \n",
       "...                            ...                               ...   \n",
       "227359                    0.000989                          0.000616   \n",
       "227360                    0.000989                          0.000616   \n",
       "227361                    0.000989                          0.000616   \n",
       "227362                    0.000989                          0.000616   \n",
       "227363                    0.000160                          0.000540   \n",
       "\n",
       "        dual_global_angular_betweeness  dual_local_angular_closeness  \n",
       "0                             0.000232                      0.500000  \n",
       "1                             0.000232                      0.500000  \n",
       "2                             0.000410                      0.500000  \n",
       "3                             0.000410                      0.500000  \n",
       "4                             0.000232                      0.500000  \n",
       "...                                ...                           ...  \n",
       "227359                        0.001090                      0.333333  \n",
       "227360                        0.001090                      0.333333  \n",
       "227361                        0.001090                      0.333333  \n",
       "227362                        0.001090                      0.333333  \n",
       "227363                        0.000133                      0.500000  \n",
       "\n",
       "[227364 rows x 39 columns]"
      ]
     },
     "execution_count": 58,
     "metadata": {},
     "output_type": "execute_result"
    }
   ],
   "source": [
    "tessellation"
   ]
  },
  {
   "cell_type": "code",
   "execution_count": 59,
   "metadata": {},
   "outputs": [
    {
     "data": {
      "text/html": [
       "<div>\n",
       "<style scoped>\n",
       "    .dataframe tbody tr th:only-of-type {\n",
       "        vertical-align: middle;\n",
       "    }\n",
       "\n",
       "    .dataframe tbody tr th {\n",
       "        vertical-align: top;\n",
       "    }\n",
       "\n",
       "    .dataframe thead th {\n",
       "        text-align: right;\n",
       "    }\n",
       "</style>\n",
       "<table border=\"1\" class=\"dataframe\">\n",
       "  <thead>\n",
       "    <tr style=\"text-align: right;\">\n",
       "      <th></th>\n",
       "      <th>uID</th>\n",
       "      <th>tess_area</th>\n",
       "      <th>tess_convexity</th>\n",
       "      <th>tess_neighbours</th>\n",
       "      <th>tess_neighbours_200</th>\n",
       "      <th>tess_covered_area</th>\n",
       "      <th>tess_area_iqr</th>\n",
       "      <th>tess_rea_theil</th>\n",
       "      <th>tess_orientation</th>\n",
       "      <th>building_neighbour_dist</th>\n",
       "      <th>...</th>\n",
       "      <th>closeness</th>\n",
       "      <th>global_closeness_centrality</th>\n",
       "      <th>global_clustering_400m</th>\n",
       "      <th>eigenvector</th>\n",
       "      <th>node_centrality_400m</th>\n",
       "      <th>node_meshedness_400m</th>\n",
       "      <th>betweeness_centrality_edge</th>\n",
       "      <th>dual_global_closeness_centrality</th>\n",
       "      <th>dual_global_angular_betweeness</th>\n",
       "      <th>dual_local_angular_closeness</th>\n",
       "    </tr>\n",
       "  </thead>\n",
       "  <tbody>\n",
       "    <tr>\n",
       "      <th>count</th>\n",
       "      <td>227364.000000</td>\n",
       "      <td>2.273640e+05</td>\n",
       "      <td>227364.000000</td>\n",
       "      <td>227364.000000</td>\n",
       "      <td>227364.000000</td>\n",
       "      <td>2.273640e+05</td>\n",
       "      <td>2.273640e+05</td>\n",
       "      <td>227364.000000</td>\n",
       "      <td>227364.000000</td>\n",
       "      <td>227355.000000</td>\n",
       "      <td>...</td>\n",
       "      <td>225144.000000</td>\n",
       "      <td>225144.000000</td>\n",
       "      <td>224751.000000</td>\n",
       "      <td>225144.000000</td>\n",
       "      <td>225144.000000</td>\n",
       "      <td>225144.000000</td>\n",
       "      <td>225145.000000</td>\n",
       "      <td>225145.000000</td>\n",
       "      <td>225145.000000</td>\n",
       "      <td>2.251450e+05</td>\n",
       "    </tr>\n",
       "    <tr>\n",
       "      <th>mean</th>\n",
       "      <td>113681.500000</td>\n",
       "      <td>7.268414e+03</td>\n",
       "      <td>0.931599</td>\n",
       "      <td>0.369194</td>\n",
       "      <td>0.421145</td>\n",
       "      <td>6.812367e+04</td>\n",
       "      <td>8.735412e+03</td>\n",
       "      <td>0.703965</td>\n",
       "      <td>21.148613</td>\n",
       "      <td>840.041176</td>\n",
       "      <td>...</td>\n",
       "      <td>0.026563</td>\n",
       "      <td>0.000045</td>\n",
       "      <td>0.029988</td>\n",
       "      <td>82434.239469</td>\n",
       "      <td>54.633763</td>\n",
       "      <td>0.038088</td>\n",
       "      <td>0.002514</td>\n",
       "      <td>0.000510</td>\n",
       "      <td>0.001676</td>\n",
       "      <td>inf</td>\n",
       "    </tr>\n",
       "    <tr>\n",
       "      <th>std</th>\n",
       "      <td>65634.477639</td>\n",
       "      <td>3.224478e+04</td>\n",
       "      <td>0.076603</td>\n",
       "      <td>0.266403</td>\n",
       "      <td>0.496367</td>\n",
       "      <td>1.918101e+05</td>\n",
       "      <td>1.703136e+04</td>\n",
       "      <td>0.384016</td>\n",
       "      <td>12.966418</td>\n",
       "      <td>1194.965233</td>\n",
       "      <td>...</td>\n",
       "      <td>0.050859</td>\n",
       "      <td>0.000009</td>\n",
       "      <td>0.053986</td>\n",
       "      <td>47167.923632</td>\n",
       "      <td>35.163355</td>\n",
       "      <td>0.049341</td>\n",
       "      <td>0.007659</td>\n",
       "      <td>0.000132</td>\n",
       "      <td>0.007733</td>\n",
       "      <td>NaN</td>\n",
       "    </tr>\n",
       "    <tr>\n",
       "      <th>min</th>\n",
       "      <td>0.000000</td>\n",
       "      <td>2.142714e+00</td>\n",
       "      <td>0.041493</td>\n",
       "      <td>0.000000</td>\n",
       "      <td>0.000000</td>\n",
       "      <td>6.811318e+02</td>\n",
       "      <td>0.000000e+00</td>\n",
       "      <td>0.000000</td>\n",
       "      <td>0.000066</td>\n",
       "      <td>0.000000</td>\n",
       "      <td>...</td>\n",
       "      <td>0.000000</td>\n",
       "      <td>0.000025</td>\n",
       "      <td>0.000000</td>\n",
       "      <td>18.000000</td>\n",
       "      <td>0.000000</td>\n",
       "      <td>-1.000000</td>\n",
       "      <td>0.000000</td>\n",
       "      <td>0.000000</td>\n",
       "      <td>0.000000</td>\n",
       "      <td>1.111111e-01</td>\n",
       "    </tr>\n",
       "    <tr>\n",
       "      <th>25%</th>\n",
       "      <td>56840.750000</td>\n",
       "      <td>6.720842e+02</td>\n",
       "      <td>0.909484</td>\n",
       "      <td>0.186258</td>\n",
       "      <td>0.107012</td>\n",
       "      <td>1.085425e+04</td>\n",
       "      <td>1.483329e+03</td>\n",
       "      <td>0.428434</td>\n",
       "      <td>9.808749</td>\n",
       "      <td>209.218398</td>\n",
       "      <td>...</td>\n",
       "      <td>0.000000</td>\n",
       "      <td>0.000037</td>\n",
       "      <td>0.000000</td>\n",
       "      <td>42730.000000</td>\n",
       "      <td>27.000000</td>\n",
       "      <td>0.000000</td>\n",
       "      <td>0.000014</td>\n",
       "      <td>0.000413</td>\n",
       "      <td>0.000010</td>\n",
       "      <td>3.333333e-01</td>\n",
       "    </tr>\n",
       "    <tr>\n",
       "      <th>50%</th>\n",
       "      <td>113681.500000</td>\n",
       "      <td>1.495396e+03</td>\n",
       "      <td>0.955173</td>\n",
       "      <td>0.316162</td>\n",
       "      <td>0.261405</td>\n",
       "      <td>2.186303e+04</td>\n",
       "      <td>3.354528e+03</td>\n",
       "      <td>0.620288</td>\n",
       "      <td>20.572789</td>\n",
       "      <td>441.803763</td>\n",
       "      <td>...</td>\n",
       "      <td>0.018844</td>\n",
       "      <td>0.000044</td>\n",
       "      <td>0.000000</td>\n",
       "      <td>82431.500000</td>\n",
       "      <td>48.000000</td>\n",
       "      <td>0.020101</td>\n",
       "      <td>0.000109</td>\n",
       "      <td>0.000516</td>\n",
       "      <td>0.000067</td>\n",
       "      <td>5.000000e-01</td>\n",
       "    </tr>\n",
       "    <tr>\n",
       "      <th>75%</th>\n",
       "      <td>170522.250000</td>\n",
       "      <td>4.242576e+03</td>\n",
       "      <td>0.981646</td>\n",
       "      <td>0.475221</td>\n",
       "      <td>0.557136</td>\n",
       "      <td>5.566613e+04</td>\n",
       "      <td>8.831925e+03</td>\n",
       "      <td>0.900362</td>\n",
       "      <td>32.011027</td>\n",
       "      <td>993.406296</td>\n",
       "      <td>...</td>\n",
       "      <td>0.033219</td>\n",
       "      <td>0.000052</td>\n",
       "      <td>0.043478</td>\n",
       "      <td>122734.000000</td>\n",
       "      <td>76.000000</td>\n",
       "      <td>0.061674</td>\n",
       "      <td>0.000892</td>\n",
       "      <td>0.000612</td>\n",
       "      <td>0.000405</td>\n",
       "      <td>5.000000e-01</td>\n",
       "    </tr>\n",
       "    <tr>\n",
       "      <th>max</th>\n",
       "      <td>227363.000000</td>\n",
       "      <td>3.430259e+06</td>\n",
       "      <td>1.000000</td>\n",
       "      <td>6.724994</td>\n",
       "      <td>12.549223</td>\n",
       "      <td>1.833719e+07</td>\n",
       "      <td>1.172789e+06</td>\n",
       "      <td>3.676952</td>\n",
       "      <td>44.999580</td>\n",
       "      <td>30043.315717</td>\n",
       "      <td>...</td>\n",
       "      <td>2.617119</td>\n",
       "      <td>0.000064</td>\n",
       "      <td>1.000000</td>\n",
       "      <td>180352.000000</td>\n",
       "      <td>291.000000</td>\n",
       "      <td>1.000000</td>\n",
       "      <td>0.127262</td>\n",
       "      <td>0.000815</td>\n",
       "      <td>0.236383</td>\n",
       "      <td>inf</td>\n",
       "    </tr>\n",
       "  </tbody>\n",
       "</table>\n",
       "<p>8 rows × 38 columns</p>\n",
       "</div>"
      ],
      "text/plain": [
       "                 uID     tess_area  tess_convexity  tess_neighbours  \\\n",
       "count  227364.000000  2.273640e+05   227364.000000    227364.000000   \n",
       "mean   113681.500000  7.268414e+03        0.931599         0.369194   \n",
       "std     65634.477639  3.224478e+04        0.076603         0.266403   \n",
       "min         0.000000  2.142714e+00        0.041493         0.000000   \n",
       "25%     56840.750000  6.720842e+02        0.909484         0.186258   \n",
       "50%    113681.500000  1.495396e+03        0.955173         0.316162   \n",
       "75%    170522.250000  4.242576e+03        0.981646         0.475221   \n",
       "max    227363.000000  3.430259e+06        1.000000         6.724994   \n",
       "\n",
       "       tess_neighbours_200  tess_covered_area  tess_area_iqr  tess_rea_theil  \\\n",
       "count        227364.000000       2.273640e+05   2.273640e+05   227364.000000   \n",
       "mean              0.421145       6.812367e+04   8.735412e+03        0.703965   \n",
       "std               0.496367       1.918101e+05   1.703136e+04        0.384016   \n",
       "min               0.000000       6.811318e+02   0.000000e+00        0.000000   \n",
       "25%               0.107012       1.085425e+04   1.483329e+03        0.428434   \n",
       "50%               0.261405       2.186303e+04   3.354528e+03        0.620288   \n",
       "75%               0.557136       5.566613e+04   8.831925e+03        0.900362   \n",
       "max              12.549223       1.833719e+07   1.172789e+06        3.676952   \n",
       "\n",
       "       tess_orientation  building_neighbour_dist  ...      closeness  \\\n",
       "count     227364.000000            227355.000000  ...  225144.000000   \n",
       "mean          21.148613               840.041176  ...       0.026563   \n",
       "std           12.966418              1194.965233  ...       0.050859   \n",
       "min            0.000066                 0.000000  ...       0.000000   \n",
       "25%            9.808749               209.218398  ...       0.000000   \n",
       "50%           20.572789               441.803763  ...       0.018844   \n",
       "75%           32.011027               993.406296  ...       0.033219   \n",
       "max           44.999580             30043.315717  ...       2.617119   \n",
       "\n",
       "       global_closeness_centrality  global_clustering_400m    eigenvector  \\\n",
       "count                225144.000000           224751.000000  225144.000000   \n",
       "mean                      0.000045                0.029988   82434.239469   \n",
       "std                       0.000009                0.053986   47167.923632   \n",
       "min                       0.000025                0.000000      18.000000   \n",
       "25%                       0.000037                0.000000   42730.000000   \n",
       "50%                       0.000044                0.000000   82431.500000   \n",
       "75%                       0.000052                0.043478  122734.000000   \n",
       "max                       0.000064                1.000000  180352.000000   \n",
       "\n",
       "       node_centrality_400m  node_meshedness_400m  betweeness_centrality_edge  \\\n",
       "count         225144.000000         225144.000000               225145.000000   \n",
       "mean              54.633763              0.038088                    0.002514   \n",
       "std               35.163355              0.049341                    0.007659   \n",
       "min                0.000000             -1.000000                    0.000000   \n",
       "25%               27.000000              0.000000                    0.000014   \n",
       "50%               48.000000              0.020101                    0.000109   \n",
       "75%               76.000000              0.061674                    0.000892   \n",
       "max              291.000000              1.000000                    0.127262   \n",
       "\n",
       "       dual_global_closeness_centrality  dual_global_angular_betweeness  \\\n",
       "count                     225145.000000                   225145.000000   \n",
       "mean                           0.000510                        0.001676   \n",
       "std                            0.000132                        0.007733   \n",
       "min                            0.000000                        0.000000   \n",
       "25%                            0.000413                        0.000010   \n",
       "50%                            0.000516                        0.000067   \n",
       "75%                            0.000612                        0.000405   \n",
       "max                            0.000815                        0.236383   \n",
       "\n",
       "       dual_local_angular_closeness  \n",
       "count                  2.251450e+05  \n",
       "mean                            inf  \n",
       "std                             NaN  \n",
       "min                    1.111111e-01  \n",
       "25%                    3.333333e-01  \n",
       "50%                    5.000000e-01  \n",
       "75%                    5.000000e-01  \n",
       "max                             inf  \n",
       "\n",
       "[8 rows x 38 columns]"
      ]
     },
     "execution_count": 59,
     "metadata": {},
     "output_type": "execute_result"
    }
   ],
   "source": [
    "tessellation.describe()"
   ]
  },
  {
   "cell_type": "code",
   "execution_count": 60,
   "metadata": {},
   "outputs": [],
   "source": [
    "tessellation.to_parquet(f\"./out/{place}/tessellation_stats_no_percentile.pq\")"
   ]
  },
  {
   "cell_type": "code",
   "execution_count": 61,
   "metadata": {},
   "outputs": [],
   "source": [
    "# def split_dataframe(df, num_dfs):\n",
    "#     \"\"\"\n",
    "#     This function splits a DataFrame into a list of smaller DataFrames with equal number of columns.\n",
    "\n",
    "#     Parameters:\n",
    "#     df (pandas.DataFrame): The DataFrame to split.\n",
    "#     num_dfs (int): The number of DataFrames to split 'df' into.\n",
    "\n",
    "#     Returns:\n",
    "#     list: A list of pandas DataFrame objects.\n",
    "#     \"\"\"\n",
    "\n",
    "#     dfs = []\n",
    "#     n = df.shape[1]\n",
    "#     num_cols = n // num_dfs\n",
    "\n",
    "#     for i in range(num_dfs):\n",
    "#         start = i * num_cols\n",
    "#         end = (i + 1) * num_cols if i != num_dfs - 1 else n\n",
    "#         dfs.append(df.iloc[:, start:end])\n",
    "\n",
    "#     return dfs\n",
    "\n",
    "# # Use the function\n",
    "# list_of_dfs = split_dataframe(tessellation[tessellation.columns.drop([\"uID\", \"geometry\"])], 16)"
   ]
  },
  {
   "cell_type": "code",
   "execution_count": 62,
   "metadata": {},
   "outputs": [],
   "source": [
    "dropped = tessellation.drop([\"uID\", \"geometry\"], axis=1)\n",
    "\n",
    "column_lists = [list(dropped.columns[i:i + 16]) \n",
    "                for i in range(0, len(dropped.columns), 16)]\n",
    "\n"
   ]
  },
  {
   "cell_type": "code",
   "execution_count": 63,
   "metadata": {},
   "outputs": [],
   "source": [
    "# def process_percentiles(tessellation, queen_3):\n",
    "#     percentiles = []\n",
    "#     for column in tessellation.columns.drop([\"uID\", \"geometry\"]):\n",
    "#         perc = momepy.Percentiles(tessellation, column, queen_3, \"uID\", verbose=False).frame\n",
    "#         perc.columns = [f\"{column}_\" + str(x) for x in perc.columns]\n",
    "#         percentiles.append(perc)\n",
    "        \n",
    "#     percentiles_joined = pd.concat(percentiles, axis=1)\n",
    "#     return percentiles_joined"
   ]
  },
  {
   "cell_type": "code",
   "execution_count": 64,
   "metadata": {},
   "outputs": [],
   "source": [
    "def process_percentiles(df, column, queen_3):\n",
    "    perc = momepy.Percentiles(df, column, queen_3, \"uID\", verbose=False).frame\n",
    "    perc.columns = [f\"{column}_\" + str(x) for x in perc.columns]\n",
    "    \n",
    "    return perc"
   ]
  },
  {
   "cell_type": "code",
   "execution_count": 65,
   "metadata": {},
   "outputs": [
    {
     "data": {
      "text/plain": [
       "Index(['uID', 'geometry', 'tess_area', 'tess_convexity', 'tess_neighbours',\n",
       "       'tess_neighbours_200', 'tess_covered_area', 'tess_area_iqr',\n",
       "       'tess_rea_theil', 'tess_orientation', 'building_neighbour_dist',\n",
       "       'building_neighbourhood_interbuilding_distance', 'tess_car',\n",
       "       'building_area', 'building_circular_compactness', 'building_elongation',\n",
       "       'building_squareness', 'building_eri', 'building_orientation',\n",
       "       'building_weighted_circom', 'continuity_stroke', 'street_linearity',\n",
       "       'street_width', 'street_width_deviation', 'street_openness',\n",
       "       'building_str_align', 'building_cell_align',\n",
       "       'betweeness_centrality_vertex', 'node_degree', 'closeness',\n",
       "       'global_closeness_centrality', 'global_clustering_400m', 'eigenvector',\n",
       "       'node_centrality_400m', 'node_meshedness_400m',\n",
       "       'betweeness_centrality_edge', 'dual_global_closeness_centrality',\n",
       "       'dual_global_angular_betweeness', 'dual_local_angular_closeness'],\n",
       "      dtype='object')"
      ]
     },
     "execution_count": 65,
     "metadata": {},
     "output_type": "execute_result"
    }
   ],
   "source": [
    "tessellation.columns"
   ]
  },
  {
   "cell_type": "code",
   "execution_count": 68,
   "metadata": {},
   "outputs": [],
   "source": [
    "queen_3_future = client.scatter(queen_3)"
   ]
  },
  {
   "cell_type": "code",
   "execution_count": 69,
   "metadata": {},
   "outputs": [],
   "source": [
    "listofdf = []\n",
    "for column_list in column_lists:\n",
    "    computations = []\n",
    "\n",
    "    for column in column_list:\n",
    "        computations.append(delayed(process_percentiles)(tessellation[['uID', column]], column, queen_3_future))\n",
    "        \n",
    "    out = client.compute(computations)\n",
    "    \n",
    "    \n",
    "    {listofdf.append(out[i].result()) for i in range(len(column_list))}"
   ]
  },
  {
   "cell_type": "code",
   "execution_count": 70,
   "metadata": {},
   "outputs": [],
   "source": [
    "percentiles_joined = pd.concat(listofdf, axis=1)"
   ]
  },
  {
   "cell_type": "code",
   "execution_count": 71,
   "metadata": {},
   "outputs": [],
   "source": [
    "merged_df = pd.concat([percentiles_joined, tessellation[['uID', 'geometry']]], axis=1)"
   ]
  },
  {
   "cell_type": "code",
   "execution_count": 72,
   "metadata": {},
   "outputs": [],
   "source": [
    "percentiles_joined[\"uID\"] = tessellation[\"uID\"]\n",
    "percentiles_joined[\"geometry\"] = tessellation[\"geometry\"]"
   ]
  },
  {
   "cell_type": "code",
   "execution_count": 73,
   "metadata": {},
   "outputs": [],
   "source": [
    "gdf = gpd.GeoDataFrame(percentiles_joined, geometry=\"geometry\")"
   ]
  },
  {
   "cell_type": "code",
   "execution_count": 74,
   "metadata": {},
   "outputs": [
    {
     "data": {
      "text/plain": [
       "<Axes: >"
      ]
     },
     "execution_count": 74,
     "metadata": {},
     "output_type": "execute_result"
    },
    {
     "data": {
      "image/png": "[encoded data removed]",
      "text/plain": [
       "<Figure size 640x480 with 1 Axes>"
      ]
     },
     "metadata": {},
     "output_type": "display_data"
    }
   ],
   "source": [
    "gdf.plot()"
   ]
  },
  {
   "cell_type": "code",
   "execution_count": 75,
   "metadata": {},
   "outputs": [],
   "source": [
    "gdf.to_parquet(f\"./out/{place}/tessellation_stats.pq\")"
   ]
  },
  {
   "cell_type": "code",
   "execution_count": 76,
   "metadata": {},
   "outputs": [],
   "source": [
    "# chunk_size = 250000\n",
    "# chunks = []\n",
    "# for i in range(0, len(tessellation), chunk_size):\n",
    "#     chunks.append(tessellation.iloc[i:i + chunk_size])"
   ]
  },
  {
   "cell_type": "code",
   "execution_count": 77,
   "metadata": {},
   "outputs": [],
   "source": [
    "# import os\n",
    "# new_directory = f\"./out/{place}/tessellation/\"\n",
    "\n",
    "# if not os.path.exists(new_directory):\n",
    "#     os.makedirs(new_directory)\n",
    "#     print(f\"Created directory: {new_directory}\")\n",
    "# else:\n",
    "#     print(f\"Directory already exists: {new_directory}\")\n",
    "\n",
    "# # iterate over all files in the directory and delete them\n",
    "# for filename in os.listdir(new_directory):\n",
    "#     file_path = os.path.join(new_directory, filename)\n",
    "#     if os.path.isfile(file_path):\n",
    "#         os.remove(file_path)\n",
    "#         print(f\"Deleted file: {file_path}\")"
   ]
  },
  {
   "cell_type": "code",
   "execution_count": 78,
   "metadata": {},
   "outputs": [],
   "source": [
    "# for i, chunk in enumerate(chunks):\n",
    "#     chunk.to_parquet(f\"./out/{place}/tessellation/tesselation_chunk_{i}.pq\")"
   ]
  },
  {
   "cell_type": "code",
   "execution_count": 79,
   "metadata": {},
   "outputs": [],
   "source": [
    "# duplicates = tessellation[tessellation.duplicated(['uID'], keep=False)]\n",
    "# if len(duplicates) > 0:\n",
    "#     print(f\"There are {len(duplicates)} rows with duplicate uids.\")\n",
    "#     print(duplicates)\n",
    "# else:\n",
    "#     print(\"There are no rows with duplicate uids.\")"
   ]
  },
  {
   "cell_type": "code",
   "execution_count": 80,
   "metadata": {},
   "outputs": [],
   "source": [
    "# import pickle\n",
    "\n",
    "# # Open the file for reading\n",
    "# with open('./out/{place}/weights.pickle', 'rb') as f:\n",
    "#     # Load the variables in the same order that they were dumped\n",
    "#     queen_1 = pickle.load(f)\n",
    "#     queen_3 = pickle.load(f)\n",
    "#     dist200 = pickle.load(f)\n",
    "#     tessellation = pickle.load(f)"
   ]
  },
  {
   "cell_type": "code",
   "execution_count": 81,
   "metadata": {},
   "outputs": [],
   "source": [
    "# tessellation.to_parquet(\"./out/{place}/tessellation_with_data.pq\", write_metadata_file=False)"
   ]
  },
  {
   "cell_type": "code",
   "execution_count": 82,
   "metadata": {},
   "outputs": [],
   "source": [
    "daskCluster.close()\n",
    "client.shutdown()\n"
   ]
  },
  {
   "cell_type": "code",
   "execution_count": null,
   "metadata": {},
   "outputs": [],
   "source": []
  }
 ],
 "metadata": {
  "kernelspec": {
   "display_name": "base",
   "language": "python",
   "name": "python3"
  },
  "language_info": {
   "codemirror_mode": {
    "name": "ipython",
    "version": 3
   },
   "file_extension": ".py",
   "mimetype": "text/x-python",
   "name": "python",
   "nbconvert_exporter": "python",
   "pygments_lexer": "ipython3",
   "version": "3.10.10"
  }
 },
 "nbformat": 4,
 "nbformat_minor": 2
}
