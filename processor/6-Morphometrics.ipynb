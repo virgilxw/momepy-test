{
 "cells": [
  {
   "cell_type": "code",
   "execution_count": 1,
   "metadata": {},
   "outputs": [
    {
     "name": "stderr",
     "output_type": "stream",
     "text": [
      "/tmp/ipykernel_4906/3967175050.py:3: UserWarning: Shapely 2.0 is installed, but because PyGEOS is also installed, GeoPandas will still use PyGEOS by default for now. To force to use and test Shapely 2.0, you have to set the environment variable USE_PYGEOS=0. You can do this before starting the Python process, or in your code before importing geopandas:\n",
      "\n",
      "import os\n",
      "os.environ['USE_PYGEOS'] = '0'\n",
      "import geopandas\n",
      "\n",
      "In a future release, GeoPandas will switch to using Shapely by default. If you are using PyGEOS directly (calling PyGEOS functions on geometries from GeoPandas), this will then stop working and you are encouraged to migrate from PyGEOS to Shapely 2.0 (https://shapely.readthedocs.io/en/latest/migration_pygeos.html).\n",
      "  import geopandas as gpd\n"
     ]
    }
   ],
   "source": [
    "from dask.distributed import Client, LocalCluster\n",
    "import bokeh\n",
    "import geopandas as gpd\n",
    "import scipy\n",
    "import libpysal\n",
    "import momepy\n",
    "import json\n",
    "from dask import delayed\n",
    "import glob\n",
    "import dask\n",
    "import dask.dataframe as dd\n",
    "import momepy\n",
    "import geopandas as gpd\n",
    "import matplotlib.pyplot as plt\n",
    "import pandas as pd\n",
    "import json\n",
    "from tqdm import tqdm\n",
    "from shapely.geometry import Point\n",
    "import networkx as nx\n",
    "import pickle"
   ]
  },
  {
   "cell_type": "code",
   "execution_count": 2,
   "metadata": {},
   "outputs": [
    {
     "name": "stderr",
     "output_type": "stream",
     "text": [
      "2023-04-18 22:20:10,291 - distributed.nanny.memory - WARNING - Ignoring provided memory limit 100GB due to system memory limit of 31.31 GiB\n",
      "2023-04-18 22:20:10,294 - distributed.nanny.memory - WARNING - Ignoring provided memory limit 100GB due to system memory limit of 31.31 GiB\n",
      "2023-04-18 22:20:10,297 - distributed.nanny.memory - WARNING - Ignoring provided memory limit 100GB due to system memory limit of 31.31 GiB\n",
      "2023-04-18 22:20:10,299 - distributed.nanny.memory - WARNING - Ignoring provided memory limit 100GB due to system memory limit of 31.31 GiB\n",
      "2023-04-18 22:20:10,302 - distributed.nanny.memory - WARNING - Ignoring provided memory limit 100GB due to system memory limit of 31.31 GiB\n",
      "2023-04-18 22:20:10,304 - distributed.nanny.memory - WARNING - Ignoring provided memory limit 100GB due to system memory limit of 31.31 GiB\n",
      "2023-04-18 22:20:10,307 - distributed.nanny.memory - WARNING - Ignoring provided memory limit 100GB due to system memory limit of 31.31 GiB\n",
      "2023-04-18 22:20:10,310 - distributed.nanny.memory - WARNING - Ignoring provided memory limit 100GB due to system memory limit of 31.31 GiB\n",
      "2023-04-18 22:20:10,805 - distributed.diskutils - INFO - Found stale lock file and directory '/tmp/dask-worker-space/worker-9yb1vkhs', purging\n",
      "2023-04-18 22:20:10,807 - distributed.diskutils - INFO - Found stale lock file and directory '/tmp/dask-worker-space/worker-5fku5xre', purging\n",
      "2023-04-18 22:20:10,810 - distributed.diskutils - INFO - Found stale lock file and directory '/tmp/dask-worker-space/worker-pnh8m0hg', purging\n",
      "2023-04-18 22:20:10,811 - distributed.diskutils - INFO - Found stale lock file and directory '/tmp/dask-worker-space/worker-43ooqhbk', purging\n",
      "2023-04-18 22:20:10,812 - distributed.diskutils - INFO - Found stale lock file and directory '/tmp/dask-worker-space/worker-83cchteh', purging\n",
      "2023-04-18 22:20:10,813 - distributed.diskutils - INFO - Found stale lock file and directory '/tmp/dask-worker-space/worker-2u659oi8', purging\n",
      "2023-04-18 22:20:10,815 - distributed.diskutils - INFO - Found stale lock file and directory '/tmp/dask-worker-space/worker-irwbqsst', purging\n",
      "2023-04-18 22:20:10,816 - distributed.diskutils - INFO - Found stale lock file and directory '/tmp/dask-worker-space/worker-z80abmyq', purging\n",
      "2023-04-18 22:20:10,817 - distributed.diskutils - INFO - Found stale lock file and directory '/tmp/dask-worker-space/worker-__165lx1', purging\n",
      "2023-04-18 22:20:10,818 - distributed.diskutils - INFO - Found stale lock file and directory '/tmp/dask-worker-space/worker-0badwwlj', purging\n",
      "2023-04-18 22:20:10,819 - distributed.diskutils - INFO - Found stale lock file and directory '/tmp/dask-worker-space/worker-knl85zwn', purging\n",
      "2023-04-18 22:20:10,820 - distributed.diskutils - INFO - Found stale lock file and directory '/tmp/dask-worker-space/worker-rn9nwo8z', purging\n",
      "2023-04-18 22:20:10,821 - distributed.diskutils - INFO - Found stale lock file and directory '/tmp/dask-worker-space/worker-w3xb3nj1', purging\n",
      "2023-04-18 22:20:10,823 - distributed.diskutils - INFO - Found stale lock file and directory '/tmp/dask-worker-space/worker-b1ici2_t', purging\n",
      "2023-04-18 22:20:10,824 - distributed.diskutils - INFO - Found stale lock file and directory '/tmp/dask-worker-space/worker-yawsnf_y', purging\n",
      "2023-04-18 22:20:10,825 - distributed.diskutils - INFO - Found stale lock file and directory '/tmp/dask-worker-space/worker-ty09l3k_', purging\n",
      "2023-04-18 22:20:10,826 - distributed.diskutils - INFO - Found stale lock file and directory '/tmp/dask-worker-space/worker-36d_7dym', purging\n",
      "2023-04-18 22:20:10,827 - distributed.diskutils - INFO - Found stale lock file and directory '/tmp/dask-worker-space/worker-jrqz2yix', purging\n",
      "2023-04-18 22:20:10,828 - distributed.diskutils - INFO - Found stale lock file and directory '/tmp/dask-worker-space/worker-sw5qyh3e', purging\n",
      "2023-04-18 22:20:10,829 - distributed.diskutils - INFO - Found stale lock file and directory '/tmp/dask-worker-space/worker-niig0yp1', purging\n",
      "2023-04-18 22:20:10,830 - distributed.diskutils - INFO - Found stale lock file and directory '/tmp/dask-worker-space/worker-u9o_48ht', purging\n",
      "2023-04-18 22:20:10,831 - distributed.diskutils - INFO - Found stale lock file and directory '/tmp/dask-worker-space/worker-38oosx8v', purging\n",
      "2023-04-18 22:20:10,832 - distributed.diskutils - INFO - Found stale lock file and directory '/tmp/dask-worker-space/worker-u67ds8mt', purging\n",
      "2023-04-18 22:20:10,833 - distributed.diskutils - INFO - Found stale lock file and directory '/tmp/dask-worker-space/worker-f_zeapvp', purging\n",
      "2023-04-18 22:20:10,834 - distributed.diskutils - INFO - Found stale lock file and directory '/tmp/dask-worker-space/worker-10ibqtef', purging\n",
      "2023-04-18 22:20:10,835 - distributed.diskutils - INFO - Found stale lock file and directory '/tmp/dask-worker-space/worker-mgf8vnck', purging\n",
      "2023-04-18 22:20:10,836 - distributed.diskutils - INFO - Found stale lock file and directory '/tmp/dask-worker-space/worker-umwri6gy', purging\n",
      "2023-04-18 22:20:10,836 - distributed.diskutils - INFO - Found stale lock file and directory '/tmp/dask-worker-space/worker-72f7hy0r', purging\n",
      "2023-04-18 22:20:10,838 - distributed.diskutils - INFO - Found stale lock file and directory '/tmp/dask-worker-space/worker-0cju33v3', purging\n",
      "2023-04-18 22:20:10,839 - distributed.diskutils - INFO - Found stale lock file and directory '/tmp/dask-worker-space/worker-68zt03v_', purging\n",
      "2023-04-18 22:20:10,840 - distributed.diskutils - INFO - Found stale lock file and directory '/tmp/dask-worker-space/worker-fmzbp9nd', purging\n",
      "2023-04-18 22:20:10,841 - distributed.diskutils - INFO - Found stale lock file and directory '/tmp/dask-worker-space/worker-i7h3_bbq', purging\n"
     ]
    },
    {
     "data": {
      "text/html": [
       "<div>\n",
       "    <div style=\"width: 24px; height: 24px; background-color: #e1e1e1; border: 3px solid #9D9D9D; border-radius: 5px; position: absolute;\"> </div>\n",
       "    <div style=\"margin-left: 48px;\">\n",
       "        <h3 style=\"margin-bottom: 0px;\">Client</h3>\n",
       "        <p style=\"color: #9D9D9D; margin-bottom: 0px;\">Client-cd5e2472-de2e-11ed-932a-00155d696b0f</p>\n",
       "        <table style=\"width: 100%; text-align: left;\">\n",
       "\n",
       "        <tr>\n",
       "        \n",
       "            <td style=\"text-align: left;\"><strong>Connection method:</strong> Cluster object</td>\n",
       "            <td style=\"text-align: left;\"><strong>Cluster type:</strong> distributed.LocalCluster</td>\n",
       "        \n",
       "        </tr>\n",
       "\n",
       "        \n",
       "            <tr>\n",
       "                <td style=\"text-align: left;\">\n",
       "                    <strong>Dashboard: </strong> <a href=\"http://127.0.0.1:8787/status\" target=\"_blank\">http://127.0.0.1:8787/status</a>\n",
       "                </td>\n",
       "                <td style=\"text-align: left;\"></td>\n",
       "            </tr>\n",
       "        \n",
       "\n",
       "        </table>\n",
       "\n",
       "        \n",
       "\n",
       "        \n",
       "            <details>\n",
       "            <summary style=\"margin-bottom: 20px;\"><h3 style=\"display: inline;\">Cluster Info</h3></summary>\n",
       "            <div class=\"jp-RenderedHTMLCommon jp-RenderedHTML jp-mod-trusted jp-OutputArea-output\">\n",
       "    <div style=\"width: 24px; height: 24px; background-color: #e1e1e1; border: 3px solid #9D9D9D; border-radius: 5px; position: absolute;\">\n",
       "    </div>\n",
       "    <div style=\"margin-left: 48px;\">\n",
       "        <h3 style=\"margin-bottom: 0px; margin-top: 0px;\">LocalCluster</h3>\n",
       "        <p style=\"color: #9D9D9D; margin-bottom: 0px;\">cb9b74ec</p>\n",
       "        <table style=\"width: 100%; text-align: left;\">\n",
       "            <tr>\n",
       "                <td style=\"text-align: left;\">\n",
       "                    <strong>Dashboard:</strong> <a href=\"http://127.0.0.1:8787/status\" target=\"_blank\">http://127.0.0.1:8787/status</a>\n",
       "                </td>\n",
       "                <td style=\"text-align: left;\">\n",
       "                    <strong>Workers:</strong> 8\n",
       "                </td>\n",
       "            </tr>\n",
       "            <tr>\n",
       "                <td style=\"text-align: left;\">\n",
       "                    <strong>Total threads:</strong> 16\n",
       "                </td>\n",
       "                <td style=\"text-align: left;\">\n",
       "                    <strong>Total memory:</strong> 250.47 GiB\n",
       "                </td>\n",
       "            </tr>\n",
       "            \n",
       "            <tr>\n",
       "    <td style=\"text-align: left;\"><strong>Status:</strong> running</td>\n",
       "    <td style=\"text-align: left;\"><strong>Using processes:</strong> True</td>\n",
       "</tr>\n",
       "\n",
       "            \n",
       "        </table>\n",
       "\n",
       "        <details>\n",
       "            <summary style=\"margin-bottom: 20px;\">\n",
       "                <h3 style=\"display: inline;\">Scheduler Info</h3>\n",
       "            </summary>\n",
       "\n",
       "            <div style=\"\">\n",
       "    <div>\n",
       "        <div style=\"width: 24px; height: 24px; background-color: #FFF7E5; border: 3px solid #FF6132; border-radius: 5px; position: absolute;\"> </div>\n",
       "        <div style=\"margin-left: 48px;\">\n",
       "            <h3 style=\"margin-bottom: 0px;\">Scheduler</h3>\n",
       "            <p style=\"color: #9D9D9D; margin-bottom: 0px;\">Scheduler-43fd722e-e108-407d-9b26-885084a52d6b</p>\n",
       "            <table style=\"width: 100%; text-align: left;\">\n",
       "                <tr>\n",
       "                    <td style=\"text-align: left;\">\n",
       "                        <strong>Comm:</strong> tcp://127.0.0.1:42779\n",
       "                    </td>\n",
       "                    <td style=\"text-align: left;\">\n",
       "                        <strong>Workers:</strong> 8\n",
       "                    </td>\n",
       "                </tr>\n",
       "                <tr>\n",
       "                    <td style=\"text-align: left;\">\n",
       "                        <strong>Dashboard:</strong> <a href=\"http://127.0.0.1:8787/status\" target=\"_blank\">http://127.0.0.1:8787/status</a>\n",
       "                    </td>\n",
       "                    <td style=\"text-align: left;\">\n",
       "                        <strong>Total threads:</strong> 16\n",
       "                    </td>\n",
       "                </tr>\n",
       "                <tr>\n",
       "                    <td style=\"text-align: left;\">\n",
       "                        <strong>Started:</strong> Just now\n",
       "                    </td>\n",
       "                    <td style=\"text-align: left;\">\n",
       "                        <strong>Total memory:</strong> 250.47 GiB\n",
       "                    </td>\n",
       "                </tr>\n",
       "            </table>\n",
       "        </div>\n",
       "    </div>\n",
       "\n",
       "    <details style=\"margin-left: 48px;\">\n",
       "        <summary style=\"margin-bottom: 20px;\">\n",
       "            <h3 style=\"display: inline;\">Workers</h3>\n",
       "        </summary>\n",
       "\n",
       "        \n",
       "        <div style=\"margin-bottom: 20px;\">\n",
       "            <div style=\"width: 24px; height: 24px; background-color: #DBF5FF; border: 3px solid #4CC9FF; border-radius: 5px; position: absolute;\"> </div>\n",
       "            <div style=\"margin-left: 48px;\">\n",
       "            <details>\n",
       "                <summary>\n",
       "                    <h4 style=\"margin-bottom: 0px; display: inline;\">Worker: 0</h4>\n",
       "                </summary>\n",
       "                <table style=\"width: 100%; text-align: left;\">\n",
       "                    <tr>\n",
       "                        <td style=\"text-align: left;\">\n",
       "                            <strong>Comm: </strong> tcp://127.0.0.1:38939\n",
       "                        </td>\n",
       "                        <td style=\"text-align: left;\">\n",
       "                            <strong>Total threads: </strong> 2\n",
       "                        </td>\n",
       "                    </tr>\n",
       "                    <tr>\n",
       "                        <td style=\"text-align: left;\">\n",
       "                            <strong>Dashboard: </strong> <a href=\"http://127.0.0.1:45535/status\" target=\"_blank\">http://127.0.0.1:45535/status</a>\n",
       "                        </td>\n",
       "                        <td style=\"text-align: left;\">\n",
       "                            <strong>Memory: </strong> 31.31 GiB\n",
       "                        </td>\n",
       "                    </tr>\n",
       "                    <tr>\n",
       "                        <td style=\"text-align: left;\">\n",
       "                            <strong>Nanny: </strong> tcp://127.0.0.1:38833\n",
       "                        </td>\n",
       "                        <td style=\"text-align: left;\"></td>\n",
       "                    </tr>\n",
       "                    <tr>\n",
       "                        <td colspan=\"2\" style=\"text-align: left;\">\n",
       "                            <strong>Local directory: </strong> /tmp/dask-worker-space/worker-98hotit0\n",
       "                        </td>\n",
       "                    </tr>\n",
       "\n",
       "                    \n",
       "\n",
       "                    \n",
       "\n",
       "                </table>\n",
       "            </details>\n",
       "            </div>\n",
       "        </div>\n",
       "        \n",
       "        <div style=\"margin-bottom: 20px;\">\n",
       "            <div style=\"width: 24px; height: 24px; background-color: #DBF5FF; border: 3px solid #4CC9FF; border-radius: 5px; position: absolute;\"> </div>\n",
       "            <div style=\"margin-left: 48px;\">\n",
       "            <details>\n",
       "                <summary>\n",
       "                    <h4 style=\"margin-bottom: 0px; display: inline;\">Worker: 1</h4>\n",
       "                </summary>\n",
       "                <table style=\"width: 100%; text-align: left;\">\n",
       "                    <tr>\n",
       "                        <td style=\"text-align: left;\">\n",
       "                            <strong>Comm: </strong> tcp://127.0.0.1:38535\n",
       "                        </td>\n",
       "                        <td style=\"text-align: left;\">\n",
       "                            <strong>Total threads: </strong> 2\n",
       "                        </td>\n",
       "                    </tr>\n",
       "                    <tr>\n",
       "                        <td style=\"text-align: left;\">\n",
       "                            <strong>Dashboard: </strong> <a href=\"http://127.0.0.1:43473/status\" target=\"_blank\">http://127.0.0.1:43473/status</a>\n",
       "                        </td>\n",
       "                        <td style=\"text-align: left;\">\n",
       "                            <strong>Memory: </strong> 31.31 GiB\n",
       "                        </td>\n",
       "                    </tr>\n",
       "                    <tr>\n",
       "                        <td style=\"text-align: left;\">\n",
       "                            <strong>Nanny: </strong> tcp://127.0.0.1:45201\n",
       "                        </td>\n",
       "                        <td style=\"text-align: left;\"></td>\n",
       "                    </tr>\n",
       "                    <tr>\n",
       "                        <td colspan=\"2\" style=\"text-align: left;\">\n",
       "                            <strong>Local directory: </strong> /tmp/dask-worker-space/worker-gglad7yj\n",
       "                        </td>\n",
       "                    </tr>\n",
       "\n",
       "                    \n",
       "\n",
       "                    \n",
       "\n",
       "                </table>\n",
       "            </details>\n",
       "            </div>\n",
       "        </div>\n",
       "        \n",
       "        <div style=\"margin-bottom: 20px;\">\n",
       "            <div style=\"width: 24px; height: 24px; background-color: #DBF5FF; border: 3px solid #4CC9FF; border-radius: 5px; position: absolute;\"> </div>\n",
       "            <div style=\"margin-left: 48px;\">\n",
       "            <details>\n",
       "                <summary>\n",
       "                    <h4 style=\"margin-bottom: 0px; display: inline;\">Worker: 2</h4>\n",
       "                </summary>\n",
       "                <table style=\"width: 100%; text-align: left;\">\n",
       "                    <tr>\n",
       "                        <td style=\"text-align: left;\">\n",
       "                            <strong>Comm: </strong> tcp://127.0.0.1:38935\n",
       "                        </td>\n",
       "                        <td style=\"text-align: left;\">\n",
       "                            <strong>Total threads: </strong> 2\n",
       "                        </td>\n",
       "                    </tr>\n",
       "                    <tr>\n",
       "                        <td style=\"text-align: left;\">\n",
       "                            <strong>Dashboard: </strong> <a href=\"http://127.0.0.1:34931/status\" target=\"_blank\">http://127.0.0.1:34931/status</a>\n",
       "                        </td>\n",
       "                        <td style=\"text-align: left;\">\n",
       "                            <strong>Memory: </strong> 31.31 GiB\n",
       "                        </td>\n",
       "                    </tr>\n",
       "                    <tr>\n",
       "                        <td style=\"text-align: left;\">\n",
       "                            <strong>Nanny: </strong> tcp://127.0.0.1:46207\n",
       "                        </td>\n",
       "                        <td style=\"text-align: left;\"></td>\n",
       "                    </tr>\n",
       "                    <tr>\n",
       "                        <td colspan=\"2\" style=\"text-align: left;\">\n",
       "                            <strong>Local directory: </strong> /tmp/dask-worker-space/worker-pljn8zpt\n",
       "                        </td>\n",
       "                    </tr>\n",
       "\n",
       "                    \n",
       "\n",
       "                    \n",
       "\n",
       "                </table>\n",
       "            </details>\n",
       "            </div>\n",
       "        </div>\n",
       "        \n",
       "        <div style=\"margin-bottom: 20px;\">\n",
       "            <div style=\"width: 24px; height: 24px; background-color: #DBF5FF; border: 3px solid #4CC9FF; border-radius: 5px; position: absolute;\"> </div>\n",
       "            <div style=\"margin-left: 48px;\">\n",
       "            <details>\n",
       "                <summary>\n",
       "                    <h4 style=\"margin-bottom: 0px; display: inline;\">Worker: 3</h4>\n",
       "                </summary>\n",
       "                <table style=\"width: 100%; text-align: left;\">\n",
       "                    <tr>\n",
       "                        <td style=\"text-align: left;\">\n",
       "                            <strong>Comm: </strong> tcp://127.0.0.1:43193\n",
       "                        </td>\n",
       "                        <td style=\"text-align: left;\">\n",
       "                            <strong>Total threads: </strong> 2\n",
       "                        </td>\n",
       "                    </tr>\n",
       "                    <tr>\n",
       "                        <td style=\"text-align: left;\">\n",
       "                            <strong>Dashboard: </strong> <a href=\"http://127.0.0.1:36563/status\" target=\"_blank\">http://127.0.0.1:36563/status</a>\n",
       "                        </td>\n",
       "                        <td style=\"text-align: left;\">\n",
       "                            <strong>Memory: </strong> 31.31 GiB\n",
       "                        </td>\n",
       "                    </tr>\n",
       "                    <tr>\n",
       "                        <td style=\"text-align: left;\">\n",
       "                            <strong>Nanny: </strong> tcp://127.0.0.1:46241\n",
       "                        </td>\n",
       "                        <td style=\"text-align: left;\"></td>\n",
       "                    </tr>\n",
       "                    <tr>\n",
       "                        <td colspan=\"2\" style=\"text-align: left;\">\n",
       "                            <strong>Local directory: </strong> /tmp/dask-worker-space/worker-c1d9ngtn\n",
       "                        </td>\n",
       "                    </tr>\n",
       "\n",
       "                    \n",
       "\n",
       "                    \n",
       "\n",
       "                </table>\n",
       "            </details>\n",
       "            </div>\n",
       "        </div>\n",
       "        \n",
       "        <div style=\"margin-bottom: 20px;\">\n",
       "            <div style=\"width: 24px; height: 24px; background-color: #DBF5FF; border: 3px solid #4CC9FF; border-radius: 5px; position: absolute;\"> </div>\n",
       "            <div style=\"margin-left: 48px;\">\n",
       "            <details>\n",
       "                <summary>\n",
       "                    <h4 style=\"margin-bottom: 0px; display: inline;\">Worker: 4</h4>\n",
       "                </summary>\n",
       "                <table style=\"width: 100%; text-align: left;\">\n",
       "                    <tr>\n",
       "                        <td style=\"text-align: left;\">\n",
       "                            <strong>Comm: </strong> tcp://127.0.0.1:33811\n",
       "                        </td>\n",
       "                        <td style=\"text-align: left;\">\n",
       "                            <strong>Total threads: </strong> 2\n",
       "                        </td>\n",
       "                    </tr>\n",
       "                    <tr>\n",
       "                        <td style=\"text-align: left;\">\n",
       "                            <strong>Dashboard: </strong> <a href=\"http://127.0.0.1:38995/status\" target=\"_blank\">http://127.0.0.1:38995/status</a>\n",
       "                        </td>\n",
       "                        <td style=\"text-align: left;\">\n",
       "                            <strong>Memory: </strong> 31.31 GiB\n",
       "                        </td>\n",
       "                    </tr>\n",
       "                    <tr>\n",
       "                        <td style=\"text-align: left;\">\n",
       "                            <strong>Nanny: </strong> tcp://127.0.0.1:44201\n",
       "                        </td>\n",
       "                        <td style=\"text-align: left;\"></td>\n",
       "                    </tr>\n",
       "                    <tr>\n",
       "                        <td colspan=\"2\" style=\"text-align: left;\">\n",
       "                            <strong>Local directory: </strong> /tmp/dask-worker-space/worker-6v7d6_xe\n",
       "                        </td>\n",
       "                    </tr>\n",
       "\n",
       "                    \n",
       "\n",
       "                    \n",
       "\n",
       "                </table>\n",
       "            </details>\n",
       "            </div>\n",
       "        </div>\n",
       "        \n",
       "        <div style=\"margin-bottom: 20px;\">\n",
       "            <div style=\"width: 24px; height: 24px; background-color: #DBF5FF; border: 3px solid #4CC9FF; border-radius: 5px; position: absolute;\"> </div>\n",
       "            <div style=\"margin-left: 48px;\">\n",
       "            <details>\n",
       "                <summary>\n",
       "                    <h4 style=\"margin-bottom: 0px; display: inline;\">Worker: 5</h4>\n",
       "                </summary>\n",
       "                <table style=\"width: 100%; text-align: left;\">\n",
       "                    <tr>\n",
       "                        <td style=\"text-align: left;\">\n",
       "                            <strong>Comm: </strong> tcp://127.0.0.1:35805\n",
       "                        </td>\n",
       "                        <td style=\"text-align: left;\">\n",
       "                            <strong>Total threads: </strong> 2\n",
       "                        </td>\n",
       "                    </tr>\n",
       "                    <tr>\n",
       "                        <td style=\"text-align: left;\">\n",
       "                            <strong>Dashboard: </strong> <a href=\"http://127.0.0.1:41003/status\" target=\"_blank\">http://127.0.0.1:41003/status</a>\n",
       "                        </td>\n",
       "                        <td style=\"text-align: left;\">\n",
       "                            <strong>Memory: </strong> 31.31 GiB\n",
       "                        </td>\n",
       "                    </tr>\n",
       "                    <tr>\n",
       "                        <td style=\"text-align: left;\">\n",
       "                            <strong>Nanny: </strong> tcp://127.0.0.1:40277\n",
       "                        </td>\n",
       "                        <td style=\"text-align: left;\"></td>\n",
       "                    </tr>\n",
       "                    <tr>\n",
       "                        <td colspan=\"2\" style=\"text-align: left;\">\n",
       "                            <strong>Local directory: </strong> /tmp/dask-worker-space/worker-1eh4u0ke\n",
       "                        </td>\n",
       "                    </tr>\n",
       "\n",
       "                    \n",
       "\n",
       "                    \n",
       "\n",
       "                </table>\n",
       "            </details>\n",
       "            </div>\n",
       "        </div>\n",
       "        \n",
       "        <div style=\"margin-bottom: 20px;\">\n",
       "            <div style=\"width: 24px; height: 24px; background-color: #DBF5FF; border: 3px solid #4CC9FF; border-radius: 5px; position: absolute;\"> </div>\n",
       "            <div style=\"margin-left: 48px;\">\n",
       "            <details>\n",
       "                <summary>\n",
       "                    <h4 style=\"margin-bottom: 0px; display: inline;\">Worker: 6</h4>\n",
       "                </summary>\n",
       "                <table style=\"width: 100%; text-align: left;\">\n",
       "                    <tr>\n",
       "                        <td style=\"text-align: left;\">\n",
       "                            <strong>Comm: </strong> tcp://127.0.0.1:45651\n",
       "                        </td>\n",
       "                        <td style=\"text-align: left;\">\n",
       "                            <strong>Total threads: </strong> 2\n",
       "                        </td>\n",
       "                    </tr>\n",
       "                    <tr>\n",
       "                        <td style=\"text-align: left;\">\n",
       "                            <strong>Dashboard: </strong> <a href=\"http://127.0.0.1:32927/status\" target=\"_blank\">http://127.0.0.1:32927/status</a>\n",
       "                        </td>\n",
       "                        <td style=\"text-align: left;\">\n",
       "                            <strong>Memory: </strong> 31.31 GiB\n",
       "                        </td>\n",
       "                    </tr>\n",
       "                    <tr>\n",
       "                        <td style=\"text-align: left;\">\n",
       "                            <strong>Nanny: </strong> tcp://127.0.0.1:38311\n",
       "                        </td>\n",
       "                        <td style=\"text-align: left;\"></td>\n",
       "                    </tr>\n",
       "                    <tr>\n",
       "                        <td colspan=\"2\" style=\"text-align: left;\">\n",
       "                            <strong>Local directory: </strong> /tmp/dask-worker-space/worker-ayzjen9_\n",
       "                        </td>\n",
       "                    </tr>\n",
       "\n",
       "                    \n",
       "\n",
       "                    \n",
       "\n",
       "                </table>\n",
       "            </details>\n",
       "            </div>\n",
       "        </div>\n",
       "        \n",
       "        <div style=\"margin-bottom: 20px;\">\n",
       "            <div style=\"width: 24px; height: 24px; background-color: #DBF5FF; border: 3px solid #4CC9FF; border-radius: 5px; position: absolute;\"> </div>\n",
       "            <div style=\"margin-left: 48px;\">\n",
       "            <details>\n",
       "                <summary>\n",
       "                    <h4 style=\"margin-bottom: 0px; display: inline;\">Worker: 7</h4>\n",
       "                </summary>\n",
       "                <table style=\"width: 100%; text-align: left;\">\n",
       "                    <tr>\n",
       "                        <td style=\"text-align: left;\">\n",
       "                            <strong>Comm: </strong> tcp://127.0.0.1:36635\n",
       "                        </td>\n",
       "                        <td style=\"text-align: left;\">\n",
       "                            <strong>Total threads: </strong> 2\n",
       "                        </td>\n",
       "                    </tr>\n",
       "                    <tr>\n",
       "                        <td style=\"text-align: left;\">\n",
       "                            <strong>Dashboard: </strong> <a href=\"http://127.0.0.1:43205/status\" target=\"_blank\">http://127.0.0.1:43205/status</a>\n",
       "                        </td>\n",
       "                        <td style=\"text-align: left;\">\n",
       "                            <strong>Memory: </strong> 31.31 GiB\n",
       "                        </td>\n",
       "                    </tr>\n",
       "                    <tr>\n",
       "                        <td style=\"text-align: left;\">\n",
       "                            <strong>Nanny: </strong> tcp://127.0.0.1:35531\n",
       "                        </td>\n",
       "                        <td style=\"text-align: left;\"></td>\n",
       "                    </tr>\n",
       "                    <tr>\n",
       "                        <td colspan=\"2\" style=\"text-align: left;\">\n",
       "                            <strong>Local directory: </strong> /tmp/dask-worker-space/worker-ki756q8t\n",
       "                        </td>\n",
       "                    </tr>\n",
       "\n",
       "                    \n",
       "\n",
       "                    \n",
       "\n",
       "                </table>\n",
       "            </details>\n",
       "            </div>\n",
       "        </div>\n",
       "        \n",
       "\n",
       "    </details>\n",
       "</div>\n",
       "\n",
       "        </details>\n",
       "    </div>\n",
       "</div>\n",
       "            </details>\n",
       "        \n",
       "\n",
       "    </div>\n",
       "</div>"
      ],
      "text/plain": [
       "<Client: 'tcp://127.0.0.1:42779' processes=8 threads=16, memory=250.47 GiB>"
      ]
     },
     "execution_count": 2,
     "metadata": {},
     "output_type": "execute_result"
    }
   ],
   "source": [
    "daskCluster = LocalCluster(threads_per_worker=2,\n",
    "                n_workers=8, memory_limit='100GB')\n",
    "\n",
    "client = Client(daskCluster)\n",
    "\n",
    "client"
   ]
  },
  {
   "cell_type": "code",
   "execution_count": 3,
   "metadata": {},
   "outputs": [
    {
     "name": "stderr",
     "output_type": "stream",
     "text": [
      "/tmp/ipykernel_4906/394842713.py:8: FutureWarning: Currently, index_parts defaults to True, but in the future, it will default to False to be consistent with Pandas. Use `index_parts=True` to keep the current behavior and True/False to silence the warning.\n",
      "  streets = gpd.read_parquet(\"./out/singapore/streets.pq\").explode()\n"
     ]
    }
   ],
   "source": [
    "# with open('./out/singapore/what_cells_are_in_what_cluster_dict.json', 'r') as f:\n",
    "#     includes_dict = json.load(f)\n",
    "    \n",
    "tessellation = gpd.read_parquet(\"./out/singapore/tessellation.pq\")\n",
    "\n",
    "buildings = gpd.read_parquet(\"./out/singapore/buildings.pq\")\n",
    "\n",
    "streets = gpd.read_parquet(\"./out/singapore/streets.pq\").explode()"
   ]
  },
  {
   "cell_type": "code",
   "execution_count": 4,
   "metadata": {},
   "outputs": [],
   "source": [
    "streets['nID'] = momepy.unique_id(streets)\n",
    "# buildings['nID'] = momepy.get_network_id(buildings, streets,\n",
    "#                                                'nID').values\n",
    "\n",
    "# buildings = buildings.drop_duplicates(\"uID\").drop(columns=\"index_right\")\n",
    "# tessellation = tessellation.merge(buildings[['uID', 'nID']], on='uID', how='left')"
   ]
  },
  {
   "cell_type": "code",
   "execution_count": 5,
   "metadata": {},
   "outputs": [
    {
     "name": "stderr",
     "output_type": "stream",
     "text": [
      "/home/virgilxw/miniconda3/lib/python3.10/site-packages/libpysal/weights/weights.py:172: UserWarning: The weights matrix is not fully connected: \n",
      " There are 520 disconnected components.\n",
      " There are 195 islands with ids: 99, 113, 921, 1567, 1722, 1724, 2523, 2536, 2559, 2562, 2566, 2612, 2619, 2630, 3467, 3476, 3482, 3510, 3513, 3514, 3515, 3516, 3524, 4055, 4177, 4178, 4188, 4189, 4238, 4670, 4819, 4820, 4947, 5488, 5502, 5611, 5639, 5651, 5672, 5676, 6193, 6322, 6436, 6576, 7127, 7131, 7439, 7440, 7449, 7540, 8379, 8380, 8741, 8960, 9128, 9215, 9216, 9220, 9221, 9222, 9283, 9292, 10240, 12427, 12978, 13708, 14446, 15110, 15172, 15173, 15176, 16024, 16029, 16677, 16694, 16695, 17122, 17419, 17960, 18648, 18666, 18692, 21202, 22013, 22669, 22670, 24504, 24514, 24515, 25723, 26327, 26343, 29028, 29033, 29037, 29038, 29891, 31014, 32389, 32390, 32566, 33077, 33157, 33935, 34204, 34473, 34920, 35640, 36329, 41504, 42003, 42592, 44147, 44304, 44305, 44744, 45136, 45137, 45151, 45584, 45587, 45588, 45589, 46228, 46326, 49411, 51405, 51414, 53638, 55183, 56887, 57684, 58411, 64528, 65728, 66390, 67033, 67759, 67764, 67765, 67798, 69504, 69730, 69768, 69866, 69875, 70632, 72587, 72879, 73468, 73519, 74358, 74424, 74797, 74847, 74848, 74850, 74862, 74906, 75622, 75631, 75632, 75684, 75711, 75726, 75760, 75762, 75815, 75816, 75829, 75830, 75831, 75832, 75834, 75835, 75842, 75850, 75852, 75855, 75859, 75871, 76090, 76094, 76160, 76212, 76297, 76340, 76342, 76481, 76506, 76514, 76523, 76530, 76531, 76532.\n",
      "  warnings.warn(message)\n"
     ]
    }
   ],
   "source": [
    "### Distance Weight\n",
    "dist200 = libpysal.weights.DistanceBand.from_dataframe(buildings, 200, ids='uID')"
   ]
  },
  {
   "cell_type": "code",
   "execution_count": 6,
   "metadata": {},
   "outputs": [],
   "source": [
    "# @dask.delayed\n",
    "# def queen_contiguity_load(n1, includes_dict):\n",
    "#     chunk = gpd.read_parquet(f\"./out/singapore/expanded_cells_in_chunk_{int(n1)}.pq\")\n",
    "    \n",
    "#     # weights\n",
    "    # queen_1 = libpysal.weights.w_subset(momepy.sw_high(k=1, gdf=chunk, ids='uID'), includes_dict[str(n1)]).to_adjlist()\n",
    "    # queen_3 = libpysal.weights.w_subset(momepy.sw_high(k=3, gdf=chunk, ids='uID'), includes_dict[str(n1)]).to_adjlist()\n",
    "    \n",
    "#     return (queen_1, queen_3)"
   ]
  },
  {
   "cell_type": "code",
   "execution_count": 7,
   "metadata": {},
   "outputs": [],
   "source": [
    "# file_pattern = \"./out/singapore/expanded_cells_in_chunk_*.pq\"\n",
    "# file_list = glob.glob(file_pattern)\n",
    "# num_files = len(file_list)\n",
    "\n",
    "# weight_out = [process(n1, includes_dict) for n1 in tqdm(range(num_files))]\n",
    "\n",
    "# weight_out = [queen_contiguity_load(n1, includes_dict) for n1 in range(num_files)]\n",
    "\n",
    "# weight_out = dask.compute(weight_out)\n"
   ]
  },
  {
   "cell_type": "code",
   "execution_count": 8,
   "metadata": {},
   "outputs": [],
   "source": [
    "# queen_1 = libpysal.weights.W.from_adjlist(pd.concat(weight_out[0][i][0] for i in range(num_files)))\n",
    "\n",
    "# queen_3 = libpysal.weights.W.from_adjlist(pd.concat(weight_out[0][i][1] for i in range(num_files)))"
   ]
  },
  {
   "cell_type": "code",
   "execution_count": 9,
   "metadata": {},
   "outputs": [],
   "source": [
    "tessellation_bridged = gpd.read_parquet(\"./out/singapore/tessellation_bridges.pq\")"
   ]
  },
  {
   "cell_type": "code",
   "execution_count": 10,
   "metadata": {},
   "outputs": [],
   "source": [
    "queen_1 = libpysal.weights.contiguity.Queen.from_dataframe(tessellation_bridged, ids=\"uID\", silence_warnings=True)\n",
    "queen_3 = momepy.sw_high(k=3, weights=queen_1)"
   ]
  },
  {
   "cell_type": "code",
   "execution_count": 11,
   "metadata": {},
   "outputs": [],
   "source": [
    "# # Find the uIDs in tessellation that are not in buildings\n",
    "# tessellation_uids = set(tessellation['uID'])\n",
    "# buildings_uids = set(buildings['uID'])\n",
    "# new_uids = tessellation_uids - buildings_uids\n",
    "\n",
    "# # Create a new GeoDataFrame with the new uIDs and empty geometry\n",
    "# new_rows = pd.DataFrame({'uID': list(new_uids)})\n",
    "# new_rows['geometry'] = None\n",
    "# new_gdf = gpd.GeoDataFrame(new_rows, crs=buildings.crs)\n",
    "\n",
    "# # Append the new GeoDataFrame to buildings\n",
    "# new_buildings = pd.concat([buildings, new_gdf], ignore_index=True)"
   ]
  },
  {
   "cell_type": "code",
   "execution_count": 12,
   "metadata": {},
   "outputs": [
    {
     "data": {
      "application/vnd.jupyter.widget-view+json": {
       "model_id": "64279c0d5bd84696a76d2428b513ed30",
       "version_major": 2,
       "version_minor": 0
      },
      "text/plain": [
       "  0%|          | 0/76533 [00:00<?, ?it/s]"
      ]
     },
     "metadata": {},
     "output_type": "display_data"
    },
    {
     "name": "stderr",
     "output_type": "stream",
     "text": [
      "/home/virgilxw/miniconda3/lib/python3.10/site-packages/momepy/shape.py:962: ShapelyDeprecationWarning: The 'type' attribute is deprecated, and will be removed in the future. You can use the 'geom_type' attribute instead.\n",
      "  if geom.type == \"Polygon\":\n",
      "/home/virgilxw/miniconda3/lib/python3.10/site-packages/momepy/shape.py:956: RuntimeWarning: invalid value encountered in arccos\n",
      "  angle = np.degrees(np.arccos(cosine_angle))\n",
      "/home/virgilxw/miniconda3/lib/python3.10/site-packages/numpy/core/fromnumeric.py:3432: RuntimeWarning: Mean of empty slice.\n",
      "  return _methods._mean(a, axis=axis, dtype=dtype,\n",
      "/home/virgilxw/miniconda3/lib/python3.10/site-packages/numpy/core/_methods.py:190: RuntimeWarning: invalid value encountered in double_scalars\n",
      "  ret = ret.dtype.type(ret / rcount)\n"
     ]
    },
    {
     "data": {
      "application/vnd.jupyter.widget-view+json": {
       "model_id": "7bf8a1ba92a440f4972fe835abfea456",
       "version_major": 2,
       "version_minor": 0
      },
      "text/plain": [
       "  0%|          | 0/76533 [00:00<?, ?it/s]"
      ]
     },
     "metadata": {},
     "output_type": "display_data"
    },
    {
     "name": "stderr",
     "output_type": "stream",
     "text": [
      "/home/virgilxw/miniconda3/lib/python3.10/site-packages/momepy/distribution.py:74: ShapelyDeprecationWarning: The 'type' attribute is deprecated, and will be removed in the future. You can use the 'geom_type' attribute instead.\n",
      "  if geom.type in [\"Polygon\", \"MultiPolygon\", \"LinearRing\"]:\n"
     ]
    }
   ],
   "source": [
    "### Building Area\n",
    "buildings['area'] = momepy.Area(buildings).series\n",
    "\n",
    "## Building Shapes\n",
    "\n",
    "### Circular Compactness\n",
    "buildings['circular_com'] =  momepy.CircularCompactness(buildings).series\n",
    "\n",
    "### Elongation\n",
    "blg_elongation = momepy.Elongation(buildings)\n",
    "buildings['elongation'] = blg_elongation.series\n",
    "\n",
    "## Squareness\n",
    "blg_squareness = momepy.Squareness(buildings)\n",
    "buildings['squareness'] = blg_squareness.series\n",
    "\n",
    "buildings['eri'] = momepy.EquivalentRectangularIndex(buildings).series\n",
    "\n",
    "buildings['area'] = momepy.Area(buildings).series\n",
    "\n",
    "\n",
    "buildings['orientation'] = momepy.Orientation(buildings).series"
   ]
  },
  {
   "cell_type": "code",
   "execution_count": 13,
   "metadata": {},
   "outputs": [
    {
     "data": {
      "application/vnd.jupyter.widget-view+json": {
       "model_id": "f901a4ded3d6419ebbd1ccca42f04297",
       "version_major": 2,
       "version_minor": 0
      },
      "text/plain": [
       "  0%|          | 0/76498 [00:00<?, ?it/s]"
      ]
     },
     "metadata": {},
     "output_type": "display_data"
    },
    {
     "data": {
      "application/vnd.jupyter.widget-view+json": {
       "model_id": "617ccc4c1c264be2a199ee8f2e459e43",
       "version_major": 2,
       "version_minor": 0
      },
      "text/plain": [
       "  0%|          | 0/76498 [00:00<?, ?it/s]"
      ]
     },
     "metadata": {},
     "output_type": "display_data"
    },
    {
     "data": {
      "application/vnd.jupyter.widget-view+json": {
       "model_id": "6a0c5cdd1a7b4e7fa52a9a4995362dff",
       "version_major": 2,
       "version_minor": 0
      },
      "text/plain": [
       "  0%|          | 0/76498 [00:00<?, ?it/s]"
      ]
     },
     "metadata": {},
     "output_type": "display_data"
    },
    {
     "data": {
      "application/vnd.jupyter.widget-view+json": {
       "model_id": "313eb993821b4b7abec3f41431077e85",
       "version_major": 2,
       "version_minor": 0
      },
      "text/plain": [
       "  0%|          | 0/76498 [00:00<?, ?it/s]"
      ]
     },
     "metadata": {},
     "output_type": "display_data"
    },
    {
     "data": {
      "application/vnd.jupyter.widget-view+json": {
       "model_id": "0cd17c0bd28943bc918cd047a8c217af",
       "version_major": 2,
       "version_minor": 0
      },
      "text/plain": [
       "  0%|          | 0/76498 [00:00<?, ?it/s]"
      ]
     },
     "metadata": {},
     "output_type": "display_data"
    },
    {
     "data": {
      "application/vnd.jupyter.widget-view+json": {
       "model_id": "36ad7e73712b427e9a84af3eb1f8e1b1",
       "version_major": 2,
       "version_minor": 0
      },
      "text/plain": [
       "  0%|          | 0/76498 [00:00<?, ?it/s]"
      ]
     },
     "metadata": {},
     "output_type": "display_data"
    },
    {
     "data": {
      "application/vnd.jupyter.widget-view+json": {
       "model_id": "d712ea1aeea5457fa19b7efcd2f5c534",
       "version_major": 2,
       "version_minor": 0
      },
      "text/plain": [
       "  0%|          | 0/76498 [00:00<?, ?it/s]"
      ]
     },
     "metadata": {},
     "output_type": "display_data"
    },
    {
     "data": {
      "application/vnd.jupyter.widget-view+json": {
       "model_id": "dccb6281982b4c0c8c3d6eadecbdbcde",
       "version_major": 2,
       "version_minor": 0
      },
      "text/plain": [
       "  0%|          | 0/76498 [00:00<?, ?it/s]"
      ]
     },
     "metadata": {},
     "output_type": "display_data"
    }
   ],
   "source": [
    "tessellation[\"convexity\"] = momepy.Convexity(tessellation).series\n",
    "tessellation[\"area\"] = momepy.Area(tessellation).series\n",
    "\n",
    "tessellation[\"neighbours\"] = momepy.Neighbors(tessellation, queen_3,'uID').series\n",
    "tessellation[\"neighbours400\"] = momepy.Neighbors(tessellation, dist200, 'uID').series\n",
    "tessellation[\"covered_area\"] = momepy.CoveredArea(tessellation, queen_1, \"uID\", verbose=False).series\n",
    "\n",
    "areas = momepy.Area(tessellation).series\n",
    "tessellation[\"mean_area\"] = momepy.AverageCharacter(\n",
    "tessellation, values=areas, spatial_weights=queen_3, unique_id='uID').mean\n",
    "\n",
    "tessellation[\"mean_area_iq\"] = momepy.AverageCharacter(\n",
    "    tessellation, areas, queen_3, 'uID', rng=(25, 75)).mean\n",
    "\n",
    "tessellation[\"area_rng\"] = momepy.Range(tessellation, values='area',\n",
    "                                        spatial_weights=queen_3, unique_id='uID').series\n",
    "tessellation[\"area_iqr\"] = momepy.Range(tessellation, values='area',\n",
    "                        spatial_weights=queen_3, unique_id='uID',\n",
    "                        rng=(25, 75)).series\n",
    "tessellation[\"rea_theil\"] = momepy.Theil(tessellation, values='area',\n",
    "                        spatial_weights=queen_3,\n",
    "                        unique_id='uID').series\n",
    "\n",
    "tessellation[\"shannon\"] = momepy.Shannon(tessellation, values='area',spatial_weights=queen_3, unique_id='uID').series\n"
   ]
  },
  {
   "cell_type": "code",
   "execution_count": 14,
   "metadata": {},
   "outputs": [
    {
     "name": "stderr",
     "output_type": "stream",
     "text": [
      "/home/virgilxw/miniconda3/lib/python3.10/site-packages/momepy/shape.py:1286: ShapelyDeprecationWarning: The 'type' attribute is deprecated, and will be removed in the future. You can use the 'geom_type' attribute instead.\n",
      "  if geom.type == \"LineString\"\n"
     ]
    }
   ],
   "source": [
    "edg_lin = momepy.Linearity(streets)\n",
    "streets['linearity'] = edg_lin.series\n",
    "\n",
    "profile = momepy.StreetProfile(streets, buildings)\n",
    "streets[\"width\"] = profile.w\n",
    "streets[\"width_deviation\"] = profile.wd\n",
    "streets[\"openness\"] = profile.o"
   ]
  },
  {
   "cell_type": "code",
   "execution_count": 15,
   "metadata": {},
   "outputs": [],
   "source": [
    "# primal = momepy.gdf_to_nx(streets, approach='primal')"
   ]
  },
  {
   "cell_type": "code",
   "execution_count": 16,
   "metadata": {},
   "outputs": [
    {
     "name": "stdout",
     "output_type": "stream",
     "text": [
      "CPU times: user 2 µs, sys: 1e+03 ns, total: 3 µs\n",
      "Wall time: 4.77 µs\n"
     ]
    }
   ],
   "source": [
    "%%time\n",
    "# momepy.node_degree(primal)"
   ]
  },
  {
   "cell_type": "code",
   "execution_count": 17,
   "metadata": {},
   "outputs": [
    {
     "name": "stdout",
     "output_type": "stream",
     "text": [
      "CPU times: user 2 µs, sys: 1e+03 ns, total: 3 µs\n",
      "Wall time: 6.2 µs\n"
     ]
    }
   ],
   "source": [
    "%%time\n",
    "# primal = momepy.closeness_centrality(primal, radius=400, name='closeness400', distance='mm_len', weight='mm_len')"
   ]
  },
  {
   "cell_type": "code",
   "execution_count": 18,
   "metadata": {},
   "outputs": [
    {
     "name": "stdout",
     "output_type": "stream",
     "text": [
      "CPU times: user 2 µs, sys: 1e+03 ns, total: 3 µs\n",
      "Wall time: 6.68 µs\n"
     ]
    }
   ],
   "source": [
    "%%time\n",
    "# primal = momepy.meshedness(primal, radius=400, distance=\"mm_len\")"
   ]
  },
  {
   "cell_type": "code",
   "execution_count": 19,
   "metadata": {},
   "outputs": [],
   "source": [
    "# %%time\n",
    "# primal = momepy.straightness_centrality(primal)"
   ]
  },
  {
   "cell_type": "code",
   "execution_count": 20,
   "metadata": {},
   "outputs": [],
   "source": [
    "# %%time\n",
    "# primal = momepy.closeness_centrality(primal, name='closeness_global', weight='mm_len')"
   ]
  },
  {
   "cell_type": "code",
   "execution_count": 21,
   "metadata": {},
   "outputs": [],
   "source": [
    "# %%time\n",
    "# primal =  momepy.betweenness_centrality(primal, name='betweenness_metric_n', mode='nodes', weight='mm_len', k=100)"
   ]
  },
  {
   "cell_type": "code",
   "execution_count": 22,
   "metadata": {},
   "outputs": [],
   "source": [
    "# %%time\n",
    "# primal = momepy.straightness_centrality(primal)\n",
    "# # momepy.mean_nodes(primal, 'straightness')\n",
    "# momepy.mean_nodes(primal, 'closeness400')\n",
    "# # momepy.mean_nodes(primal, 'closeness_global')\n",
    "# # momepy.mean_nodes(primal, 'betweenness_metric_n')\n",
    "\n",
    "# nodes, streets = momepy.nx_to_gdf(primal)"
   ]
  },
  {
   "cell_type": "code",
   "execution_count": 23,
   "metadata": {},
   "outputs": [],
   "source": [
    "# dual = momepy.gdf_to_nx(streets, approach='dual')\n",
    "\n",
    "# dual = momepy.closeness_centrality(dual, radius=5, name='angcloseness400', weight='angle')\n",
    "\n",
    "# # dual = momepy.closeness_centrality(dual, name='closeness_global_ang', weight='angle')\n",
    "\n",
    "# # dual = momepy.betweenness_centrality(dual, name='angbetweenness', mode='nodes', weight='angle')\n",
    "\n",
    "# edges_d = momepy.nx_to_gdf(dual)\n"
   ]
  },
  {
   "cell_type": "code",
   "execution_count": 24,
   "metadata": {},
   "outputs": [],
   "source": [
    "# Find the uIDs in tessellation that are not in buildings\n",
    "tessellation_uids = set(tessellation['uID'])\n",
    "buildings_uids = set(buildings['uID'])\n",
    "new_uids = tessellation_uids - buildings_uids\n",
    "\n",
    "# Create a new GeoDataFrame with the new uIDs and empty geometry\n",
    "new_rows = pd.DataFrame({'uID': list(new_uids)})\n",
    "new_rows['geometry'] = None\n",
    "new_gdf = gpd.GeoDataFrame(new_rows, crs=buildings.crs)\n",
    "\n",
    "# Append the new GeoDataFrame to buildings\n",
    "buildings = pd.concat([buildings, new_gdf], ignore_index=True)"
   ]
  },
  {
   "cell_type": "code",
   "execution_count": 25,
   "metadata": {},
   "outputs": [
    {
     "data": {
      "text/html": [
       "<div>\n",
       "<style scoped>\n",
       "    .dataframe tbody tr th:only-of-type {\n",
       "        vertical-align: middle;\n",
       "    }\n",
       "\n",
       "    .dataframe tbody tr th {\n",
       "        vertical-align: top;\n",
       "    }\n",
       "\n",
       "    .dataframe thead th {\n",
       "        text-align: right;\n",
       "    }\n",
       "</style>\n",
       "<table border=\"1\" class=\"dataframe\">\n",
       "  <thead>\n",
       "    <tr style=\"text-align: right;\">\n",
       "      <th></th>\n",
       "      <th>geometry</th>\n",
       "      <th>uID</th>\n",
       "      <th>area</th>\n",
       "      <th>circular_com</th>\n",
       "      <th>elongation</th>\n",
       "      <th>squareness</th>\n",
       "      <th>eri</th>\n",
       "      <th>orientation</th>\n",
       "    </tr>\n",
       "  </thead>\n",
       "  <tbody>\n",
       "    <tr>\n",
       "      <th>0</th>\n",
       "      <td>POLYGON ((4098.105 23706.883, 4109.145 23706.8...</td>\n",
       "      <td>0.0</td>\n",
       "      <td>135.936426</td>\n",
       "      <td>0.632538</td>\n",
       "      <td>0.896277</td>\n",
       "      <td>0.028693</td>\n",
       "      <td>1.000012</td>\n",
       "      <td>0.004613</td>\n",
       "    </tr>\n",
       "    <tr>\n",
       "      <th>1</th>\n",
       "      <td>POLYGON ((4169.087 23688.953, 4169.269 23731.3...</td>\n",
       "      <td>1.0</td>\n",
       "      <td>940.600377</td>\n",
       "      <td>0.523132</td>\n",
       "      <td>0.523543</td>\n",
       "      <td>0.012337</td>\n",
       "      <td>1.000018</td>\n",
       "      <td>0.245322</td>\n",
       "    </tr>\n",
       "    <tr>\n",
       "      <th>2</th>\n",
       "      <td>POLYGON ((4129.786 23795.994, 4196.953 23795.9...</td>\n",
       "      <td>2.0</td>\n",
       "      <td>3326.535481</td>\n",
       "      <td>0.608176</td>\n",
       "      <td>0.737375</td>\n",
       "      <td>0.000006</td>\n",
       "      <td>1.000000</td>\n",
       "      <td>0.004602</td>\n",
       "    </tr>\n",
       "    <tr>\n",
       "      <th>3</th>\n",
       "      <td>POLYGON ((3940.171 23898.114, 3939.741 23952.6...</td>\n",
       "      <td>3.0</td>\n",
       "      <td>1412.582668</td>\n",
       "      <td>0.493066</td>\n",
       "      <td>0.474393</td>\n",
       "      <td>0.012235</td>\n",
       "      <td>1.000018</td>\n",
       "      <td>0.451083</td>\n",
       "    </tr>\n",
       "    <tr>\n",
       "      <th>4</th>\n",
       "      <td>POLYGON ((3908.968 23952.996, 3934.866 23953.1...</td>\n",
       "      <td>4.0</td>\n",
       "      <td>1412.739688</td>\n",
       "      <td>0.493120</td>\n",
       "      <td>0.474631</td>\n",
       "      <td>0.009556</td>\n",
       "      <td>0.999984</td>\n",
       "      <td>0.451164</td>\n",
       "    </tr>\n",
       "  </tbody>\n",
       "</table>\n",
       "</div>"
      ],
      "text/plain": [
       "                                            geometry  uID         area  \\\n",
       "0  POLYGON ((4098.105 23706.883, 4109.145 23706.8...  0.0   135.936426   \n",
       "1  POLYGON ((4169.087 23688.953, 4169.269 23731.3...  1.0   940.600377   \n",
       "2  POLYGON ((4129.786 23795.994, 4196.953 23795.9...  2.0  3326.535481   \n",
       "3  POLYGON ((3940.171 23898.114, 3939.741 23952.6...  3.0  1412.582668   \n",
       "4  POLYGON ((3908.968 23952.996, 3934.866 23953.1...  4.0  1412.739688   \n",
       "\n",
       "   circular_com  elongation  squareness       eri  orientation  \n",
       "0      0.632538    0.896277    0.028693  1.000012     0.004613  \n",
       "1      0.523132    0.523543    0.012337  1.000018     0.245322  \n",
       "2      0.608176    0.737375    0.000006  1.000000     0.004602  \n",
       "3      0.493066    0.474393    0.012235  1.000018     0.451083  \n",
       "4      0.493120    0.474631    0.009556  0.999984     0.451164  "
      ]
     },
     "execution_count": 25,
     "metadata": {},
     "output_type": "execute_result"
    }
   ],
   "source": [
    "buildings.head()"
   ]
  },
  {
   "cell_type": "code",
   "execution_count": 26,
   "metadata": {},
   "outputs": [
    {
     "data": {
      "application/vnd.jupyter.widget-view+json": {
       "model_id": "111557f26b244d79bcd395f3d6a95e0a",
       "version_major": 2,
       "version_minor": 0
      },
      "text/plain": [
       "  0%|          | 0/76533 [00:00<?, ?it/s]"
      ]
     },
     "metadata": {},
     "output_type": "display_data"
    },
    {
     "data": {
      "application/vnd.jupyter.widget-view+json": {
       "model_id": "7655f6c122ec4bc0adc8d4f90e7ae35b",
       "version_major": 2,
       "version_minor": 0
      },
      "text/plain": [
       "  0%|          | 0/76533 [00:00<?, ?it/s]"
      ]
     },
     "metadata": {},
     "output_type": "display_data"
    },
    {
     "name": "stdout",
     "output_type": "stream",
     "text": [
      "Computing mean interbuilding distances...\n"
     ]
    },
    {
     "data": {
      "application/vnd.jupyter.widget-view+json": {
       "model_id": "da723a95c4924ed9b6311e5e2b976a7a",
       "version_major": 2,
       "version_minor": 0
      },
      "text/plain": [
       "  0%|          | 0/76533 [00:00<?, ?it/s]"
      ]
     },
     "metadata": {},
     "output_type": "display_data"
    },
    {
     "name": "stdout",
     "output_type": "stream",
     "text": [
      "Computing mean interbuilding distances...\n"
     ]
    },
    {
     "data": {
      "application/vnd.jupyter.widget-view+json": {
       "model_id": "e229159351e7460ca7a3179a721c3bd1",
       "version_major": 2,
       "version_minor": 0
      },
      "text/plain": [
       "  0%|          | 0/76533 [00:00<?, ?it/s]"
      ]
     },
     "metadata": {},
     "output_type": "display_data"
    }
   ],
   "source": [
    "circular_compactness = momepy.CircularCompactness(buildings)\n",
    "buildings['weighted_circom'] = momepy.WeightedCharacter(\n",
    "buildings, circular_compactness.series, queen_3, 'uID', momepy.Area(buildings).series).series\n",
    "\n",
    "buildings['neighbour_dist'] = momepy.NeighborDistance(buildings, queen_1, 'uID').series\n",
    "\n",
    "buildings['interbuilding_distance'] = momepy.MeanInterbuildingDistance(buildings, queen_1, 'uID', 3, verbose=False).series\n",
    "\n",
    "interblg_distance = momepy.MeanInterbuildingDistance(\n",
    "buildings, queen_1, 'uID', spatial_weights_higher=queen_3)\n",
    "buildings['mean_ib_dist'] = interblg_distance.series\n",
    "\n",
    "buildings['mean_ib_dist'] = momepy.MeanInterbuildingDistance(\n",
    "    buildings, queen_1, 'uID', order=3).series\n",
    "\n",
    "\n"
   ]
  },
  {
   "cell_type": "code",
   "execution_count": 27,
   "metadata": {},
   "outputs": [],
   "source": [
    "cols = list(streets.columns)\n",
    "cols.remove('nID')\n",
    "cols.remove('geometry')"
   ]
  },
  {
   "cell_type": "code",
   "execution_count": 28,
   "metadata": {},
   "outputs": [
    {
     "data": {
      "application/vnd.jupyter.widget-view+json": {
       "model_id": "31160c5ec6c54b389bca3a2410f0e54d",
       "version_major": 2,
       "version_minor": 0
      },
      "text/plain": [
       "  0%|          | 0/76533 [00:00<?, ?it/s]"
      ]
     },
     "metadata": {},
     "output_type": "display_data"
    }
   ],
   "source": [
    "buildings['weighted_circom'] = momepy.WeightedCharacter(\n",
    "buildings, circular_compactness.series, queen_3, 'uID', momepy.Area(buildings).series).series"
   ]
  },
  {
   "cell_type": "code",
   "execution_count": 29,
   "metadata": {},
   "outputs": [
    {
     "name": "stderr",
     "output_type": "stream",
     "text": [
      "/home/virgilxw/miniconda3/lib/python3.10/site-packages/geopandas/geodataframe.py:2173: UserWarning: CRS mismatch between the CRS of left geometries and the CRS of right geometries.\n",
      "Use `to_crs()` to reproject one of the input geometries to match the CRS of the other.\n",
      "\n",
      "Left CRS: None\n",
      "Right CRS: EPSG:3414\n",
      "\n",
      "  return geopandas.sjoin_nearest(\n"
     ]
    }
   ],
   "source": [
    "buildings = buildings.sjoin_nearest(streets.drop(cols,axis=1).reset_index(drop=True), max_distance=1000, how=\"left\")"
   ]
  },
  {
   "cell_type": "code",
   "execution_count": 30,
   "metadata": {},
   "outputs": [],
   "source": [
    "buildings = buildings.dropna(subset=['geometry'])\n",
    "tessellation = tessellation.dropna(subset=['geometry'])"
   ]
  },
  {
   "cell_type": "code",
   "execution_count": 31,
   "metadata": {},
   "outputs": [
    {
     "data": {
      "application/vnd.jupyter.widget-view+json": {
       "model_id": "68b98c8d068745dc9cca60a893eb2207",
       "version_major": 2,
       "version_minor": 0
      },
      "text/plain": [
       "  0%|          | 0/81694 [00:00<?, ?it/s]"
      ]
     },
     "metadata": {},
     "output_type": "display_data"
    },
    {
     "name": "stderr",
     "output_type": "stream",
     "text": [
      "/home/virgilxw/miniconda3/lib/python3.10/site-packages/momepy/distribution.py:74: ShapelyDeprecationWarning: The 'type' attribute is deprecated, and will be removed in the future. You can use the 'geom_type' attribute instead.\n",
      "  if geom.type in [\"Polygon\", \"MultiPolygon\", \"LinearRing\"]:\n"
     ]
    },
    {
     "data": {
      "application/vnd.jupyter.widget-view+json": {
       "model_id": "87f1be9b78d244ab8b34eca30f1179d3",
       "version_major": 2,
       "version_minor": 0
      },
      "text/plain": [
       "  0%|          | 0/76498 [00:00<?, ?it/s]"
      ]
     },
     "metadata": {},
     "output_type": "display_data"
    }
   ],
   "source": [
    "buildings['orientation'] = momepy.Orientation(buildings).series\n",
    "tessellation['orientation'] = momepy.Orientation(tessellation).series"
   ]
  },
  {
   "cell_type": "code",
   "execution_count": 32,
   "metadata": {},
   "outputs": [
    {
     "name": "stderr",
     "output_type": "stream",
     "text": [
      "/home/virgilxw/miniconda3/lib/python3.10/site-packages/momepy/distribution.py:84: ShapelyDeprecationWarning: The 'type' attribute is deprecated, and will be removed in the future. You can use the 'geom_type' attribute instead.\n",
      "  elif geom.type in [\"LineString\", \"MultiLineString\"]:\n"
     ]
    }
   ],
   "source": [
    "str_align = momepy.StreetAlignment(buildings, streets,\n",
    "                                   'orientation', 'nID',\n",
    "                                   'nID')\n",
    "buildings['str_align'] = str_align.series"
   ]
  },
  {
   "cell_type": "code",
   "execution_count": 33,
   "metadata": {},
   "outputs": [],
   "source": [
    "blg_cell_align = momepy.CellAlignment(buildings, tessellation,\n",
    "                                      'orientation', 'orientation',\n",
    "                                      'uID', 'uID')\n",
    "buildings['cell_align'] = blg_cell_align.series"
   ]
  },
  {
   "cell_type": "code",
   "execution_count": 34,
   "metadata": {},
   "outputs": [],
   "source": [
    "tessellation['car'] = momepy.AreaRatio(tessellation, buildings, 'area', 'area', 'uID').series"
   ]
  },
  {
   "cell_type": "code",
   "execution_count": 35,
   "metadata": {},
   "outputs": [],
   "source": [
    "nodes = gpd.read_parquet(\"./out/singapore/vertices_frame.pq\")\n",
    "edges = gpd.read_parquet(\"./out/singapore/edges_frame.pq\")"
   ]
  },
  {
   "cell_type": "code",
   "execution_count": 36,
   "metadata": {},
   "outputs": [],
   "source": [
    "buildings = buildings.drop([\"uID\", \"nID\", \"index_right\"], axis=1)\n",
    "nodes = nodes.drop([\"vertID\"], axis=1)\n",
    "edges = edges.drop(\"edgeID\", axis=1)\n",
    "buildings = buildings.sjoin_nearest(nodes.reset_index(drop=True), max_distance=1000, how=\"left\").drop([\"index_right\"], axis=1)\n",
    "buildings = buildings.sjoin_nearest(edges.reset_index(drop=True), max_distance=1000, how=\"left\")"
   ]
  },
  {
   "cell_type": "code",
   "execution_count": 37,
   "metadata": {},
   "outputs": [],
   "source": [
    "tessellation = tessellation.merge(buildings, how='left', left_on = \"uID\", right_index=True )\n",
    "tessellation = tessellation.drop(['eID', \"geometry_y\", \"index_right\"], axis=1)\n",
    "tessellation = tessellation.rename(columns={\"geometry_x\": \"geometry\"})\n",
    "tessellation = gpd.GeoDataFrame(tessellation.dropna(subset=['geometry']))"
   ]
  },
  {
   "cell_type": "code",
   "execution_count": null,
   "metadata": {},
   "outputs": [],
   "source": [
    "with open('./out/singapore/weights.pickle', 'wb') as f:\n",
    "    pickle.dump(queen_1, f)\n",
    "    pickle.dump(queen_3, f)\n",
    "    pickle.dump(dist200, f)\n",
    "    f.close()"
   ]
  },
  {
   "cell_type": "code",
   "execution_count": null,
   "metadata": {},
   "outputs": [],
   "source": [
    "# tessellation.to_parquet(\"./out/singapore/tessellation_with_data.pq\")"
   ]
  }
 ],
 "metadata": {
  "kernelspec": {
   "display_name": "base",
   "language": "python",
   "name": "python3"
  },
  "language_info": {
   "codemirror_mode": {
    "name": "ipython",
    "version": 3
   },
   "file_extension": ".py",
   "mimetype": "text/x-python",
   "name": "python",
   "nbconvert_exporter": "python",
   "pygments_lexer": "ipython3",
   "version": "3.10.10"
  },
  "orig_nbformat": 4
 },
 "nbformat": 4,
 "nbformat_minor": 2
}
