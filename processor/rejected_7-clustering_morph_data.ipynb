{
 "cells": [
  {
   "cell_type": "code",
   "execution_count": null,
   "metadata": {},
   "outputs": [],
   "source": [
    "import geopandas as gpd\n",
    "import pandas as pd\n",
    "import pickle\n",
    "import momepy\n",
    "import dask\n",
    "from dask.distributed import Client, LocalCluster\n",
    "from tqdm.auto import tqdm\n",
    "from scripts.percentile import Percentiles\n"
   ]
  },
  {
   "cell_type": "code",
   "execution_count": null,
   "metadata": {
    "tags": [
     "parameters"
    ]
   },
   "outputs": [],
   "source": [
    "local_crs = 3414\n",
    "\n",
    "place = \"singapore\""
   ]
  },
  {
   "cell_type": "code",
   "execution_count": null,
   "metadata": {},
   "outputs": [],
   "source": [
    "daskCluster = LocalCluster(threads_per_worker=2,\n",
    "                n_workers=8, memory_limit='100GB')\n",
    "\n",
    "client = Client(daskCluster, timeout=\"300s\")\n",
    "\n",
    "client\n",
    "\n"
   ]
  },
  {
   "cell_type": "code",
   "execution_count": null,
   "metadata": {},
   "outputs": [],
   "source": [
    "tessellation = gpd.read_parquet(f\"./out/{place}/tessellation_stats.pq\")\n",
    "buildings = gpd.read_parquet(f\"./out/{place}/buildings.pq\")\n",
    "\n",
    "with open(f\"./out/{place}/weights.pickle\", 'rb') as f:\n",
    "    queen_1 = pickle.load(f)\n",
    "    queen_3 = pickle.load(f)\n",
    "    dist200 = pickle.load(f)\n",
    "    f.close()\n",
    "    "
   ]
  },
  {
   "cell_type": "code",
   "execution_count": null,
   "metadata": {},
   "outputs": [],
   "source": [
    "percentiles = []\n",
    "for column in tqdm(tessellation.columns.drop([\"geometry\", \"uID\"]), total = len(tessellation.columns.drop([\"geometry\", \"uID\"]))):\n",
    "    perc = Percentiles(tessellation, column, queen_3, \"uID\", verbose=True, client=client).frame\n",
    "    perc.columns = [f\"{column}_\" + str(x) for x in perc.columns]\n",
    "    percentiles.append(perc)\n",
    "    \n",
    "percentiles.append(tessellation[[\"uID\", \"geometry\"]])"
   ]
  },
  {
   "cell_type": "code",
   "execution_count": null,
   "metadata": {},
   "outputs": [],
   "source": [
    "percentiles_joined = pd.concat(percentiles, axis=1)\n",
    "percentiles_joined.head()"
   ]
  },
  {
   "cell_type": "code",
   "execution_count": null,
   "metadata": {},
   "outputs": [],
   "source": [
    "percentiles_joined = gpd.GeoDataFrame(percentiles_joined, geometry=\"geometry\", crs=local_crs)"
   ]
  },
  {
   "cell_type": "code",
   "execution_count": null,
   "metadata": {},
   "outputs": [],
   "source": [
    "print(percentiles_joined.columns.tolist())"
   ]
  },
  {
   "cell_type": "code",
   "execution_count": null,
   "metadata": {},
   "outputs": [],
   "source": [
    "percentiles_joined.to_parquet(f\"./out/{place}/tessellation_percentiles.pq\")"
   ]
  },
  {
   "cell_type": "code",
   "execution_count": null,
   "metadata": {},
   "outputs": [],
   "source": []
  }
 ],
 "metadata": {
  "kernelspec": {
   "display_name": "base",
   "language": "python",
   "name": "python3"
  },
  "language_info": {
   "codemirror_mode": {
    "name": "ipython",
    "version": 3
   },
   "file_extension": ".py",
   "mimetype": "text/x-python",
   "name": "python",
   "nbconvert_exporter": "python",
   "pygments_lexer": "ipython3",
   "version": "3.10.10"
  }
 },
 "nbformat": 4,
 "nbformat_minor": 2
}
