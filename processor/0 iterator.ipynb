{
 "cells": [
  {
   "cell_type": "code",
   "execution_count": null,
   "metadata": {},
   "outputs": [],
   "source": [
    "import papermill as pm\n",
    "import geopandas as gpd\n",
    "import os\n",
    "import time"
   ]
  },
  {
   "cell_type": "code",
   "execution_count": null,
   "metadata": {},
   "outputs": [],
   "source": [
    "def run (local_crs, place, dist, study_area):\n",
    "    \n",
    "    # specify the directory path you want to create\n",
    "    directory = f\"./out/{place}/\"\n",
    "\n",
    "    # check if directory exists\n",
    "    if not os.path.exists(directory):\n",
    "        # create directory if it doesn't exist\n",
    "        os.makedirs(directory)\n",
    "\n",
    "    pm.execute_notebook(\n",
    "        '0.ipynb',\n",
    "        f'./out/{place}/0-output.ipynb',\n",
    "        parameters=dict(local_crs = local_crs, place = place, dist=dist, study_area=study_area)\n",
    "    )"
   ]
  },
  {
   "cell_type": "code",
   "execution_count": null,
   "metadata": {},
   "outputs": [],
   "source": [
    "# local_crs = 27700\n",
    "# place = \"glasgow\"\n",
    "# # latlng = (-4.251846930489373, 55.86421405612109)\n",
    "# dist = 30000\n",
    "# study_area = \"./source/glasgow_studyArea.shp\"\n",
    "# country = \"scotland\"\n",
    "\n",
    "# run(local_crs = local_crs, place = place, dist=dist, study_area=study_area)"
   ]
  },
  {
   "cell_type": "code",
   "execution_count": null,
   "metadata": {},
   "outputs": [],
   "source": [
    "# # local_crs = 3414\n",
    "# place = \"singapore\"\n",
    "# # latlng = (103.85137560792272, 1.2850449740774683)\n",
    "# dist = 30000\n",
    "# study_area = \"./source/singapore_studyArea.shp\"\n",
    "# local_crs=3414\n",
    "# country = \"singapore\"\n",
    "\n",
    "# run(local_crs = local_crs, place = place, dist=dist, study_area=study_area)"
   ]
  },
  {
   "cell_type": "code",
   "execution_count": null,
   "metadata": {},
   "outputs": [],
   "source": [
    "#   # Parameters\n",
    "# local_crs = 3003\n",
    "# place = \"torino\"\n",
    "# # latlng = \"( 7.66914A 8957200358, 45.07053971573356)\"\n",
    "# dist = 30000\n",
    "# study_area = \"./source/torino_studyArea.shp\"\n",
    "# country = \"italy\"\n",
    "\n",
    "# run(local_crs = local_crs, place = place, dist=dist, study_area=study_area)"
   ]
  },
  {
   "cell_type": "code",
   "execution_count": null,
   "metadata": {},
   "outputs": [],
   "source": [
    "  # Parameters\n",
    "local_crs = 27700\n",
    "place = \"London\"\n",
    "# latlng = \"(-0.12762423720182098, 51.50990169342525)\"\n",
    "dist = 30000\n",
    "study_area = \"./source/London_studyArea.shp\"\n",
    "country = \"United Kingdom\"\n",
    "\n",
    "run(local_crs = local_crs, place = place, dist=dist, study_area=study_area)"
   ]
  },
  {
   "cell_type": "code",
   "execution_count": null,
   "metadata": {},
   "outputs": [],
   "source": [
    "  # Parameters\n",
    "local_crs = 32115\n",
    "place = \"New_York\"\n",
    "# latlng = \"(-0.118, 45.510)\"\n",
    "dist = 30000\n",
    "study_area = \"./source/New_York_studyArea.shp\"\n",
    "country = \"USA\"\n",
    "\n",
    "run(local_crs = local_crs, place = place, dist=dist, study_area=study_area)"
   ]
  },
  {
   "cell_type": "code",
   "execution_count": null,
   "metadata": {},
   "outputs": [],
   "source": [
    "  # Parameters\n",
    "local_crs = 27571\n",
    "place = \"Paris\"\n",
    "# latlng = \"(-0.118, 45.510)\"\n",
    "dist = 30000\n",
    "study_area = \"./source/Paris_studyArea.shp\"\n",
    "country = \"France\"\n",
    "\n",
    "run(local_crs = local_crs, place = place, dist=dist, study_area=study_area)"
   ]
  },
  {
   "cell_type": "code",
   "execution_count": null,
   "metadata": {
    "tags": []
   },
   "outputs": [],
   "source": [
    "local_crs = 26917\n",
    "place = \"atlanta\"\n",
    "latlng = (-84.388168, 33.748783)\n",
    "dist = 30000\n",
    "study_area = \"./source/atlanta_studyArea.shp\""
   ]
  },
  {
   "cell_type": "code",
   "execution_count": null,
   "metadata": {},
   "outputs": [],
   "source": []
  }
 ],
 "metadata": {
  "kernelspec": {
   "display_name": "base",
   "language": "python",
   "name": "python3"
  },
  "language_info": {
   "codemirror_mode": {
    "name": "ipython",
    "version": 3
   },
   "file_extension": ".py",
   "mimetype": "text/x-python",
   "name": "python",
   "nbconvert_exporter": "python",
   "pygments_lexer": "ipython3",
   "version": "3.10.10"
  }
 },
 "nbformat": 4,
 "nbformat_minor": 2
}
