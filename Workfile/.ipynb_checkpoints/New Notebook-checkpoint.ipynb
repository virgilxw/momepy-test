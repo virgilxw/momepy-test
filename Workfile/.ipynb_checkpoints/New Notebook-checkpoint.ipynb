{
 "cells": [
  {
   "cell_type": "code",
   "execution_count": 2,
   "metadata": {},
   "outputs": [],
   "source": [
    "## Run in ArcGIS"
   ]
  },
  {
   "cell_type": "code",
   "execution_count": null,
   "metadata": {},
   "outputs": [],
   "source": [
    "import arcpy"
   ]
  },
  {
   "cell_type": "code",
   "execution_count": 4,
   "metadata": {},
   "outputs": [
    {
     "data": {
      "text/html": [
       "<div class='gpresult'><h2>Messages</h2><div id='messages' data-messages='[\"Start Time: Tuesday, 11 April 2023 12:47:11 am\",\"Succeeded at Tuesday, 11 April 2023 12:47:38 am (Elapsed Time: 26.95 seconds)\"]' data-show='true'><div id = 'default' /></div></div>"
      ],
      "text/plain": [
       "<Result 'streets_raw'>"
      ]
     },
     "execution_count": 4,
     "metadata": {},
     "output_type": "execute_result"
    }
   ],
   "source": [
    "# Define the input feature class or table\n",
    "input_layer = \"streets_raw\"\n",
    "\n",
    "# Define the name and data type of the new field\n",
    "new_field_name = \"IsMotorway\"\n",
    "new_field_type = \"SHORT\"\n",
    "\n",
    "# Add the new field to the input layer\n",
    "arcpy.AddField_management(input_layer, new_field_name, new_field_type)\n",
    "\n",
    "# Calculate the values for the new field using the values from the \"is_motorwa\" column\n",
    "expression = \"int(!is_motorwa!)\"\n",
    "arcpy.CalculateField_management(input_layer, new_field_name, expression, \"PYTHON3\")"
   ]
  },
  {
   "cell_type": "code",
   "execution_count": 16,
   "metadata": {},
   "outputs": [
    {
     "ename": "ExecuteError",
     "evalue": "Failed to execute. Parameters are not valid.\nERROR 000012: IsPrimary already exists\nFailed to execute (AddField).\n",
     "output_type": "error",
     "traceback": [
      "\u001b[0;31m---------------------------------------------------------------------------\u001b[0m\n\u001b[0;31mExecuteError\u001b[0m                              Traceback (most recent call last)",
      "In  \u001b[0;34m[16]\u001b[0m:\nLine \u001b[0;34m9\u001b[0m:     arcpy.AddField_management(input_layer, new_field_name, new_field_type)\n",
      "File \u001b[0;34mC:\\Program Files\\ArcGIS\\Pro\\Resources\\ArcPy\\arcpy\\management.py\u001b[0m, in \u001b[0;32mAddField\u001b[0m:\nLine \u001b[0;34m5745\u001b[0m:  \u001b[34mraise\u001b[39;49;00m e\n",
      "File \u001b[0;34mC:\\Program Files\\ArcGIS\\Pro\\Resources\\ArcPy\\arcpy\\management.py\u001b[0m, in \u001b[0;32mAddField\u001b[0m:\nLine \u001b[0;34m5742\u001b[0m:  retval = convertArcObjectToPythonObject(gp.AddField_management(*gp_fixargs((in_table, field_name, field_type, field_precision, field_scale, field_length, field_alias, field_is_nullable, field_is_required, field_domain), \u001b[34mTrue\u001b[39;49;00m)))\n",
      "File \u001b[0;34mC:\\Program Files\\ArcGIS\\Pro\\Resources\\ArcPy\\arcpy\\geoprocessing\\_base.py\u001b[0m, in \u001b[0;32m<lambda>\u001b[0m:\nLine \u001b[0;34m512\u001b[0m:   \u001b[34mreturn\u001b[39;49;00m \u001b[34mlambda\u001b[39;49;00m *args: val(*gp_fixargs(args, \u001b[34mTrue\u001b[39;49;00m))\n",
      "\u001b[0;31mExecuteError\u001b[0m: Failed to execute. Parameters are not valid.\nERROR 000012: IsPrimary already exists\nFailed to execute (AddField).\n\n\u001b[0;31m---------------------------------------------------------------------------\u001b[0m"
     ]
    }
   ],
   "source": [
    "# Define the input feature class or table\n",
    "input_layer = \"streets_raw\"\n",
    "\n",
    "# Define the name and data type of the new field\n",
    "new_field_name = \"IsPrimary\"\n",
    "new_field_type = \"SHORT\"\n",
    "\n",
    "# Add the new field to the input layer\n",
    "arcpy.AddField_management(input_layer, new_field_name, new_field_type)\n",
    "\n",
    "# Calculate the values for the new field using the values from the \"is_motorwa\" column\n",
    "expression = \"int(!is_primary!)\"\n",
    "arcpy.CalculateField_management(input_layer, new_field_name, expression, \"PYTHON3\")"
   ]
  },
  {
   "cell_type": "code",
   "execution_count": 17,
   "metadata": {},
   "outputs": [
    {
     "ename": "ExecuteError",
     "evalue": "Failed to execute. Parameters are not valid.\nERROR 000012: IsRound already exists\nFailed to execute (AddField).\n",
     "output_type": "error",
     "traceback": [
      "\u001b[0;31m---------------------------------------------------------------------------\u001b[0m\n\u001b[0;31mExecuteError\u001b[0m                              Traceback (most recent call last)",
      "In  \u001b[0;34m[17]\u001b[0m:\nLine \u001b[0;34m9\u001b[0m:     arcpy.AddField_management(input_layer, new_field_name, new_field_type)\n",
      "File \u001b[0;34mC:\\Program Files\\ArcGIS\\Pro\\Resources\\ArcPy\\arcpy\\management.py\u001b[0m, in \u001b[0;32mAddField\u001b[0m:\nLine \u001b[0;34m5745\u001b[0m:  \u001b[34mraise\u001b[39;49;00m e\n",
      "File \u001b[0;34mC:\\Program Files\\ArcGIS\\Pro\\Resources\\ArcPy\\arcpy\\management.py\u001b[0m, in \u001b[0;32mAddField\u001b[0m:\nLine \u001b[0;34m5742\u001b[0m:  retval = convertArcObjectToPythonObject(gp.AddField_management(*gp_fixargs((in_table, field_name, field_type, field_precision, field_scale, field_length, field_alias, field_is_nullable, field_is_required, field_domain), \u001b[34mTrue\u001b[39;49;00m)))\n",
      "File \u001b[0;34mC:\\Program Files\\ArcGIS\\Pro\\Resources\\ArcPy\\arcpy\\geoprocessing\\_base.py\u001b[0m, in \u001b[0;32m<lambda>\u001b[0m:\nLine \u001b[0;34m512\u001b[0m:   \u001b[34mreturn\u001b[39;49;00m \u001b[34mlambda\u001b[39;49;00m *args: val(*gp_fixargs(args, \u001b[34mTrue\u001b[39;49;00m))\n",
      "\u001b[0;31mExecuteError\u001b[0m: Failed to execute. Parameters are not valid.\nERROR 000012: IsRound already exists\nFailed to execute (AddField).\n\n\u001b[0;31m---------------------------------------------------------------------------\u001b[0m"
     ]
    }
   ],
   "source": [
    "# Define the input feature class or table\n",
    "input_layer = \"streets_raw\"\n",
    "\n",
    "# Define the name and data type of the new field\n",
    "new_field_name = \"IsRound\"\n",
    "new_field_type = \"SHORT\"\n",
    "\n",
    "# Add the new field to the input layer\n",
    "arcpy.AddField_management(input_layer, new_field_name, new_field_type)\n",
    "\n",
    "# Calculate the values for the new field using the values from the \"is_motorwa\" column\n",
    "expression = \"int(!is_roundab!)\"\n",
    "arcpy.CalculateField_management(input_layer, new_field_name, expression, \"PYTHON3\")"
   ]
  },
  {
   "cell_type": "code",
   "execution_count": 18,
   "metadata": {},
   "outputs": [
    {
     "ename": "ExecuteError",
     "evalue": "Failed to execute. Parameters are not valid.\nERROR 000012: allones already exists\nFailed to execute (AddField).\n",
     "output_type": "error",
     "traceback": [
      "\u001b[0;31m---------------------------------------------------------------------------\u001b[0m\n\u001b[0;31mExecuteError\u001b[0m                              Traceback (most recent call last)",
      "In  \u001b[0;34m[18]\u001b[0m:\nLine \u001b[0;34m9\u001b[0m:     arcpy.AddField_management(input_layer, new_field_name, new_field_type)\n",
      "File \u001b[0;34mC:\\Program Files\\ArcGIS\\Pro\\Resources\\ArcPy\\arcpy\\management.py\u001b[0m, in \u001b[0;32mAddField\u001b[0m:\nLine \u001b[0;34m5745\u001b[0m:  \u001b[34mraise\u001b[39;49;00m e\n",
      "File \u001b[0;34mC:\\Program Files\\ArcGIS\\Pro\\Resources\\ArcPy\\arcpy\\management.py\u001b[0m, in \u001b[0;32mAddField\u001b[0m:\nLine \u001b[0;34m5742\u001b[0m:  retval = convertArcObjectToPythonObject(gp.AddField_management(*gp_fixargs((in_table, field_name, field_type, field_precision, field_scale, field_length, field_alias, field_is_nullable, field_is_required, field_domain), \u001b[34mTrue\u001b[39;49;00m)))\n",
      "File \u001b[0;34mC:\\Program Files\\ArcGIS\\Pro\\Resources\\ArcPy\\arcpy\\geoprocessing\\_base.py\u001b[0m, in \u001b[0;32m<lambda>\u001b[0m:\nLine \u001b[0;34m512\u001b[0m:   \u001b[34mreturn\u001b[39;49;00m \u001b[34mlambda\u001b[39;49;00m *args: val(*gp_fixargs(args, \u001b[34mTrue\u001b[39;49;00m))\n",
      "\u001b[0;31mExecuteError\u001b[0m: Failed to execute. Parameters are not valid.\nERROR 000012: allones already exists\nFailed to execute (AddField).\n\n\u001b[0;31m---------------------------------------------------------------------------\u001b[0m"
     ]
    }
   ],
   "source": [
    "# Define the input feature class or table\n",
    "input_layer = \"streets_raw\"\n",
    "\n",
    "# Define the name and data type of the new field\n",
    "new_field_name = \"allones\"\n",
    "new_field_type = \"SHORT\"\n",
    "\n",
    "# Add the new field to the input layer\n",
    "arcpy.AddField_management(input_layer, new_field_name, new_field_type)\n",
    "\n",
    "# Calculate the values for the new field using the values from the \"is_motorwa\" column\n",
    "expression = \"1\"\n",
    "arcpy.CalculateField_management(input_layer, new_field_name, expression, \"PYTHON3\")"
   ]
  },
  {
   "cell_type": "code",
   "execution_count": 19,
   "metadata": {},
   "outputs": [
    {
     "ename": "ExecuteError",
     "evalue": "Failed to execute. Parameters are not valid.\nERROR 000012: roadchar already exists\nFailed to execute (AddField).\n",
     "output_type": "error",
     "traceback": [
      "\u001b[0;31m---------------------------------------------------------------------------\u001b[0m\n\u001b[0;31mExecuteError\u001b[0m                              Traceback (most recent call last)",
      "In  \u001b[0;34m[19]\u001b[0m:\nLine \u001b[0;34m9\u001b[0m:     arcpy.AddField_management(input_layer, new_field_name, new_field_type)\n",
      "File \u001b[0;34mC:\\Program Files\\ArcGIS\\Pro\\Resources\\ArcPy\\arcpy\\management.py\u001b[0m, in \u001b[0;32mAddField\u001b[0m:\nLine \u001b[0;34m5745\u001b[0m:  \u001b[34mraise\u001b[39;49;00m e\n",
      "File \u001b[0;34mC:\\Program Files\\ArcGIS\\Pro\\Resources\\ArcPy\\arcpy\\management.py\u001b[0m, in \u001b[0;32mAddField\u001b[0m:\nLine \u001b[0;34m5742\u001b[0m:  retval = convertArcObjectToPythonObject(gp.AddField_management(*gp_fixargs((in_table, field_name, field_type, field_precision, field_scale, field_length, field_alias, field_is_nullable, field_is_required, field_domain), \u001b[34mTrue\u001b[39;49;00m)))\n",
      "File \u001b[0;34mC:\\Program Files\\ArcGIS\\Pro\\Resources\\ArcPy\\arcpy\\geoprocessing\\_base.py\u001b[0m, in \u001b[0;32m<lambda>\u001b[0m:\nLine \u001b[0;34m512\u001b[0m:   \u001b[34mreturn\u001b[39;49;00m \u001b[34mlambda\u001b[39;49;00m *args: val(*gp_fixargs(args, \u001b[34mTrue\u001b[39;49;00m))\n",
      "\u001b[0;31mExecuteError\u001b[0m: Failed to execute. Parameters are not valid.\nERROR 000012: roadchar already exists\nFailed to execute (AddField).\n\n\u001b[0;31m---------------------------------------------------------------------------\u001b[0m"
     ]
    }
   ],
   "source": [
    "# Define the input feature class or table\n",
    "input_layer = \"streets_raw\"\n",
    "\n",
    "# Define the name and data type of the new field\n",
    "new_field_name = \"roadchar\"\n",
    "new_field_type = \"SHORT\"\n",
    "\n",
    "# Add the new field to the input layer\n",
    "arcpy.AddField_management(input_layer, new_field_name, new_field_type)\n",
    "\n",
    "# Calculate the values for the new field using the values from the \"is_motorwa\" column\n",
    "expression = \"int(!road_char_!)\"\n",
    "arcpy.CalculateField_management(input_layer, new_field_name, expression, \"PYTHON3\")"
   ]
  },
  {
   "cell_type": "code",
   "execution_count": 25,
   "metadata": {},
   "outputs": [
    {
     "data": {
      "text/html": [
       "<div class='gpresult'><h2>Messages</h2><div id='messages' data-messages='[\"Start Time: Tuesday, 11 April 2023 1:13:01 am\",\"Some geometries have self-intersections. Feature OIDs are logged in C:\\\\Users\\\\reube\\\\AppData\\\\Local\\\\ESRI\\\\Geoprocessing\\\\SelfIntersect9.txt\",\"Some geometries have shared segments. Feature OIDs are logged in C:\\\\Users\\\\reube\\\\AppData\\\\Local\\\\ESRI\\\\Geoprocessing\\\\SharedGeom9.txt\",\"Succeeded at Tuesday, 11 April 2023 1:14:39 am (Elapsed Time: 1 minutes 38 seconds)\"]' data-show='true'><div id = 'default' /></div></div>"
      ],
      "text/plain": [
       "<Result '\\\\\\\\wsl.localhost\\\\Ubuntu\\\\home\\\\virgilxw\\\\repo\\\\momepy-test\\\\Workfile\\\\Workfile.gdb\\\\motorway_merged'>"
      ]
     },
     "execution_count": 25,
     "metadata": {},
     "output_type": "execute_result"
    }
   ],
   "source": [
    "arcpy.cartography.MergeDividedRoads(\n",
    "    in_features=\"streets_raw\",\n",
    "    merge_field=\"IsMotorway\",\n",
    "    merge_distance=\"70 Meters\",\n",
    "    out_features=r\"\\\\wsl.localhost\\Ubuntu\\home\\virgilxw\\repo\\momepy-test\\Workfile\\Workfile.gdb\\motorway_merged\",\n",
    "    out_displacement_features=None,\n",
    "    character_field=\"roadchar\",\n",
    "    out_table=None\n",
    ")"
   ]
  },
  {
   "cell_type": "code",
   "execution_count": 28,
   "metadata": {},
   "outputs": [
    {
     "data": {
      "text/html": [
       "<div class='gpresult'><h2>Messages</h2><div id='messages' data-messages='[\"Start Time: Tuesday, 11 April 2023 1:19:52 am\",\"Some geometries look visually connected but are geometric dead ends. Feature OIDs are logged in C:\\\\Users\\\\reube\\\\AppData\\\\Local\\\\ESRI\\\\Geoprocessing\\\\DeadEnd2.txt\",\"Some geometries have self-intersections. Feature OIDs are logged in C:\\\\Users\\\\reube\\\\AppData\\\\Local\\\\ESRI\\\\Geoprocessing\\\\SelfIntersect11.txt\",\"Some geometries have shared segments. Feature OIDs are logged in C:\\\\Users\\\\reube\\\\AppData\\\\Local\\\\ESRI\\\\Geoprocessing\\\\SharedGeom11.txt\",\"\",\"Succeeded at Tuesday, 11 April 2023 1:21:30 am (Elapsed Time: 1 minutes 37 seconds)\"]' data-show='true'><div id = 'default' /></div></div>"
      ],
      "text/plain": [
       "<Result '\\\\\\\\wsl.localhost\\\\Ubuntu\\\\home\\\\virgilxw\\\\repo\\\\momepy-test\\\\Workfile\\\\Workfile.gdb\\\\primary_merged'>"
      ]
     },
     "execution_count": 28,
     "metadata": {},
     "output_type": "execute_result"
    }
   ],
   "source": [
    "arcpy.cartography.MergeDividedRoads(\n",
    "    in_features=\"motorway_merged\",\n",
    "    merge_field=\"IsPrimary\",\n",
    "    merge_distance=\"50 Meters\",\n",
    "    out_features=r\"\\\\wsl.localhost\\Ubuntu\\home\\virgilxw\\repo\\momepy-test\\Workfile\\Workfile.gdb\\primary_merged\",\n",
    "    out_displacement_features=None,\n",
    "    character_field=\"roadchar\",\n",
    "    out_table=None\n",
    ")"
   ]
  },
  {
   "cell_type": "code",
   "execution_count": 32,
   "metadata": {},
   "outputs": [
    {
     "data": {
      "text/html": [
       "<div class='gpresult'><h2>Messages</h2><div id='messages' data-messages='[\"Start Time: Tuesday, 11 April 2023 1:25:46 am\",\"Some geometries look visually connected but are geometric dead ends. Feature OIDs are logged in C:\\\\Users\\\\reube\\\\AppData\\\\Local\\\\ESRI\\\\Geoprocessing\\\\DeadEnd4.txt\",\"Some geometries have self-intersections. Feature OIDs are logged in C:\\\\Users\\\\reube\\\\AppData\\\\Local\\\\ESRI\\\\Geoprocessing\\\\SelfIntersect13.txt\",\"Some geometries have shared segments. Feature OIDs are logged in C:\\\\Users\\\\reube\\\\AppData\\\\Local\\\\ESRI\\\\Geoprocessing\\\\SharedGeom13.txt\",\"Succeeded at Tuesday, 11 April 2023 1:27:07 am (Elapsed Time: 1 minutes 20 seconds)\"]' data-show='true'><div id = 'default' /></div></div>"
      ],
      "text/plain": [
       "<Result '\\\\\\\\wsl.localhost\\\\Ubuntu\\\\home\\\\virgilxw\\\\repo\\\\momepy-test\\\\Workfile\\\\Workfile.gdb\\\\allones_merged'>"
      ]
     },
     "execution_count": 32,
     "metadata": {},
     "output_type": "execute_result"
    }
   ],
   "source": [
    "arcpy.cartography.MergeDividedRoads(\n",
    "    in_features=\"primary_merged\",\n",
    "    merge_field=\"allones\",\n",
    "    merge_distance=\"25 Meters\",\n",
    "    out_features=r\"\\\\wsl.localhost\\Ubuntu\\home\\virgilxw\\repo\\momepy-test\\Workfile\\Workfile.gdb\\allones_merged\",\n",
    "    out_displacement_features=None,\n",
    "    out_table=None\n",
    ")"
   ]
  },
  {
   "cell_type": "code",
   "execution_count": null,
   "metadata": {},
   "outputs": [],
   "source": [
    "arcpy.cartography.CollapseRoadDetail(\n",
    "    in_features=\"allones_merged\",\n",
    "    collapse_distance=\"30 Meters\",\n",
    "    output_feature_class=r\"\\\\wsl.localhost\\Ubuntu\\home\\virgilxw\\repo\\momepy-test\\Workfile\\Workfile.gdb\\collaspe_road_detail\",\n",
    "    locking_field=None\n",
    ")"
   ]
  },
  {
   "cell_type": "code",
   "execution_count": null,
   "metadata": {},
   "outputs": [],
   "source": []
  }
 ],
 "metadata": {
  "kernelspec": {
   "display_name": "ArcGISPro",
   "language": "Python",
   "name": "python3"
  },
  "language_info": {
   "file_extension": ".py",
   "name": "python",
   "version": "3"
  }
 },
 "nbformat": 4,
 "nbformat_minor": 2
}
