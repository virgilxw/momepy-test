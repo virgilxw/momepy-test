{
 "cells": [
  {
   "cell_type": "code",
   "execution_count": 35,
   "metadata": {},
   "outputs": [],
   "source": [
    "## Run in ArcGIS"
   ]
  },
  {
   "cell_type": "code",
   "execution_count": 5,
   "metadata": {},
   "outputs": [],
   "source": [
    "import arcpy"
   ]
  },
  {
   "cell_type": "code",
   "execution_count": 8,
   "metadata": {},
   "outputs": [
    {
     "ename": "ValueError",
     "evalue": "streets_raw",
     "output_type": "error",
     "traceback": [
      "\u001b[0;31m---------------------------------------------------------------------------\u001b[0m\n\u001b[0;31mValueError\u001b[0m                                Traceback (most recent call last)",
      "In  \u001b[0;34m[8]\u001b[0m:\nLine \u001b[0;34m16\u001b[0m:    \u001b[36mmap\u001b[39;49;00m.addLayer(\u001b[33m\"\u001b[39;49;00m\u001b[33mstreets_raw\u001b[39;49;00m\u001b[33m\"\u001b[39;49;00m)\n",
      "File \u001b[0;34mC:\\Program Files\\ArcGIS\\Pro\\Resources\\ArcPy\\arcpy\\utils.py\u001b[0m, in \u001b[0;32mfn_\u001b[0m:\nLine \u001b[0;34m191\u001b[0m:   \u001b[34mreturn\u001b[39;49;00m fn(*args, **kw)\n",
      "File \u001b[0;34mC:\\Program Files\\ArcGIS\\Pro\\Resources\\ArcPy\\arcpy\\_mp.py\u001b[0m, in \u001b[0;32maddLayer\u001b[0m:\nLine \u001b[0;34m2560\u001b[0m:  \u001b[34mreturn\u001b[39;49;00m convertArcObjectToPythonObject(\u001b[36mself\u001b[39;49;00m._arc_object.addLayer(*gp_fixargs((add_layer_or_layerfile, add_position), \u001b[34mTrue\u001b[39;49;00m)))\n",
      "\u001b[0;31mValueError\u001b[0m: streets_raw\n\u001b[0;31m---------------------------------------------------------------------------\u001b[0m"
     ]
    }
   ],
   "source": [
    "# Set the workspace to the directory containing the shapefile\n",
    "arcpy.env.workspace = r\"\\\\wsl.localhost\\Ubuntu\\home\\virgilxw\\repo\\momepy-test\\processor\\out\\singapore\"\n",
    "\n",
    "# Define the name and path of the shapefile\n",
    "shapefile = \"streets_raw.shp\"\n",
    "shapefile_path = arcpy.env.workspace + \"\\\\\" + shapefile\n",
    "\n",
    "# Create a feature layer from the shapefile\n",
    "arcpy.management.MakeFeatureLayer(shapefile_path, \"streets_raw\")\n",
    "\n",
    "# Get the current project and map\n",
    "aprx = arcpy.mp.ArcGISProject(\"CURRENT\")\n",
    "map = aprx.listMaps()[0]\n",
    "\n",
    "# Add the feature layer to the map\n",
    "map.addLayer(\"streets_raw\")\n",
    "\n",
    "# Save the project\n",
    "aprx.save()"
   ]
  },
  {
   "cell_type": "code",
   "execution_count": 7,
   "metadata": {},
   "outputs": [
    {
     "ename": "ExecuteError",
     "evalue": "Failed to execute. Parameters are not valid.\nERROR 000732: Input Table: Dataset streets_raw does not exist or is not supported\nFailed to execute (AddField).\n",
     "output_type": "error",
     "traceback": [
      "\u001b[0;31m---------------------------------------------------------------------------\u001b[0m\n\u001b[0;31mExecuteError\u001b[0m                              Traceback (most recent call last)",
      "In  \u001b[0;34m[7]\u001b[0m:\nLine \u001b[0;34m9\u001b[0m:     arcpy.AddField_management(input_layer, new_field_name, new_field_type)\n",
      "File \u001b[0;34mC:\\Program Files\\ArcGIS\\Pro\\Resources\\ArcPy\\arcpy\\management.py\u001b[0m, in \u001b[0;32mAddField\u001b[0m:\nLine \u001b[0;34m5745\u001b[0m:  \u001b[34mraise\u001b[39;49;00m e\n",
      "File \u001b[0;34mC:\\Program Files\\ArcGIS\\Pro\\Resources\\ArcPy\\arcpy\\management.py\u001b[0m, in \u001b[0;32mAddField\u001b[0m:\nLine \u001b[0;34m5742\u001b[0m:  retval = convertArcObjectToPythonObject(gp.AddField_management(*gp_fixargs((in_table, field_name, field_type, field_precision, field_scale, field_length, field_alias, field_is_nullable, field_is_required, field_domain), \u001b[34mTrue\u001b[39;49;00m)))\n",
      "File \u001b[0;34mC:\\Program Files\\ArcGIS\\Pro\\Resources\\ArcPy\\arcpy\\geoprocessing\\_base.py\u001b[0m, in \u001b[0;32m<lambda>\u001b[0m:\nLine \u001b[0;34m512\u001b[0m:   \u001b[34mreturn\u001b[39;49;00m \u001b[34mlambda\u001b[39;49;00m *args: val(*gp_fixargs(args, \u001b[34mTrue\u001b[39;49;00m))\n",
      "\u001b[0;31mExecuteError\u001b[0m: Failed to execute. Parameters are not valid.\nERROR 000732: Input Table: Dataset streets_raw does not exist or is not supported\nFailed to execute (AddField).\n\n\u001b[0;31m---------------------------------------------------------------------------\u001b[0m"
     ]
    }
   ],
   "source": [
    "# Define the input feature class or table\n",
    "input_layer = \"streets_raw\"\n",
    "\n",
    "# Define the name and data type of the new field\n",
    "new_field_name = \"IsMotorway\"\n",
    "new_field_type = \"SHORT\"\n",
    "\n",
    "# Add the new field to the input layer\n",
    "arcpy.AddField_management(input_layer, new_field_name, new_field_type)\n",
    "\n",
    "# Calculate the values for the new field using the values from the \"is_motorwa\" column\n",
    "expression = \"int(!is_motorwa!)\"\n",
    "arcpy.CalculateField_management(input_layer, new_field_name, expression, \"PYTHON3\")"
   ]
  },
  {
   "cell_type": "code",
   "execution_count": 2,
   "metadata": {},
   "outputs": [
    {
     "ename": "ExecuteError",
     "evalue": "Failed to execute. Parameters are not valid.\nERROR 000012: IsMotorway already exists\nFailed to execute (AddField).\n",
     "output_type": "error",
     "traceback": [
      "\u001b[0;31m---------------------------------------------------------------------------\u001b[0m\n\u001b[0;31mExecuteError\u001b[0m                              Traceback (most recent call last)",
      "In  \u001b[0;34m[2]\u001b[0m:\nLine \u001b[0;34m9\u001b[0m:     arcpy.AddField_management(input_layer, new_field_name, new_field_type)\n",
      "File \u001b[0;34mC:\\Program Files\\ArcGIS\\Pro\\Resources\\ArcPy\\arcpy\\management.py\u001b[0m, in \u001b[0;32mAddField\u001b[0m:\nLine \u001b[0;34m5745\u001b[0m:  \u001b[34mraise\u001b[39;49;00m e\n",
      "File \u001b[0;34mC:\\Program Files\\ArcGIS\\Pro\\Resources\\ArcPy\\arcpy\\management.py\u001b[0m, in \u001b[0;32mAddField\u001b[0m:\nLine \u001b[0;34m5742\u001b[0m:  retval = convertArcObjectToPythonObject(gp.AddField_management(*gp_fixargs((in_table, field_name, field_type, field_precision, field_scale, field_length, field_alias, field_is_nullable, field_is_required, field_domain), \u001b[34mTrue\u001b[39;49;00m)))\n",
      "File \u001b[0;34mC:\\Program Files\\ArcGIS\\Pro\\Resources\\ArcPy\\arcpy\\geoprocessing\\_base.py\u001b[0m, in \u001b[0;32m<lambda>\u001b[0m:\nLine \u001b[0;34m512\u001b[0m:   \u001b[34mreturn\u001b[39;49;00m \u001b[34mlambda\u001b[39;49;00m *args: val(*gp_fixargs(args, \u001b[34mTrue\u001b[39;49;00m))\n",
      "\u001b[0;31mExecuteError\u001b[0m: Failed to execute. Parameters are not valid.\nERROR 000012: IsMotorway already exists\nFailed to execute (AddField).\n\n\u001b[0;31m---------------------------------------------------------------------------\u001b[0m"
     ]
    }
   ],
   "source": [
    "# Define the input feature class or table\n",
    "input_layer = \"streets_raw\"\n",
    "\n",
    "# Define the name and data type of the new field\n",
    "new_field_name = \"IsMotorway\"\n",
    "new_field_type = \"SHORT\"\n",
    "\n",
    "# Add the new field to the input layer\n",
    "arcpy.AddField_management(input_layer, new_field_name, new_field_type)\n",
    "\n",
    "# Calculate the values for the new field using the values from the \"is_motorwa\" column\n",
    "expression = \"int(!is_motorwa!)\"\n",
    "arcpy.CalculateField_management(input_layer, new_field_name, expression, \"PYTHON3\")"
   ]
  },
  {
   "cell_type": "code",
   "execution_count": 3,
   "metadata": {},
   "outputs": [
    {
     "ename": "ExecuteError",
     "evalue": "Failed to execute. Parameters are not valid.\nERROR 000732: Input Table: Dataset streets_raw does not exist or is not supported\nFailed to execute (AddField).\n",
     "output_type": "error",
     "traceback": [
      "\u001b[0;31m---------------------------------------------------------------------------\u001b[0m\n\u001b[0;31mExecuteError\u001b[0m                              Traceback (most recent call last)",
      "In  \u001b[0;34m[3]\u001b[0m:\nLine \u001b[0;34m9\u001b[0m:     arcpy.AddField_management(input_layer, new_field_name, new_field_type)\n",
      "File \u001b[0;34mC:\\Program Files\\ArcGIS\\Pro\\Resources\\ArcPy\\arcpy\\management.py\u001b[0m, in \u001b[0;32mAddField\u001b[0m:\nLine \u001b[0;34m5745\u001b[0m:  \u001b[34mraise\u001b[39;49;00m e\n",
      "File \u001b[0;34mC:\\Program Files\\ArcGIS\\Pro\\Resources\\ArcPy\\arcpy\\management.py\u001b[0m, in \u001b[0;32mAddField\u001b[0m:\nLine \u001b[0;34m5742\u001b[0m:  retval = convertArcObjectToPythonObject(gp.AddField_management(*gp_fixargs((in_table, field_name, field_type, field_precision, field_scale, field_length, field_alias, field_is_nullable, field_is_required, field_domain), \u001b[34mTrue\u001b[39;49;00m)))\n",
      "File \u001b[0;34mC:\\Program Files\\ArcGIS\\Pro\\Resources\\ArcPy\\arcpy\\geoprocessing\\_base.py\u001b[0m, in \u001b[0;32m<lambda>\u001b[0m:\nLine \u001b[0;34m512\u001b[0m:   \u001b[34mreturn\u001b[39;49;00m \u001b[34mlambda\u001b[39;49;00m *args: val(*gp_fixargs(args, \u001b[34mTrue\u001b[39;49;00m))\n",
      "\u001b[0;31mExecuteError\u001b[0m: Failed to execute. Parameters are not valid.\nERROR 000732: Input Table: Dataset streets_raw does not exist or is not supported\nFailed to execute (AddField).\n\n\u001b[0;31m---------------------------------------------------------------------------\u001b[0m"
     ]
    }
   ],
   "source": [
    "# Define the input feature class or table\n",
    "input_layer = \"streets_raw\"\n",
    "\n",
    "# Define the name and data type of the new field\n",
    "new_field_name = \"IsPrimary\"\n",
    "new_field_type = \"SHORT\"\n",
    "\n",
    "# Add the new field to the input layer\n",
    "arcpy.AddField_management(input_layer, new_field_name, new_field_type)\n",
    "\n",
    "# Calculate the values for the new field using the values from the \"is_motorwa\" column\n",
    "expression = \"int(!is_primary!)\"\n",
    "arcpy.CalculateField_management(input_layer, new_field_name, expression, \"PYTHON3\")"
   ]
  },
  {
   "cell_type": "code",
   "execution_count": 3,
   "metadata": {},
   "outputs": [
    {
     "data": {
      "text/html": [
       "<div class='gpresult'><h2>Messages</h2><div id='messages' data-messages='[\"Start Time: Tuesday, 11 April 2023 2:49:34 am\",\"Succeeded at Tuesday, 11 April 2023 2:50:00 am (Elapsed Time: 26.18 seconds)\"]' data-show='true'><div id = 'default' /></div></div>"
      ],
      "text/plain": [
       "<Result 'streets_raw'>"
      ]
     },
     "execution_count": 3,
     "metadata": {},
     "output_type": "execute_result"
    }
   ],
   "source": [
    "# Define the input feature class or table\n",
    "input_layer = \"streets_raw\"\n",
    "\n",
    "# Define the name and data type of the new field\n",
    "new_field_name = \"IsRound\"\n",
    "new_field_type = \"SHORT\"\n",
    "\n",
    "# Add the new field to the input layer\n",
    "arcpy.AddField_management(input_layer, new_field_name, new_field_type)\n",
    "\n",
    "# Calculate the values for the new field using the values from the \"is_motorwa\" column\n",
    "expression = \"int(!is_roundab!)\"\n",
    "arcpy.CalculateField_management(input_layer, new_field_name, expression, \"PYTHON3\")"
   ]
  },
  {
   "cell_type": "code",
   "execution_count": 4,
   "metadata": {},
   "outputs": [
    {
     "data": {
      "text/html": [
       "<div class='gpresult'><h2>Messages</h2><div id='messages' data-messages='[\"Start Time: Tuesday, 11 April 2023 2:50:10 am\",\"Succeeded at Tuesday, 11 April 2023 2:50:38 am (Elapsed Time: 27.58 seconds)\"]' data-show='true'><div id = 'default' /></div></div>"
      ],
      "text/plain": [
       "<Result 'streets_raw'>"
      ]
     },
     "execution_count": 4,
     "metadata": {},
     "output_type": "execute_result"
    }
   ],
   "source": [
    "# Define the input feature class or table\n",
    "input_layer = \"streets_raw\"\n",
    "\n",
    "# Define the name and data type of the new field\n",
    "new_field_name = \"allones\"\n",
    "new_field_type = \"SHORT\"\n",
    "\n",
    "# Add the new field to the input layer\n",
    "arcpy.AddField_management(input_layer, new_field_name, new_field_type)\n",
    "\n",
    "# Calculate the values for the new field using the values from the \"is_motorwa\" column\n",
    "expression = \"1\"\n",
    "arcpy.CalculateField_management(input_layer, new_field_name, expression, \"PYTHON3\")"
   ]
  },
  {
   "cell_type": "code",
   "execution_count": 5,
   "metadata": {},
   "outputs": [
    {
     "data": {
      "text/html": [
       "<div class='gpresult'><h2>Messages</h2><div id='messages' data-messages='[\"Start Time: Tuesday, 11 April 2023 2:50:48 am\",\"Succeeded at Tuesday, 11 April 2023 2:51:15 am (Elapsed Time: 26.20 seconds)\"]' data-show='true'><div id = 'default' /></div></div>"
      ],
      "text/plain": [
       "<Result 'streets_raw'>"
      ]
     },
     "execution_count": 5,
     "metadata": {},
     "output_type": "execute_result"
    }
   ],
   "source": [
    "# Define the input feature class or table\n",
    "input_layer = \"streets_raw\"\n",
    "\n",
    "# Define the name and data type of the new field\n",
    "new_field_name = \"roadchar\"\n",
    "new_field_type = \"SHORT\"\n",
    "\n",
    "# Add the new field to the input layer\n",
    "arcpy.AddField_management(input_layer, new_field_name, new_field_type)\n",
    "\n",
    "# Calculate the values for the new field using the values from the \"is_motorwa\" column\n",
    "expression = \"int(!road_char_!)\"\n",
    "arcpy.CalculateField_management(input_layer, new_field_name, expression, \"PYTHON3\")"
   ]
  },
  {
   "cell_type": "code",
   "execution_count": 6,
   "metadata": {},
   "outputs": [
    {
     "data": {
      "text/html": [
       "<div class='gpresult'><h2>Messages</h2><div id='messages' data-messages='[\"Start Time: Tuesday, 11 April 2023 2:51:25 am\",\"Succeeded at Tuesday, 11 April 2023 2:51:52 am (Elapsed Time: 26.64 seconds)\"]' data-show='true'><div id = 'default' /></div></div>"
      ],
      "text/plain": [
       "<Result 'streets_raw'>"
      ]
     },
     "execution_count": 6,
     "metadata": {},
     "output_type": "execute_result"
    }
   ],
   "source": [
    "# Define the input feature class or table\n",
    "input_layer = \"streets_raw\"\n",
    "\n",
    "# Define the name and data type of the new field\n",
    "new_field_name = \"hightype\"\n",
    "new_field_type = \"SHORT\"\n",
    "\n",
    "# Add the new field to the input layer\n",
    "arcpy.AddField_management(input_layer, \n",
    "                          new_field_name, new_field_type)\n",
    "\n",
    "# Calculate the values for the new field using the values from the \"is_motorwa\" column\n",
    "expression = \"int(!highway_ty!)\"\n",
    "arcpy.CalculateField_management(input_layer, new_field_name, expression, \"PYTHON3\")"
   ]
  },
  {
   "cell_type": "code",
   "execution_count": 7,
   "metadata": {
    "scrolled": true
   },
   "outputs": [
    {
     "data": {
      "text/html": [
       "<div class='gpresult'><h2>Messages</h2><div id='messages' data-messages='[\"Start Time: Tuesday, 11 April 2023 2:52:08 am\",\"Some geometries have self-intersections. Feature OIDs are logged in C:\\\\Users\\\\reube\\\\AppData\\\\Local\\\\ESRI\\\\Geoprocessing\\\\SelfIntersect22.txt\",\"Some geometries have shared segments. Feature OIDs are logged in C:\\\\Users\\\\reube\\\\AppData\\\\Local\\\\ESRI\\\\Geoprocessing\\\\SharedGeom22.txt\",\"Some features have inconsistent values. Feature OIDs are logged in C:\\\\Users\\\\reube\\\\AppData\\\\Local\\\\ESRI\\\\Geoprocessing\\\\InconsistentValues2.txt\",\"Succeeded at Tuesday, 11 April 2023 2:54:17 am (Elapsed Time: 2 minutes 8 seconds)\"]' data-show='true'><div id = 'default' /></div></div>"
      ],
      "text/plain": [
       "<Result '\\\\\\\\wsl.localhost\\\\Ubuntu\\\\home\\\\virgilxw\\\\repo\\\\momepy-test\\\\Workfile\\\\Workfile.gdb\\\\merge_divided_road'>"
      ]
     },
     "execution_count": 7,
     "metadata": {},
     "output_type": "execute_result"
    }
   ],
   "source": [
    "arcpy.cartography.MergeDividedRoads(\n",
    "    in_features=\"streets_raw\",\n",
    "    merge_field=\"hightype\",\n",
    "    merge_distance=\"30 Meters\",\n",
    "    out_features=r\"\\\\wsl.localhost\\Ubuntu\\home\\virgilxw\\repo\\momepy-test\\Workfile\\Workfile.gdb\\merge_divided_road\",\n",
    "    out_displacement_features=None,\n",
    "    character_field=\"roadchar\",\n",
    "    out_table=None\n",
    ")"
   ]
  },
  {
   "cell_type": "code",
   "execution_count": 8,
   "metadata": {},
   "outputs": [
    {
     "data": {
      "text/html": [
       "<div class='gpresult'><h2>Messages</h2><div id='messages' data-messages='[\"Start Time: Tuesday, 11 April 2023 2:57:57 am\",\"Some geometries look visually connected but are geometric dead ends. Feature OIDs are logged in C:\\\\Users\\\\reube\\\\AppData\\\\Local\\\\ESRI\\\\Geoprocessing\\\\DeadEnd8.txt\",\"Some geometries have self-intersections. Feature OIDs are logged in C:\\\\Users\\\\reube\\\\AppData\\\\Local\\\\ESRI\\\\Geoprocessing\\\\SelfIntersect23.txt\",\"Some geometries have shared segments. Feature OIDs are logged in C:\\\\Users\\\\reube\\\\AppData\\\\Local\\\\ESRI\\\\Geoprocessing\\\\SharedGeom23.txt\",\"Succeeded at Tuesday, 11 April 2023 2:59:16 am (Elapsed Time: 1 minutes 19 seconds)\"]' data-show='true'><div id = 'default' /></div></div>"
      ],
      "text/plain": [
       "<Result '\\\\\\\\wsl.localhost\\\\Ubuntu\\\\home\\\\virgilxw\\\\repo\\\\momepy-test\\\\Workfile\\\\Workfile.gdb\\\\merge_primary'>"
      ]
     },
     "execution_count": 8,
     "metadata": {},
     "output_type": "execute_result"
    }
   ],
   "source": [
    "arcpy.cartography.MergeDividedRoads(\n",
    "    in_features=\"merge_divided_road\",\n",
    "    merge_field=\"IsPrimary\",\n",
    "    merge_distance=\"60 Meters\",\n",
    "    out_features=r\"\\\\wsl.localhost\\Ubuntu\\home\\virgilxw\\repo\\momepy-test\\Workfile\\Workfile.gdb\\merge_primary\",\n",
    "    out_displacement_features=None,\n",
    "    character_field=\"roadchar\",\n",
    "    out_table=None\n",
    ")"
   ]
  },
  {
   "cell_type": "code",
   "execution_count": 9,
   "metadata": {},
   "outputs": [
    {
     "data": {
      "text/html": [
       "<div class='gpresult'><h2>Messages</h2><div id='messages' data-messages='[\"Start Time: Tuesday, 11 April 2023 2:59:17 am\",\"Some geometries look visually connected but are geometric dead ends. Feature OIDs are logged in C:\\\\Users\\\\reube\\\\AppData\\\\Local\\\\ESRI\\\\Geoprocessing\\\\DeadEnd9.txt\",\"Some geometries have self-intersections. Feature OIDs are logged in C:\\\\Users\\\\reube\\\\AppData\\\\Local\\\\ESRI\\\\Geoprocessing\\\\SelfIntersect24.txt\",\"Some geometries have shared segments. Feature OIDs are logged in C:\\\\Users\\\\reube\\\\AppData\\\\Local\\\\ESRI\\\\Geoprocessing\\\\SharedGeom24.txt\",\"Succeeded at Tuesday, 11 April 2023 3:00:36 am (Elapsed Time: 1 minutes 18 seconds)\"]' data-show='true'><div id = 'default' /></div></div>"
      ],
      "text/plain": [
       "<Result '\\\\\\\\wsl.localhost\\\\Ubuntu\\\\home\\\\virgilxw\\\\repo\\\\momepy-test\\\\Workfile\\\\Workfile.gdb\\\\merge_motorway'>"
      ]
     },
     "execution_count": 9,
     "metadata": {},
     "output_type": "execute_result"
    }
   ],
   "source": [
    "arcpy.cartography.MergeDividedRoads(\n",
    "    in_features=\"merge_primary\",\n",
    "    merge_field=\"IsMotorway\",\n",
    "    merge_distance=\"60 Meters\",\n",
    "    out_features=r\"\\\\wsl.localhost\\Ubuntu\\home\\virgilxw\\repo\\momepy-test\\Workfile\\Workfile.gdb\\merge_motorway\",\n",
    "    out_displacement_features=None,\n",
    "    character_field=\"roadchar\",\n",
    "    out_table=None\n",
    ")"
   ]
  },
  {
   "cell_type": "code",
   "execution_count": 10,
   "metadata": {},
   "outputs": [
    {
     "data": {
      "text/html": [
       "<div class='gpresult'><h2>Messages</h2><div id='messages' data-messages='[\"Start Time: Tuesday, 11 April 2023 3:10:21 am\",\"merge_motorway Successfully converted:  \\\\\\\\wsl.localhost\\\\Ubuntu\\\\home\\\\virgilxw\\\\repo\\\\momepy-test\\\\processor\\\\out\\\\singapore\\\\merge_motorway.shp\",\"Succeeded at Tuesday, 11 April 2023 3:15:51 am (Elapsed Time: 5 minutes 29 seconds)\"]' data-show='true'><div id = 'default' /></div></div>"
      ],
      "text/plain": [
       "<Result '\\\\\\\\wsl.localhost\\\\Ubuntu\\\\home\\\\virgilxw\\\\repo\\\\momepy-test\\\\processor\\\\out\\\\singapore'>"
      ]
     },
     "execution_count": 10,
     "metadata": {},
     "output_type": "execute_result"
    }
   ],
   "source": [
    "arcpy.conversion.FeatureClassToShapefile(\n",
    "    Input_Features=\"merge_motorway\",\n",
    "    Output_Folder=r\"\\\\wsl.localhost\\Ubuntu\\home\\virgilxw\\repo\\momepy-test\\processor\\out\\singapore\"\n",
    ")"
   ]
  }
 ],
 "metadata": {
  "kernelspec": {
   "display_name": "ArcGISPro",
   "language": "Python",
   "name": "python3"
  },
  "language_info": {
   "file_extension": ".py",
   "name": "python",
   "version": "3"
  }
 },
 "nbformat": 4,
 "nbformat_minor": 2
}
