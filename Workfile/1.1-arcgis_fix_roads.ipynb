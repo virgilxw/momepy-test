{
 "cells": [
  {
   "cell_type": "code",
   "execution_count": 25,
   "metadata": {},
   "outputs": [],
   "source": [
    "## Run in ArcGIS"
   ]
  },
  {
   "cell_type": "code",
   "execution_count": 26,
   "metadata": {},
   "outputs": [],
   "source": [
    "import arcpy"
   ]
  },
  {
   "cell_type": "code",
   "execution_count": 27,
   "metadata": {},
   "outputs": [],
   "source": [
    "# Set the workspace to the directory containing the shapefile\n",
    "arcpy.env.workspace = r\"\\\\wsl.localhost\\Ubuntu\\home\\virgilxw\\repo\\momepy-test\\processor\\out\\singapore\"\n",
    "\n",
    "# Define the name and path of the shapefile\n",
    "shapefile = \"streets_raw.shp\"\n",
    "shapefile_path = arcpy.env.workspace + \"\\\\\" + shapefile\n",
    "\n",
    "# Get the current project and map\n",
    "aprx = arcpy.mp.ArcGISProject(\"CURRENT\")\n",
    "map = aprx.listMaps()[0]\n",
    "\n",
    "# Create a feature layer from the shapefile\n",
    "streets_raw = arcpy.management.MakeFeatureLayer(shapefile_path, \"streets_raw\")\n",
    "\n",
    "# Save the project\n",
    "aprx.save()"
   ]
  },
  {
   "cell_type": "code",
   "execution_count": 28,
   "metadata": {},
   "outputs": [
    {
     "ename": "ExecuteError",
     "evalue": "Failed to execute. Parameters are not valid.\nERROR 000012: IsMotorway already exists\nFailed to execute (AddField).\n",
     "output_type": "error",
     "traceback": [
      "\u001b[0;31m---------------------------------------------------------------------------\u001b[0m\n\u001b[0;31mExecuteError\u001b[0m                              Traceback (most recent call last)",
      "In  \u001b[0;34m[28]\u001b[0m:\nLine \u001b[0;34m9\u001b[0m:     arcpy.AddField_management(input_layer, new_field_name, new_field_type)\n",
      "File \u001b[0;34mC:\\Program Files\\ArcGIS\\Pro\\Resources\\ArcPy\\arcpy\\management.py\u001b[0m, in \u001b[0;32mAddField\u001b[0m:\nLine \u001b[0;34m5745\u001b[0m:  \u001b[34mraise\u001b[39;49;00m e\n",
      "File \u001b[0;34mC:\\Program Files\\ArcGIS\\Pro\\Resources\\ArcPy\\arcpy\\management.py\u001b[0m, in \u001b[0;32mAddField\u001b[0m:\nLine \u001b[0;34m5742\u001b[0m:  retval = convertArcObjectToPythonObject(gp.AddField_management(*gp_fixargs((in_table, field_name, field_type, field_precision, field_scale, field_length, field_alias, field_is_nullable, field_is_required, field_domain), \u001b[34mTrue\u001b[39;49;00m)))\n",
      "File \u001b[0;34mC:\\Program Files\\ArcGIS\\Pro\\Resources\\ArcPy\\arcpy\\geoprocessing\\_base.py\u001b[0m, in \u001b[0;32m<lambda>\u001b[0m:\nLine \u001b[0;34m512\u001b[0m:   \u001b[34mreturn\u001b[39;49;00m \u001b[34mlambda\u001b[39;49;00m *args: val(*gp_fixargs(args, \u001b[34mTrue\u001b[39;49;00m))\n",
      "\u001b[0;31mExecuteError\u001b[0m: Failed to execute. Parameters are not valid.\nERROR 000012: IsMotorway already exists\nFailed to execute (AddField).\n\n\u001b[0;31m---------------------------------------------------------------------------\u001b[0m"
     ]
    }
   ],
   "source": [
    "# Define the input feature class or table\n",
    "input_layer = \"streets_raw\"\n",
    "\n",
    "# Define the name and data type of the new field\n",
    "new_field_name = \"aIsMotorway\"\n",
    "new_field_type = \"SHORT\"\n",
    "\n",
    "# Add the new field to the input layer\n",
    "arcpy.AddField_management(input_layer, new_field_name, new_field_type)\n",
    "\n",
    "# Calculate the values for the new field using the values from the \"is_motorwa\" column\n",
    "expression = \"int(!is_motorwa!)\"\n",
    "arcpy.CalculateField_management(input_layer, new_field_name, expression, \"PYTHON3\")"
   ]
  },
  {
   "cell_type": "code",
   "execution_count": 29,
   "metadata": {},
   "outputs": [
    {
     "ename": "ExecuteError",
     "evalue": "Failed to execute. Parameters are not valid.\nERROR 000012: IsPrimary already exists\nFailed to execute (AddField).\n",
     "output_type": "error",
     "traceback": [
      "\u001b[0;31m---------------------------------------------------------------------------\u001b[0m\n\u001b[0;31mExecuteError\u001b[0m                              Traceback (most recent call last)",
      "In  \u001b[0;34m[29]\u001b[0m:\nLine \u001b[0;34m9\u001b[0m:     arcpy.AddField_management(input_layer, new_field_name, new_field_type)\n",
      "File \u001b[0;34mC:\\Program Files\\ArcGIS\\Pro\\Resources\\ArcPy\\arcpy\\management.py\u001b[0m, in \u001b[0;32mAddField\u001b[0m:\nLine \u001b[0;34m5745\u001b[0m:  \u001b[34mraise\u001b[39;49;00m e\n",
      "File \u001b[0;34mC:\\Program Files\\ArcGIS\\Pro\\Resources\\ArcPy\\arcpy\\management.py\u001b[0m, in \u001b[0;32mAddField\u001b[0m:\nLine \u001b[0;34m5742\u001b[0m:  retval = convertArcObjectToPythonObject(gp.AddField_management(*gp_fixargs((in_table, field_name, field_type, field_precision, field_scale, field_length, field_alias, field_is_nullable, field_is_required, field_domain), \u001b[34mTrue\u001b[39;49;00m)))\n",
      "File \u001b[0;34mC:\\Program Files\\ArcGIS\\Pro\\Resources\\ArcPy\\arcpy\\geoprocessing\\_base.py\u001b[0m, in \u001b[0;32m<lambda>\u001b[0m:\nLine \u001b[0;34m512\u001b[0m:   \u001b[34mreturn\u001b[39;49;00m \u001b[34mlambda\u001b[39;49;00m *args: val(*gp_fixargs(args, \u001b[34mTrue\u001b[39;49;00m))\n",
      "\u001b[0;31mExecuteError\u001b[0m: Failed to execute. Parameters are not valid.\nERROR 000012: IsPrimary already exists\nFailed to execute (AddField).\n\n\u001b[0;31m---------------------------------------------------------------------------\u001b[0m"
     ]
    }
   ],
   "source": [
    "# Define the input feature class or table\n",
    "input_layer = \"streets_raw\"\n",
    "\n",
    "# Define the name and data type of the new field\n",
    "new_field_name = \"aIsPrimary\"\n",
    "new_field_type = \"SHORT\"\n",
    "\n",
    "# Add the new field to the input layer\n",
    "arcpy.AddField_management(input_layer, new_field_name, new_field_type)\n",
    "\n",
    "# Calculate the values for the new field using the values from the \"is_motorwa\" column\n",
    "expression = \"int(!is_primary!)\"\n",
    "arcpy.CalculateField_management(input_layer, new_field_name, expression, \"PYTHON3\")"
   ]
  },
  {
   "cell_type": "code",
   "execution_count": 30,
   "metadata": {},
   "outputs": [
    {
     "data": {
      "text/html": [
       "<div class='gpresult'><h2>Messages</h2><div id='messages' data-messages='[\"Start Time: Tuesday, 18 April 2023 12:17:24 pm\",\"Succeeded at Tuesday, 18 April 2023 12:17:56 pm (Elapsed Time: 31.19 seconds)\"]' data-show='true'><div id = 'default' /></div></div>"
      ],
      "text/plain": [
       "<Result 'streets_raw'>"
      ]
     },
     "execution_count": 30,
     "metadata": {},
     "output_type": "execute_result"
    }
   ],
   "source": [
    "# Define the input feature class or table\n",
    "input_layer = \"streets_raw\"\n",
    "\n",
    "# Define the name and data type of the new field\n",
    "new_field_name = \"IsRound\"\n",
    "new_field_type = \"SHORT\"\n",
    "\n",
    "# Add the new field to the input layer\n",
    "arcpy.AddField_management(input_layer, new_field_name, new_field_type)\n",
    "\n",
    "# Calculate the values for the new field using the values from the \"is_motorwa\" column\n",
    "expression = \"int(!is_roundab!)\"\n",
    "arcpy.CalculateField_management(input_layer, new_field_name, expression, \"PYTHON3\")"
   ]
  },
  {
   "cell_type": "code",
   "execution_count": 31,
   "metadata": {},
   "outputs": [
    {
     "data": {
      "text/html": [
       "<div class='gpresult'><h2>Messages</h2><div id='messages' data-messages='[\"Start Time: Tuesday, 18 April 2023 12:18:09 pm\",\"Succeeded at Tuesday, 18 April 2023 12:18:11 pm (Elapsed Time: 1.84 seconds)\"]' data-show='true'><div id = 'default' /></div></div>"
      ],
      "text/plain": [
       "<Result 'streets_raw'>"
      ]
     },
     "execution_count": 31,
     "metadata": {},
     "output_type": "execute_result"
    }
   ],
   "source": [
    "# Define the input feature class or table\n",
    "input_layer = \"streets_raw\"\n",
    "\n",
    "# Define the name and data type of the new field\n",
    "new_field_name = \"allones\"\n",
    "new_field_type = \"SHORT\"\n",
    "\n",
    "# Add the new field to the input layer\n",
    "arcpy.AddField_management(input_layer, new_field_name, new_field_type)\n",
    "\n",
    "# Calculate the values for the new field using the values from the \"is_motorwa\" column\n",
    "expression = \"1\"\n",
    "arcpy.CalculateField_management(input_layer, new_field_name, expression, \"PYTHON3\")"
   ]
  },
  {
   "cell_type": "code",
   "execution_count": 32,
   "metadata": {},
   "outputs": [
    {
     "data": {
      "text/html": [
       "<div class='gpresult'><h2>Messages</h2><div id='messages' data-messages='[\"Start Time: Tuesday, 18 April 2023 12:18:22 pm\",\"Succeeded at Tuesday, 18 April 2023 12:18:53 pm (Elapsed Time: 31.19 seconds)\"]' data-show='true'><div id = 'default' /></div></div>"
      ],
      "text/plain": [
       "<Result 'streets_raw'>"
      ]
     },
     "execution_count": 32,
     "metadata": {},
     "output_type": "execute_result"
    }
   ],
   "source": [
    "# Define the input feature class or table\n",
    "input_layer = \"streets_raw\"\n",
    "\n",
    "# Define the name and data type of the new field\n",
    "new_field_name = \"roadchar\"\n",
    "new_field_type = \"SHORT\"\n",
    "\n",
    "# Add the new field to the input layer\n",
    "arcpy.AddField_management(input_layer, new_field_name, new_field_type)\n",
    "\n",
    "# Calculate the values for the new field using the values from the \"is_motorwa\" column\n",
    "expression = \"int(!road_char_!)\"\n",
    "arcpy.CalculateField_management(input_layer, new_field_name, expression, \"PYTHON3\")"
   ]
  },
  {
   "cell_type": "code",
   "execution_count": 33,
   "metadata": {},
   "outputs": [
    {
     "data": {
      "text/html": [
       "<div class='gpresult'><h2>Messages</h2><div id='messages' data-messages='[\"Start Time: Tuesday, 18 April 2023 12:19:07 pm\",\"Succeeded at Tuesday, 18 April 2023 12:19:38 pm (Elapsed Time: 31.02 seconds)\"]' data-show='true'><div id = 'default' /></div></div>"
      ],
      "text/plain": [
       "<Result 'streets_raw'>"
      ]
     },
     "execution_count": 33,
     "metadata": {},
     "output_type": "execute_result"
    }
   ],
   "source": [
    "# Define the input feature class or table\n",
    "input_layer = \"streets_raw\"\n",
    "\n",
    "# Define the name and data type of the new field\n",
    "new_field_name = \"hightype\"\n",
    "new_field_type = \"SHORT\"\n",
    "\n",
    "# Add the new field to the input layer\n",
    "arcpy.AddField_management(input_layer, \n",
    "                          new_field_name, new_field_type)\n",
    "\n",
    "# Calculate the values for the new field using the values from the \"is_motorwa\" column\n",
    "expression = \"int(!highway_ty!)\"\n",
    "arcpy.CalculateField_management(input_layer, new_field_name, expression, \"PYTHON3\")"
   ]
  },
  {
   "cell_type": "code",
   "execution_count": 34,
   "metadata": {
    "scrolled": true
   },
   "outputs": [
    {
     "data": {
      "text/html": [
       "<div class='gpresult'><h2>Messages</h2><div id='messages' data-messages='[\"Start Time: Tuesday, 18 April 2023 12:19:38 pm\",\"Some geometries have self-intersections. Feature OIDs are logged in C:\\\\Users\\\\reube\\\\AppData\\\\Local\\\\ESRI\\\\Geoprocessing\\\\SelfIntersect25.txt\",\"Some geometries have shared segments. Feature OIDs are logged in C:\\\\Users\\\\reube\\\\AppData\\\\Local\\\\ESRI\\\\Geoprocessing\\\\SharedGeom25.txt\",\"Succeeded at Tuesday, 18 April 2023 12:21:18 pm (Elapsed Time: 1 minutes 39 seconds)\"]' data-show='true'><div id = 'default' /></div></div>"
      ],
      "text/plain": [
       "<Result '\\\\\\\\wsl.localhost\\\\Ubuntu\\\\home\\\\virgilxw\\\\repo\\\\momepy-test\\\\Workfile\\\\Workfile.gdb\\\\merge_divided_road'>"
      ]
     },
     "execution_count": 34,
     "metadata": {},
     "output_type": "execute_result"
    }
   ],
   "source": [
    "arcpy.cartography.MergeDividedRoads(\n",
    "    in_features=\"streets_raw\",\n",
    "    merge_field=\"hightype\",\n",
    "    merge_distance=\"30 Meters\",\n",
    "    out_features=r\"\\\\wsl.localhost\\Ubuntu\\home\\virgilxw\\repo\\momepy-test\\Workfile\\Workfile.gdb\\merge_divided_road\",\n",
    "    out_displacement_features=None,\n",
    "    character_field=\"roadchar\",\n",
    "    out_table=None\n",
    ")"
   ]
  },
  {
   "cell_type": "code",
   "execution_count": 35,
   "metadata": {},
   "outputs": [
    {
     "data": {
      "text/html": [
       "<div class='gpresult'><h2>Messages</h2><div id='messages' data-messages='[\"Start Time: Tuesday, 18 April 2023 12:21:19 pm\",\"Some geometries have self-intersections. Feature OIDs are logged in C:\\\\Users\\\\reube\\\\AppData\\\\Local\\\\ESRI\\\\Geoprocessing\\\\SelfIntersect26.txt\",\"Some geometries have shared segments. Feature OIDs are logged in C:\\\\Users\\\\reube\\\\AppData\\\\Local\\\\ESRI\\\\Geoprocessing\\\\SharedGeom26.txt\",\"Succeeded at Tuesday, 18 April 2023 12:22:52 pm (Elapsed Time: 1 minutes 33 seconds)\"]' data-show='true'><div id = 'default' /></div></div>"
      ],
      "text/plain": [
       "<Result '\\\\\\\\wsl.localhost\\\\Ubuntu\\\\home\\\\virgilxw\\\\repo\\\\momepy-test\\\\Workfile\\\\Workfile.gdb\\\\merge_primary'>"
      ]
     },
     "execution_count": 35,
     "metadata": {},
     "output_type": "execute_result"
    }
   ],
   "source": [
    "arcpy.cartography.MergeDividedRoads(\n",
    "    in_features=\"merge_divided_road\",\n",
    "    merge_field=\"IsPrimary\",\n",
    "    merge_distance=\"60 Meters\",\n",
    "    out_features=r\"\\\\wsl.localhost\\Ubuntu\\home\\virgilxw\\repo\\momepy-test\\Workfile\\Workfile.gdb\\merge_primary\",\n",
    "    out_displacement_features=None,\n",
    "    character_field=\"roadchar\",\n",
    "    out_table=None\n",
    ")"
   ]
  },
  {
   "cell_type": "code",
   "execution_count": 36,
   "metadata": {},
   "outputs": [
    {
     "data": {
      "text/html": [
       "<div class='gpresult'><h2>Messages</h2><div id='messages' data-messages='[\"Start Time: Tuesday, 18 April 2023 12:22:53 pm\",\"Some geometries have self-intersections. Feature OIDs are logged in C:\\\\Users\\\\reube\\\\AppData\\\\Local\\\\ESRI\\\\Geoprocessing\\\\SelfIntersect27.txt\",\"Some geometries have shared segments. Feature OIDs are logged in C:\\\\Users\\\\reube\\\\AppData\\\\Local\\\\ESRI\\\\Geoprocessing\\\\SharedGeom27.txt\",\"Succeeded at Tuesday, 18 April 2023 12:24:27 pm (Elapsed Time: 1 minutes 33 seconds)\"]' data-show='true'><div id = 'default' /></div></div>"
      ],
      "text/plain": [
       "<Result '\\\\\\\\wsl.localhost\\\\Ubuntu\\\\home\\\\virgilxw\\\\repo\\\\momepy-test\\\\Workfile\\\\Workfile.gdb\\\\merge_motorway'>"
      ]
     },
     "execution_count": 36,
     "metadata": {},
     "output_type": "execute_result"
    }
   ],
   "source": [
    "arcpy.cartography.MergeDividedRoads(\n",
    "    in_features=\"merge_primary\",\n",
    "    merge_field=\"IsMotorway\",\n",
    "    merge_distance=\"60 Meters\",\n",
    "    out_features=r\"\\\\wsl.localhost\\Ubuntu\\home\\virgilxw\\repo\\momepy-test\\Workfile\\Workfile.gdb\\merge_motorway\",\n",
    "    out_displacement_features=None,\n",
    "    character_field=\"roadchar\",\n",
    "    out_table=None\n",
    ")"
   ]
  },
  {
   "cell_type": "code",
   "execution_count": 37,
   "metadata": {},
   "outputs": [
    {
     "data": {
      "text/html": [
       "<div class='gpresult'><h2>Messages</h2><div id='messages' data-messages='[\"Start Time: Tuesday, 18 April 2023 12:24:27 pm\",\"merge_motorway Successfully converted:  \\\\\\\\wsl.localhost\\\\Ubuntu\\\\home\\\\virgilxw\\\\repo\\\\momepy-test\\\\processor\\\\out\\\\singapore\\\\merge_motorway.shp\",\"Succeeded at Tuesday, 18 April 2023 12:30:29 pm (Elapsed Time: 6 minutes 1 seconds)\"]' data-show='true'><div id = 'default' /></div></div>"
      ],
      "text/plain": [
       "<Result '\\\\\\\\wsl.localhost\\\\Ubuntu\\\\home\\\\virgilxw\\\\repo\\\\momepy-test\\\\processor\\\\out\\\\singapore'>"
      ]
     },
     "execution_count": 37,
     "metadata": {},
     "output_type": "execute_result"
    }
   ],
   "source": [
    "arcpy.conversion.FeatureClassToShapefile(\n",
    "    Input_Features=\"merge_motorway\",\n",
    "    Output_Folder=r\"\\\\wsl.localhost\\Ubuntu\\home\\virgilxw\\repo\\momepy-test\\processor\\out\\singapore\"\n",
    ")"
   ]
  },
  {
   "cell_type": "code",
   "execution_count": null,
   "metadata": {},
   "outputs": [],
   "source": []
  }
 ],
 "metadata": {
  "kernelspec": {
   "display_name": "ArcGISPro",
   "language": "Python",
   "name": "python3"
  },
  "language_info": {
   "file_extension": ".py",
   "name": "python",
   "version": "3"
  }
 },
 "nbformat": 4,
 "nbformat_minor": 2
}
