{
 "cells": [
  {
   "cell_type": "code",
   "execution_count": 35,
   "metadata": {},
   "outputs": [],
   "source": [
    "## Run in ArcGIS"
   ]
  },
  {
   "cell_type": "code",
   "execution_count": 16,
   "metadata": {},
   "outputs": [],
   "source": [
    "import arcpy"
   ]
  },
  {
   "cell_type": "code",
   "execution_count": 1,
   "metadata": {},
   "outputs": [
    {
     "data": {
      "text/html": [
       "<div class='gpresult'><h2>Messages</h2><div id='messages' data-messages='[\"Start Time: Tuesday, 11 April 2023 2:48:18 am\",\"Succeeded at Tuesday, 11 April 2023 2:48:44 am (Elapsed Time: 26.38 seconds)\"]' data-show='true'><div id = 'default' /></div></div>"
      ],
      "text/plain": [
       "<Result 'streets_raw'>"
      ]
     },
     "execution_count": 1,
     "metadata": {},
     "output_type": "execute_result"
    }
   ],
   "source": [
    "# Define the input feature class or table\n",
    "input_layer = \"streets_raw\"\n",
    "\n",
    "# Define the name and data type of the new field\n",
    "new_field_name = \"IsMotorway\"\n",
    "new_field_type = \"SHORT\"\n",
    "\n",
    "# Add the new field to the input layer\n",
    "arcpy.AddField_management(input_layer, new_field_name, new_field_type)\n",
    "\n",
    "# Calculate the values for the new field using the values from the \"is_motorwa\" column\n",
    "expression = \"int(!is_motorwa!)\"\n",
    "arcpy.CalculateField_management(input_layer, new_field_name, expression, \"PYTHON3\")"
   ]
  },
  {
   "cell_type": "code",
   "execution_count": 2,
   "metadata": {},
   "outputs": [
    {
     "data": {
      "text/html": [
       "<div class='gpresult'><h2>Messages</h2><div id='messages' data-messages='[\"Start Time: Tuesday, 11 April 2023 2:48:55 am\",\"Succeeded at Tuesday, 11 April 2023 2:49:20 am (Elapsed Time: 25.95 seconds)\"]' data-show='true'><div id = 'default' /></div></div>"
      ],
      "text/plain": [
       "<Result 'streets_raw'>"
      ]
     },
     "execution_count": 2,
     "metadata": {},
     "output_type": "execute_result"
    }
   ],
   "source": [
    "# Define the input feature class or table\n",
    "input_layer = \"streets_raw\"\n",
    "\n",
    "# Define the name and data type of the new field\n",
    "new_field_name = \"IsPrimary\"\n",
    "new_field_type = \"SHORT\"\n",
    "\n",
    "# Add the new field to the input layer\n",
    "arcpy.AddField_management(input_layer, new_field_name, new_field_type)\n",
    "\n",
    "# Calculate the values for the new field using the values from the \"is_motorwa\" column\n",
    "expression = \"int(!is_primary!)\"\n",
    "arcpy.CalculateField_management(input_layer, new_field_name, expression, \"PYTHON3\")"
   ]
  },
  {
   "cell_type": "code",
   "execution_count": 3,
   "metadata": {},
   "outputs": [
    {
     "data": {
      "text/html": [
       "<div class='gpresult'><h2>Messages</h2><div id='messages' data-messages='[\"Start Time: Tuesday, 11 April 2023 2:49:34 am\",\"Succeeded at Tuesday, 11 April 2023 2:50:00 am (Elapsed Time: 26.18 seconds)\"]' data-show='true'><div id = 'default' /></div></div>"
      ],
      "text/plain": [
       "<Result 'streets_raw'>"
      ]
     },
     "execution_count": 3,
     "metadata": {},
     "output_type": "execute_result"
    }
   ],
   "source": [
    "# Define the input feature class or table\n",
    "input_layer = \"streets_raw\"\n",
    "\n",
    "# Define the name and data type of the new field\n",
    "new_field_name = \"IsRound\"\n",
    "new_field_type = \"SHORT\"\n",
    "\n",
    "# Add the new field to the input layer\n",
    "arcpy.AddField_management(input_layer, new_field_name, new_field_type)\n",
    "\n",
    "# Calculate the values for the new field using the values from the \"is_motorwa\" column\n",
    "expression = \"int(!is_roundab!)\"\n",
    "arcpy.CalculateField_management(input_layer, new_field_name, expression, \"PYTHON3\")"
   ]
  },
  {
   "cell_type": "code",
   "execution_count": 4,
   "metadata": {},
   "outputs": [
    {
     "data": {
      "text/html": [
       "<div class='gpresult'><h2>Messages</h2><div id='messages' data-messages='[\"Start Time: Tuesday, 11 April 2023 2:50:10 am\",\"Succeeded at Tuesday, 11 April 2023 2:50:38 am (Elapsed Time: 27.58 seconds)\"]' data-show='true'><div id = 'default' /></div></div>"
      ],
      "text/plain": [
       "<Result 'streets_raw'>"
      ]
     },
     "execution_count": 4,
     "metadata": {},
     "output_type": "execute_result"
    }
   ],
   "source": [
    "# Define the input feature class or table\n",
    "input_layer = \"streets_raw\"\n",
    "\n",
    "# Define the name and data type of the new field\n",
    "new_field_name = \"allones\"\n",
    "new_field_type = \"SHORT\"\n",
    "\n",
    "# Add the new field to the input layer\n",
    "arcpy.AddField_management(input_layer, new_field_name, new_field_type)\n",
    "\n",
    "# Calculate the values for the new field using the values from the \"is_motorwa\" column\n",
    "expression = \"1\"\n",
    "arcpy.CalculateField_management(input_layer, new_field_name, expression, \"PYTHON3\")"
   ]
  },
  {
   "cell_type": "code",
   "execution_count": 5,
   "metadata": {},
   "outputs": [
    {
     "data": {
      "text/html": [
       "<div class='gpresult'><h2>Messages</h2><div id='messages' data-messages='[\"Start Time: Tuesday, 11 April 2023 2:50:48 am\",\"Succeeded at Tuesday, 11 April 2023 2:51:15 am (Elapsed Time: 26.20 seconds)\"]' data-show='true'><div id = 'default' /></div></div>"
      ],
      "text/plain": [
       "<Result 'streets_raw'>"
      ]
     },
     "execution_count": 5,
     "metadata": {},
     "output_type": "execute_result"
    }
   ],
   "source": [
    "# Define the input feature class or table\n",
    "input_layer = \"streets_raw\"\n",
    "\n",
    "# Define the name and data type of the new field\n",
    "new_field_name = \"roadchar\"\n",
    "new_field_type = \"SHORT\"\n",
    "\n",
    "# Add the new field to the input layer\n",
    "arcpy.AddField_management(input_layer, new_field_name, new_field_type)\n",
    "\n",
    "# Calculate the values for the new field using the values from the \"is_motorwa\" column\n",
    "expression = \"int(!road_char_!)\"\n",
    "arcpy.CalculateField_management(input_layer, new_field_name, expression, \"PYTHON3\")"
   ]
  },
  {
   "cell_type": "code",
   "execution_count": 6,
   "metadata": {},
   "outputs": [
    {
     "data": {
      "text/html": [
       "<div class='gpresult'><h2>Messages</h2><div id='messages' data-messages='[\"Start Time: Tuesday, 11 April 2023 2:51:25 am\",\"Succeeded at Tuesday, 11 April 2023 2:51:52 am (Elapsed Time: 26.64 seconds)\"]' data-show='true'><div id = 'default' /></div></div>"
      ],
      "text/plain": [
       "<Result 'streets_raw'>"
      ]
     },
     "execution_count": 6,
     "metadata": {},
     "output_type": "execute_result"
    }
   ],
   "source": [
    "# Define the input feature class or table\n",
    "input_layer = \"streets_raw\"\n",
    "\n",
    "# Define the name and data type of the new field\n",
    "new_field_name = \"hightype\"\n",
    "new_field_type = \"SHORT\"\n",
    "\n",
    "# Add the new field to the input layer\n",
    "arcpy.AddField_management(input_layer, \n",
    "                          new_field_name, new_field_type)\n",
    "\n",
    "# Calculate the values for the new field using the values from the \"is_motorwa\" column\n",
    "expression = \"int(!highway_ty!)\"\n",
    "arcpy.CalculateField_management(input_layer, new_field_name, expression, \"PYTHON3\")"
   ]
  },
  {
   "cell_type": "code",
   "execution_count": 7,
   "metadata": {
    "scrolled": true
   },
   "outputs": [
    {
     "data": {
      "text/html": [
       "<div class='gpresult'><h2>Messages</h2><div id='messages' data-messages='[\"Start Time: Tuesday, 11 April 2023 2:52:08 am\",\"Some geometries have self-intersections. Feature OIDs are logged in C:\\\\Users\\\\reube\\\\AppData\\\\Local\\\\ESRI\\\\Geoprocessing\\\\SelfIntersect22.txt\",\"Some geometries have shared segments. Feature OIDs are logged in C:\\\\Users\\\\reube\\\\AppData\\\\Local\\\\ESRI\\\\Geoprocessing\\\\SharedGeom22.txt\",\"Some features have inconsistent values. Feature OIDs are logged in C:\\\\Users\\\\reube\\\\AppData\\\\Local\\\\ESRI\\\\Geoprocessing\\\\InconsistentValues2.txt\",\"Succeeded at Tuesday, 11 April 2023 2:54:17 am (Elapsed Time: 2 minutes 8 seconds)\"]' data-show='true'><div id = 'default' /></div></div>"
      ],
      "text/plain": [
       "<Result '\\\\\\\\wsl.localhost\\\\Ubuntu\\\\home\\\\virgilxw\\\\repo\\\\momepy-test\\\\Workfile\\\\Workfile.gdb\\\\merge_divided_road'>"
      ]
     },
     "execution_count": 7,
     "metadata": {},
     "output_type": "execute_result"
    }
   ],
   "source": [
    "arcpy.cartography.MergeDividedRoads(\n",
    "    in_features=\"streets_raw\",\n",
    "    merge_field=\"hightype\",\n",
    "    merge_distance=\"30 Meters\",\n",
    "    out_features=r\"\\\\wsl.localhost\\Ubuntu\\home\\virgilxw\\repo\\momepy-test\\Workfile\\Workfile.gdb\\merge_divided_road\",\n",
    "    out_displacement_features=None,\n",
    "    character_field=\"roadchar\",\n",
    "    out_table=None\n",
    ")"
   ]
  },
  {
   "cell_type": "code",
   "execution_count": 8,
   "metadata": {},
   "outputs": [
    {
     "data": {
      "text/html": [
       "<div class='gpresult'><h2>Messages</h2><div id='messages' data-messages='[\"Start Time: Tuesday, 11 April 2023 2:57:57 am\",\"Some geometries look visually connected but are geometric dead ends. Feature OIDs are logged in C:\\\\Users\\\\reube\\\\AppData\\\\Local\\\\ESRI\\\\Geoprocessing\\\\DeadEnd8.txt\",\"Some geometries have self-intersections. Feature OIDs are logged in C:\\\\Users\\\\reube\\\\AppData\\\\Local\\\\ESRI\\\\Geoprocessing\\\\SelfIntersect23.txt\",\"Some geometries have shared segments. Feature OIDs are logged in C:\\\\Users\\\\reube\\\\AppData\\\\Local\\\\ESRI\\\\Geoprocessing\\\\SharedGeom23.txt\",\"Succeeded at Tuesday, 11 April 2023 2:59:16 am (Elapsed Time: 1 minutes 19 seconds)\"]' data-show='true'><div id = 'default' /></div></div>"
      ],
      "text/plain": [
       "<Result '\\\\\\\\wsl.localhost\\\\Ubuntu\\\\home\\\\virgilxw\\\\repo\\\\momepy-test\\\\Workfile\\\\Workfile.gdb\\\\merge_primary'>"
      ]
     },
     "execution_count": 8,
     "metadata": {},
     "output_type": "execute_result"
    }
   ],
   "source": [
    "arcpy.cartography.MergeDividedRoads(\n",
    "    in_features=\"merge_divided_road\",\n",
    "    merge_field=\"IsPrimary\",\n",
    "    merge_distance=\"60 Meters\",\n",
    "    out_features=r\"\\\\wsl.localhost\\Ubuntu\\home\\virgilxw\\repo\\momepy-test\\Workfile\\Workfile.gdb\\merge_primary\",\n",
    "    out_displacement_features=None,\n",
    "    character_field=\"roadchar\",\n",
    "    out_table=None\n",
    ")"
   ]
  },
  {
   "cell_type": "code",
   "execution_count": 9,
   "metadata": {},
   "outputs": [
    {
     "data": {
      "text/html": [
       "<div class='gpresult'><h2>Messages</h2><div id='messages' data-messages='[\"Start Time: Tuesday, 11 April 2023 2:59:17 am\",\"Some geometries look visually connected but are geometric dead ends. Feature OIDs are logged in C:\\\\Users\\\\reube\\\\AppData\\\\Local\\\\ESRI\\\\Geoprocessing\\\\DeadEnd9.txt\",\"Some geometries have self-intersections. Feature OIDs are logged in C:\\\\Users\\\\reube\\\\AppData\\\\Local\\\\ESRI\\\\Geoprocessing\\\\SelfIntersect24.txt\",\"Some geometries have shared segments. Feature OIDs are logged in C:\\\\Users\\\\reube\\\\AppData\\\\Local\\\\ESRI\\\\Geoprocessing\\\\SharedGeom24.txt\",\"Succeeded at Tuesday, 11 April 2023 3:00:36 am (Elapsed Time: 1 minutes 18 seconds)\"]' data-show='true'><div id = 'default' /></div></div>"
      ],
      "text/plain": [
       "<Result '\\\\\\\\wsl.localhost\\\\Ubuntu\\\\home\\\\virgilxw\\\\repo\\\\momepy-test\\\\Workfile\\\\Workfile.gdb\\\\merge_motorway'>"
      ]
     },
     "execution_count": 9,
     "metadata": {},
     "output_type": "execute_result"
    }
   ],
   "source": [
    "arcpy.cartography.MergeDividedRoads(\n",
    "    in_features=\"merge_primary\",\n",
    "    merge_field=\"IsMotorway\",\n",
    "    merge_distance=\"60 Meters\",\n",
    "    out_features=r\"\\\\wsl.localhost\\Ubuntu\\home\\virgilxw\\repo\\momepy-test\\Workfile\\Workfile.gdb\\merge_motorway\",\n",
    "    out_displacement_features=None,\n",
    "    character_field=\"roadchar\",\n",
    "    out_table=None\n",
    ")"
   ]
  },
  {
   "cell_type": "code",
   "execution_count": 10,
   "metadata": {},
   "outputs": [
    {
     "data": {
      "text/html": [
       "<div class='gpresult'><h2>Messages</h2><div id='messages' data-messages='[\"Start Time: Tuesday, 11 April 2023 3:10:21 am\",\"merge_motorway Successfully converted:  \\\\\\\\wsl.localhost\\\\Ubuntu\\\\home\\\\virgilxw\\\\repo\\\\momepy-test\\\\processor\\\\out\\\\singapore\\\\merge_motorway.shp\",\"Succeeded at Tuesday, 11 April 2023 3:15:51 am (Elapsed Time: 5 minutes 29 seconds)\"]' data-show='true'><div id = 'default' /></div></div>"
      ],
      "text/plain": [
       "<Result '\\\\\\\\wsl.localhost\\\\Ubuntu\\\\home\\\\virgilxw\\\\repo\\\\momepy-test\\\\processor\\\\out\\\\singapore'>"
      ]
     },
     "execution_count": 10,
     "metadata": {},
     "output_type": "execute_result"
    }
   ],
   "source": [
    "arcpy.conversion.FeatureClassToShapefile(\n",
    "    Input_Features=\"merge_motorway\",\n",
    "    Output_Folder=r\"\\\\wsl.localhost\\Ubuntu\\home\\virgilxw\\repo\\momepy-test\\processor\\out\\singapore\"\n",
    ")"
   ]
  }
 ],
 "metadata": {
  "kernelspec": {
   "display_name": "ArcGISPro",
   "language": "Python",
   "name": "python3"
  },
  "language_info": {
   "file_extension": ".py",
   "name": "python",
   "version": "3"
  }
 },
 "nbformat": 4,
 "nbformat_minor": 2
}
