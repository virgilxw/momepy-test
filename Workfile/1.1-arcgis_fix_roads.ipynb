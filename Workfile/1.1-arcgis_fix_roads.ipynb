{
 "cells": [
  {
   "cell_type": "code",
   "execution_count": null,
   "metadata": {},
   "outputs": [],
   "source": [
    "## Run in ArcGIS"
   ]
  },
  {
   "cell_type": "code",
   "execution_count": null,
   "metadata": {},
   "outputs": [],
   "source": [
    "import arcpy"
   ]
  },
  {
   "cell_type": "code",
   "execution_count": null,
   "metadata": {},
   "outputs": [],
   "source": [
    "# Set the workspace to the directory containing the shapefile\n",
    "arcpy.env.workspace = r\"\\\\wsl.localhost\\Ubuntu\\home\\virgilxw\\repo\\momepy-test\\processor\\out\\singapore\"\n",
    "\n",
    "# Define the name and path of the shapefile\n",
    "shapefile = \"streets_raw.shp\"\n",
    "shapefile_path = arcpy.env.workspace + \"\\\\\" + shapefile\n",
    "\n",
    "# Get the current project and map\n",
    "aprx = arcpy.mp.ArcGISProject(\"CURRENT\")\n",
    "map = aprx.listMaps()[0]\n",
    "\n",
    "# Create a feature layer from the shapefile\n",
    "streets_raw = arcpy.management.MakeFeatureLayer(shapefile_path, \"streets_raw\")\n",
    "\n",
    "# Save the project\n",
    "aprx.save()"
   ]
  },
  {
   "cell_type": "code",
   "execution_count": null,
   "metadata": {},
   "outputs": [],
   "source": [
    "# Define the input feature class or table\n",
    "input_layer = \"streets_raw\"\n",
    "\n",
    "# Define the name and data type of the new field\n",
    "new_field_name = \"aIsMotorway\"\n",
    "new_field_type = \"SHORT\"\n",
    "\n",
    "# Add the new field to the input layer\n",
    "arcpy.AddField_management(input_layer, new_field_name, new_field_type)\n",
    "\n",
    "# Calculate the values for the new field using the values from the \"is_motorwa\" column\n",
    "expression = \"int(!is_motorwa!)\"\n",
    "arcpy.CalculateField_management(input_layer, new_field_name, expression, \"PYTHON3\")"
   ]
  },
  {
   "cell_type": "code",
   "execution_count": null,
   "metadata": {},
   "outputs": [],
   "source": [
    "# Define the input feature class or table\n",
    "input_layer = \"streets_raw\"\n",
    "\n",
    "# Define the name and data type of the new field\n",
    "new_field_name = \"aIsPrimary\"\n",
    "new_field_type = \"SHORT\"\n",
    "\n",
    "# Add the new field to the input layer\n",
    "arcpy.AddField_management(input_layer, new_field_name, new_field_type)\n",
    "\n",
    "# Calculate the values for the new field using the values from the \"is_motorwa\" column\n",
    "expression = \"int(!is_primary!)\"\n",
    "arcpy.CalculateField_management(input_layer, new_field_name, expression, \"PYTHON3\")"
   ]
  },
  {
   "cell_type": "code",
   "execution_count": null,
   "metadata": {},
   "outputs": [],
   "source": [
    "# Define the input feature class or table\n",
    "input_layer = \"streets_raw\"\n",
    "\n",
    "# Define the name and data type of the new field\n",
    "new_field_name = \"IsRound\"\n",
    "new_field_type = \"SHORT\"\n",
    "\n",
    "# Add the new field to the input layer\n",
    "arcpy.AddField_management(input_layer, new_field_name, new_field_type)\n",
    "\n",
    "# Calculate the values for the new field using the values from the \"is_motorwa\" column\n",
    "expression = \"int(!is_roundab!)\"\n",
    "arcpy.CalculateField_management(input_layer, new_field_name, expression, \"PYTHON3\")"
   ]
  },
  {
   "cell_type": "code",
   "execution_count": null,
   "metadata": {},
   "outputs": [],
   "source": [
    "# Define the input feature class or table\n",
    "input_layer = \"streets_raw\"\n",
    "\n",
    "# Define the name and data type of the new field\n",
    "new_field_name = \"allones\"\n",
    "new_field_type = \"SHORT\"\n",
    "\n",
    "# Add the new field to the input layer\n",
    "arcpy.AddField_management(input_layer, new_field_name, new_field_type)\n",
    "\n",
    "# Calculate the values for the new field using the values from the \"is_motorwa\" column\n",
    "expression = \"1\"\n",
    "arcpy.CalculateField_management(input_layer, new_field_name, expression, \"PYTHON3\")"
   ]
  },
  {
   "cell_type": "code",
   "execution_count": null,
   "metadata": {},
   "outputs": [],
   "source": [
    "# Define the input feature class or table\n",
    "input_layer = \"streets_raw\"\n",
    "\n",
    "# Define the name and data type of the new field\n",
    "new_field_name = \"roadchar\"\n",
    "new_field_type = \"SHORT\"\n",
    "\n",
    "# Add the new field to the input layer\n",
    "arcpy.AddField_management(input_layer, new_field_name, new_field_type)\n",
    "\n",
    "# Calculate the values for the new field using the values from the \"is_motorwa\" column\n",
    "expression = \"int(!road_char_!)\"\n",
    "arcpy.CalculateField_management(input_layer, new_field_name, expression, \"PYTHON3\")"
   ]
  },
  {
   "cell_type": "code",
   "execution_count": null,
   "metadata": {},
   "outputs": [],
   "source": [
    "# Define the input feature class or table\n",
    "input_layer = \"streets_raw\"\n",
    "\n",
    "# Define the name and data type of the new field\n",
    "new_field_name = \"hightype\"\n",
    "new_field_type = \"SHORT\"\n",
    "\n",
    "# Add the new field to the input layer\n",
    "arcpy.AddField_management(input_layer, \n",
    "                          new_field_name, new_field_type)\n",
    "\n",
    "# Calculate the values for the new field using the values from the \"is_motorwa\" column\n",
    "expression = \"int(!highway_ty!)\"\n",
    "arcpy.CalculateField_management(input_layer, new_field_name, expression, \"PYTHON3\")"
   ]
  },
  {
   "cell_type": "code",
   "execution_count": null,
   "metadata": {},
   "outputs": [],
   "source": [
    "arcpy.cartography.MergeDividedRoads(\n",
    "    in_features=\"streets_raw\",\n",
    "    merge_field=\"hightype\",\n",
    "    merge_distance=\"30 Meters\",\n",
    "    out_features=r\"\\\\wsl.localhost\\Ubuntu\\home\\virgilxw\\repo\\momepy-test\\Workfile\\Workfile.gdb\\merge_divided_road\",\n",
    "    out_displacement_features=None,\n",
    "    character_field=\"roadchar\",\n",
    "    out_table=None\n",
    ")"
   ]
  },
  {
   "cell_type": "code",
   "execution_count": null,
   "metadata": {},
   "outputs": [],
   "source": [
    "arcpy.cartography.MergeDividedRoads(\n",
    "    in_features=\"merge_divided_road\",\n",
    "    merge_field=\"IsPrimary\",\n",
    "    merge_distance=\"60 Meters\",\n",
    "    out_features=r\"\\\\wsl.localhost\\Ubuntu\\home\\virgilxw\\repo\\momepy-test\\Workfile\\Workfile.gdb\\merge_primary\",\n",
    "    out_displacement_features=None,\n",
    "    character_field=\"roadchar\",\n",
    "    out_table=None\n",
    ")"
   ]
  },
  {
   "cell_type": "code",
   "execution_count": null,
   "metadata": {},
   "outputs": [],
   "source": [
    "arcpy.cartography.MergeDividedRoads(\n",
    "    in_features=\"merge_primary\",\n",
    "    merge_field=\"IsMotorway\",\n",
    "    merge_distance=\"60 Meters\",\n",
    "    out_features=r\"\\\\wsl.localhost\\Ubuntu\\home\\virgilxw\\repo\\momepy-test\\Workfile\\Workfile.gdb\\merge_motorway\",\n",
    "    out_displacement_features=None,\n",
    "    character_field=\"roadchar\",\n",
    "    out_table=None\n",
    ")"
   ]
  },
  {
   "cell_type": "code",
   "execution_count": null,
   "metadata": {},
   "outputs": [],
   "source": [
    "arcpy.conversion.FeatureClassToShapefile(\n",
    "    Input_Features=\"merge_motorway\",\n",
    "    Output_Folder=r\"\\\\wsl.localhost\\Ubuntu\\home\\virgilxw\\repo\\momepy-test\\processor\\out\\singapore\"\n",
    ")"
   ]
  },
  {
   "cell_type": "code",
   "execution_count": null,
   "metadata": {},
   "outputs": [],
   "source": []
  }
 ],
 "metadata": {
  "kernelspec": {
   "display_name": "ArcGISPro",
   "language": "Python",
   "name": "python3"
  },
  "language_info": {
   "file_extension": ".py",
   "name": "python",
   "version": "3"
  }
 },
 "nbformat": 4,
 "nbformat_minor": 2
}
